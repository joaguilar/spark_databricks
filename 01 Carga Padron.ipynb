{
 "cells": [
  {
   "cell_type": "code",
   "execution_count": 0,
   "metadata": {
    "application/vnd.databricks.v1+cell": {
     "cellMetadata": {
      "byteLimit": 2048000,
      "rowLimit": 10000
     },
     "inputWidgets": {},
     "nuid": "3c8aa7f5-165e-4ddf-aae0-86ae8c936060",
     "showTitle": false,
     "tableResultSettingsMap": {},
     "title": ""
    }
   },
   "outputs": [],
   "source": [
    "from pyspark import *\n",
    "from pyspark.sql import *"
   ]
  },
  {
   "cell_type": "markdown",
   "metadata": {
    "application/vnd.databricks.v1+cell": {
     "cellMetadata": {},
     "inputWidgets": {},
     "nuid": "b1bda8d9-47cf-40f0-ab64-a3e3a2d273aa",
     "showTitle": false,
     "tableResultSettingsMap": {},
     "title": ""
    }
   },
   "source": [
    "## Sesión\n",
    "\n",
    "La sesión de Spark debe tener un nombre y es lo que une diferentes procesos de Spark"
   ]
  },
  {
   "cell_type": "markdown",
   "metadata": {
    "application/vnd.databricks.v1+cell": {
     "cellMetadata": {},
     "inputWidgets": {},
     "nuid": "7212e9bd-cb1a-4393-99ca-48a0a03ce27c",
     "showTitle": false,
     "tableResultSettingsMap": {},
     "title": ""
    }
   },
   "source": [
    "# RDD\n",
    "\n",
    "Las primeras versiones de Spark utilizaban los RDDs directamente.\n",
    "Usemos un ejemplo de contar palabras:"
   ]
  },
  {
   "cell_type": "code",
   "execution_count": 0,
   "metadata": {
    "application/vnd.databricks.v1+cell": {
     "cellMetadata": {
      "byteLimit": 2048000,
      "rowLimit": 10000
     },
     "inputWidgets": {},
     "nuid": "8385d049-b0a4-4450-b864-c02e5c5562d6",
     "showTitle": false,
     "tableResultSettingsMap": {},
     "title": ""
    }
   },
   "outputs": [
    {
     "output_type": "display_data",
     "data": {
      "text/html": [
       "<style scoped>\n",
       "  .table-result-container {\n",
       "    max-height: 300px;\n",
       "    overflow: auto;\n",
       "  }\n",
       "  table, th, td {\n",
       "    border: 1px solid black;\n",
       "    border-collapse: collapse;\n",
       "  }\n",
       "  th, td {\n",
       "    padding: 5px;\n",
       "  }\n",
       "  th {\n",
       "    text-align: left;\n",
       "  }\n",
       "</style><div class='table-result-container'><table class='table-result'><thead style='background-color: white'><tr><th>path</th><th>name</th><th>size</th><th>modificationTime</th></tr></thead><tbody><tr><td>dbfs:/FileStore/tables/PADRON_COMPLETO-1.csv</td><td>PADRON_COMPLETO-1.csv</td><td>437542254</td><td>1749404416000</td></tr><tr><td>dbfs:/FileStore/tables/PADRON_COMPLETO.csv</td><td>PADRON_COMPLETO.csv</td><td>437542254</td><td>1748737791000</td></tr><tr><td>dbfs:/FileStore/tables/SJ.csv</td><td>SJ.csv</td><td>140579880</td><td>1748917446000</td></tr><tr><td>dbfs:/FileStore/tables/distelec.csv</td><td>distelec.csv</td><td>175692</td><td>1749404350000</td></tr><tr><td>dbfs:/FileStore/tables/ejemplo.txt</td><td>ejemplo.txt</td><td>189</td><td>1748748188000</td></tr><tr><td>dbfs:/FileStore/tables/links.csv</td><td>links.csv</td><td>197979</td><td>1749404504000</td></tr><tr><td>dbfs:/FileStore/tables/movies.csv</td><td>movies.csv</td><td>494431</td><td>1749404505000</td></tr><tr><td>dbfs:/FileStore/tables/por_ciclo_2016_2018.csv</td><td>por_ciclo_2016_2018.csv</td><td>904931</td><td>1749404351000</td></tr><tr><td>dbfs:/FileStore/tables/ratings.csv</td><td>ratings.csv</td><td>2483723</td><td>1749404506000</td></tr><tr><td>dbfs:/FileStore/tables/ratings_noheader.csv</td><td>ratings_noheader.csv</td><td>2483690</td><td>1749404505000</td></tr><tr><td>dbfs:/FileStore/tables/ratings_random.csv</td><td>ratings_random.csv</td><td>438</td><td>1749404505000</td></tr><tr><td>dbfs:/FileStore/tables/ratings_random_noheader.csv</td><td>ratings_random_noheader.csv</td><td>252</td><td>1749404505000</td></tr><tr><td>dbfs:/FileStore/tables/tags.csv</td><td>tags.csv</td><td>118660</td><td>1749404506000</td></tr></tbody></table></div>"
      ]
     },
     "metadata": {
      "application/vnd.databricks.v1+output": {
       "addedWidgets": {},
       "aggData": [],
       "aggError": "",
       "aggOverflow": false,
       "aggSchema": [],
       "aggSeriesLimitReached": false,
       "aggType": "",
       "arguments": {},
       "columnCustomDisplayInfos": {},
       "data": [
        [
         "dbfs:/FileStore/tables/PADRON_COMPLETO-1.csv",
         "PADRON_COMPLETO-1.csv",
         437542254,
         1749404416000
        ],
        [
         "dbfs:/FileStore/tables/PADRON_COMPLETO.csv",
         "PADRON_COMPLETO.csv",
         437542254,
         1748737791000
        ],
        [
         "dbfs:/FileStore/tables/SJ.csv",
         "SJ.csv",
         140579880,
         1748917446000
        ],
        [
         "dbfs:/FileStore/tables/distelec.csv",
         "distelec.csv",
         175692,
         1749404350000
        ],
        [
         "dbfs:/FileStore/tables/ejemplo.txt",
         "ejemplo.txt",
         189,
         1748748188000
        ],
        [
         "dbfs:/FileStore/tables/links.csv",
         "links.csv",
         197979,
         1749404504000
        ],
        [
         "dbfs:/FileStore/tables/movies.csv",
         "movies.csv",
         494431,
         1749404505000
        ],
        [
         "dbfs:/FileStore/tables/por_ciclo_2016_2018.csv",
         "por_ciclo_2016_2018.csv",
         904931,
         1749404351000
        ],
        [
         "dbfs:/FileStore/tables/ratings.csv",
         "ratings.csv",
         2483723,
         1749404506000
        ],
        [
         "dbfs:/FileStore/tables/ratings_noheader.csv",
         "ratings_noheader.csv",
         2483690,
         1749404505000
        ],
        [
         "dbfs:/FileStore/tables/ratings_random.csv",
         "ratings_random.csv",
         438,
         1749404505000
        ],
        [
         "dbfs:/FileStore/tables/ratings_random_noheader.csv",
         "ratings_random_noheader.csv",
         252,
         1749404505000
        ],
        [
         "dbfs:/FileStore/tables/tags.csv",
         "tags.csv",
         118660,
         1749404506000
        ]
       ],
       "datasetInfos": [],
       "dbfsResultPath": null,
       "isJsonSchema": true,
       "metadata": {
        "isDbfsCommandResult": false
       },
       "overflow": false,
       "plotOptions": {
        "customPlotOptions": {},
        "displayType": "table",
        "pivotAggregation": null,
        "pivotColumns": null,
        "xColumns": null,
        "yColumns": null
       },
       "removedWidgets": [],
       "schema": [
        {
         "metadata": "{}",
         "name": "path",
         "type": "\"string\""
        },
        {
         "metadata": "{}",
         "name": "name",
         "type": "\"string\""
        },
        {
         "metadata": "{}",
         "name": "size",
         "type": "\"long\""
        },
        {
         "metadata": "{}",
         "name": "modificationTime",
         "type": "\"long\""
        }
       ],
       "type": "table"
      }
     },
     "output_type": "display_data"
    }
   ],
   "source": [
    "%fs ls /FileStore/tables/"
   ]
  },
  {
   "cell_type": "code",
   "execution_count": 0,
   "metadata": {
    "application/vnd.databricks.v1+cell": {
     "cellMetadata": {
      "byteLimit": 2048000,
      "rowLimit": 10000
     },
     "inputWidgets": {},
     "nuid": "51e0dd36-3269-4cbd-81fc-9c4e040d9ce3",
     "showTitle": false,
     "tableResultSettingsMap": {},
     "title": ""
    }
   },
   "outputs": [],
   "source": [
    "Ejemplo_RDD = spark.sparkContext.textFile(\"dbfs:/FileStore/tables/ejemplo.txt\").flatMap(lambda line: line.split(\" \"))"
   ]
  },
  {
   "cell_type": "code",
   "execution_count": 0,
   "metadata": {
    "application/vnd.databricks.v1+cell": {
     "cellMetadata": {
      "byteLimit": 2048000,
      "rowLimit": 10000
     },
     "inputWidgets": {},
     "nuid": "96a6f23f-5b5f-4ce2-8b29-7e4b9f275c67",
     "showTitle": false,
     "tableResultSettingsMap": {},
     "title": ""
    }
   },
   "outputs": [],
   "source": [
    "rdd_map =  Ejemplo_RDD.map(lambda word: (word, 1)) "
   ]
  },
  {
   "cell_type": "code",
   "execution_count": 0,
   "metadata": {
    "application/vnd.databricks.v1+cell": {
     "cellMetadata": {
      "byteLimit": 2048000,
      "rowLimit": 10000
     },
     "inputWidgets": {},
     "nuid": "a1df2088-7c96-4e88-b16d-c18a0b02d6be",
     "showTitle": false,
     "tableResultSettingsMap": {},
     "title": ""
    }
   },
   "outputs": [],
   "source": [
    "rdd_reduce = rdd_map.reduceByKey(lambda x, y: x + y)"
   ]
  },
  {
   "cell_type": "code",
   "execution_count": 0,
   "metadata": {
    "application/vnd.databricks.v1+cell": {
     "cellMetadata": {
      "byteLimit": 2048000,
      "rowLimit": 10000
     },
     "inputWidgets": {},
     "nuid": "da489f4f-34b3-4bb3-a195-0175c84ee3e5",
     "showTitle": false,
     "tableResultSettingsMap": {},
     "title": ""
    }
   },
   "outputs": [
    {
     "output_type": "stream",
     "name": "stdout",
     "output_type": "stream",
     "text": [
      "PythonRDD[6] at RDD at PythonRDD.scala:58\n"
     ]
    }
   ],
   "source": [
    "print(rdd_reduce)"
   ]
  },
  {
   "cell_type": "code",
   "execution_count": 0,
   "metadata": {
    "application/vnd.databricks.v1+cell": {
     "cellMetadata": {
      "byteLimit": 2048000,
      "rowLimit": 10000
     },
     "inputWidgets": {},
     "nuid": "f518f7c7-0d08-43a7-ac44-c16c5d5159a1",
     "showTitle": false,
     "tableResultSettingsMap": {},
     "title": ""
    },
    "scrolled": true
   },
   "outputs": [
    {
     "output_type": "stream",
     "name": "stdout",
     "output_type": "stream",
     "text": [
      "[('Este', 3), ('ejemplo', 3), ('archivo', 3), ('que', 3), ('es', 3), ('un', 6), ('de', 3), ('tiene', 3), ('3', 3), ('oraciones', 3), ('iguales', 3)]\n"
     ]
    }
   ],
   "source": [
    "resultado = rdd_reduce.collect()\n",
    "print(resultado)"
   ]
  },
  {
   "cell_type": "markdown",
   "metadata": {
    "application/vnd.databricks.v1+cell": {
     "cellMetadata": {},
     "inputWidgets": {},
     "nuid": "f05923d7-70b5-45e7-b551-5427e6d1c9ef",
     "showTitle": false,
     "tableResultSettingsMap": {},
     "title": ""
    }
   },
   "source": [
    "# Spark Dataframes\n",
    "\n",
    "Framework introducido por Spark 2+ para facilitar el manejo de datos"
   ]
  },
  {
   "cell_type": "code",
   "execution_count": 0,
   "metadata": {
    "application/vnd.databricks.v1+cell": {
     "cellMetadata": {
      "byteLimit": 2048000,
      "rowLimit": 10000
     },
     "inputWidgets": {},
     "nuid": "0b22f7da-764a-44fd-89a5-c8f7f1883c93",
     "showTitle": false,
     "tableResultSettingsMap": {},
     "title": ""
    }
   },
   "outputs": [],
   "source": [
    "df = spark.read.csv(\"dbfs:/FileStore/tables/PADRON_COMPLETO.csv\")"
   ]
  },
  {
   "cell_type": "code",
   "execution_count": 0,
   "metadata": {
    "application/vnd.databricks.v1+cell": {
     "cellMetadata": {
      "byteLimit": 2048000,
      "rowLimit": 10000
     },
     "inputWidgets": {},
     "nuid": "52c1e39c-c6fc-4002-bd66-d77fbc25701b",
     "showTitle": false,
     "tableResultSettingsMap": {},
     "title": ""
    }
   },
   "outputs": [
    {
     "output_type": "stream",
     "name": "stdout",
     "output_type": "stream",
     "text": [
      "+---------+-------+-------+----------+-----+--------------------+--------------------+--------------------+\n|      _c0|    _c1|    _c2|       _c3|  _c4|                 _c5|                 _c6|                 _c7|\n+---------+-------+-------+----------+-----+--------------------+--------------------+--------------------+\n|   CEDULA|CODELEC|RELLENO|FECHACADUC|JUNTA|              NOMBRE|          1_APELLIDO|          2_APELLIDO|\n|101053316| 104015|       |  20280207|00000|LUCILA           ...|PORRAS           ...|AGUERO           ...|\n|101086526| 101012|       |  20280207|00000|DINORA           ...|OBANDO           ...|GARCIA           ...|\n|101141655| 103033|       |  20300204|00000|TRINIDAD         ...|VINDAS           ...|PEREZ            ...|\n|101142031| 112007|       |  20300630|00000|INOCENCIA        ...|MEZA             ...|VEGA             ...|\n|101164392| 119001|       |  20300306|00000|JOSE FRANCISCO   ...|DUARTE           ...|QUESADA          ...|\n|101240037| 823001|       |  20300204|00000|ANA MARIA        ...|PEREZ            ...|PEREZ            ...|\n|101240732| 601047|       |  20301127|00000|MARIA JOSEFA     ...|CARVAJAL         ...|AGUERO           ...|\n|101280947| 103008|       |  20261019|00000|GERMAN           ...|CARVAJAL         ...|BERMUDEZ         ...|\n|101290149| 101010|       |  20300204|00000|JOSE VICENTE     ...|ACU�A            ...|ACU�A            ...|\n+---------+-------+-------+----------+-----+--------------------+--------------------+--------------------+\nonly showing top 10 rows\n\n"
     ]
    }
   ],
   "source": [
    "df.show(10)"
   ]
  },
  {
   "cell_type": "code",
   "execution_count": 0,
   "metadata": {
    "application/vnd.databricks.v1+cell": {
     "cellMetadata": {
      "byteLimit": 2048000,
      "rowLimit": 10000
     },
     "inputWidgets": {},
     "nuid": "2662b764-250e-4bf4-9520-df2d02398922",
     "showTitle": false,
     "tableResultSettingsMap": {},
     "title": ""
    }
   },
   "outputs": [
    {
     "output_type": "stream",
     "name": "stdout",
     "output_type": "stream",
     "text": [
      "root\n |-- _c0: string (nullable = true)\n |-- _c1: string (nullable = true)\n |-- _c2: string (nullable = true)\n |-- _c3: string (nullable = true)\n |-- _c4: string (nullable = true)\n |-- _c5: string (nullable = true)\n |-- _c6: string (nullable = true)\n |-- _c7: string (nullable = true)\n\n"
     ]
    }
   ],
   "source": [
    "df.printSchema()"
   ]
  },
  {
   "cell_type": "code",
   "execution_count": 0,
   "metadata": {
    "application/vnd.databricks.v1+cell": {
     "cellMetadata": {
      "byteLimit": 2048000,
      "rowLimit": 10000
     },
     "inputWidgets": {},
     "nuid": "bbf997cc-3fb2-4b29-a677-91f82052c812",
     "showTitle": false,
     "tableResultSettingsMap": {},
     "title": ""
    }
   },
   "outputs": [],
   "source": [
    "from pyspark.sql.types import StructType,StructField, StringType, IntegerType, DateType\n",
    "from pyspark.sql.types import ArrayType, DoubleType, BooleanType\n",
    "\n",
    "padron_schema  = StructType(fields=[\n",
    "    StructField(\"CEDULA\",IntegerType(),True), \n",
    "    StructField(\"CODELEC\",IntegerType(),True),\n",
    "    StructField(\"RELLENO\",StringType(),True),\n",
    "    StructField(\"FECHACADUC\",DateType(),True),\n",
    "    StructField(\"JUNTA\",IntegerType(),True),\n",
    "    StructField(\"NOMBRE\",StringType(),True),\n",
    "    StructField(\"1_APELLIDO\",StringType(),True),\n",
    "    StructField(\"2_APELLIDO\",StringType(),True),\n",
    "])\n"
   ]
  },
  {
   "cell_type": "code",
   "execution_count": 0,
   "metadata": {
    "application/vnd.databricks.v1+cell": {
     "cellMetadata": {
      "byteLimit": 2048000,
      "rowLimit": 10000
     },
     "inputWidgets": {},
     "nuid": "aec627fd-2cb0-4c02-a254-b371607b796e",
     "showTitle": false,
     "tableResultSettingsMap": {},
     "title": ""
    }
   },
   "outputs": [],
   "source": [
    "df = spark.read\\\n",
    "    .option(\"header\", True)\\\n",
    "    .option(\"dateFormat\", \"yyyyMMdd\")\\\n",
    "    .schema(padron_schema)\\\n",
    "    .csv(\"dbfs:/FileStore/tables/PADRON_COMPLETO.csv\")"
   ]
  },
  {
   "cell_type": "code",
   "execution_count": 0,
   "metadata": {
    "application/vnd.databricks.v1+cell": {
     "cellMetadata": {
      "byteLimit": 2048000,
      "rowLimit": 10000
     },
     "inputWidgets": {},
     "nuid": "2b2b230c-8c1a-414e-ba62-c38cca179509",
     "showTitle": false,
     "tableResultSettingsMap": {},
     "title": ""
    }
   },
   "outputs": [
    {
     "output_type": "stream",
     "name": "stdout",
     "output_type": "stream",
     "text": [
      "+---------+-------+-------+----------+-----+--------------------+--------------------+--------------------+\n|   CEDULA|CODELEC|RELLENO|FECHACADUC|JUNTA|              NOMBRE|          1_APELLIDO|          2_APELLIDO|\n+---------+-------+-------+----------+-----+--------------------+--------------------+--------------------+\n|101053316| 104015|       |2028-02-07|    0|LUCILA           ...|PORRAS           ...|AGUERO           ...|\n|101086526| 101012|       |2028-02-07|    0|DINORA           ...|OBANDO           ...|GARCIA           ...|\n|101141655| 103033|       |2030-02-04|    0|TRINIDAD         ...|VINDAS           ...|PEREZ            ...|\n|101142031| 112007|       |2030-06-30|    0|INOCENCIA        ...|MEZA             ...|VEGA             ...|\n|101164392| 119001|       |2030-03-06|    0|JOSE FRANCISCO   ...|DUARTE           ...|QUESADA          ...|\n+---------+-------+-------+----------+-----+--------------------+--------------------+--------------------+\nonly showing top 5 rows\n\n"
     ]
    }
   ],
   "source": [
    "df.show(5)"
   ]
  },
  {
   "cell_type": "code",
   "execution_count": 0,
   "metadata": {
    "application/vnd.databricks.v1+cell": {
     "cellMetadata": {
      "byteLimit": 2048000,
      "rowLimit": 10000
     },
     "inputWidgets": {},
     "nuid": "8fa82144-ba57-4392-ae47-53f5097e43d4",
     "showTitle": false,
     "tableResultSettingsMap": {},
     "title": ""
    }
   },
   "outputs": [
    {
     "output_type": "stream",
     "name": "stdout",
     "output_type": "stream",
     "text": [
      "root\n |-- CEDULA: integer (nullable = true)\n |-- CODELEC: integer (nullable = true)\n |-- RELLENO: string (nullable = true)\n |-- FECHACADUC: date (nullable = true)\n |-- JUNTA: integer (nullable = true)\n |-- NOMBRE: string (nullable = true)\n |-- 1_APELLIDO: string (nullable = true)\n |-- 2_APELLIDO: string (nullable = true)\n\n"
     ]
    }
   ],
   "source": [
    "df.printSchema()"
   ]
  },
  {
   "cell_type": "code",
   "execution_count": 0,
   "metadata": {
    "application/vnd.databricks.v1+cell": {
     "cellMetadata": {
      "byteLimit": 2048000,
      "rowLimit": 10000
     },
     "inputWidgets": {},
     "nuid": "5b12b5bd-3130-4e71-ac5c-df5d553e25b0",
     "showTitle": false,
     "tableResultSettingsMap": {},
     "title": ""
    }
   },
   "outputs": [
    {
     "output_type": "stream",
     "name": "stdout",
     "output_type": "stream",
     "text": [
      "+-------+--------------------+------------------+-------+-------+--------------------+--------------------+--------------------+\n|summary|              CEDULA|           CODELEC|RELLENO|  JUNTA|              NOMBRE|          1_APELLIDO|          2_APELLIDO|\n+-------+--------------------+------------------+-------+-------+--------------------+--------------------+--------------------+\n|  count|             3641757|           3641757|3641757|3641757|             3641757|             3641757|             3641757|\n|   mean|3.1530629119036746E8| 317030.3891742365|   null|    0.0|                null|                 NaN|                 NaN|\n| stddev|2.3074491508769274E8|210099.51534055025|   null|    0.0|                null|                null|                 NaN|\n|    min|           101053316|            101001|       |      0|A HYUN           ...|AANDERUD         ...|AAGESEN          ...|\n|    max|           901530523|            848001|       |      0|�ENYIRO          ...|�URINDA          ...|�UWEL            ...|\n+-------+--------------------+------------------+-------+-------+--------------------+--------------------+--------------------+\n\n"
     ]
    }
   ],
   "source": [
    "df.describe().show()"
   ]
  },
  {
   "cell_type": "code",
   "execution_count": 0,
   "metadata": {
    "application/vnd.databricks.v1+cell": {
     "cellMetadata": {
      "byteLimit": 2048000,
      "rowLimit": 10000
     },
     "inputWidgets": {},
     "nuid": "88f0653d-47f1-445c-b4a3-15099920c3ee",
     "showTitle": false,
     "tableResultSettingsMap": {},
     "title": ""
    }
   },
   "outputs": [],
   "source": [
    "df .createOrReplaceTempView(\"padron\")\n",
    "results = spark.sql(\"SELECT * FROM padron WHERE FECHACADUC='2028-02-07'\")\n"
   ]
  },
  {
   "cell_type": "code",
   "execution_count": 0,
   "metadata": {
    "application/vnd.databricks.v1+cell": {
     "cellMetadata": {
      "byteLimit": 2048000,
      "rowLimit": 10000
     },
     "inputWidgets": {},
     "nuid": "532cbabc-757b-42dd-a2c2-42057a4dd7bb",
     "showTitle": false,
     "tableResultSettingsMap": {},
     "title": ""
    }
   },
   "outputs": [
    {
     "output_type": "stream",
     "name": "stdout",
     "output_type": "stream",
     "text": [
      "+---------+-------+-------+----------+-----+--------------------+--------------------+--------------------+\n|   CEDULA|CODELEC|RELLENO|FECHACADUC|JUNTA|              NOMBRE|          1_APELLIDO|          2_APELLIDO|\n+---------+-------+-------+----------+-----+--------------------+--------------------+--------------------+\n|101053316| 104015|       |2028-02-07|    0|LUCILA           ...|PORRAS           ...|AGUERO           ...|\n|101086526| 101012|       |2028-02-07|    0|DINORA           ...|OBANDO           ...|GARCIA           ...|\n|101370578| 103008|       |2028-02-07|    0|ODILI            ...|VILLALOBOS       ...|CHAVES           ...|\n|101440643| 201005|       |2028-02-07|    0|DELMA            ...|CARMONA          ...|CORDERO          ...|\n|101460525| 102001|       |2028-02-07|    0|APOLONIO         ...|PEREZ            ...|MENA             ...|\n+---------+-------+-------+----------+-----+--------------------+--------------------+--------------------+\nonly showing top 5 rows\n\n"
     ]
    }
   ],
   "source": [
    "results.show(5)"
   ]
  }
 ],
 "metadata": {
  "application/vnd.databricks.v1+notebook": {
   "computePreferences": null,
   "dashboards": [],
   "environmentMetadata": null,
   "inputWidgetPreferences": null,
   "language": "python",
   "notebookMetadata": {
    "mostRecentlyExecutedCommandWithImplicitDF": {
     "commandId": 2030146980716759,
     "dataframes": [
      "_sqldf"
     ]
    },
    "pythonIndentUnit": 4
   },
   "notebookName": "01 Carga Padron",
   "widgets": {}
  },
  "kernelspec": {
   "display_name": "Python 3 (ipykernel)",
   "language": "python",
   "name": "python3"
  },
  "language_info": {
   "codemirror_mode": {
    "name": "ipython",
    "version": 3
   },
   "file_extension": ".py",
   "mimetype": "text/x-python",
   "name": "python",
   "nbconvert_exporter": "python",
   "pygments_lexer": "ipython3",
   "version": "3.9.17"
  }
 },
 "nbformat": 4,
 "nbformat_minor": 0
}