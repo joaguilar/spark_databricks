{
 "cells": [
  {
   "cell_type": "code",
   "execution_count": 0,
   "metadata": {
    "application/vnd.databricks.v1+cell": {
     "cellMetadata": {
      "byteLimit": 2048000,
      "rowLimit": 10000
     },
     "inputWidgets": {},
     "nuid": "9238aa7a-72d4-4d7f-aeb4-c51ce71ba0e1",
     "showTitle": false,
     "tableResultSettingsMap": {},
     "title": ""
    }
   },
   "outputs": [],
   "source": [
    "#import findspark\n",
    "#findspark.init('/spark/spark-3.5.1-bin-hadoop3')\n",
    "from pyspark import *\n",
    "from pyspark.sql import SparkSession\n",
    "from pyspark.sql.types import StructType,StructField, StringType, IntegerType, DateType, TimestampType, LongType\n",
    "from pyspark.sql.types import ArrayType, DoubleType, BooleanType, DecimalType"
   ]
  },
  {
   "cell_type": "markdown",
   "metadata": {
    "application/vnd.databricks.v1+cell": {
     "cellMetadata": {},
     "inputWidgets": {},
     "nuid": "aa200c7d-2701-4b05-85ee-496e9d90b715",
     "showTitle": false,
     "tableResultSettingsMap": {},
     "title": ""
    }
   },
   "source": [
    "# Sesion\n",
    "\n",
    "Lo primero siempre es crear la sesion de Spark. La sesion permite a todos los procesos involucrados compartir contexto."
   ]
  },
  {
   "cell_type": "code",
   "execution_count": 0,
   "metadata": {
    "application/vnd.databricks.v1+cell": {
     "cellMetadata": {
      "byteLimit": 2048000,
      "rowLimit": 10000
     },
     "inputWidgets": {},
     "nuid": "b7700cc4-ad50-45c2-a039-98b4d9e79640",
     "showTitle": false,
     "tableResultSettingsMap": {},
     "title": ""
    }
   },
   "outputs": [],
   "source": [
    "#spark = SparkSession.builder.appName(\"movielens\").getOrCreate()\n"
   ]
  },
  {
   "cell_type": "markdown",
   "metadata": {
    "application/vnd.databricks.v1+cell": {
     "cellMetadata": {},
     "inputWidgets": {},
     "nuid": "a2252dcd-2472-412c-a89d-613a73264b3d",
     "showTitle": false,
     "tableResultSettingsMap": {},
     "title": ""
    }
   },
   "source": [
    "# Carga de datos\n",
    "\n",
    "En la siguiente celda realizamos la carga de los datos del dataset de Movielens. en este caso vamos a cargar 3 de las tablas:\n",
    "\n",
    "* ratings\n",
    "* movies\n",
    "* tags\n",
    "\n",
    "Para esto definimos primero los schemas:"
   ]
  },
  {
   "cell_type": "code",
   "execution_count": 0,
   "metadata": {
    "application/vnd.databricks.v1+cell": {
     "cellMetadata": {
      "byteLimit": 2048000,
      "rowLimit": 10000
     },
     "inputWidgets": {},
     "nuid": "14f4ad5d-77d8-4e3c-95c1-23d351a0a252",
     "showTitle": false,
     "tableResultSettingsMap": {},
     "title": ""
    }
   },
   "outputs": [],
   "source": [
    "ratingsDf = spark.read.csv(\"dbfs:/FileStore/tables/ratings.csv\")\n",
    "moviesDf = spark.read.csv(\"dbfs:/FileStore/tables/movies.csv\")\n",
    "tagsDf = spark.read.csv(\"dbfs:/FileStore/tables/tags.csv\")"
   ]
  },
  {
   "cell_type": "markdown",
   "metadata": {
    "application/vnd.databricks.v1+cell": {
     "cellMetadata": {},
     "inputWidgets": {},
     "nuid": "2bbdc3a3-fa1f-40e7-897e-9ad25ba23057",
     "showTitle": false,
     "tableResultSettingsMap": {},
     "title": ""
    }
   },
   "source": [
    "Revisamos primero el dataframe de ratings"
   ]
  },
  {
   "cell_type": "code",
   "execution_count": 0,
   "metadata": {
    "application/vnd.databricks.v1+cell": {
     "cellMetadata": {
      "byteLimit": 2048000,
      "rowLimit": 10000
     },
     "inputWidgets": {},
     "nuid": "ed394a6b-6fbc-456d-bb94-a91453eec661",
     "showTitle": false,
     "tableResultSettingsMap": {},
     "title": ""
    },
    "scrolled": true
   },
   "outputs": [
    {
     "output_type": "stream",
     "name": "stdout",
     "output_type": "stream",
     "text": [
      "Out[4]: [Row(_c0='userId', _c1='movieId', _c2='rating', _c3='timestamp'),\n Row(_c0='1', _c1='1', _c2='4.0', _c3='964982703')]"
     ]
    }
   ],
   "source": [
    "ratingsDf.head(2)"
   ]
  },
  {
   "cell_type": "code",
   "execution_count": 0,
   "metadata": {
    "application/vnd.databricks.v1+cell": {
     "cellMetadata": {
      "byteLimit": 2048000,
      "rowLimit": 10000
     },
     "inputWidgets": {},
     "nuid": "3dd16f0b-c7ab-4673-9cbd-c1cdfb8cc663",
     "showTitle": false,
     "tableResultSettingsMap": {},
     "title": ""
    }
   },
   "outputs": [
    {
     "output_type": "stream",
     "name": "stdout",
     "output_type": "stream",
     "text": [
      "+------+-------+------+---------+\n|   _c0|    _c1|   _c2|      _c3|\n+------+-------+------+---------+\n|userId|movieId|rating|timestamp|\n|     1|      1|   4.0|964982703|\n+------+-------+------+---------+\nonly showing top 2 rows\n\n"
     ]
    }
   ],
   "source": [
    "ratingsDf.show(2)"
   ]
  },
  {
   "cell_type": "markdown",
   "metadata": {
    "application/vnd.databricks.v1+cell": {
     "cellMetadata": {},
     "inputWidgets": {},
     "nuid": "8437c943-2590-4336-9c32-956d2e7fa54e",
     "showTitle": false,
     "tableResultSettingsMap": {},
     "title": ""
    }
   },
   "source": [
    "Vemos que tiene header, y los tipos de datos, incluyendo el ultimo que es un timestamp. Podemos definir el schema:"
   ]
  },
  {
   "cell_type": "code",
   "execution_count": 0,
   "metadata": {
    "application/vnd.databricks.v1+cell": {
     "cellMetadata": {
      "byteLimit": 2048000,
      "rowLimit": 10000
     },
     "inputWidgets": {},
     "nuid": "ad40a323-b99d-4d46-a1d1-b49ba96e36b3",
     "showTitle": false,
     "tableResultSettingsMap": {},
     "title": ""
    }
   },
   "outputs": [],
   "source": [
    "ratings_schema  = StructType(fields=[\n",
    "    StructField(\"userId\",IntegerType(),True), \n",
    "    StructField(\"movieId\",IntegerType(),True),\n",
    "    StructField(\"rating\",DecimalType(precision=2,scale=1),True),\n",
    "    StructField(\"timestamp\",LongType(),True)\n",
    "])"
   ]
  },
  {
   "cell_type": "code",
   "execution_count": 0,
   "metadata": {
    "application/vnd.databricks.v1+cell": {
     "cellMetadata": {
      "byteLimit": 2048000,
      "rowLimit": 10000
     },
     "inputWidgets": {},
     "nuid": "c9f323e8-0513-4576-95bd-c89bb9ed4282",
     "showTitle": false,
     "tableResultSettingsMap": {},
     "title": ""
    }
   },
   "outputs": [
    {
     "output_type": "stream",
     "name": "stdout",
     "output_type": "stream",
     "text": [
      "Out[7]: [Row(userId=1, movieId=1, rating=Decimal('4.0'), timestamp=964982703),\n Row(userId=1, movieId=3, rating=Decimal('4.0'), timestamp=964981247)]"
     ]
    }
   ],
   "source": [
    "ratingsDf = spark.read\\\n",
    "    .option(\"header\", True)\\\n",
    "    .option(\"dateFormat\", \"yyyyMMdd\")\\\n",
    "    .schema(ratings_schema)\\\n",
    "    .csv(\"dbfs:/FileStore/tables/ratings.csv\")\n",
    "ratingsDf.head(2)"
   ]
  },
  {
   "cell_type": "code",
   "execution_count": 0,
   "metadata": {
    "application/vnd.databricks.v1+cell": {
     "cellMetadata": {
      "byteLimit": 2048000,
      "rowLimit": 10000
     },
     "inputWidgets": {},
     "nuid": "c46653c5-6941-4134-a251-2fd10d70ff30",
     "showTitle": false,
     "tableResultSettingsMap": {},
     "title": ""
    },
    "scrolled": true
   },
   "outputs": [
    {
     "output_type": "stream",
     "name": "stdout",
     "output_type": "stream",
     "text": [
      "root\n |-- userId: integer (nullable = true)\n |-- movieId: integer (nullable = true)\n |-- rating: decimal(2,1) (nullable = true)\n |-- timestamp: long (nullable = true)\n\n"
     ]
    }
   ],
   "source": [
    "ratingsDf.printSchema()"
   ]
  },
  {
   "cell_type": "code",
   "execution_count": 0,
   "metadata": {
    "application/vnd.databricks.v1+cell": {
     "cellMetadata": {
      "byteLimit": 2048000,
      "rowLimit": 10000
     },
     "inputWidgets": {},
     "nuid": "29b20e80-23eb-4289-8afd-427df548aba6",
     "showTitle": false,
     "tableResultSettingsMap": {},
     "title": ""
    },
    "scrolled": true
   },
   "outputs": [
    {
     "output_type": "stream",
     "name": "stdout",
     "output_type": "stream",
     "text": [
      "root\n |-- movieId: integer (nullable = true)\n |-- title: string (nullable = true)\n |-- genres: string (nullable = true)\n\n"
     ]
    }
   ],
   "source": [
    "movies_schema  = StructType(fields=[\n",
    "    StructField(\"movieId\",IntegerType(),True), \n",
    "    StructField(\"title\",StringType(),True),\n",
    "    StructField(\"genres\",StringType(),True)\n",
    "])\n",
    "\n",
    "moviesDf = spark.read\\\n",
    "    .option(\"header\", True)\\\n",
    "    .schema(movies_schema)\\\n",
    "    .csv(\"dbfs:/FileStore/tables/movies.csv\")\n",
    "moviesDf.printSchema()"
   ]
  },
  {
   "cell_type": "code",
   "execution_count": 0,
   "metadata": {
    "application/vnd.databricks.v1+cell": {
     "cellMetadata": {
      "byteLimit": 2048000,
      "rowLimit": 10000
     },
     "inputWidgets": {},
     "nuid": "6f84c2b6-4798-4abb-9603-014d5908cdd6",
     "showTitle": false,
     "tableResultSettingsMap": {},
     "title": ""
    },
    "scrolled": true
   },
   "outputs": [
    {
     "output_type": "stream",
     "name": "stdout",
     "output_type": "stream",
     "text": [
      "+-------+--------------------+--------------------+\n|movieId|               title|              genres|\n+-------+--------------------+--------------------+\n|      1|    Toy Story (1995)|Adventure|Animati...|\n|      2|      Jumanji (1995)|Adventure|Childre...|\n|      3|Grumpier Old Men ...|      Comedy|Romance|\n|      4|Waiting to Exhale...|Comedy|Drama|Romance|\n|      5|Father of the Bri...|              Comedy|\n+-------+--------------------+--------------------+\nonly showing top 5 rows\n\n"
     ]
    }
   ],
   "source": [
    "moviesDf.show(5)"
   ]
  },
  {
   "cell_type": "markdown",
   "metadata": {
    "application/vnd.databricks.v1+cell": {
     "cellMetadata": {},
     "inputWidgets": {},
     "nuid": "54b9ed99-7b7e-42c5-a084-cbaeebdc79ba",
     "showTitle": false,
     "tableResultSettingsMap": {},
     "title": ""
    }
   },
   "source": [
    "Notamos dos cosas:\n",
    "\n",
    "1. En la columna `genres` vienen multiples valores separados por `|`\n",
    "1. En la columna `title` viene tanto el nombre de la palicula como el año en que salió\n",
    "\n",
    "Queremos separar esto."
   ]
  },
  {
   "cell_type": "code",
   "execution_count": 0,
   "metadata": {
    "application/vnd.databricks.v1+cell": {
     "cellMetadata": {
      "byteLimit": 2048000,
      "rowLimit": 10000
     },
     "inputWidgets": {},
     "nuid": "4f29ab43-5601-4717-aaa9-4e3c62b96b73",
     "showTitle": false,
     "tableResultSettingsMap": {},
     "title": ""
    }
   },
   "outputs": [
    {
     "output_type": "stream",
     "name": "stdout",
     "output_type": "stream",
     "text": [
      "+--------------------+\n|         genresSplit|\n+--------------------+\n|[Adventure, Anima...|\n|[Adventure, Child...|\n|   [Comedy, Romance]|\n|[Comedy, Drama, R...|\n|            [Comedy]|\n|[Action, Crime, T...|\n|   [Comedy, Romance]|\n|[Adventure, Child...|\n|            [Action]|\n|[Action, Adventur...|\n|[Comedy, Drama, R...|\n|    [Comedy, Horror]|\n|[Adventure, Anima...|\n|             [Drama]|\n|[Action, Adventur...|\n|      [Crime, Drama]|\n|    [Drama, Romance]|\n|            [Comedy]|\n|            [Comedy]|\n|[Action, Comedy, ...|\n+--------------------+\nonly showing top 20 rows\n\n"
     ]
    }
   ],
   "source": [
    "from pyspark.sql.functions import split, col\n",
    "\n",
    "# La función spli separa una columna en un arreglo\n",
    "moviesDf.select(split(col(\"genres\"),\"\\|\").alias(\"genresSplit\")).show()\n"
   ]
  },
  {
   "cell_type": "markdown",
   "metadata": {
    "application/vnd.databricks.v1+cell": {
     "cellMetadata": {},
     "inputWidgets": {},
     "nuid": "35aec027-8e9e-4b3e-8025-8c6f9ceedd53",
     "showTitle": false,
     "tableResultSettingsMap": {},
     "title": ""
    }
   },
   "source": [
    "O de otra forma:"
   ]
  },
  {
   "cell_type": "code",
   "execution_count": 0,
   "metadata": {
    "application/vnd.databricks.v1+cell": {
     "cellMetadata": {
      "byteLimit": 2048000,
      "rowLimit": 10000
     },
     "inputWidgets": {},
     "nuid": "47e56d96-2f2f-470b-9b7c-5810088a3684",
     "showTitle": false,
     "tableResultSettingsMap": {},
     "title": ""
    },
    "scrolled": true
   },
   "outputs": [
    {
     "output_type": "stream",
     "name": "stdout",
     "output_type": "stream",
     "text": [
      "+-------+--------------------+--------------------+--------------------+\n|movieId|               title|              genres|         genresSplit|\n+-------+--------------------+--------------------+--------------------+\n|      1|    Toy Story (1995)|Adventure|Animati...|[Adventure, Anima...|\n|      2|      Jumanji (1995)|Adventure|Childre...|[Adventure, Child...|\n|      3|Grumpier Old Men ...|      Comedy|Romance|   [Comedy, Romance]|\n|      4|Waiting to Exhale...|Comedy|Drama|Romance|[Comedy, Drama, R...|\n|      5|Father of the Bri...|              Comedy|            [Comedy]|\n|      6|         Heat (1995)|Action|Crime|Thri...|[Action, Crime, T...|\n|      7|      Sabrina (1995)|      Comedy|Romance|   [Comedy, Romance]|\n|      8| Tom and Huck (1995)|  Adventure|Children|[Adventure, Child...|\n|      9| Sudden Death (1995)|              Action|            [Action]|\n|     10|    GoldenEye (1995)|Action|Adventure|...|[Action, Adventur...|\n|     11|American Presiden...|Comedy|Drama|Romance|[Comedy, Drama, R...|\n|     12|Dracula: Dead and...|       Comedy|Horror|    [Comedy, Horror]|\n|     13|        Balto (1995)|Adventure|Animati...|[Adventure, Anima...|\n|     14|        Nixon (1995)|               Drama|             [Drama]|\n|     15|Cutthroat Island ...|Action|Adventure|...|[Action, Adventur...|\n|     16|       Casino (1995)|         Crime|Drama|      [Crime, Drama]|\n|     17|Sense and Sensibi...|       Drama|Romance|    [Drama, Romance]|\n|     18|   Four Rooms (1995)|              Comedy|            [Comedy]|\n|     19|Ace Ventura: When...|              Comedy|            [Comedy]|\n|     20|  Money Train (1995)|Action|Comedy|Cri...|[Action, Comedy, ...|\n+-------+--------------------+--------------------+--------------------+\nonly showing top 20 rows\n\n"
     ]
    }
   ],
   "source": [
    "moviesDf.withColumn(\"genresSplit\", split(moviesDf[\"genres\"],\"\\|\")).show()\n"
   ]
  },
  {
   "cell_type": "code",
   "execution_count": 0,
   "metadata": {
    "application/vnd.databricks.v1+cell": {
     "cellMetadata": {
      "byteLimit": 2048000,
      "rowLimit": 10000
     },
     "inputWidgets": {},
     "nuid": "4d856ee6-0d82-469f-9cb7-3ebefd0fd73c",
     "showTitle": false,
     "tableResultSettingsMap": {},
     "title": ""
    },
    "scrolled": true
   },
   "outputs": [
    {
     "output_type": "stream",
     "name": "stdout",
     "output_type": "stream",
     "text": [
      "root\n |-- movieId: integer (nullable = true)\n |-- title: string (nullable = true)\n |-- genres: string (nullable = true)\n |-- genresSplit: array (nullable = true)\n |    |-- element: string (containsNull = false)\n\n"
     ]
    }
   ],
   "source": [
    "moviesDfSplit = moviesDf.withColumn(\"genresSplit\", split(moviesDf[\"genres\"],\"\\|\"))\n",
    "moviesDfSplit.printSchema()"
   ]
  },
  {
   "cell_type": "markdown",
   "metadata": {
    "application/vnd.databricks.v1+cell": {
     "cellMetadata": {},
     "inputWidgets": {},
     "nuid": "5e722d35-b367-494b-8fb5-9e329940cf1b",
     "showTitle": false,
     "tableResultSettingsMap": {},
     "title": ""
    }
   },
   "source": [
    "No es necesario mantener ambas columnas, entonces es posible eliminar la columna `genres`"
   ]
  },
  {
   "cell_type": "code",
   "execution_count": 0,
   "metadata": {
    "application/vnd.databricks.v1+cell": {
     "cellMetadata": {
      "byteLimit": 2048000,
      "rowLimit": 10000
     },
     "inputWidgets": {},
     "nuid": "1a5ae7f7-ef27-40e1-9b0d-6e29af1c8304",
     "showTitle": false,
     "tableResultSettingsMap": {},
     "title": ""
    }
   },
   "outputs": [
    {
     "output_type": "stream",
     "name": "stdout",
     "output_type": "stream",
     "text": [
      "Out[14]: DataFrame[movieId: int, title: string, genresSplit: array<string>]"
     ]
    }
   ],
   "source": [
    "moviesDfSplit.drop(\"genres\")"
   ]
  },
  {
   "cell_type": "markdown",
   "metadata": {
    "application/vnd.databricks.v1+cell": {
     "cellMetadata": {},
     "inputWidgets": {},
     "nuid": "ae5ba299-4682-4823-a391-d203e9727472",
     "showTitle": false,
     "tableResultSettingsMap": {},
     "title": ""
    }
   },
   "source": [
    "Ahora revisamos el dataframe"
   ]
  },
  {
   "cell_type": "code",
   "execution_count": 0,
   "metadata": {
    "application/vnd.databricks.v1+cell": {
     "cellMetadata": {
      "byteLimit": 2048000,
      "rowLimit": 10000
     },
     "inputWidgets": {},
     "nuid": "ff9ae6f5-2a53-4bea-a3f9-a5365ca5d8c7",
     "showTitle": false,
     "tableResultSettingsMap": {},
     "title": ""
    }
   },
   "outputs": [
    {
     "output_type": "stream",
     "name": "stdout",
     "output_type": "stream",
     "text": [
      "root\n |-- movieId: integer (nullable = true)\n |-- title: string (nullable = true)\n |-- genres: string (nullable = true)\n |-- genresSplit: array (nullable = true)\n |    |-- element: string (containsNull = false)\n\n"
     ]
    }
   ],
   "source": [
    "moviesDfSplit.printSchema()"
   ]
  },
  {
   "cell_type": "markdown",
   "metadata": {
    "application/vnd.databricks.v1+cell": {
     "cellMetadata": {},
     "inputWidgets": {},
     "nuid": "880826b6-a615-476b-8226-095c0fa20c10",
     "showTitle": false,
     "tableResultSettingsMap": {},
     "title": ""
    }
   },
   "source": [
    "Los dataframes son inmutables, por lo que vimos anteriormente fue un nuevo dataframe. Para conservar el cambio tenemos que asignarlo para ver el cambio."
   ]
  },
  {
   "cell_type": "code",
   "execution_count": 0,
   "metadata": {
    "application/vnd.databricks.v1+cell": {
     "cellMetadata": {
      "byteLimit": 2048000,
      "rowLimit": 10000
     },
     "inputWidgets": {},
     "nuid": "a227daab-a20c-44be-8baa-de8f71102075",
     "showTitle": false,
     "tableResultSettingsMap": {},
     "title": ""
    },
    "scrolled": true
   },
   "outputs": [
    {
     "output_type": "stream",
     "name": "stdout",
     "output_type": "stream",
     "text": [
      "root\n |-- movieId: integer (nullable = true)\n |-- title: string (nullable = true)\n |-- genresSplit: array (nullable = true)\n |    |-- element: string (containsNull = false)\n\n"
     ]
    }
   ],
   "source": [
    "moviesDfSplit = moviesDfSplit.drop(\"genres\")\n",
    "moviesDfSplit.printSchema()"
   ]
  },
  {
   "cell_type": "markdown",
   "metadata": {
    "application/vnd.databricks.v1+cell": {
     "cellMetadata": {},
     "inputWidgets": {},
     "nuid": "59a2c773-0077-414f-bd5f-152328f3a546",
     "showTitle": false,
     "tableResultSettingsMap": {},
     "title": ""
    }
   },
   "source": [
    "Ahora sucede lo mismo con la columna title. Podemos extrar el nombre de la película y el año y crear columnas especificas para cada dato. Usamos expresiones regulares con la funcion [regexp_extract](https://spark.apache.org/docs/latest/api/python/reference/pyspark.sql/api/pyspark.sql.functions.regexp_extract.html#pyspark.sql.functions.regexp_extract)"
   ]
  },
  {
   "cell_type": "code",
   "execution_count": 0,
   "metadata": {
    "application/vnd.databricks.v1+cell": {
     "cellMetadata": {
      "byteLimit": 2048000,
      "rowLimit": 10000
     },
     "inputWidgets": {},
     "nuid": "371c4784-8742-47a2-b5ee-64f9aa5ce250",
     "showTitle": false,
     "tableResultSettingsMap": {},
     "title": ""
    },
    "scrolled": true
   },
   "outputs": [
    {
     "output_type": "stream",
     "name": "stdout",
     "output_type": "stream",
     "text": [
      "+-------+--------------------+--------------------+----+\n|movieId|               title|         genresSplit|year|\n+-------+--------------------+--------------------+----+\n|      1|    Toy Story (1995)|[Adventure, Anima...|1995|\n|      2|      Jumanji (1995)|[Adventure, Child...|1995|\n|      3|Grumpier Old Men ...|   [Comedy, Romance]|1995|\n|      4|Waiting to Exhale...|[Comedy, Drama, R...|1995|\n|      5|Father of the Bri...|            [Comedy]|1995|\n|      6|         Heat (1995)|[Action, Crime, T...|1995|\n|      7|      Sabrina (1995)|   [Comedy, Romance]|1995|\n|      8| Tom and Huck (1995)|[Adventure, Child...|1995|\n|      9| Sudden Death (1995)|            [Action]|1995|\n|     10|    GoldenEye (1995)|[Action, Adventur...|1995|\n|     11|American Presiden...|[Comedy, Drama, R...|1995|\n|     12|Dracula: Dead and...|    [Comedy, Horror]|1995|\n|     13|        Balto (1995)|[Adventure, Anima...|1995|\n|     14|        Nixon (1995)|             [Drama]|1995|\n|     15|Cutthroat Island ...|[Action, Adventur...|1995|\n|     16|       Casino (1995)|      [Crime, Drama]|1995|\n|     17|Sense and Sensibi...|    [Drama, Romance]|1995|\n|     18|   Four Rooms (1995)|            [Comedy]|1995|\n|     19|Ace Ventura: When...|            [Comedy]|1995|\n|     20|  Money Train (1995)|[Action, Comedy, ...|1995|\n+-------+--------------------+--------------------+----+\nonly showing top 20 rows\n\n"
     ]
    }
   ],
   "source": [
    "from pyspark.sql.functions import regexp_extract, col\n",
    "\n",
    "moviesDfSplit.withColumn(\"year\", regexp_extract(moviesDf[\"title\"],\"^.+\\(([0-9]+)\\)$\",1)).show()\n",
    "\n"
   ]
  },
  {
   "cell_type": "code",
   "execution_count": 0,
   "metadata": {
    "application/vnd.databricks.v1+cell": {
     "cellMetadata": {
      "byteLimit": 2048000,
      "rowLimit": 10000
     },
     "inputWidgets": {},
     "nuid": "7aa26650-65e1-4380-9181-c4c4da1232a4",
     "showTitle": false,
     "tableResultSettingsMap": {},
     "title": ""
    },
    "scrolled": true
   },
   "outputs": [
    {
     "output_type": "stream",
     "name": "stdout",
     "output_type": "stream",
     "text": [
      "root\n |-- movieId: integer (nullable = true)\n |-- title: string (nullable = true)\n |-- genresSplit: array (nullable = true)\n |    |-- element: string (containsNull = false)\n |-- year: string (nullable = true)\n\n"
     ]
    }
   ],
   "source": [
    "moviesDfSplit.withColumn(\"year\", regexp_extract(moviesDf[\"title\"],\"^.+\\(([0-9]+)\\)$\",1)).printSchema()\n"
   ]
  },
  {
   "cell_type": "code",
   "execution_count": 0,
   "metadata": {
    "application/vnd.databricks.v1+cell": {
     "cellMetadata": {
      "byteLimit": 2048000,
      "rowLimit": 10000
     },
     "inputWidgets": {},
     "nuid": "72ecc777-c9f4-4aff-b52d-f6481bcc2582",
     "showTitle": false,
     "tableResultSettingsMap": {},
     "title": ""
    },
    "scrolled": true
   },
   "outputs": [
    {
     "output_type": "stream",
     "name": "stdout",
     "output_type": "stream",
     "text": [
      "+-------+--------------------+--------------------+----+\n|movieId|               title|         genresSplit|year|\n+-------+--------------------+--------------------+----+\n|      1|    Toy Story (1995)|[Adventure, Anima...|1995|\n|      2|      Jumanji (1995)|[Adventure, Child...|1995|\n|      3|Grumpier Old Men ...|   [Comedy, Romance]|1995|\n|      4|Waiting to Exhale...|[Comedy, Drama, R...|1995|\n|      5|Father of the Bri...|            [Comedy]|1995|\n|      6|         Heat (1995)|[Action, Crime, T...|1995|\n|      7|      Sabrina (1995)|   [Comedy, Romance]|1995|\n|      8| Tom and Huck (1995)|[Adventure, Child...|1995|\n|      9| Sudden Death (1995)|            [Action]|1995|\n|     10|    GoldenEye (1995)|[Action, Adventur...|1995|\n|     11|American Presiden...|[Comedy, Drama, R...|1995|\n|     12|Dracula: Dead and...|    [Comedy, Horror]|1995|\n|     13|        Balto (1995)|[Adventure, Anima...|1995|\n|     14|        Nixon (1995)|             [Drama]|1995|\n|     15|Cutthroat Island ...|[Action, Adventur...|1995|\n|     16|       Casino (1995)|      [Crime, Drama]|1995|\n|     17|Sense and Sensibi...|    [Drama, Romance]|1995|\n|     18|   Four Rooms (1995)|            [Comedy]|1995|\n|     19|Ace Ventura: When...|            [Comedy]|1995|\n|     20|  Money Train (1995)|[Action, Comedy, ...|1995|\n+-------+--------------------+--------------------+----+\nonly showing top 20 rows\n\n"
     ]
    }
   ],
   "source": [
    "moviesDfSplit.withColumn(\"year\", regexp_extract(moviesDf[\"title\"],\"^.+\\(([0-9]+)\\)$\",1).cast(IntegerType())).show()\n"
   ]
  },
  {
   "cell_type": "code",
   "execution_count": 0,
   "metadata": {
    "application/vnd.databricks.v1+cell": {
     "cellMetadata": {
      "byteLimit": 2048000,
      "rowLimit": 10000
     },
     "inputWidgets": {},
     "nuid": "dd17be47-3af6-4864-b3bf-81276528135a",
     "showTitle": false,
     "tableResultSettingsMap": {},
     "title": ""
    },
    "scrolled": true
   },
   "outputs": [
    {
     "output_type": "stream",
     "name": "stdout",
     "output_type": "stream",
     "text": [
      "root\n |-- movieId: integer (nullable = true)\n |-- title: string (nullable = true)\n |-- genresSplit: array (nullable = true)\n |    |-- element: string (containsNull = false)\n |-- year: integer (nullable = true)\n\n"
     ]
    }
   ],
   "source": [
    "moviesDfSplit.withColumn(\"year\", regexp_extract(moviesDf[\"title\"],\"^.+\\(([0-9]+)\\)$\",1).cast(IntegerType())).printSchema()\n"
   ]
  },
  {
   "cell_type": "code",
   "execution_count": 0,
   "metadata": {
    "application/vnd.databricks.v1+cell": {
     "cellMetadata": {
      "byteLimit": 2048000,
      "rowLimit": 10000
     },
     "inputWidgets": {},
     "nuid": "2319df8a-70b3-4005-86b3-756a1dc1cc91",
     "showTitle": false,
     "tableResultSettingsMap": {},
     "title": ""
    }
   },
   "outputs": [],
   "source": [
    "moviesDfSplit = moviesDfSplit\\\n",
    "                .withColumn(\\\n",
    "                            \"year\",\\\n",
    "                            regexp_extract(\\\n",
    "                                           moviesDf[\"title\"],\\\n",
    "                                           \"^.+\\(([0-9]+)\\)$\",\\\n",
    "                                           1)\\\n",
    "                            .cast(IntegerType()))\n"
   ]
  },
  {
   "cell_type": "markdown",
   "metadata": {
    "application/vnd.databricks.v1+cell": {
     "cellMetadata": {},
     "inputWidgets": {},
     "nuid": "a76ae5b9-b860-4c2d-a7f9-33efcd323362",
     "showTitle": false,
     "tableResultSettingsMap": {},
     "title": ""
    }
   },
   "source": [
    "Existen muchas funciones similares que se pueden utilizar, la documentación está en [Spark SQL Functions](https://spark.apache.org/docs/latest/api/python/reference/pyspark.sql/functions.html)"
   ]
  },
  {
   "cell_type": "code",
   "execution_count": 0,
   "metadata": {
    "application/vnd.databricks.v1+cell": {
     "cellMetadata": {
      "byteLimit": 2048000,
      "rowLimit": 10000
     },
     "inputWidgets": {},
     "nuid": "d9ba95fc-8ed9-4608-9a3a-fb33f3f86038",
     "showTitle": false,
     "tableResultSettingsMap": {},
     "title": ""
    },
    "scrolled": true
   },
   "outputs": [
    {
     "output_type": "stream",
     "name": "stdout",
     "output_type": "stream",
     "text": [
      "+-------+--------------------+--------------------+----+\n|movieId|               title|         genresSplit|year|\n+-------+--------------------+--------------------+----+\n|      1|    Toy Story (1995)|[Adventure, Anima...|1995|\n|      2|      Jumanji (1995)|[Adventure, Child...|1995|\n|      3|Grumpier Old Men ...|   [Comedy, Romance]|1995|\n|      4|Waiting to Exhale...|[Comedy, Drama, R...|1995|\n|      5|Father of the Bri...|            [Comedy]|1995|\n+-------+--------------------+--------------------+----+\nonly showing top 5 rows\n\n"
     ]
    }
   ],
   "source": [
    "moviesDfSplit.show(5)"
   ]
  },
  {
   "cell_type": "markdown",
   "metadata": {
    "application/vnd.databricks.v1+cell": {
     "cellMetadata": {},
     "inputWidgets": {},
     "nuid": "09a350d2-72c5-44a1-9d4f-7359e3f7db37",
     "showTitle": false,
     "tableResultSettingsMap": {},
     "title": ""
    }
   },
   "source": [
    "Hacemos lo mismo para obtener el titulo"
   ]
  },
  {
   "cell_type": "code",
   "execution_count": 0,
   "metadata": {
    "application/vnd.databricks.v1+cell": {
     "cellMetadata": {
      "byteLimit": 2048000,
      "rowLimit": 10000
     },
     "inputWidgets": {},
     "nuid": "faa54074-0290-428a-90fa-7cc9dac40fc5",
     "showTitle": false,
     "tableResultSettingsMap": {},
     "title": ""
    }
   },
   "outputs": [
    {
     "output_type": "stream",
     "name": "stdout",
     "output_type": "stream",
     "text": [
      "root\n |-- movieId: integer (nullable = true)\n |-- genresSplit: array (nullable = true)\n |    |-- element: string (containsNull = false)\n |-- year: integer (nullable = true)\n |-- title: string (nullable = true)\n\n"
     ]
    }
   ],
   "source": [
    "moviesDfSplit=moviesDfSplit\\\n",
    "                .withColumn(\\\n",
    "                            \"title_temp\",\\\n",
    "                            regexp_extract(\\\n",
    "                                           _[\"title\"],\\\n",
    "                                           \"^(.+?) \\([0-9]+\\)$\",\\\n",
    "                                           1))\\\n",
    "                .drop('title')\\\n",
    "                .withColumnRenamed(\"title_temp\",\"title\")\n",
    "moviesDfSplit.printSchema()"
   ]
  },
  {
   "cell_type": "code",
   "execution_count": 0,
   "metadata": {
    "application/vnd.databricks.v1+cell": {
     "cellMetadata": {
      "byteLimit": 2048000,
      "rowLimit": 10000
     },
     "inputWidgets": {},
     "nuid": "9bdbf54b-d46d-4cc4-bab6-468e92e51caf",
     "showTitle": false,
     "tableResultSettingsMap": {},
     "title": ""
    },
    "scrolled": true
   },
   "outputs": [
    {
     "output_type": "stream",
     "name": "stdout",
     "output_type": "stream",
     "text": [
      "+-------+--------------------+----+--------------------+\n|movieId|         genresSplit|year|               title|\n+-------+--------------------+----+--------------------+\n|      1|[Adventure, Anima...|1995|           Toy Story|\n|      2|[Adventure, Child...|1995|             Jumanji|\n|      3|   [Comedy, Romance]|1995|    Grumpier Old Men|\n|      4|[Comedy, Drama, R...|1995|   Waiting to Exhale|\n|      5|            [Comedy]|1995|Father of the Bri...|\n+-------+--------------------+----+--------------------+\nonly showing top 5 rows\n\n"
     ]
    }
   ],
   "source": [
    "moviesDfSplit.show(5)"
   ]
  },
  {
   "cell_type": "markdown",
   "metadata": {
    "application/vnd.databricks.v1+cell": {
     "cellMetadata": {},
     "inputWidgets": {},
     "nuid": "b701a517-84ac-46b1-ae13-66fdea0cb370",
     "showTitle": false,
     "tableResultSettingsMap": {},
     "title": ""
    }
   },
   "source": [
    "Por ultimo hacemos lo mismo con la tabla de tags"
   ]
  },
  {
   "cell_type": "code",
   "execution_count": 0,
   "metadata": {
    "application/vnd.databricks.v1+cell": {
     "cellMetadata": {
      "byteLimit": 2048000,
      "rowLimit": 10000
     },
     "inputWidgets": {},
     "nuid": "e33103c3-dd76-4ad8-869d-70fd1132a7d4",
     "showTitle": false,
     "tableResultSettingsMap": {},
     "title": ""
    }
   },
   "outputs": [
    {
     "output_type": "stream",
     "name": "stdout",
     "output_type": "stream",
     "text": [
      "+------+-------+-----------------+----------+\n|   _c0|    _c1|              _c2|       _c3|\n+------+-------+-----------------+----------+\n|userId|movieId|              tag| timestamp|\n|     2|  60756|            funny|1445714994|\n|     2|  60756|  Highly quotable|1445714996|\n|     2|  60756|     will ferrell|1445714992|\n|     2|  89774|     Boxing story|1445715207|\n|     2|  89774|              MMA|1445715200|\n|     2|  89774|        Tom Hardy|1445715205|\n|     2| 106782|            drugs|1445715054|\n|     2| 106782|Leonardo DiCaprio|1445715051|\n|     2| 106782|  Martin Scorsese|1445715056|\n|     7|  48516|     way too long|1169687325|\n|    18|    431|        Al Pacino|1462138765|\n|    18|    431|         gangster|1462138749|\n|    18|    431|            mafia|1462138755|\n|    18|   1221|        Al Pacino|1461699306|\n|    18|   1221|            Mafia|1461699303|\n|    18|   5995|        holocaust|1455735472|\n|    18|   5995|       true story|1455735479|\n|    18|  44665|     twist ending|1456948283|\n|    18|  52604|  Anthony Hopkins|1457650696|\n+------+-------+-----------------+----------+\nonly showing top 20 rows\n\n"
     ]
    }
   ],
   "source": [
    "tagsDf.show()"
   ]
  },
  {
   "cell_type": "code",
   "execution_count": 0,
   "metadata": {
    "application/vnd.databricks.v1+cell": {
     "cellMetadata": {
      "byteLimit": 2048000,
      "rowLimit": 10000
     },
     "inputWidgets": {},
     "nuid": "e80af7be-991e-4f85-bf85-63c670c2550e",
     "showTitle": false,
     "tableResultSettingsMap": {},
     "title": ""
    }
   },
   "outputs": [
    {
     "output_type": "stream",
     "name": "stdout",
     "output_type": "stream",
     "text": [
      "+------+-------+-----------------+----------+\n|userId|movieId|              tag| timestamp|\n+------+-------+-----------------+----------+\n|     2|  60756|            funny|1445714994|\n|     2|  60756|  Highly quotable|1445714996|\n|     2|  60756|     will ferrell|1445714992|\n|     2|  89774|     Boxing story|1445715207|\n|     2|  89774|              MMA|1445715200|\n|     2|  89774|        Tom Hardy|1445715205|\n|     2| 106782|            drugs|1445715054|\n|     2| 106782|Leonardo DiCaprio|1445715051|\n|     2| 106782|  Martin Scorsese|1445715056|\n|     7|  48516|     way too long|1169687325|\n|    18|    431|        Al Pacino|1462138765|\n|    18|    431|         gangster|1462138749|\n|    18|    431|            mafia|1462138755|\n|    18|   1221|        Al Pacino|1461699306|\n|    18|   1221|            Mafia|1461699303|\n|    18|   5995|        holocaust|1455735472|\n|    18|   5995|       true story|1455735479|\n|    18|  44665|     twist ending|1456948283|\n|    18|  52604|  Anthony Hopkins|1457650696|\n|    18|  52604|  courtroom drama|1457650711|\n+------+-------+-----------------+----------+\nonly showing top 20 rows\n\n"
     ]
    }
   ],
   "source": [
    "tags_schema  = StructType(fields=[    \n",
    "    StructField(\"userId\",IntegerType(),True), \n",
    "    StructField(\"movieId\",IntegerType(),True), \n",
    "    StructField(\"tag\",StringType(),True),\n",
    "    StructField(\"timestamp\",LongType(),True)\n",
    "])\n",
    "\n",
    "tagsDf = spark.read\\\n",
    "    .option(\"header\", True)\\\n",
    "    .schema(tags_schema)\\\n",
    "    .csv(\"dbfs:/FileStore/tables/tags.csv\")\n",
    "\n",
    "tagsDf.show()"
   ]
  },
  {
   "cell_type": "code",
   "execution_count": 0,
   "metadata": {
    "application/vnd.databricks.v1+cell": {
     "cellMetadata": {
      "byteLimit": 2048000,
      "rowLimit": 10000
     },
     "inputWidgets": {},
     "nuid": "f83aa8ed-2b39-47af-8ea1-ddaa977785d1",
     "showTitle": false,
     "tableResultSettingsMap": {},
     "title": ""
    },
    "scrolled": true
   },
   "outputs": [
    {
     "output_type": "stream",
     "name": "stdout",
     "output_type": "stream",
     "text": [
      "root\n |-- userId: integer (nullable = true)\n |-- movieId: integer (nullable = true)\n |-- tag: string (nullable = true)\n |-- timestamp: long (nullable = true)\n\n"
     ]
    }
   ],
   "source": [
    "tagsDf.printSchema()"
   ]
  },
  {
   "cell_type": "markdown",
   "metadata": {
    "application/vnd.databricks.v1+cell": {
     "cellMetadata": {},
     "inputWidgets": {},
     "nuid": "4ab766ed-bfbb-46c3-9d62-cd5eff46c9d9",
     "showTitle": false,
     "tableResultSettingsMap": {},
     "title": ""
    }
   },
   "source": []
  },
  {
   "cell_type": "code",
   "execution_count": 0,
   "metadata": {
    "application/vnd.databricks.v1+cell": {
     "cellMetadata": {
      "byteLimit": 2048000,
      "rowLimit": 10000
     },
     "inputWidgets": {},
     "nuid": "94515f1c-c630-4118-a702-f10ea8e37ea1",
     "showTitle": false,
     "tableResultSettingsMap": {},
     "title": ""
    },
    "scrolled": true
   },
   "outputs": [
    {
     "output_type": "stream",
     "name": "stdout",
     "output_type": "stream",
     "text": [
      "+-------+------------------+-----------------+-----------+--------------------+\n|summary|            userId|          movieId|        tag|           timestamp|\n+-------+------------------+-----------------+-----------+--------------------+\n|  count|              3683|             3683|       3683|                3683|\n|   mean| 431.1493347814282|27252.01357588922|       null| 1.320031966823785E9|\n| stddev|158.47255348483532|43490.55880276775|       null|1.7210245043712625E8|\n|    min|                 2|                1|\"\"\"artsy\"\"\"|          1137179352|\n|    max|               610|           193565|    zombies|          1537098603|\n+-------+------------------+-----------------+-----------+--------------------+\n\n"
     ]
    }
   ],
   "source": [
    "tagsDf.describe().show()"
   ]
  },
  {
   "cell_type": "markdown",
   "metadata": {
    "application/vnd.databricks.v1+cell": {
     "cellMetadata": {},
     "inputWidgets": {},
     "nuid": "9b7cafc3-26ca-4310-add0-e3f3d343cef4",
     "showTitle": false,
     "tableResultSettingsMap": {},
     "title": ""
    }
   },
   "source": [
    "Finalmente, convertimos el timestamp en una fecha:"
   ]
  },
  {
   "cell_type": "code",
   "execution_count": 0,
   "metadata": {
    "application/vnd.databricks.v1+cell": {
     "cellMetadata": {
      "byteLimit": 2048000,
      "rowLimit": 10000
     },
     "inputWidgets": {},
     "nuid": "17c06560-9eeb-474e-977d-0838587dafa8",
     "showTitle": false,
     "tableResultSettingsMap": {},
     "title": ""
    }
   },
   "outputs": [
    {
     "output_type": "stream",
     "name": "stdout",
     "output_type": "stream",
     "text": [
      "+------+-------+-----------------+--------+\n|userId|movieId|              tag|    date|\n+------+-------+-----------------+--------+\n|     2|  60756|            funny|20151024|\n|     2|  60756|  Highly quotable|20151024|\n|     2|  60756|     will ferrell|20151024|\n|     2|  89774|     Boxing story|20151024|\n|     2|  89774|              MMA|20151024|\n|     2|  89774|        Tom Hardy|20151024|\n|     2| 106782|            drugs|20151024|\n|     2| 106782|Leonardo DiCaprio|20151024|\n|     2| 106782|  Martin Scorsese|20151024|\n|     7|  48516|     way too long|20070125|\n|    18|    431|        Al Pacino|20160501|\n|    18|    431|         gangster|20160501|\n|    18|    431|            mafia|20160501|\n|    18|   1221|        Al Pacino|20160426|\n|    18|   1221|            Mafia|20160426|\n|    18|   5995|        holocaust|20160217|\n|    18|   5995|       true story|20160217|\n|    18|  44665|     twist ending|20160302|\n|    18|  52604|  Anthony Hopkins|20160310|\n|    18|  52604|  courtroom drama|20160310|\n+------+-------+-----------------+--------+\nonly showing top 20 rows\n\n"
     ]
    }
   ],
   "source": [
    "from pyspark.sql.functions import from_unixtime\n",
    "\n",
    "\n",
    "tags_schema  = StructType(fields=[    \n",
    "    StructField(\"userId\",IntegerType(),True), \n",
    "    StructField(\"movieId\",IntegerType(),True), \n",
    "    StructField(\"tag\",StringType(),True),\n",
    "    StructField(\"timestamp\",LongType(),True)\n",
    "])\n",
    "\n",
    "tagsDf = spark.read\\\n",
    "    .option(\"header\", True)\\\n",
    "    .schema(tags_schema)\\\n",
    "    .csv(\"dbfs:/FileStore/tables/tags.csv\")\n",
    "\n",
    "\n",
    "tagsDf=tagsDf\\\n",
    "        .withColumn(\\\n",
    "            \"date\",\\\n",
    "            from_unixtime(\"timestamp\", \"yyyyMMdd\"))\\\n",
    "                .drop('timestamp')\n",
    "\n",
    "tagsDf.show()"
   ]
  },
  {
   "cell_type": "code",
   "execution_count": 0,
   "metadata": {
    "application/vnd.databricks.v1+cell": {
     "cellMetadata": {},
     "inputWidgets": {},
     "nuid": "13ffb10f-d0f8-4348-ade3-33fcb00fea6a",
     "showTitle": false,
     "tableResultSettingsMap": {},
     "title": ""
    }
   },
   "outputs": [],
   "source": []
  }
 ],
 "metadata": {
  "application/vnd.databricks.v1+notebook": {
   "computePreferences": null,
   "dashboards": [],
   "environmentMetadata": null,
   "inputWidgetPreferences": null,
   "language": "python",
   "notebookMetadata": {
    "pythonIndentUnit": 4
   },
   "notebookName": "02 MovieLens Manipulacion",
   "widgets": {}
  },
  "kernelspec": {
   "display_name": "Python 3 (ipykernel)",
   "language": "python",
   "name": "python3"
  },
  "language_info": {
   "codemirror_mode": {
    "name": "ipython",
    "version": 3
   },
   "file_extension": ".py",
   "mimetype": "text/x-python",
   "name": "python",
   "nbconvert_exporter": "python",
   "pygments_lexer": "ipython3",
   "version": "3.9.17"
  }
 },
 "nbformat": 4,
 "nbformat_minor": 0
}