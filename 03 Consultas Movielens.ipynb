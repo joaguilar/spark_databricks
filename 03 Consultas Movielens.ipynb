{
 "cells": [
  {
   "cell_type": "code",
   "execution_count": 0,
   "metadata": {
    "application/vnd.databricks.v1+cell": {
     "cellMetadata": {
      "byteLimit": 2048000,
      "rowLimit": 10000
     },
     "inputWidgets": {},
     "nuid": "70a1043b-fda9-4985-a66c-5ce8ea453b94",
     "showTitle": false,
     "tableResultSettingsMap": {},
     "title": ""
    }
   },
   "outputs": [],
   "source": [
    "#import findspark\n",
    "#findspark.init('/spark/spark-3.5.1-bin-hadoop3')\n",
    "from pyspark import *\n",
    "from pyspark.sql import SparkSession\n",
    "from pyspark.sql.types import StructType,StructField, StringType, IntegerType, DateType, TimestampType, LongType\n",
    "from pyspark.sql.types import ArrayType, DoubleType, BooleanType, DecimalType\n",
    "from pyspark.sql.functions import regexp_extract, split, from_unixtime, col, avg, min, max\n",
    "from pyspark.sql.functions import grouping\n",
    "\n",
    "\n",
    "#spark = SparkSession.builder.appName(\"movielens\").getOrCreate()"
   ]
  },
  {
   "cell_type": "markdown",
   "metadata": {
    "application/vnd.databricks.v1+cell": {
     "cellMetadata": {},
     "inputWidgets": {},
     "nuid": "184b328a-df0d-4780-8f32-b5aed82b01d4",
     "showTitle": false,
     "tableResultSettingsMap": {},
     "title": ""
    }
   },
   "source": [
    "# Consultas sobre Movielens\n",
    "\n",
    "## Schema de Movielens\n",
    "\n",
    "![Schema](movielens_schema.png)\n",
    "\n",
    "## ¿Cuántas películas calificó cada usuario?\n",
    "\n",
    "Proceso:\n",
    "\n",
    "1. Cargar la tabla ratings\n",
    "1. Cargar la tabla movies\n",
    "1. Unir ambas tablas\n",
    "1. Agrupar por usuario\n",
    "1. Contar las calificaciones\n"
   ]
  },
  {
   "cell_type": "markdown",
   "metadata": {
    "application/vnd.databricks.v1+cell": {
     "cellMetadata": {},
     "inputWidgets": {},
     "nuid": "0c8991c0-eea9-4718-a05b-eae1dd74a689",
     "showTitle": false,
     "tableResultSettingsMap": {},
     "title": ""
    }
   },
   "source": [
    "### Cargar las tablas"
   ]
  },
  {
   "cell_type": "code",
   "execution_count": 0,
   "metadata": {
    "application/vnd.databricks.v1+cell": {
     "cellMetadata": {
      "byteLimit": 2048000,
      "rowLimit": 10000
     },
     "inputWidgets": {},
     "nuid": "f5d216cf-c103-4fa3-8fb0-cdceb6dcf8d1",
     "showTitle": false,
     "tableResultSettingsMap": {},
     "title": ""
    }
   },
   "outputs": [],
   "source": [
    "# Tabla Ratings\n",
    "ratings_schema  = StructType(fields=[\n",
    "    StructField(\"userId\",IntegerType(),True), \n",
    "    StructField(\"movieId\",IntegerType(),True),\n",
    "    StructField(\"rating\",DecimalType(precision=2,scale=1),True),\n",
    "    StructField(\"timestamp\",LongType(),True)\n",
    "])\n",
    "ratingsDf = spark.read\\\n",
    "    .option(\"header\", True)\\\n",
    "    .option(\"dateFormat\", \"yyyyMMdd\")\\\n",
    "    .schema(ratings_schema)\\\n",
    "    .csv(\"dbfs:/FileStore/tables/ratings.csv\")\\\n",
    "    .withColumn(\\\n",
    "            \"date\",\\\n",
    "            from_unixtime(\"timestamp\", \"yyyyMMdd\"))\\\n",
    "                .drop('timestamp')\n",
    "\n",
    "# Tabla Movies\n",
    "movies_schema  = StructType(fields=[\n",
    "    StructField(\"movieId\",IntegerType(),True), \n",
    "    StructField(\"title\",StringType(),True),\n",
    "    StructField(\"genres\",StringType(),True)\n",
    "])\n",
    "\n",
    "moviesDf = spark.read\\\n",
    "    .option(\"header\", True)\\\n",
    "    .schema(movies_schema)\\\n",
    "    .csv(\"dbfs:/FileStore/tables/movies.csv\")\n",
    "\n",
    "moviesDf = moviesDf.withColumn(\"genresSplit\", split(moviesDf[\"genres\"],\"\\|\"))\\\n",
    "                        .drop('genres').withColumnRenamed(\"genresSplit\",\"genres\")\\\n",
    "                            .withColumn(\\\n",
    "                                \"year\",\\\n",
    "                                regexp_extract(\\\n",
    "                                           moviesDf[\"title\"],\\\n",
    "                                           \"^.+\\(([0-9]+)\\)$\",\\\n",
    "                                           1)\\\n",
    "                                .cast(IntegerType()))\\\n",
    "                            .withColumn(\\\n",
    "                            \"title_temp\",\\\n",
    "                            regexp_extract(\\\n",
    "                                           moviesDf[\"title\"],\\\n",
    "                                           \"^(.+?) \\([0-9]+\\)$\",\\\n",
    "                                           1))\\\n",
    "                            .drop('title')\\\n",
    "                        .withColumnRenamed(\"title_temp\",\"title\")"
   ]
  },
  {
   "cell_type": "markdown",
   "metadata": {
    "application/vnd.databricks.v1+cell": {
     "cellMetadata": {},
     "inputWidgets": {},
     "nuid": "e3e90d82-2634-4340-ab73-85a1bfe689a1",
     "showTitle": false,
     "tableResultSettingsMap": {},
     "title": ""
    }
   },
   "source": [
    "### Unir Ambas tablas"
   ]
  },
  {
   "cell_type": "code",
   "execution_count": 0,
   "metadata": {
    "application/vnd.databricks.v1+cell": {
     "cellMetadata": {
      "byteLimit": 2048000,
      "rowLimit": 10000
     },
     "inputWidgets": {},
     "nuid": "131918fc-1a3e-457b-a772-5890049d276b",
     "showTitle": false,
     "tableResultSettingsMap": {},
     "title": ""
    }
   },
   "outputs": [
    {
     "output_type": "stream",
     "name": "stdout",
     "output_type": "stream",
     "text": [
      "+-------+------+------+--------+--------------------+----+--------------------+\n|movieId|userId|rating|    date|              genres|year|               title|\n+-------+------+------+--------+--------------------+----+--------------------+\n|      1|     1|   4.0|20000730|[Adventure, Anima...|1995|           Toy Story|\n|      3|     1|   4.0|20000730|   [Comedy, Romance]|1995|    Grumpier Old Men|\n|      6|     1|   4.0|20000730|[Action, Crime, T...|1995|                Heat|\n|     47|     1|   5.0|20000730| [Mystery, Thriller]|1995|Seven (a.k.a. Se7en)|\n|     50|     1|   5.0|20000730|[Crime, Mystery, ...|1995| Usual Suspects, The|\n|     70|     1|   3.0|20000730|[Action, Comedy, ...|1996| From Dusk Till Dawn|\n|    101|     1|   5.0|20000730|[Adventure, Comed...|1996|       Bottle Rocket|\n|    110|     1|   4.0|20000730|[Action, Drama, War]|1995|          Braveheart|\n|    151|     1|   5.0|20000730|[Action, Drama, R...|1995|             Rob Roy|\n|    157|     1|   5.0|20000730|       [Comedy, War]|1995|      Canadian Bacon|\n|    163|     1|   5.0|20000730|[Action, Romance,...|1995|           Desperado|\n|    216|     1|   5.0|20000730|            [Comedy]|1995|       Billy Madison|\n|    223|     1|   3.0|20000730|            [Comedy]|1994|              Clerks|\n|    231|     1|   5.0|20000730| [Adventure, Comedy]|1994|Dumb & Dumber (Du...|\n|    235|     1|   4.0|20000730|     [Comedy, Drama]|1994|             Ed Wood|\n|    260|     1|   5.0|20000730|[Action, Adventur...|1977|Star Wars: Episod...|\n|    296|     1|   3.0|20000730|[Comedy, Crime, D...|1994|        Pulp Fiction|\n|    316|     1|   3.0|20000730|[Action, Adventur...|1994|            Stargate|\n|    333|     1|   5.0|20000730|            [Comedy]|1995|           Tommy Boy|\n|    349|     1|   4.0|20000730|[Action, Crime, D...|1994|Clear and Present...|\n+-------+------+------+--------+--------------------+----+--------------------+\nonly showing top 20 rows\n\n"
     ]
    }
   ],
   "source": [
    "movie_ratingsDF = ratingsDf.join(moviesDf,on=\"movieId\",how=\"inner\")\n",
    "movie_ratingsDF.show()"
   ]
  },
  {
   "cell_type": "markdown",
   "metadata": {
    "application/vnd.databricks.v1+cell": {
     "cellMetadata": {},
     "inputWidgets": {},
     "nuid": "18a6e115-2900-47d3-89a5-4ab4c5cc2a5d",
     "showTitle": false,
     "tableResultSettingsMap": {},
     "title": ""
    }
   },
   "source": [
    "### Agrupar por usuario"
   ]
  },
  {
   "cell_type": "code",
   "execution_count": 0,
   "metadata": {
    "application/vnd.databricks.v1+cell": {
     "cellMetadata": {
      "byteLimit": 2048000,
      "rowLimit": 10000
     },
     "inputWidgets": {},
     "nuid": "3a084cb9-fa1c-41da-aeb4-f3c89037aa0f",
     "showTitle": false,
     "tableResultSettingsMap": {},
     "title": ""
    }
   },
   "outputs": [],
   "source": [
    "from pyspark.sql.functions import grouping\n",
    "\n",
    "movie_ratingsDF_grouped_by_userid = movie_ratingsDF.groupBy(\"userId\")"
   ]
  },
  {
   "cell_type": "markdown",
   "metadata": {
    "application/vnd.databricks.v1+cell": {
     "cellMetadata": {},
     "inputWidgets": {},
     "nuid": "a4441e8e-13c9-4e39-8e8c-8345ebcbfa87",
     "showTitle": false,
     "tableResultSettingsMap": {},
     "title": ""
    }
   },
   "source": [
    "### Contar las calificaciones"
   ]
  },
  {
   "cell_type": "code",
   "execution_count": 0,
   "metadata": {
    "application/vnd.databricks.v1+cell": {
     "cellMetadata": {
      "byteLimit": 2048000,
      "rowLimit": 10000
     },
     "inputWidgets": {},
     "nuid": "4c1f1cd3-7402-46f8-b3d8-6bfbd6c250fc",
     "showTitle": false,
     "tableResultSettingsMap": {},
     "title": ""
    }
   },
   "outputs": [
    {
     "output_type": "stream",
     "name": "stdout",
     "output_type": "stream",
     "text": [
      "Out[7]: [Row(userId=148, count(1)=48),\n Row(userId=463, count(1)=33),\n Row(userId=471, count(1)=28),\n Row(userId=496, count(1)=29),\n Row(userId=243, count(1)=36),\n Row(userId=392, count(1)=25),\n Row(userId=540, count(1)=42),\n Row(userId=31, count(1)=50),\n Row(userId=516, count(1)=26),\n Row(userId=85, count(1)=34),\n Row(userId=137, count(1)=141),\n Row(userId=251, count(1)=23),\n Row(userId=451, count(1)=34),\n Row(userId=580, count(1)=436),\n Row(userId=65, count(1)=34),\n Row(userId=458, count(1)=59),\n Row(userId=53, count(1)=20),\n Row(userId=255, count(1)=44),\n Row(userId=481, count(1)=31),\n Row(userId=588, count(1)=56),\n Row(userId=133, count(1)=35),\n Row(userId=296, count(1)=27),\n Row(userId=472, count(1)=29),\n Row(userId=78, count(1)=61),\n Row(userId=322, count(1)=107),\n Row(userId=513, count(1)=32),\n Row(userId=321, count(1)=56),\n Row(userId=362, count(1)=109),\n Row(userId=375, count(1)=33),\n Row(userId=593, count(1)=103),\n Row(userId=597, count(1)=443),\n Row(userId=108, count(1)=76),\n Row(userId=155, count(1)=46),\n Row(userId=34, count(1)=86),\n Row(userId=193, count(1)=35),\n Row(userId=211, count(1)=89),\n Row(userId=368, count(1)=469),\n Row(userId=530, count(1)=27),\n Row(userId=101, count(1)=61),\n Row(userId=115, count(1)=112),\n Row(userId=126, count(1)=38),\n Row(userId=81, count(1)=26),\n Row(userId=385, count(1)=201),\n Row(userId=28, count(1)=570),\n Row(userId=183, count(1)=57),\n Row(userId=210, count(1)=138),\n Row(userId=436, count(1)=106),\n Row(userId=497, count(1)=51),\n Row(userId=596, count(1)=411),\n Row(userId=300, count(1)=32),\n Row(userId=406, count(1)=20),\n Row(userId=412, count(1)=102),\n Row(userId=587, count(1)=165),\n Row(userId=76, count(1)=119),\n Row(userId=26, count(1)=21),\n Row(userId=27, count(1)=135),\n Row(userId=332, count(1)=267),\n Row(userId=501, count(1)=45),\n Row(userId=577, count(1)=161),\n Row(userId=384, count(1)=70),\n Row(userId=44, count(1)=48),\n Row(userId=159, count(1)=97),\n Row(userId=192, count(1)=22),\n Row(userId=271, count(1)=43),\n Row(userId=606, count(1)=1115),\n Row(userId=253, count(1)=47),\n Row(userId=103, count(1)=377),\n Row(userId=236, count(1)=30),\n Row(userId=329, count(1)=23),\n Row(userId=460, count(1)=82),\n Row(userId=12, count(1)=32),\n Row(userId=336, count(1)=56),\n Row(userId=350, count(1)=40),\n Row(userId=223, count(1)=75),\n Row(userId=388, count(1)=29),\n Row(userId=417, count(1)=67),\n Row(userId=548, count(1)=26),\n Row(userId=602, count(1)=135),\n Row(userId=91, count(1)=575),\n Row(userId=409, count(1)=126),\n Row(userId=578, count(1)=27),\n Row(userId=333, count(1)=25),\n Row(userId=222, count(1)=250),\n Row(userId=285, count(1)=36),\n Row(userId=601, count(1)=101),\n Row(userId=22, count(1)=119),\n Row(userId=128, count(1)=33),\n Row(userId=209, count(1)=35),\n Row(userId=330, count(1)=247),\n Row(userId=372, count(1)=236),\n Row(userId=604, count(1)=100),\n Row(userId=122, count(1)=292),\n Row(userId=230, count(1)=139),\n Row(userId=319, count(1)=35),\n Row(userId=493, count(1)=61),\n Row(userId=93, count(1)=97),\n Row(userId=157, count(1)=21),\n Row(userId=190, count(1)=66),\n Row(userId=225, count(1)=75),\n Row(userId=232, count(1)=862),\n Row(userId=233, count(1)=150),\n Row(userId=246, count(1)=204),\n Row(userId=346, count(1)=164),\n Row(userId=360, count(1)=25),\n Row(userId=367, count(1)=185),\n Row(userId=476, count(1)=69),\n Row(userId=539, count(1)=38),\n Row(userId=599, count(1)=2478),\n Row(userId=111, count(1)=646),\n Row(userId=224, count(1)=54),\n Row(userId=519, count(1)=26),\n Row(userId=47, count(1)=140),\n Row(userId=140, count(1)=608),\n Row(userId=177, count(1)=904),\n Row(userId=416, count(1)=51),\n Row(userId=556, count(1)=32),\n Row(userId=132, count(1)=347),\n Row(userId=152, count(1)=63),\n Row(userId=444, count(1)=42),\n Row(userId=185, count(1)=47),\n Row(userId=305, count(1)=677),\n Row(userId=353, count(1)=90),\n Row(userId=355, count(1)=26),\n Row(userId=291, count(1)=31),\n Row(userId=325, count(1)=270),\n Row(userId=386, count(1)=68),\n Row(userId=435, count(1)=42),\n Row(userId=473, count(1)=37),\n Row(userId=581, count(1)=40),\n Row(userId=603, count(1)=943),\n Row(userId=146, count(1)=32),\n Row(userId=259, count(1)=29),\n Row(userId=512, count(1)=50),\n Row(userId=1, count(1)=232),\n Row(userId=206, count(1)=25),\n Row(userId=52, count(1)=130),\n Row(userId=297, count(1)=72),\n Row(userId=363, count(1)=30),\n Row(userId=212, count(1)=248),\n Row(userId=274, count(1)=1346),\n Row(userId=182, count(1)=977),\n Row(userId=442, count(1)=20),\n Row(userId=13, count(1)=31),\n Row(userId=218, count(1)=26),\n Row(userId=280, count(1)=196),\n Row(userId=348, count(1)=55),\n Row(userId=440, count(1)=33),\n Row(userId=6, count(1)=314),\n Row(userId=16, count(1)=98),\n Row(userId=86, count(1)=70),\n Row(userId=474, count(1)=2108),\n Row(userId=168, count(1)=94),\n Row(userId=205, count(1)=27),\n Row(userId=572, count(1)=155),\n Row(userId=3, count(1)=39),\n Row(userId=142, count(1)=38),\n Row(userId=178, count(1)=77),\n Row(userId=308, count(1)=115),\n Row(userId=328, count(1)=255),\n Row(userId=20, count(1)=242),\n Row(userId=40, count(1)=103),\n Row(userId=164, count(1)=36),\n Row(userId=429, count(1)=58),\n Row(userId=470, count(1)=80),\n Row(userId=169, count(1)=269),\n Row(userId=500, count(1)=86),\n Row(userId=139, count(1)=194),\n Row(userId=283, count(1)=35),\n Row(userId=359, count(1)=74),\n Row(userId=479, count(1)=181),\n Row(userId=295, count(1)=41),\n Row(userId=340, count(1)=28),\n Row(userId=431, count(1)=20),\n Row(userId=94, count(1)=56),\n Row(userId=250, count(1)=27),\n Row(userId=377, count(1)=131),\n Row(userId=402, count(1)=48),\n Row(userId=432, count(1)=260),\n Row(userId=582, count(1)=56),\n Row(userId=57, count(1)=476),\n Row(userId=570, count(1)=191),\n Row(userId=292, count(1)=446),\n Row(userId=306, count(1)=112),\n Row(userId=339, count(1)=371),\n Row(userId=54, count(1)=33),\n Row(userId=120, count(1)=22),\n Row(userId=559, count(1)=140),\n Row(userId=491, count(1)=64),\n Row(userId=96, count(1)=78),\n Row(userId=235, count(1)=65),\n Row(userId=545, count(1)=23),\n Row(userId=452, count(1)=202),\n Row(userId=48, count(1)=33),\n Row(userId=266, count(1)=180),\n Row(userId=507, count(1)=21),\n Row(userId=544, count(1)=22),\n Row(userId=5, count(1)=44),\n Row(userId=163, count(1)=23),\n Row(userId=191, count(1)=85),\n Row(userId=268, count(1)=129),\n Row(userId=258, count(1)=25),\n Row(userId=279, count(1)=176),\n Row(userId=19, count(1)=703),\n Row(userId=397, count(1)=23),\n Row(userId=430, count(1)=58),\n Row(userId=92, count(1)=24),\n Row(userId=419, count(1)=155),\n Row(userId=542, count(1)=113),\n Row(userId=553, count(1)=83),\n Row(userId=560, count(1)=458),\n Row(userId=415, count(1)=94),\n Row(userId=257, count(1)=20),\n Row(userId=299, count(1)=23),\n Row(userId=64, count(1)=517),\n Row(userId=117, count(1)=165),\n Row(userId=227, count(1)=94),\n Row(userId=579, count(1)=73),\n Row(userId=504, count(1)=87),\n Row(userId=554, count(1)=89),\n Row(userId=598, count(1)=21),\n Row(userId=41, count(1)=217),\n Row(userId=154, count(1)=34),\n Row(userId=309, count(1)=103),\n Row(userId=425, count(1)=306),\n Row(userId=347, count(1)=45),\n Row(userId=447, count(1)=78),\n Row(userId=455, count(1)=57),\n Row(userId=484, count(1)=275),\n Row(userId=607, count(1)=187),\n Row(userId=15, count(1)=135),\n Row(userId=43, count(1)=114),\n Row(userId=262, count(1)=57),\n Row(userId=511, count(1)=52),\n Row(userId=112, count(1)=65),\n Row(userId=269, count(1)=29),\n Row(userId=327, count(1)=48),\n Row(userId=563, count(1)=213),\n Row(userId=165, count(1)=65),\n Row(userId=358, count(1)=41),\n Row(userId=366, count(1)=31),\n Row(userId=179, count(1)=69),\n Row(userId=189, count(1)=20),\n Row(userId=207, count(1)=20),\n Row(userId=489, count(1)=648),\n Row(userId=590, count(1)=728),\n Row(userId=37, count(1)=21),\n Row(userId=383, count(1)=34),\n Row(userId=61, count(1)=39),\n Row(userId=127, count(1)=22),\n Row(userId=316, count(1)=53),\n Row(userId=461, count(1)=27),\n Row(userId=502, count(1)=35),\n Row(userId=523, count(1)=75),\n Row(userId=88, count(1)=56),\n Row(userId=197, count(1)=35),\n Row(userId=486, count(1)=56),\n Row(userId=531, count(1)=22),\n Row(userId=318, count(1)=879),\n Row(userId=462, count(1)=455),\n Row(userId=547, count(1)=21),\n Row(userId=107, count(1)=34),\n Row(userId=202, count(1)=403),\n Row(userId=263, count(1)=210),\n Row(userId=374, count(1)=33),\n Row(userId=564, count(1)=157),\n Row(userId=9, count(1)=46),\n Row(userId=17, count(1)=105),\n Row(userId=231, count(1)=24),\n Row(userId=552, count(1)=188),\n Row(userId=324, count(1)=21),\n Row(userId=586, count(1)=208),\n Row(userId=609, count(1)=37),\n Row(userId=72, count(1)=45),\n Row(userId=286, count(1)=106),\n Row(userId=398, count(1)=46),\n Row(userId=505, count(1)=31),\n Row(userId=538, count(1)=37),\n Row(userId=175, count(1)=24),\n Row(userId=387, count(1)=1027),\n Row(userId=423, count(1)=23),\n Row(userId=381, count(1)=474),\n Row(userId=498, count(1)=35),\n Row(userId=35, count(1)=23),\n Row(userId=503, count(1)=95),\n Row(userId=583, count(1)=56),\n Row(userId=594, count(1)=232),\n Row(userId=610, count(1)=1302),\n Row(userId=310, count(1)=64),\n Row(userId=485, count(1)=23),\n Row(userId=568, count(1)=23),\n Row(userId=196, count(1)=32),\n Row(userId=437, count(1)=122),\n Row(userId=456, count(1)=43),\n Row(userId=217, count(1)=613),\n Row(userId=290, count(1)=267),\n Row(userId=441, count(1)=45),\n Row(userId=229, count(1)=65),\n Row(userId=307, count(1)=975),\n Row(userId=326, count(1)=152),\n Row(userId=537, count(1)=47),\n Row(userId=114, count(1)=31),\n Row(userId=173, count(1)=25),\n Row(userId=220, count(1)=207),\n Row(userId=278, count(1)=20),\n Row(userId=301, count(1)=114),\n Row(userId=494, count(1)=22),\n Row(userId=4, count(1)=216),\n Row(userId=55, count(1)=25),\n Row(userId=59, count(1)=107),\n Row(userId=445, count(1)=77),\n Row(userId=8, count(1)=47),\n Row(userId=100, count(1)=148),\n Row(userId=241, count(1)=76),\n Row(userId=449, count(1)=38),\n Row(userId=450, count(1)=51),\n Row(userId=495, count(1)=265),\n Row(userId=161, count(1)=39),\n Row(userId=555, count(1)=578),\n Row(userId=23, count(1)=121),\n Row(userId=39, count(1)=100),\n Row(userId=49, count(1)=21),\n Row(userId=176, count(1)=36),\n Row(userId=380, count(1)=1218),\n Row(userId=520, count(1)=186),\n Row(userId=7, count(1)=152),\n Row(userId=162, count(1)=38),\n Row(userId=514, count(1)=397),\n Row(userId=549, count(1)=21),\n Row(userId=130, count(1)=28),\n Row(userId=238, count(1)=44),\n Row(userId=244, count(1)=93),\n Row(userId=446, count(1)=84),\n Row(userId=84, count(1)=293),\n Row(userId=136, count(1)=111),\n Row(userId=453, count(1)=311),\n Row(userId=247, count(1)=150),\n Row(userId=314, count(1)=128),\n Row(userId=87, count(1)=21),\n Row(userId=565, count(1)=29),\n Row(userId=171, count(1)=82),\n Row(userId=273, count(1)=55),\n Row(userId=343, count(1)=59),\n Row(userId=434, count(1)=233),\n Row(userId=439, count(1)=21),\n Row(userId=443, count(1)=37),\n Row(userId=585, count(1)=61),\n Row(userId=51, count(1)=359),\n Row(userId=194, count(1)=20),\n Row(userId=277, count(1)=28),\n Row(userId=331, count(1)=168),\n Row(userId=428, count(1)=300),\n Row(userId=465, count(1)=115),\n Row(userId=391, count(1)=386),\n Row(userId=438, count(1)=635),\n Row(userId=532, count(1)=50),\n Row(userId=69, count(1)=46),\n Row(userId=129, count(1)=140),\n Row(userId=166, count(1)=190),\n Row(userId=448, count(1)=1864),\n Row(userId=467, count(1)=22),\n Row(userId=97, count(1)=36),\n Row(userId=400, count(1)=43),\n Row(userId=543, count(1)=76),\n Row(userId=524, count(1)=131),\n Row(userId=533, count(1)=38),\n Row(userId=234, count(1)=202),\n Row(userId=239, count(1)=279),\n Row(userId=264, count(1)=56),\n Row(userId=312, count(1)=223),\n Row(userId=389, count(1)=34),\n Row(userId=63, count(1)=271),\n Row(userId=395, count(1)=61),\n Row(userId=403, count(1)=34),\n Row(userId=459, count(1)=26),\n Row(userId=509, count(1)=467),\n Row(userId=10, count(1)=140),\n Row(userId=77, count(1)=29),\n Row(userId=102, count(1)=56),\n Row(userId=361, count(1)=97),\n Row(userId=589, count(1)=40),\n Row(userId=50, count(1)=310),\n Row(userId=518, count(1)=24),\n Row(userId=267, count(1)=57),\n Row(userId=293, count(1)=21),\n Row(userId=404, count(1)=60),\n Row(userId=527, count(1)=167),\n Row(userId=45, count(1)=399),\n Row(userId=569, count(1)=20),\n Row(userId=216, count(1)=164),\n Row(userId=38, count(1)=78),\n Row(userId=261, count(1)=53),\n Row(userId=320, count(1)=20),\n Row(userId=418, count(1)=93),\n Row(userId=82, count(1)=227),\n Row(userId=181, count(1)=118),\n Row(userId=249, count(1)=1046),\n Row(userId=364, count(1)=21),\n Row(userId=510, count(1)=108),\n Row(userId=167, count(1)=173),\n Row(userId=288, count(1)=1055),\n Row(userId=394, count(1)=23),\n Row(userId=576, count(1)=20),\n Row(userId=80, count(1)=167),\n Row(userId=240, count(1)=128),\n Row(userId=289, count(1)=24),\n Row(userId=356, count(1)=289),\n Row(userId=25, count(1)=26),\n Row(userId=73, count(1)=210),\n Row(userId=245, count(1)=21),\n Row(userId=427, count(1)=84),\n Row(userId=591, count(1)=54),\n Row(userId=113, count(1)=150),\n Row(userId=237, count(1)=50),\n Row(userId=24, count(1)=110),\n Row(userId=160, count(1)=437),\n Row(userId=70, count(1)=62),\n Row(userId=408, count(1)=141),\n Row(userId=62, count(1)=366),\n Row(userId=121, count(1)=58),\n Row(userId=125, count(1)=360),\n Row(userId=396, count(1)=28),\n Row(userId=156, count(1)=398),\n Row(userId=351, count(1)=141),\n Row(userId=480, count(1)=836),\n Row(userId=143, count(1)=71),\n Row(userId=219, count(1)=528),\n Row(userId=95, count(1)=168),\n Row(userId=411, count(1)=127),\n Row(userId=477, count(1)=600),\n Row(userId=482, count(1)=128),\n Row(userId=29, count(1)=81),\n Row(userId=226, count(1)=507),\n Row(userId=390, count(1)=81),\n Row(userId=464, count(1)=138),\n Row(userId=526, count(1)=58),\n Row(userId=528, count(1)=73),\n Row(userId=558, count(1)=56),\n Row(userId=21, count(1)=443),\n Row(userId=214, count(1)=22),\n Row(userId=323, count(1)=98),\n Row(userId=550, count(1)=28),\n Row(userId=335, count(1)=28),\n Row(userId=338, count(1)=39),\n Row(userId=352, count(1)=294),\n Row(userId=492, count(1)=121),\n Row(userId=98, count(1)=92),\n Row(userId=195, count(1)=187),\n Row(userId=256, count(1)=174),\n Row(userId=287, count(1)=152),\n Row(userId=345, count(1)=62),\n Row(userId=490, count(1)=113),\n Row(userId=595, count(1)=20),\n Row(userId=32, count(1)=102),\n Row(userId=60, count(1)=22),\n Row(userId=90, count(1)=54),\n Row(userId=371, count(1)=41),\n Row(userId=75, count(1)=69),\n Row(userId=382, count(1)=291),\n Row(userId=469, count(1)=465),\n Row(userId=203, count(1)=45),\n Row(userId=221, count(1)=331),\n Row(userId=265, count(1)=163),\n Row(userId=457, count(1)=50),\n Row(userId=141, count(1)=168),\n Row(userId=151, count(1)=59),\n Row(userId=341, count(1)=52),\n Row(userId=414, count(1)=2698),\n Row(userId=433, count(1)=22),\n Row(userId=608, count(1)=831),\n Row(userId=334, count(1)=154),\n Row(userId=592, count(1)=94),\n Row(userId=145, count(1)=23),\n Row(userId=200, count(1)=334),\n Row(userId=272, count(1)=31),\n Row(userId=376, count(1)=133),\n Row(userId=488, count(1)=111),\n Row(userId=515, count(1)=26),\n Row(userId=56, count(1)=46),\n Row(userId=109, count(1)=127),\n Row(userId=254, count(1)=127),\n Row(userId=378, count(1)=48),\n Row(userId=487, count(1)=56),\n Row(userId=213, count(1)=84),\n Row(userId=228, count(1)=25),\n Row(userId=478, count(1)=22),\n Row(userId=534, count(1)=520),\n Row(userId=303, count(1)=53),\n Row(userId=426, count(1)=88),\n Row(userId=574, count(1)=23),\n Row(userId=170, count(1)=50),\n Row(userId=354, count(1)=226),\n Row(userId=304, count(1)=216),\n Row(userId=536, count(1)=40),\n Row(userId=105, count(1)=722),\n Row(userId=298, count(1)=939),\n Row(userId=370, count(1)=93),\n Row(userId=58, count(1)=112),\n Row(userId=188, count(1)=48),\n Row(userId=11, count(1)=64),\n Row(userId=33, count(1)=156),\n Row(userId=204, count(1)=83),\n Row(userId=421, count(1)=37),\n Row(userId=575, count(1)=36),\n Row(userId=83, count(1)=118),\n Row(userId=110, count(1)=51),\n Row(userId=150, count(1)=26),\n Row(userId=369, count(1)=129),\n Row(userId=413, count(1)=56),\n Row(userId=508, count(1)=24),\n Row(userId=541, count(1)=87),\n Row(userId=68, count(1)=1260),\n Row(userId=71, count(1)=35),\n Row(userId=106, count(1)=33),\n Row(userId=260, count(1)=152),\n Row(userId=567, count(1)=385),\n Row(userId=525, count(1)=500),\n Row(userId=561, count(1)=505),\n Row(userId=116, count(1)=87),\n Row(userId=147, count(1)=20),\n Row(userId=14, count(1)=48),\n Row(userId=198, count(1)=230),\n Row(userId=317, count(1)=189),\n Row(userId=546, count(1)=64),\n Row(userId=600, count(1)=763),\n Row(userId=344, count(1)=69),\n Row(userId=349, count(1)=37),\n Row(userId=424, count(1)=138),\n Row(userId=123, count(1)=56),\n Row(userId=342, count(1)=66),\n Row(userId=373, count(1)=100),\n Row(userId=379, count(1)=36),\n Row(userId=454, count(1)=45),\n Row(userId=158, count(1)=26),\n Row(userId=199, count(1)=363),\n Row(userId=242, count(1)=35),\n Row(userId=270, count(1)=40),\n Row(userId=284, count(1)=88),\n Row(userId=135, count(1)=279),\n Row(userId=248, count(1)=51),\n Row(userId=499, count(1)=27),\n Row(userId=522, count(1)=200),\n Row(userId=42, count(1)=440),\n Row(userId=119, count(1)=215),\n Row(userId=337, count(1)=77),\n Row(userId=466, count(1)=113),\n Row(userId=506, count(1)=42),\n Row(userId=566, count(1)=74),\n Row(userId=2, count(1)=29),\n Row(userId=79, count(1)=64),\n Row(userId=201, count(1)=110),\n Row(userId=131, count(1)=69),\n Row(userId=149, count(1)=58),\n Row(userId=276, count(1)=41),\n Row(userId=365, count(1)=277),\n Row(userId=294, count(1)=437),\n Row(userId=357, count(1)=383),\n Row(userId=529, count(1)=25),\n Row(userId=118, count(1)=22),\n Row(userId=573, count(1)=299),\n Row(userId=124, count(1)=50),\n Row(userId=281, count(1)=21),\n Row(userId=571, count(1)=112),\n Row(userId=30, count(1)=34),\n Row(userId=99, count(1)=53),\n Row(userId=184, count(1)=134),\n Row(userId=302, count(1)=32),\n Row(userId=313, count(1)=340),\n Row(userId=66, count(1)=345),\n Row(userId=405, count(1)=120),\n Row(userId=557, count(1)=27),\n Row(userId=46, count(1)=42),\n Row(userId=67, count(1)=36),\n Row(userId=186, count(1)=226),\n Row(userId=275, count(1)=403),\n Row(userId=282, count(1)=237),\n Row(userId=605, count(1)=221),\n Row(userId=311, count(1)=28),\n Row(userId=535, count(1)=30),\n Row(userId=174, count(1)=67),\n Row(userId=215, count(1)=98),\n Row(userId=410, count(1)=167),\n Row(userId=172, count(1)=26),\n Row(userId=562, count(1)=231),\n Row(userId=252, count(1)=38),\n Row(userId=399, count(1)=36),\n Row(userId=551, count(1)=123),\n Row(userId=144, count(1)=128),\n Row(userId=153, count(1)=179),\n Row(userId=420, count(1)=141),\n Row(userId=18, count(1)=502),\n Row(userId=475, count(1)=155),\n Row(userId=74, count(1)=177),\n Row(userId=138, count(1)=22),\n Row(userId=104, count(1)=273),\n Row(userId=180, count(1)=24),\n Row(userId=468, count(1)=33),\n Row(userId=483, count(1)=728),\n Row(userId=134, count(1)=35),\n Row(userId=584, count(1)=83),\n Row(userId=407, count(1)=22),\n Row(userId=521, count(1)=40),\n Row(userId=36, count(1)=60),\n Row(userId=187, count(1)=258),\n Row(userId=208, count(1)=26),\n Row(userId=315, count(1)=33),\n Row(userId=393, count(1)=123),\n Row(userId=89, count(1)=518),\n Row(userId=401, count(1)=72),\n Row(userId=422, count(1)=93),\n Row(userId=517, count(1)=400)]"
     ]
    }
   ],
   "source": [
    "movie_ratingsDF_grouped_by_userid.agg({\"*\": \"count\"}).collect()"
   ]
  },
  {
   "cell_type": "code",
   "execution_count": 0,
   "metadata": {
    "application/vnd.databricks.v1+cell": {
     "cellMetadata": {
      "byteLimit": 2048000,
      "rowLimit": 10000
     },
     "inputWidgets": {},
     "nuid": "ac8eaac7-9b83-4e86-bb4a-8dcb760a63e0",
     "showTitle": false,
     "tableResultSettingsMap": {},
     "title": ""
    },
    "scrolled": true
   },
   "outputs": [
    {
     "output_type": "stream",
     "name": "stdout",
     "output_type": "stream",
     "text": [
      "+------+-----+\n|userId|count|\n+------+-----+\n|   148|   48|\n|   463|   33|\n|   471|   28|\n|   496|   29|\n|   243|   36|\n|   392|   25|\n|   540|   42|\n|    31|   50|\n|   516|   26|\n|    85|   34|\n+------+-----+\nonly showing top 10 rows\n\n"
     ]
    }
   ],
   "source": [
    "# Alternativa: metodo count\n",
    "movie_ratingsDF_grouped_by_userid.count().show(10)"
   ]
  },
  {
   "cell_type": "markdown",
   "metadata": {
    "application/vnd.databricks.v1+cell": {
     "cellMetadata": {},
     "inputWidgets": {},
     "nuid": "ef87832e-7dab-4de3-878a-b3eca12fa386",
     "showTitle": false,
     "tableResultSettingsMap": {},
     "title": ""
    }
   },
   "source": [
    "Existen muchas funciones que se pueden utilizar en agregaciones, la lista está en [Grouping](https://spark.apache.org/docs/latest/api/python/reference/pyspark.sql/grouping.html)"
   ]
  },
  {
   "cell_type": "markdown",
   "metadata": {
    "application/vnd.databricks.v1+cell": {
     "cellMetadata": {},
     "inputWidgets": {},
     "nuid": "28a98322-76f0-40ad-abff-e284e0ee7047",
     "showTitle": false,
     "tableResultSettingsMap": {},
     "title": ""
    }
   },
   "source": [
    "## Filtrado\n",
    "\n",
    "Podemos filtrar por cualquier columna.\n",
    "\n",
    "Filtrado por usuario:"
   ]
  },
  {
   "cell_type": "code",
   "execution_count": 0,
   "metadata": {
    "application/vnd.databricks.v1+cell": {
     "cellMetadata": {
      "byteLimit": 2048000,
      "rowLimit": 10000
     },
     "inputWidgets": {},
     "nuid": "27539b5c-4d52-4817-b198-897539f09acc",
     "showTitle": false,
     "tableResultSettingsMap": {},
     "title": ""
    },
    "scrolled": true
   },
   "outputs": [
    {
     "output_type": "stream",
     "name": "stdout",
     "output_type": "stream",
     "text": [
      "+-------+------+------+--------+--------------------+----+--------------------+\n|movieId|userId|rating|    date|              genres|year|               title|\n+-------+------+------+--------+--------------------+----+--------------------+\n|    356|   148|   4.0|20161224|[Comedy, Drama, R...|1994|        Forrest Gump|\n|   1197|   148|   3.0|20161224|[Action, Adventur...|1987| Princess Bride, The|\n|   4308|   148|   4.0|20161224|[Drama, Musical, ...|2001|        Moulin Rouge|\n|   4886|   148|   3.0|20161224|[Adventure, Anima...|2001|      Monsters, Inc.|\n|   4896|   148|   4.0|20161224|[Adventure, Child...|2001|Harry Potter and ...|\n|   4993|   148|   3.0|20161224|[Adventure, Fantasy]|2001|Lord of the Rings...|\n|   5618|   148|   3.0|20161224|[Adventure, Anima...|2001|Spirited Away (Se...|\n|   5816|   148|   4.0|20161224|[Adventure, Fantasy]|2002|Harry Potter and ...|\n|   5952|   148|   3.0|20161224|[Adventure, Fantasy]|2002|Lord of the Rings...|\n|   6377|   148|   3.0|20161224|[Adventure, Anima...|2003|        Finding Nemo|\n|   7153|   148|   3.0|20161224|[Action, Adventur...|2003|Lord of the Rings...|\n|   8368|   148|   4.0|20161224|[Adventure, Fanta...|2004|Harry Potter and ...|\n|  30816|   148|   5.0|20161224|[Drama, Musical, ...|2004|Phantom of the Op...|\n|  31658|   148|   4.0|20161224|[Adventure, Anima...|2004|Howl's Moving Cas...|\n|  40629|   148|   5.0|20161224|    [Drama, Romance]|2005|   Pride & Prejudice|\n|  40815|   148|   4.0|20161224|[Adventure, Fanta...|2005|Harry Potter and ...|\n|  44191|   148|   4.0|20161224|[Action, Sci-Fi, ...|2006|      V for Vendetta|\n|  50872|   148|   3.0|20161224|[Animation, Child...|2007|         Ratatouille|\n|  54001|   148|   4.0|20161224|[Adventure, Drama...|2007|Harry Potter and ...|\n|  60069|   148|   4.5|20161224|[Adventure, Anima...|2008|              WALL·E|\n+-------+------+------+--------+--------------------+----+--------------------+\nonly showing top 20 rows\n\n"
     ]
    }
   ],
   "source": [
    "movie_ratingsDF.filter(movie_ratingsDF.userId == 148).show()"
   ]
  },
  {
   "cell_type": "code",
   "execution_count": 0,
   "metadata": {
    "application/vnd.databricks.v1+cell": {
     "cellMetadata": {
      "byteLimit": 2048000,
      "rowLimit": 10000
     },
     "inputWidgets": {},
     "nuid": "1d238a46-94b6-4cc0-b51b-f5560a416934",
     "showTitle": false,
     "tableResultSettingsMap": {},
     "title": ""
    },
    "scrolled": true
   },
   "outputs": [
    {
     "output_type": "stream",
     "name": "stdout",
     "output_type": "stream",
     "text": [
      "+-------+------+------+--------+--------------------+----+--------------------+\n|movieId|userId|rating|    date|              genres|year|               title|\n+-------+------+------+--------+--------------------+----+--------------------+\n|    356|   148|   4.0|20161224|[Comedy, Drama, R...|1994|        Forrest Gump|\n|   1197|   148|   3.0|20161224|[Action, Adventur...|1987| Princess Bride, The|\n|   4308|   148|   4.0|20161224|[Drama, Musical, ...|2001|        Moulin Rouge|\n|   4886|   148|   3.0|20161224|[Adventure, Anima...|2001|      Monsters, Inc.|\n|   4896|   148|   4.0|20161224|[Adventure, Child...|2001|Harry Potter and ...|\n|   4993|   148|   3.0|20161224|[Adventure, Fantasy]|2001|Lord of the Rings...|\n|   5618|   148|   3.0|20161224|[Adventure, Anima...|2001|Spirited Away (Se...|\n|   5816|   148|   4.0|20161224|[Adventure, Fantasy]|2002|Harry Potter and ...|\n|   5952|   148|   3.0|20161224|[Adventure, Fantasy]|2002|Lord of the Rings...|\n|   6377|   148|   3.0|20161224|[Adventure, Anima...|2003|        Finding Nemo|\n|   7153|   148|   3.0|20161224|[Action, Adventur...|2003|Lord of the Rings...|\n|   8368|   148|   4.0|20161224|[Adventure, Fanta...|2004|Harry Potter and ...|\n|  30816|   148|   5.0|20161224|[Drama, Musical, ...|2004|Phantom of the Op...|\n|  31658|   148|   4.0|20161224|[Adventure, Anima...|2004|Howl's Moving Cas...|\n|  40629|   148|   5.0|20161224|    [Drama, Romance]|2005|   Pride & Prejudice|\n|  40815|   148|   4.0|20161224|[Adventure, Fanta...|2005|Harry Potter and ...|\n|  44191|   148|   4.0|20161224|[Action, Sci-Fi, ...|2006|      V for Vendetta|\n|  50872|   148|   3.0|20161224|[Animation, Child...|2007|         Ratatouille|\n|  54001|   148|   4.0|20161224|[Adventure, Drama...|2007|Harry Potter and ...|\n|  60069|   148|   4.5|20161224|[Adventure, Anima...|2008|              WALL·E|\n+-------+------+------+--------+--------------------+----+--------------------+\nonly showing top 20 rows\n\n"
     ]
    }
   ],
   "source": [
    "movie_ratingsDF.filter(\"userId = 148\").show()"
   ]
  },
  {
   "cell_type": "markdown",
   "metadata": {
    "application/vnd.databricks.v1+cell": {
     "cellMetadata": {},
     "inputWidgets": {},
     "nuid": "e71fd716-f989-4bde-ba17-db3cb28b6b9a",
     "showTitle": false,
     "tableResultSettingsMap": {},
     "title": ""
    }
   },
   "source": [
    "Mostrar solo ciertas columnas:"
   ]
  },
  {
   "cell_type": "code",
   "execution_count": 0,
   "metadata": {
    "application/vnd.databricks.v1+cell": {
     "cellMetadata": {
      "byteLimit": 2048000,
      "rowLimit": 10000
     },
     "inputWidgets": {},
     "nuid": "6bf29990-5042-4fd4-ae6c-a3a1a14cdabc",
     "showTitle": false,
     "tableResultSettingsMap": {},
     "title": ""
    }
   },
   "outputs": [
    {
     "output_type": "stream",
     "name": "stdout",
     "output_type": "stream",
     "text": [
      "+------+--------------------+\n|userId|               title|\n+------+--------------------+\n|   148|        Forrest Gump|\n|   148| Princess Bride, The|\n|   148|        Moulin Rouge|\n|   148|      Monsters, Inc.|\n|   148|Harry Potter and ...|\n|   148|Lord of the Rings...|\n|   148|Spirited Away (Se...|\n|   148|Harry Potter and ...|\n|   148|Lord of the Rings...|\n|   148|        Finding Nemo|\n|   148|Lord of the Rings...|\n|   148|Harry Potter and ...|\n|   148|Phantom of the Op...|\n|   148|Howl's Moving Cas...|\n|   148|   Pride & Prejudice|\n|   148|Harry Potter and ...|\n|   148|      V for Vendetta|\n|   148|         Ratatouille|\n|   148|Harry Potter and ...|\n|   148|              WALL·E|\n+------+--------------------+\nonly showing top 20 rows\n\n"
     ]
    }
   ],
   "source": [
    "movie_ratingsDF\\\n",
    "    .filter(movie_ratingsDF.userId == 148)\\\n",
    "    .select(\"userId\",\"title\")\\\n",
    "    .show()"
   ]
  },
  {
   "cell_type": "markdown",
   "metadata": {
    "application/vnd.databricks.v1+cell": {
     "cellMetadata": {},
     "inputWidgets": {},
     "nuid": "a2128fb5-f256-4ead-8c28-a325df39b4ef",
     "showTitle": false,
     "tableResultSettingsMap": {},
     "title": ""
    }
   },
   "source": [
    "Otras formas de agregar datos:\n",
    "\n",
    "Calcular el promedio de datos"
   ]
  },
  {
   "cell_type": "code",
   "execution_count": 0,
   "metadata": {
    "application/vnd.databricks.v1+cell": {
     "cellMetadata": {
      "byteLimit": 2048000,
      "rowLimit": 10000
     },
     "inputWidgets": {},
     "nuid": "5bb80ee1-e571-4506-8311-401aa1facbb4",
     "showTitle": false,
     "tableResultSettingsMap": {},
     "title": ""
    }
   },
   "outputs": [
    {
     "output_type": "stream",
     "name": "stdout",
     "output_type": "stream",
     "text": [
      "+-----------+\n|avg(rating)|\n+-----------+\n|    3.73958|\n+-----------+\n\n"
     ]
    }
   ],
   "source": [
    "movie_ratingsDF\\\n",
    "    .filter(movie_ratingsDF.userId == 148)\\\n",
    "    .select(avg(\"rating\"))\\\n",
    "    .show()\n"
   ]
  },
  {
   "cell_type": "markdown",
   "metadata": {
    "application/vnd.databricks.v1+cell": {
     "cellMetadata": {},
     "inputWidgets": {},
     "nuid": "2a4f623d-503b-4181-9894-a064aad00a58",
     "showTitle": false,
     "tableResultSettingsMap": {},
     "title": ""
    }
   },
   "source": [
    "Cual es el máximo rating que da el usuario 148?"
   ]
  },
  {
   "cell_type": "code",
   "execution_count": 0,
   "metadata": {
    "application/vnd.databricks.v1+cell": {
     "cellMetadata": {
      "byteLimit": 2048000,
      "rowLimit": 10000
     },
     "inputWidgets": {},
     "nuid": "23c4b059-57d6-47e2-9456-9f3ea8d2b3cd",
     "showTitle": false,
     "tableResultSettingsMap": {},
     "title": ""
    }
   },
   "outputs": [
    {
     "output_type": "stream",
     "name": "stdout",
     "output_type": "stream",
     "text": [
      "+-----------+\n|max(rating)|\n+-----------+\n|        5.0|\n+-----------+\n\n"
     ]
    }
   ],
   "source": [
    "movie_ratingsDF\\\n",
    "    .filter(movie_ratingsDF.userId == 148)\\\n",
    "    .select(max(\"rating\"))\\\n",
    "    .show()"
   ]
  },
  {
   "cell_type": "markdown",
   "metadata": {
    "application/vnd.databricks.v1+cell": {
     "cellMetadata": {},
     "inputWidgets": {},
     "nuid": "66da05e6-8f5a-4453-ab3c-64a1236c8432",
     "showTitle": false,
     "tableResultSettingsMap": {},
     "title": ""
    }
   },
   "source": [
    "En cuales peliculas?"
   ]
  },
  {
   "cell_type": "code",
   "execution_count": 0,
   "metadata": {
    "application/vnd.databricks.v1+cell": {
     "cellMetadata": {
      "byteLimit": 2048000,
      "rowLimit": 10000
     },
     "inputWidgets": {},
     "nuid": "75636f56-3b7f-42c0-b969-4feb8504a030",
     "showTitle": false,
     "tableResultSettingsMap": {},
     "title": ""
    }
   },
   "outputs": [
    {
     "output_type": "stream",
     "name": "stdout",
     "output_type": "stream",
     "text": [
      "+--------------------+\n|               title|\n+--------------------+\n|Phantom of the Op...|\n|   Pride & Prejudice|\n|            Paperman|\n+--------------------+\n\n"
     ]
    }
   ],
   "source": [
    "# Encadenar Filtros\n",
    "movie_ratingsDF\\\n",
    "    .filter(movie_ratingsDF.userId == 148)\\\n",
    "    .filter(movie_ratingsDF.rating == 5.0)\\\n",
    "    .select(movie_ratingsDF.title)\\\n",
    "    .show()"
   ]
  },
  {
   "cell_type": "code",
   "execution_count": 0,
   "metadata": {
    "application/vnd.databricks.v1+cell": {
     "cellMetadata": {
      "byteLimit": 2048000,
      "rowLimit": 10000
     },
     "inputWidgets": {},
     "nuid": "a2fdff74-ec9c-4740-90fc-169399621d34",
     "showTitle": false,
     "tableResultSettingsMap": {},
     "title": ""
    }
   },
   "outputs": [
    {
     "output_type": "stream",
     "name": "stdout",
     "output_type": "stream",
     "text": [
      "+--------------------+\n|               title|\n+--------------------+\n|Phantom of the Op...|\n|   Pride & Prejudice|\n|            Paperman|\n+--------------------+\n\n"
     ]
    }
   ],
   "source": [
    "#Sintaxis SQL\n",
    "\n",
    "movie_ratingsDF\\\n",
    "    .filter(\"userId = 148 AND rating = 5.0\")\\\n",
    "    .select(movie_ratingsDF.title)\\\n",
    "    .show()"
   ]
  },
  {
   "cell_type": "markdown",
   "metadata": {
    "application/vnd.databricks.v1+cell": {
     "cellMetadata": {},
     "inputWidgets": {},
     "nuid": "94c511b5-79bf-45d8-9208-fb7bef8103c0",
     "showTitle": false,
     "tableResultSettingsMap": {},
     "title": ""
    }
   },
   "source": [
    "### Pivot\n",
    "\n",
    "Algo muy poderoso son las *pivot tables* que permiten analizar datos facilmente."
   ]
  },
  {
   "cell_type": "code",
   "execution_count": 0,
   "metadata": {
    "application/vnd.databricks.v1+cell": {
     "cellMetadata": {
      "byteLimit": 2048000,
      "rowLimit": 10000
     },
     "inputWidgets": {},
     "nuid": "ecb0e24b-c035-4ce1-8ee7-83aa3c137c02",
     "showTitle": false,
     "tableResultSettingsMap": {},
     "title": ""
    }
   },
   "outputs": [
    {
     "output_type": "stream",
     "name": "stdout",
     "output_type": "stream",
     "text": [
      "+------+--------+--------+--------+--------+--------+--------+--------+--------+\n|userId|19961213|19961226|19970223|19970319|19970330|19970530|19970621|19970916|\n+------+--------+--------+--------+--------+--------+--------+--------+--------+\n|    31| 5.00000|    null|    null|    null|    null|    null|    null|    null|\n|   385|    null|    null|    null|    null|    null| 4.00000|    null|    null|\n|   372|    null|    null|    null|    null|    null|    null|    null| 4.00000|\n|   437|    null|    null|    null|    null| 4.00000|    null|    null|    null|\n|    84|    null|    null|    null| 4.00000|    null|    null|    null|    null|\n|   171|    null|    null|    null|    null|    null|    null| 4.00000|    null|\n|   524|    null| 5.00000|    null|    null|    null|    null|    null|    null|\n|    32|    null|    null| 5.00000|    null|    null|    null|    null|    null|\n+------+--------+--------+--------+--------+--------+--------+--------+--------+\n\n"
     ]
    }
   ],
   "source": [
    "movie_ratingsDF.filter(\"movieId = 1197 AND date <= '19970930'\").groupBy(\"userId\").pivot(\"date\").agg(avg(\"rating\")).show()"
   ]
  },
  {
   "cell_type": "code",
   "execution_count": 0,
   "metadata": {
    "application/vnd.databricks.v1+cell": {
     "cellMetadata": {},
     "inputWidgets": {},
     "nuid": "57118631-128e-4342-bf67-7ec14b198983",
     "showTitle": false,
     "tableResultSettingsMap": {},
     "title": ""
    }
   },
   "outputs": [],
   "source": []
  },
  {
   "cell_type": "code",
   "execution_count": 0,
   "metadata": {
    "application/vnd.databricks.v1+cell": {
     "cellMetadata": {},
     "inputWidgets": {},
     "nuid": "3e9d7306-66bb-4f11-9d4a-2f371d015f33",
     "showTitle": false,
     "tableResultSettingsMap": {},
     "title": ""
    }
   },
   "outputs": [],
   "source": []
  }
 ],
 "metadata": {
  "application/vnd.databricks.v1+notebook": {
   "computePreferences": null,
   "dashboards": [],
   "environmentMetadata": null,
   "inputWidgetPreferences": null,
   "language": "python",
   "notebookMetadata": {
    "pythonIndentUnit": 4
   },
   "notebookName": "03 Consultas Movielens",
   "widgets": {}
  },
  "kernelspec": {
   "display_name": "Python 3 (ipykernel)",
   "language": "python",
   "name": "python3"
  },
  "language_info": {
   "codemirror_mode": {
    "name": "ipython",
    "version": 3
   },
   "file_extension": ".py",
   "mimetype": "text/x-python",
   "name": "python",
   "nbconvert_exporter": "python",
   "pygments_lexer": "ipython3",
   "version": "3.9.17"
  }
 },
 "nbformat": 4,
 "nbformat_minor": 0
}