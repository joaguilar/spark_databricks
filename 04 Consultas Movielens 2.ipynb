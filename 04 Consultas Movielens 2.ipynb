{
 "cells": [
  {
   "cell_type": "code",
   "execution_count": 0,
   "metadata": {
    "application/vnd.databricks.v1+cell": {
     "cellMetadata": {
      "byteLimit": 2048000,
      "rowLimit": 10000
     },
     "inputWidgets": {},
     "nuid": "eb550672-c7e4-4986-b296-3607adade89b",
     "showTitle": false,
     "tableResultSettingsMap": {},
     "title": ""
    }
   },
   "outputs": [],
   "source": [
    "#import findspark\n",
    "#findspark.init('/spark/spark-3.5.1-bin-hadoop3')\n",
    "from pyspark import *\n",
    "from pyspark.sql import SparkSession\n",
    "from pyspark.sql.types import StructType,StructField, StringType, IntegerType, DateType, TimestampType, LongType\n",
    "from pyspark.sql.types import ArrayType, DoubleType, BooleanType, DecimalType\n",
    "from pyspark.sql.functions import regexp_extract, split, from_unixtime, col, avg, min, max, desc\n",
    "from pyspark.sql.functions import grouping\n",
    "\n",
    "\n",
    "\n",
    "#spark = SparkSession.builder.appName(\"movielens\").getOrCreate()"
   ]
  },
  {
   "cell_type": "markdown",
   "metadata": {
    "application/vnd.databricks.v1+cell": {
     "cellMetadata": {
      "byteLimit": 2048000,
      "rowLimit": 10000
     },
     "inputWidgets": {},
     "nuid": "86813de1-02bc-4aa3-8586-b5a21f930be0",
     "showTitle": false,
     "tableResultSettingsMap": {},
     "title": ""
    }
   },
   "source": [
    "# Consultas sobre Movielens\n",
    "\n",
    "## Schema de Movielens\n",
    "\n",
    "![Schema](movielens_schema.png)\n",
    "\n",
    "## ¿Cuál es la distribución de la clasificación de las películas? \n",
    "\n",
    "Proceso:\n",
    "\n",
    "1. Cargar la tabla ratings\n",
    "1. Cargar la tabla movies\n",
    "1. Unir ambas tablas\n",
    "1. Agrupar por calificación\n",
    "1. Contar las películas\n"
   ]
  },
  {
   "cell_type": "markdown",
   "metadata": {
    "application/vnd.databricks.v1+cell": {
     "cellMetadata": {
      "byteLimit": 2048000,
      "rowLimit": 10000
     },
     "inputWidgets": {},
     "nuid": "92e78565-8554-4ee2-b42d-80be019bed0f",
     "showTitle": false,
     "tableResultSettingsMap": {},
     "title": ""
    }
   },
   "source": [
    "### Cargar las tablas"
   ]
  },
  {
   "cell_type": "code",
   "execution_count": 0,
   "metadata": {
    "application/vnd.databricks.v1+cell": {
     "cellMetadata": {
      "byteLimit": 2048000,
      "rowLimit": 10000
     },
     "inputWidgets": {},
     "nuid": "d6531509-b539-4c28-832e-0365433767f6",
     "showTitle": false,
     "tableResultSettingsMap": {},
     "title": ""
    }
   },
   "outputs": [],
   "source": [
    "# Tabla Ratings\n",
    "ratings_schema  = StructType(fields=[\n",
    "    StructField(\"userId\",IntegerType(),True), \n",
    "    StructField(\"movieId\",IntegerType(),True),\n",
    "    StructField(\"rating\",DecimalType(precision=2,scale=1),True),\n",
    "    StructField(\"timestamp\",LongType(),True)\n",
    "])\n",
    "ratingsDf = spark.read\\\n",
    "    .option(\"header\", True)\\\n",
    "    .option(\"dateFormat\", \"yyyyMMdd\")\\\n",
    "    .schema(ratings_schema)\\\n",
    "    .csv(\"/Volumes/big_data_ii_2025/spark_examples/spark_data/ratings.csv\")\\\n",
    "    .withColumn(\\\n",
    "            \"date\",\\\n",
    "            from_unixtime(\"timestamp\", \"yyyyMMdd\"))\\\n",
    "                .drop('timestamp')\n",
    "\n",
    "# Tabla Movies\n",
    "movies_schema  = StructType(fields=[\n",
    "    StructField(\"movieId\",IntegerType(),True), \n",
    "    StructField(\"title\",StringType(),True),\n",
    "    StructField(\"genres\",StringType(),True)\n",
    "])\n",
    "\n",
    "moviesDf = spark.read\\\n",
    "    .option(\"header\", True)\\\n",
    "    .schema(movies_schema)\\\n",
    "    .csv(\"/Volumes/big_data_ii_2025/spark_examples/spark_data/movies.csv\")\n",
    "\n",
    "moviesDf = moviesDf.withColumn(\"genresSplit\", split(moviesDf[\"genres\"],\"\\|\"))\\\n",
    "                        .drop('genres').withColumnRenamed(\"genresSplit\",\"genres\")\\\n",
    "                            .withColumn(\\\n",
    "                                \"year\",\\\n",
    "                                regexp_extract(\\\n",
    "                                           moviesDf[\"title\"],\\\n",
    "                                           \"^.+\\(([0-9]+)\\)$\",\\\n",
    "                                           1)\\\n",
    "                                .cast(IntegerType()))\\\n",
    "                            .withColumn(\\\n",
    "                            \"title_temp\",\\\n",
    "                            regexp_extract(\\\n",
    "                                           moviesDf[\"title\"],\\\n",
    "                                           \"^(.+?) \\([0-9]+\\)$\",\\\n",
    "                                           1))\\\n",
    "                            .drop('title')\\\n",
    "                        .withColumnRenamed(\"title_temp\",\"title\")"
   ]
  },
  {
   "cell_type": "markdown",
   "metadata": {
    "application/vnd.databricks.v1+cell": {
     "cellMetadata": {
      "byteLimit": 2048000,
      "rowLimit": 10000
     },
     "inputWidgets": {},
     "nuid": "a9d76dac-ffb7-43c5-9d7f-e52dc9a7dc45",
     "showTitle": false,
     "tableResultSettingsMap": {},
     "title": ""
    }
   },
   "source": [
    "### Unir Ambas tablas"
   ]
  },
  {
   "cell_type": "code",
   "execution_count": 0,
   "metadata": {
    "application/vnd.databricks.v1+cell": {
     "cellMetadata": {
      "byteLimit": 2048000,
      "rowLimit": 10000
     },
     "inputWidgets": {},
     "nuid": "d4552816-27e9-47ee-95db-94a9d5fe60e3",
     "showTitle": false,
     "tableResultSettingsMap": {},
     "title": ""
    }
   },
   "outputs": [],
   "source": [
    "movie_ratingsDF = ratingsDf.join(moviesDf,on=\"movieId\",how=\"inner\")\n",
    "movie_ratingsDF.show()"
   ]
  },
  {
   "cell_type": "markdown",
   "metadata": {
    "application/vnd.databricks.v1+cell": {
     "cellMetadata": {
      "byteLimit": 2048000,
      "rowLimit": 10000
     },
     "inputWidgets": {},
     "nuid": "51595c03-0e36-437a-9243-eb5641c0efba",
     "showTitle": false,
     "tableResultSettingsMap": {},
     "title": ""
    }
   },
   "source": [
    "### Agrupar por rating"
   ]
  },
  {
   "cell_type": "code",
   "execution_count": 0,
   "metadata": {
    "application/vnd.databricks.v1+cell": {
     "cellMetadata": {
      "byteLimit": 2048000,
      "rowLimit": 10000
     },
     "inputWidgets": {},
     "nuid": "30c6b3d7-3410-45b1-980a-60079ee71116",
     "showTitle": false,
     "tableResultSettingsMap": {},
     "title": ""
    }
   },
   "outputs": [],
   "source": [
    "from pyspark.sql.functions import grouping\n",
    "\n",
    "movie_ratingsDF_grouped_by_rating = movie_ratingsDF.groupBy(\"rating\")"
   ]
  },
  {
   "cell_type": "markdown",
   "metadata": {
    "application/vnd.databricks.v1+cell": {
     "cellMetadata": {
      "byteLimit": 2048000,
      "rowLimit": 10000
     },
     "inputWidgets": {},
     "nuid": "3365d709-8b7d-4708-bb92-9756aae7271d",
     "showTitle": false,
     "tableResultSettingsMap": {},
     "title": ""
    }
   },
   "source": [
    "### Contar las calificaciones"
   ]
  },
  {
   "cell_type": "code",
   "execution_count": 0,
   "metadata": {
    "application/vnd.databricks.v1+cell": {
     "cellMetadata": {
      "byteLimit": 2048000,
      "rowLimit": 10000
     },
     "inputWidgets": {},
     "nuid": "266e622c-c3a5-4d1c-85a1-5a3c68fa57b6",
     "showTitle": false,
     "tableResultSettingsMap": {},
     "title": ""
    }
   },
   "outputs": [],
   "source": [
    "movie_ratingsDF_grouped_by_rating.agg({\"*\": \"count\"}).collect()"
   ]
  },
  {
   "cell_type": "code",
   "execution_count": 0,
   "metadata": {
    "application/vnd.databricks.v1+cell": {
     "cellMetadata": {
      "byteLimit": 2048000,
      "rowLimit": 10000
     },
     "inputWidgets": {},
     "nuid": "4252f6c7-cbe3-42e8-b864-85459a1739a9",
     "showTitle": false,
     "tableResultSettingsMap": {},
     "title": ""
    },
    "scrolled": true
   },
   "outputs": [],
   "source": [
    "# Alternativa: metodo count\n",
    "movie_ratingsDF_grouped_by_rating.count().show()"
   ]
  },
  {
   "cell_type": "markdown",
   "metadata": {
    "application/vnd.databricks.v1+cell": {
     "cellMetadata": {
      "byteLimit": 2048000,
      "rowLimit": 10000
     },
     "inputWidgets": {},
     "nuid": "705becb5-6537-4bb9-b2b9-cd6a4afc97b6",
     "showTitle": false,
     "tableResultSettingsMap": {},
     "title": ""
    }
   },
   "source": [
    "Ordenamos la lista para que se vea mejor:"
   ]
  },
  {
   "cell_type": "code",
   "execution_count": 0,
   "metadata": {
    "application/vnd.databricks.v1+cell": {
     "cellMetadata": {
      "byteLimit": 2048000,
      "rowLimit": 10000
     },
     "inputWidgets": {},
     "nuid": "1f3c0b5d-0c8b-4c4b-bf1e-3571558c0f86",
     "showTitle": false,
     "tableResultSettingsMap": {},
     "title": ""
    }
   },
   "outputs": [],
   "source": [
    "movie_ratingsDF_grouped_by_rating.count().orderBy(desc(\"rating\")).show()"
   ]
  },
  {
   "cell_type": "markdown",
   "metadata": {
    "application/vnd.databricks.v1+cell": {
     "cellMetadata": {
      "byteLimit": 2048000,
      "rowLimit": 10000
     },
     "inputWidgets": {},
     "nuid": "fdb35912-1dc3-4b8c-8658-5242e4ba8188",
     "showTitle": false,
     "tableResultSettingsMap": {},
     "title": ""
    }
   },
   "source": [
    "## ¿Cuál es la película con la mayor cantidad de reseñas? "
   ]
  },
  {
   "cell_type": "code",
   "execution_count": 0,
   "metadata": {
    "application/vnd.databricks.v1+cell": {
     "cellMetadata": {
      "byteLimit": 2048000,
      "rowLimit": 10000
     },
     "inputWidgets": {},
     "nuid": "90d29227-34c1-4453-8657-66b3391d44c4",
     "showTitle": false,
     "tableResultSettingsMap": {},
     "title": ""
    },
    "scrolled": true
   },
   "outputs": [],
   "source": [
    "movie_ratingsDF_grouped_by_movieID = movie_ratingsDF.groupBy(\"title\").count().orderBy(desc(\"count\"))\n",
    "movie_ratingsDF_grouped_by_movieID.show(1)\n"
   ]
  },
  {
   "cell_type": "code",
   "execution_count": 0,
   "metadata": {
    "application/vnd.databricks.v1+cell": {
     "cellMetadata": {
      "byteLimit": 2048000,
      "rowLimit": 10000
     },
     "inputWidgets": {},
     "nuid": "e6813ff0-acac-4673-b79f-3f3fb57e754b",
     "showTitle": false,
     "tableResultSettingsMap": {},
     "title": ""
    }
   },
   "outputs": [],
   "source": []
  }
 ],
 "metadata": {
  "application/vnd.databricks.v1+notebook": {
   "computePreferences": null,
   "dashboards": [],
   "environmentMetadata": null,
   "inputWidgetPreferences": null,
   "language": "python",
   "notebookMetadata": {
    "pythonIndentUnit": 4
   },
   "notebookName": "04 Consultas Movielens 2",
   "widgets": {}
  },
  "kernelspec": {
   "display_name": "Python 3 (ipykernel)",
   "language": "python",
   "name": "python3"
  },
  "language_info": {
   "name": "python"
  }
 },
 "nbformat": 4,
 "nbformat_minor": 0
}
