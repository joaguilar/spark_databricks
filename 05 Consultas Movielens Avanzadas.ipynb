{
 "cells": [
  {
   "cell_type": "code",
   "execution_count": 0,
   "metadata": {
    "application/vnd.databricks.v1+cell": {
     "cellMetadata": {
      "byteLimit": 2048000,
      "rowLimit": 10000
     },
     "inputWidgets": {},
     "nuid": "7ef37f91-ff04-49e4-b3dd-d8498a2ffee5",
     "showTitle": false,
     "tableResultSettingsMap": {},
     "title": ""
    }
   },
   "outputs": [],
   "source": [
    "#import findspark\n",
    "#findspark.init('/spark/spark-3.5.1-bin-hadoop3')\n",
    "from pyspark import *\n",
    "from pyspark.sql import SparkSession\n",
    "from pyspark.sql.types import StructType,StructField, StringType, IntegerType, DateType, TimestampType, LongType\n",
    "from pyspark.sql.types import ArrayType, DoubleType, BooleanType, DecimalType\n",
    "from pyspark.sql.functions import regexp_extract, split, from_unixtime, col, avg, min, max, desc\n",
    "from pyspark.sql.functions import grouping, explode, array_contains, expr\n",
    "\n",
    "\n",
    "\n",
    "#spark = SparkSession.builder.appName(\"movielens\").getOrCreate()"
   ]
  },
  {
   "cell_type": "markdown",
   "metadata": {
    "application/vnd.databricks.v1+cell": {
     "cellMetadata": {
      "byteLimit": 2048000,
      "rowLimit": 10000
     },
     "inputWidgets": {},
     "nuid": "e8b4f7e3-0dcb-460d-8041-5cfa82d3849b",
     "showTitle": false,
     "tableResultSettingsMap": {},
     "title": ""
    }
   },
   "source": [
    "# Consultas sobre Movielens\n",
    "\n",
    "## Schema de Movielens\n",
    "\n",
    "![Schema](movielens_schema.png)\n",
    "\n",
    "## ¿Cuál es la distribución de la clasificación de las películas? \n",
    "\n",
    "Proceso:\n",
    "\n",
    "1. Cargar la tabla ratings\n",
    "1. Cargar la tabla movies\n",
    "1. Unir ambas tablas\n",
    "1. Agrupar por calificación\n",
    "1. Contar las películas\n"
   ]
  },
  {
   "cell_type": "markdown",
   "metadata": {
    "application/vnd.databricks.v1+cell": {
     "cellMetadata": {
      "byteLimit": 2048000,
      "rowLimit": 10000
     },
     "inputWidgets": {},
     "nuid": "fd6e6301-e10e-4d97-a18d-9e9a87df66c8",
     "showTitle": false,
     "tableResultSettingsMap": {},
     "title": ""
    }
   },
   "source": [
    "### Cargar las tablas"
   ]
  },
  {
   "cell_type": "code",
   "execution_count": 0,
   "metadata": {
    "application/vnd.databricks.v1+cell": {
     "cellMetadata": {
      "byteLimit": 2048000,
      "rowLimit": 10000
     },
     "inputWidgets": {},
     "nuid": "bfb5645b-0b5f-42b8-876b-f58d88d35370",
     "showTitle": false,
     "tableResultSettingsMap": {},
     "title": ""
    }
   },
   "outputs": [],
   "source": [
    "# Tabla Ratings\n",
    "ratings_schema  = StructType(fields=[\n",
    "    StructField(\"userId\",IntegerType(),True), \n",
    "    StructField(\"movieId\",IntegerType(),True),\n",
    "    StructField(\"rating\",DecimalType(precision=2,scale=1),True),\n",
    "    StructField(\"timestamp\",LongType(),True)\n",
    "])\n",
    "ratingsDf = spark.read\\\n",
    "    .option(\"header\", True)\\\n",
    "    .option(\"dateFormat\", \"yyyyMMdd\")\\\n",
    "    .schema(ratings_schema)\\\n",
    "    .csv(\"/Volumes/big_data_ii_2025/spark_examples/spark_data/ratings.csv\")\\\n",
    "    .withColumn(\\\n",
    "            \"date\",\\\n",
    "            from_unixtime(\"timestamp\", \"yyyyMMdd\"))\\\n",
    "                .drop('timestamp')\n",
    "\n",
    "# Tabla Movies\n",
    "movies_schema  = StructType(fields=[\n",
    "    StructField(\"movieId\",IntegerType(),True), \n",
    "    StructField(\"title\",StringType(),True),\n",
    "    StructField(\"genres\",StringType(),True)\n",
    "])\n",
    "\n",
    "moviesDf = spark.read\\\n",
    "    .option(\"header\", True)\\\n",
    "    .schema(movies_schema)\\\n",
    "    .csv(\"/Volumes/big_data_ii_2025/spark_examples/spark_data/movies.csv\")\n",
    "\n",
    "moviesDf = moviesDf.withColumn(\"genresSplit\", split(moviesDf[\"genres\"],\"\\|\"))\\\n",
    "                        .drop('genres').withColumnRenamed(\"genresSplit\",\"genres\")\\\n",
    "                            .withColumn(\\\n",
    "                                \"year\",\\\n",
    "                                regexp_extract(\\\n",
    "                                           moviesDf[\"title\"],\\\n",
    "                                           \"^.+\\(([0-9]+)\\)$\",\\\n",
    "                                           1)\\\n",
    "                                .try_cast(IntegerType()))\\\n",
    "                            .withColumn(\\\n",
    "                            \"title_temp\",\\\n",
    "                            regexp_extract(\\\n",
    "                                           moviesDf[\"title\"],\\\n",
    "                                           \"^(.+?) \\([0-9]+\\)$\",\\\n",
    "                                           1))\\\n",
    "                            .drop('title')\\\n",
    "                        .withColumnRenamed(\"title_temp\",\"title\")"
   ]
  },
  {
   "cell_type": "markdown",
   "metadata": {
    "application/vnd.databricks.v1+cell": {
     "cellMetadata": {
      "byteLimit": 2048000,
      "rowLimit": 10000
     },
     "inputWidgets": {},
     "nuid": "23222692-7dc3-4a87-9eb5-9d9f57555c03",
     "showTitle": false,
     "tableResultSettingsMap": {},
     "title": ""
    }
   },
   "source": [
    "### Unir Ambas tablas"
   ]
  },
  {
   "cell_type": "code",
   "execution_count": 0,
   "metadata": {
    "application/vnd.databricks.v1+cell": {
     "cellMetadata": {
      "byteLimit": 2048000,
      "rowLimit": 10000
     },
     "inputWidgets": {},
     "nuid": "edab22b9-4dda-4a7f-945d-799bb352975b",
     "showTitle": false,
     "tableResultSettingsMap": {},
     "title": ""
    }
   },
   "outputs": [],
   "source": [
    "movie_ratingsDF = ratingsDf.join(moviesDf,on=\"movieId\",how=\"inner\")\n",
    "movie_ratingsDF.show(3)"
   ]
  },
  {
   "cell_type": "markdown",
   "metadata": {
    "application/vnd.databricks.v1+cell": {
     "cellMetadata": {
      "byteLimit": 2048000,
      "rowLimit": 10000
     },
     "inputWidgets": {},
     "nuid": "6c6637d2-41bd-4125-ba51-7c6c84adbc12",
     "showTitle": false,
     "tableResultSettingsMap": {},
     "title": ""
    }
   },
   "source": [
    "### Filtros"
   ]
  },
  {
   "cell_type": "code",
   "execution_count": 0,
   "metadata": {
    "application/vnd.databricks.v1+cell": {
     "cellMetadata": {
      "byteLimit": 2048000,
      "rowLimit": 10000
     },
     "inputWidgets": {},
     "nuid": "18acf466-d833-4360-8c23-9e587d7734e9",
     "showTitle": false,
     "tableResultSettingsMap": {},
     "title": ""
    }
   },
   "outputs": [],
   "source": [
    "movie_ratingsDF.filter(\"movieId = 356\").select([\"rating\",\"genres\"]).show(3)"
   ]
  },
  {
   "cell_type": "code",
   "execution_count": 0,
   "metadata": {
    "application/vnd.databricks.v1+cell": {
     "cellMetadata": {
      "byteLimit": 2048000,
      "rowLimit": 10000
     },
     "inputWidgets": {},
     "nuid": "6dd6d7fa-d41d-4ad0-8db4-ad6aaab3f23f",
     "showTitle": false,
     "tableResultSettingsMap": {},
     "title": ""
    },
    "scrolled": true
   },
   "outputs": [],
   "source": [
    "movie_ratingsDF.filter(col('genres').getItem(0) == 'Drama').select([\"rating\",\"genres\"]).show(3)"
   ]
  },
  {
   "cell_type": "code",
   "execution_count": 0,
   "metadata": {
    "application/vnd.databricks.v1+cell": {
     "cellMetadata": {
      "byteLimit": 2048000,
      "rowLimit": 10000
     },
     "inputWidgets": {},
     "nuid": "fe700415-bec5-4143-bf86-3bc1a9daf9b9",
     "showTitle": false,
     "tableResultSettingsMap": {},
     "title": ""
    }
   },
   "outputs": [],
   "source": [
    "movie_ratingsDF.filter(array_contains(movie_ratingsDF.genres,'Drama')).select([\"rating\",\"genres\"]).show(10)"
   ]
  },
  {
   "cell_type": "markdown",
   "metadata": {
    "application/vnd.databricks.v1+cell": {
     "cellMetadata": {
      "byteLimit": 2048000,
      "rowLimit": 10000
     },
     "inputWidgets": {},
     "nuid": "d10dcab9-7ecc-4fd6-94d3-fdbcad2defc7",
     "showTitle": false,
     "tableResultSettingsMap": {},
     "title": ""
    }
   },
   "source": [
    "# Funciones de Ventana en PySpark\n",
    "\n",
    "## ¿Qué son las Funciones de Ventana?\n",
    "\n",
    "Las funciones de ventana en PySpark permiten realizar cálculos avanzados sobre un conjunto específico de filas relacionadas, conocidas como \"ventanas\", sin la necesidad de agrupar los datos en su totalidad. Estas funciones son muy útiles para realizar análisis complejos y obtener insights detallados de los datos, manteniendo el contexto de cada fila.\n",
    "\n",
    "### Características Principales de las Funciones de Ventana\n",
    "\n",
    "1. **Cálculos sin Agrupamiento Completo:**\n",
    "   - Las funciones de ventana permiten realizar operaciones como promedios, sumas, y rankings dentro de una partición de datos sin agrupar completamente los datos.\n",
    "   \n",
    "2. **Contexto Manteniendo el Orden:**\n",
    "   - Mantienen el contexto de cada fila dentro de una partición, permitiendo realizar cálculos acumulativos y de comparación.\n",
    "   \n",
    "3. **Ventanas Definidas Dinámicamente:**\n",
    "   - Las ventanas pueden ser definidas basándose en particiones y órdenes específicos, lo que permite una gran flexibilidad en el análisis de datos.\n",
    "\n",
    "### Tipos Comunes de Funciones de Ventana\n",
    "\n",
    "- **Agregaciones:**\n",
    "  - `avg()`, `sum()`, `min()`, `max()`: Calculan el promedio, suma, mínimo y máximo dentro de la ventana.\n",
    "  \n",
    "- **Funciones de Rango y Ranking:**\n",
    "  - `row_number()`, `rank()`, `dense_rank()`: Asignan números de fila y rangos dentro de la ventana.\n",
    "\n",
    "- **Funciones de Desplazamiento:**\n",
    "  - `lag()`, `lead()`: Permiten acceder a las filas anteriores o siguientes dentro de la ventana.\n",
    "\n",
    "### Ejemplo de Uso\n",
    "\n",
    "Considere un DataFrame de calificaciones de películas, donde queremos calcular el promedio de calificaciones por usuario, el ranking de calificaciones por género y año, y el cambio de calificación respecto a la calificación anterior dada por el mismo usuario. Las funciones de ventana nos permiten realizar estos cálculos de manera eficiente y mantener el contexto de cada calificación individual.\n",
    "\n",
    "Con las funciones de ventana, podemos transformar y analizar los datos de manera avanzada, obteniendo insights que serían difíciles de lograr con simples agregaciones o transformaciones básicas.\n",
    "\n"
   ]
  },
  {
   "cell_type": "markdown",
   "metadata": {
    "application/vnd.databricks.v1+cell": {
     "cellMetadata": {
      "byteLimit": 2048000,
      "rowLimit": 10000
     },
     "inputWidgets": {},
     "nuid": "40386c4e-9bf6-41d0-970f-bdc061199378",
     "showTitle": false,
     "tableResultSettingsMap": {},
     "title": ""
    }
   },
   "source": [
    "### Calcular el Promedio de Calificaciones por Usuario\n",
    "\n",
    "En este ejemplo, calcularemos el promedio de calificaciones de cada usuario para todas las películas que han calificado. Usaremos la función de ventana avg para realizar este cálculo.\n",
    "\n"
   ]
  },
  {
   "cell_type": "code",
   "execution_count": 0,
   "metadata": {
    "application/vnd.databricks.v1+cell": {
     "cellMetadata": {
      "byteLimit": 2048000,
      "rowLimit": 10000
     },
     "inputWidgets": {},
     "nuid": "3d21040c-e8e8-42cd-b1c4-4eb38e2c0e77",
     "showTitle": false,
     "tableResultSettingsMap": {},
     "title": ""
    },
    "scrolled": true
   },
   "outputs": [],
   "source": [
    "from pyspark.sql.window import Window\n",
    "\n",
    "# Suponiendo que movie_ratingsDF ya está cargado\n",
    "windowSpec = Window.partitionBy(\"userId\")\n",
    "\n",
    "# Calcular el promedio de calificaciones por usuario\n",
    "average_ratingsDF = movie_ratingsDF\\\n",
    "                    .withColumn(\\\n",
    "                                \"average_rating\", \\\n",
    "                                avg(\"rating\")\\\n",
    "                                .over(windowSpec))\n",
    "\n",
    "average_ratingsDF.printSchema()\n"
   ]
  },
  {
   "cell_type": "code",
   "execution_count": 0,
   "metadata": {
    "application/vnd.databricks.v1+cell": {
     "cellMetadata": {
      "byteLimit": 2048000,
      "rowLimit": 10000
     },
     "inputWidgets": {},
     "nuid": "4f4233c1-c708-4332-a5af-ab3b053005ce",
     "showTitle": false,
     "tableResultSettingsMap": {},
     "title": ""
    }
   },
   "outputs": [],
   "source": [
    "average_ratingsDF.show()"
   ]
  },
  {
   "cell_type": "markdown",
   "metadata": {
    "application/vnd.databricks.v1+cell": {
     "cellMetadata": {
      "byteLimit": 2048000,
      "rowLimit": 10000
     },
     "inputWidgets": {},
     "nuid": "86022323-037f-4f82-ae03-d51777e3685c",
     "showTitle": false,
     "tableResultSettingsMap": {},
     "title": ""
    }
   },
   "source": [
    "### Calcular el Ranking de Calificaciones por Género y Año\n",
    "\n",
    "En este ejemplo, calcularemos el ranking de las calificaciones de las películas dentro de cada género y año. Utilizaremos la función de ventana rank para determinar la posición de cada película en términos de calificación.\n",
    "\n"
   ]
  },
  {
   "cell_type": "code",
   "execution_count": 0,
   "metadata": {
    "application/vnd.databricks.v1+cell": {
     "cellMetadata": {
      "byteLimit": 2048000,
      "rowLimit": 10000
     },
     "inputWidgets": {},
     "nuid": "a61342ae-42bd-4b5b-ae7f-7a10b8ccf018",
     "showTitle": false,
     "tableResultSettingsMap": {},
     "title": ""
    }
   },
   "outputs": [],
   "source": [
    "from pyspark.sql.functions import rank\n",
    "\n",
    "explodedDF = movie_ratingsDF.withColumn(\"genre\", explode(\"genres\"))\n",
    "\n",
    "windowSpec = Window.partitionBy(\"genre\", \"year\").orderBy(col(\"rating\").desc())\n",
    "\n",
    "ranked_ratingsDF = explodedDF.withColumn(\"rank\", rank().over(windowSpec))\n",
    "\n",
    "ranked_ratingsDF.show()\n"
   ]
  },
  {
   "cell_type": "markdown",
   "metadata": {
    "application/vnd.databricks.v1+cell": {
     "cellMetadata": {
      "byteLimit": 2048000,
      "rowLimit": 10000
     },
     "inputWidgets": {},
     "nuid": "eaebdd97-30f4-4351-a1c9-6192cf1aba00",
     "showTitle": false,
     "tableResultSettingsMap": {},
     "title": ""
    }
   },
   "source": [
    "### Calcular el Cambio de Calificación respecto a la Calificación Anterior por Usuario\n",
    "\n",
    "En este ejemplo, calcularemos el cambio de calificación de una película respecto a la calificación anterior dada por el mismo usuario. Usaremos la función de ventana lag para acceder a la calificación anterior y calcular la diferencia."
   ]
  },
  {
   "cell_type": "code",
   "execution_count": 0,
   "metadata": {
    "application/vnd.databricks.v1+cell": {
     "cellMetadata": {
      "byteLimit": 2048000,
      "rowLimit": 10000
     },
     "inputWidgets": {},
     "nuid": "39f2b4e2-1871-4b22-aea0-8dc327bdc2a2",
     "showTitle": false,
     "tableResultSettingsMap": {},
     "title": ""
    }
   },
   "outputs": [],
   "source": [
    "from pyspark.sql.functions import lag\n",
    "\n",
    "\n",
    "# Suponiendo que movie_ratingsDF ya está cargado\n",
    "windowSpec = Window.partitionBy(\"userId\").orderBy(\"date\")\n",
    "\n",
    "# Calcular el cambio de calificación respecto a la calificación anterior por usuario\n",
    "change_ratingsDF = movie_ratingsDF.withColumn(\"previous_rating\", lag(\"rating\", 1).over(windowSpec)) \\\n",
    "                                  .withColumn(\"rating_change\", col(\"rating\") - col(\"previous_rating\"))\n",
    "\n",
    "change_ratingsDF.show()\n"
   ]
  },
  {
   "cell_type": "code",
   "execution_count": 0,
   "metadata": {
    "application/vnd.databricks.v1+cell": {
     "cellMetadata": {
      "byteLimit": 2048000,
      "rowLimit": 10000
     },
     "inputWidgets": {},
     "nuid": "95009b38-f198-4ab5-a854-e4e7583274f5",
     "showTitle": false,
     "tableResultSettingsMap": {},
     "title": ""
    }
   },
   "outputs": [],
   "source": []
  },
  {
   "cell_type": "code",
   "execution_count": 0,
   "metadata": {
    "application/vnd.databricks.v1+cell": {
     "cellMetadata": {
      "byteLimit": 2048000,
      "rowLimit": 10000
     },
     "inputWidgets": {},
     "nuid": "ab4cecb3-824c-4e54-816c-d312b7673f82",
     "showTitle": false,
     "tableResultSettingsMap": {},
     "title": ""
    }
   },
   "outputs": [],
   "source": []
  },
  {
   "cell_type": "markdown",
   "metadata": {
    "application/vnd.databricks.v1+cell": {
     "cellMetadata": {
      "byteLimit": 2048000,
      "rowLimit": 10000
     },
     "inputWidgets": {},
     "nuid": "05965cc6-75a1-4c25-a41b-8b690017b0c8",
     "showTitle": false,
     "tableResultSettingsMap": {},
     "title": ""
    }
   },
   "source": [
    "Ordenamos la lista para que se vea mejor:"
   ]
  },
  {
   "cell_type": "markdown",
   "metadata": {
    "application/vnd.databricks.v1+cell": {
     "cellMetadata": {
      "byteLimit": 2048000,
      "rowLimit": 10000
     },
     "inputWidgets": {},
     "nuid": "4868746c-612c-4a21-aac6-3c37d4bf0e2a",
     "showTitle": false,
     "tableResultSettingsMap": {},
     "title": ""
    }
   },
   "source": [
    "## ¿Cuál es la película con la mayor cantidad de reseñas? "
   ]
  },
  {
   "cell_type": "code",
   "execution_count": 0,
   "metadata": {
    "application/vnd.databricks.v1+cell": {
     "cellMetadata": {
      "byteLimit": 2048000,
      "rowLimit": 10000
     },
     "inputWidgets": {},
     "nuid": "30da7bd6-c609-4ac7-b711-5e055ba306b1",
     "showTitle": false,
     "tableResultSettingsMap": {},
     "title": ""
    },
    "scrolled": true
   },
   "outputs": [],
   "source": [
    "movie_ratingsDF_grouped_by_movieID = movie_ratingsDF.groupBy(\"title\").count().orderBy(desc(\"count\"))\n",
    "movie_ratingsDF_grouped_by_movieID.show(1)\n"
   ]
  },
  {
   "cell_type": "code",
   "execution_count": 0,
   "metadata": {
    "application/vnd.databricks.v1+cell": {
     "cellMetadata": {
      "byteLimit": 2048000,
      "rowLimit": 10000
     },
     "inputWidgets": {},
     "nuid": "8b7007dd-5509-49bd-92a1-8a7f4bdd5f8a",
     "showTitle": false,
     "tableResultSettingsMap": {},
     "title": ""
    },
    "scrolled": true
   },
   "outputs": [],
   "source": [
    "movie_ratingsDF.printSchema()"
   ]
  },
  {
   "cell_type": "code",
   "execution_count": 0,
   "metadata": {
    "application/vnd.databricks.v1+cell": {
     "cellMetadata": {
      "byteLimit": 2048000,
      "rowLimit": 10000
     },
     "inputWidgets": {},
     "nuid": "f999d52a-de53-4529-a89c-377c2343c9f4",
     "showTitle": false,
     "tableResultSettingsMap": {},
     "title": ""
    }
   },
   "outputs": [],
   "source": [
    "movie_ratingsDF.show(2)"
   ]
  }
 ],
 "metadata": {
  "application/vnd.databricks.v1+notebook": {
   "computePreferences": null,
   "dashboards": [],
   "environmentMetadata": null,
   "inputWidgetPreferences": null,
   "language": "python",
   "notebookMetadata": {
    "pythonIndentUnit": 4
   },
   "notebookName": "05 Consultas Movielens Avanzadas",
   "widgets": {}
  },
  "kernelspec": {
   "display_name": "Python 3 (ipykernel)",
   "language": "python",
   "name": "python3"
  },
  "language_info": {
   "name": "python"
  }
 },
 "nbformat": 4,
 "nbformat_minor": 0
}
