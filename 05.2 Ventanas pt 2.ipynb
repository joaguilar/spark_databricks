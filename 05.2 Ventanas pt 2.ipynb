{
 "cells": [
  {
   "cell_type": "markdown",
   "metadata": {
    "application/vnd.databricks.v1+cell": {
     "cellMetadata": {
      "byteLimit": 2048000,
      "rowLimit": 10000
     },
     "inputWidgets": {},
     "nuid": "2dfa8629-4543-4735-829b-071830ddd436",
     "showTitle": false,
     "tableResultSettingsMap": {},
     "title": ""
    }
   },
   "source": [
    "# Buenas prácticas de Ventanas en Spark"
   ]
  },
  {
   "cell_type": "code",
   "execution_count": 0,
   "metadata": {
    "application/vnd.databricks.v1+cell": {
     "cellMetadata": {
      "byteLimit": 2048000,
      "rowLimit": 10000
     },
     "inputWidgets": {},
     "nuid": "6768c5eb-1fe5-486a-bb55-7b256380795d",
     "showTitle": false,
     "tableResultSettingsMap": {},
     "title": ""
    }
   },
   "outputs": [],
   "source": [
    "\n",
    "from pyspark.sql import Window\n",
    "from pyspark.sql.functions import col, row_number\n",
    "from time import time\n",
    "from pyspark import *\n",
    "from pyspark.sql import SparkSession\n",
    "from pyspark.sql.types import StructType,StructField, StringType, IntegerType, DateType, TimestampType, LongType\n",
    "from pyspark.sql.types import ArrayType, DoubleType, BooleanType, DecimalType\n",
    "from pyspark.sql.functions import regexp_extract, split, from_unixtime, col, avg, min, max, desc\n",
    "from pyspark.sql.functions import grouping, explode, array_contains, row_number\n",
    "\n",
    "spark.conf.set('spark.sql.shuffle.partitions', '200') # Fijar el numero de particiones\n"
   ]
  },
  {
   "cell_type": "code",
   "execution_count": 0,
   "metadata": {
    "application/vnd.databricks.v1+cell": {
     "cellMetadata": {
      "byteLimit": 2048000,
      "rowLimit": 10000
     },
     "inputWidgets": {},
     "nuid": "8727df2e-d843-4e8c-a46e-a8d28ab85ee9",
     "showTitle": false,
     "tableResultSettingsMap": {},
     "title": ""
    }
   },
   "outputs": [
    {
     "output_type": "display_data",
     "data": {
      "text/html": [
       "<style scoped>\n",
       "  .table-result-container {\n",
       "    max-height: 300px;\n",
       "    overflow: auto;\n",
       "  }\n",
       "  table, th, td {\n",
       "    border: 1px solid black;\n",
       "    border-collapse: collapse;\n",
       "  }\n",
       "  th, td {\n",
       "    padding: 5px;\n",
       "  }\n",
       "  th {\n",
       "    text-align: left;\n",
       "  }\n",
       "</style><div class='table-result-container'><table class='table-result'><thead style='background-color: white'><tr><th>path</th><th>name</th><th>size</th><th>modificationTime</th></tr></thead><tbody><tr><td>dbfs:/Volumes/big_data_ii_2025/spark_examples/spark_data/PADRON_COMPLETO.csv</td><td>PADRON_COMPLETO.csv</td><td>437542254</td><td>1750034299000</td></tr><tr><td>dbfs:/Volumes/big_data_ii_2025/spark_examples/spark_data/distelec.csv</td><td>distelec.csv</td><td>175692</td><td>1750034273000</td></tr><tr><td>dbfs:/Volumes/big_data_ii_2025/spark_examples/spark_data/movies.csv</td><td>movies.csv</td><td>4192335</td><td>1750034274000</td></tr><tr><td>dbfs:/Volumes/big_data_ii_2025/spark_examples/spark_data/por-ciclo-2016-2018.csv</td><td>por-ciclo-2016-2018.csv</td><td>904931</td><td>1750034273000</td></tr><tr><td>dbfs:/Volumes/big_data_ii_2025/spark_examples/spark_data/ratings_full.csv</td><td>ratings_full.csv</td><td>933898879</td><td>1750034299000</td></tr><tr><td>dbfs:/Volumes/big_data_ii_2025/spark_examples/spark_data/tags.csv</td><td>tags.csv</td><td>85361813</td><td>1750034296000</td></tr></tbody></table></div>"
      ]
     },
     "metadata": {
      "application/vnd.databricks.v1+output": {
       "addedWidgets": {},
       "aggData": [],
       "aggError": "",
       "aggOverflow": false,
       "aggSchema": [],
       "aggSeriesLimitReached": false,
       "aggType": "",
       "arguments": {},
       "columnCustomDisplayInfos": {},
       "data": [
        [
         "dbfs:/Volumes/big_data_ii_2025/spark_examples/spark_data/PADRON_COMPLETO.csv",
         "PADRON_COMPLETO.csv",
         437542254,
         1750034299000
        ],
        [
         "dbfs:/Volumes/big_data_ii_2025/spark_examples/spark_data/distelec.csv",
         "distelec.csv",
         175692,
         1750034273000
        ],
        [
         "dbfs:/Volumes/big_data_ii_2025/spark_examples/spark_data/movies.csv",
         "movies.csv",
         4192335,
         1750034274000
        ],
        [
         "dbfs:/Volumes/big_data_ii_2025/spark_examples/spark_data/por-ciclo-2016-2018.csv",
         "por-ciclo-2016-2018.csv",
         904931,
         1750034273000
        ],
        [
         "dbfs:/Volumes/big_data_ii_2025/spark_examples/spark_data/ratings_full.csv",
         "ratings_full.csv",
         933898879,
         1750034299000
        ],
        [
         "dbfs:/Volumes/big_data_ii_2025/spark_examples/spark_data/tags.csv",
         "tags.csv",
         85361813,
         1750034296000
        ]
       ],
       "datasetInfos": [],
       "dbfsResultPath": null,
       "isJsonSchema": true,
       "metadata": {},
       "overflow": false,
       "plotOptions": {
        "customPlotOptions": {},
        "displayType": "table",
        "pivotAggregation": null,
        "pivotColumns": null,
        "xColumns": null,
        "yColumns": null
       },
       "removedWidgets": [],
       "schema": [
        {
         "metadata": "{}",
         "name": "path",
         "type": "\"string\""
        },
        {
         "metadata": "{}",
         "name": "name",
         "type": "\"string\""
        },
        {
         "metadata": "{}",
         "name": "size",
         "type": "\"long\""
        },
        {
         "metadata": "{}",
         "name": "modificationTime",
         "type": "\"long\""
        }
       ],
       "type": "table"
      }
     },
     "output_type": "display_data"
    }
   ],
   "source": [
    "%fs ls /Volumes/big_data_ii_2025/spark_examples/spark_data/"
   ]
  },
  {
   "cell_type": "code",
   "execution_count": 0,
   "metadata": {
    "application/vnd.databricks.v1+cell": {
     "cellMetadata": {
      "byteLimit": 2048000,
      "rowLimit": 10000
     },
     "inputWidgets": {},
     "nuid": "68da6f55-2eee-4fe4-b12e-7c7a8db83585",
     "showTitle": false,
     "tableResultSettingsMap": {},
     "title": ""
    }
   },
   "outputs": [
    {
     "output_type": "stream",
     "name": "stdout",
     "output_type": "stream",
     "text": [
      "Registros totales: 33832162\n"
     ]
    }
   ],
   "source": [
    "# Tabla Ratings\n",
    "ratings_schema  = StructType(fields=[\n",
    "    StructField(\"userId\",IntegerType(),True), \n",
    "    StructField(\"movieId\",IntegerType(),True),\n",
    "    StructField(\"rating\",DecimalType(precision=2,scale=1),True),\n",
    "    StructField(\"timestamp\",LongType(),True)\n",
    "])\n",
    "ratingsDf = spark.read\\\n",
    "    .option(\"header\", True)\\\n",
    "    .option(\"dateFormat\", \"yyyyMMdd\")\\\n",
    "    .schema(ratings_schema)\\\n",
    "    .csv(\"/Volumes/big_data_ii_2025/spark_examples/spark_data/ratings_full.csv\")\\\n",
    "    .withColumn(\\\n",
    "            \"date\",\\\n",
    "            from_unixtime(\"timestamp\", \"yyyyMMdd\"))\n",
    "\n",
    "# Tabla Movies\n",
    "movies_schema  = StructType(fields=[\n",
    "    StructField(\"movieId\",IntegerType(),True), \n",
    "    StructField(\"title\",StringType(),True),\n",
    "    StructField(\"genres\",StringType(),True)\n",
    "])\n",
    "\n",
    "moviesDf = spark.read\\\n",
    "    .option(\"header\", True)\\\n",
    "    .schema(movies_schema)\\\n",
    "    .csv(\"/Volumes/big_data_ii_2025/spark_examples/spark_data/movies.csv\")\n",
    "\n",
    "moviesDf = moviesDf.withColumn(\"genresSplit\", split(moviesDf[\"genres\"],\"\\|\"))\\\n",
    "                        .drop('genres').withColumnRenamed(\"genresSplit\",\"genres\")\\\n",
    "                            .withColumn(\\\n",
    "                                \"year\",\\\n",
    "                                regexp_extract(\\\n",
    "                                           moviesDf[\"title\"],\\\n",
    "                                           \"^.+\\(([0-9]+)\\)$\",\\\n",
    "                                           1)\\\n",
    "                                .cast(IntegerType()))\\\n",
    "                            .withColumn(\\\n",
    "                            \"title_temp\",\\\n",
    "                            regexp_extract(\\\n",
    "                                           moviesDf[\"title\"],\\\n",
    "                                           \"^(.+?) \\([0-9]+\\)$\",\\\n",
    "                                           1))\\\n",
    "                            .drop('title')\\\n",
    "                        .withColumnRenamed(\"title_temp\",\"title\")\n",
    "#ratingsDf.cache()\n",
    "print('Registros totales:', ratingsDf.count())"
   ]
  },
  {
   "cell_type": "code",
   "execution_count": 0,
   "metadata": {
    "application/vnd.databricks.v1+cell": {
     "cellMetadata": {
      "byteLimit": 2048000,
      "rowLimit": 10000
     },
     "inputWidgets": {},
     "nuid": "f1b477db-605d-4585-bf1d-d4914ff1e168",
     "showTitle": false,
     "tableResultSettingsMap": {},
     "title": ""
    }
   },
   "outputs": [
    {
     "output_type": "stream",
     "name": "stdout",
     "output_type": "stream",
     "text": [
      "Contraejemplo → filas: 970126  | tiempo (s): 6.48\n"
     ]
    }
   ],
   "source": [
    "w_bad = Window.partitionBy('userId').orderBy(col('rating').asc())  # cardinalidad baja\n",
    "t0 = time()\n",
    "top3_bad = (ratingsDf.withColumn('rn', row_number().over(w_bad))\n",
    "                    .where('rn <= 3'))\n",
    "print('Contraejemplo → filas:', top3_bad.count(), ' | tiempo (s):', round(time() - t0, 2))\n"
   ]
  },
  {
   "cell_type": "code",
   "execution_count": 0,
   "metadata": {
    "application/vnd.databricks.v1+cell": {
     "cellMetadata": {
      "byteLimit": 2048000,
      "rowLimit": 10000
     },
     "inputWidgets": {},
     "nuid": "560bfa4c-ff49-4a53-a8c4-1c6e2987c69c",
     "showTitle": false,
     "tableResultSettingsMap": {},
     "title": ""
    }
   },
   "outputs": [
    {
     "output_type": "stream",
     "name": "stdout",
     "output_type": "stream",
     "text": [
      "Buena práctica → filas: 970126  | tiempo (s): 6.68\n"
     ]
    }
   ],
   "source": [
    "w_good = Window.partitionBy('userId').orderBy(col('timestamp').desc())\n",
    "t0 = time()\n",
    "top3_good = (ratingsDf.withColumn('rn', row_number().over(w_good))\n",
    "                     .where('rn <= 3'))\n",
    "print('Buena práctica → filas:', top3_good.count(), ' | tiempo (s):', round(time() - t0, 2))\n"
   ]
  },
  {
   "cell_type": "markdown",
   "metadata": {
    "application/vnd.databricks.v1+cell": {
     "cellMetadata": {
      "byteLimit": 2048000,
      "rowLimit": 10000
     },
     "inputWidgets": {},
     "nuid": "5d1ba0c8-1f7e-4a81-b103-f4aa55388778",
     "showTitle": false,
     "tableResultSettingsMap": {},
     "title": ""
    }
   },
   "source": [
    "# Marco Pequeño"
   ]
  },
  {
   "cell_type": "code",
   "execution_count": 0,
   "metadata": {
    "application/vnd.databricks.v1+cell": {
     "cellMetadata": {
      "byteLimit": 2048000,
      "rowLimit": 10000
     },
     "inputWidgets": {},
     "nuid": "fa18636f-fa2b-4fa4-ba30-a9190fef4dd1",
     "showTitle": false,
     "tableResultSettingsMap": {},
     "title": ""
    }
   },
   "outputs": [
    {
     "output_type": "stream",
     "name": "stdout",
     "output_type": "stream",
     "text": [
      "Ventana UNBOUNDED → 10.77 s\n"
     ]
    }
   ],
   "source": [
    "w_big = (Window.partitionBy('userId')\n",
    "                 .orderBy(col('timestamp').desc())\n",
    "                 .rowsBetween(Window.unboundedPreceding, Window.currentRow))\n",
    "t0 = time()\n",
    "ratingsDf.withColumn('mov_avg', avg('rating').over(w_big)) \\\n",
    "       .write.format('noop').mode('overwrite').save()\n",
    "print('Ventana UNBOUNDED →', round(time() - t0, 2), 's')\n"
   ]
  },
  {
   "cell_type": "code",
   "execution_count": 0,
   "metadata": {
    "application/vnd.databricks.v1+cell": {
     "cellMetadata": {
      "byteLimit": 2048000,
      "rowLimit": 10000
     },
     "inputWidgets": {},
     "nuid": "dd6e174e-792a-41ff-99d6-4875a1ad9132",
     "showTitle": false,
     "tableResultSettingsMap": {},
     "title": ""
    }
   },
   "outputs": [
    {
     "output_type": "stream",
     "name": "stdout",
     "output_type": "stream",
     "text": [
      "Ventana 30 filas → 10.62 s\n"
     ]
    }
   ],
   "source": [
    "w_small = (Window.partitionBy('userId')\n",
    "                   .orderBy(col('timestamp').desc())\n",
    "                   .rowsBetween(-30, 0))\n",
    "t0 = time()\n",
    "ratingsDf.withColumn('mov_avg', avg('rating').over(w_small)) \\\n",
    "       .write.format('noop').mode('overwrite').save()\n",
    "print('Ventana 30 filas →', round(time() - t0, 2), 's')\n"
   ]
  },
  {
   "cell_type": "markdown",
   "metadata": {
    "application/vnd.databricks.v1+cell": {
     "cellMetadata": {
      "byteLimit": 2048000,
      "rowLimit": 10000
     },
     "inputWidgets": {},
     "nuid": "a623cf6a-4784-48f7-8e1d-0e2485a948a7",
     "showTitle": false,
     "tableResultSettingsMap": {},
     "title": ""
    }
   },
   "source": [
    "# Particiones **wide** vs **tall**"
   ]
  },
  {
   "cell_type": "code",
   "execution_count": 0,
   "metadata": {
    "application/vnd.databricks.v1+cell": {
     "cellMetadata": {
      "byteLimit": 2048000,
      "rowLimit": 10000
     },
     "inputWidgets": {},
     "nuid": "45715f54-605b-4631-bb45-48f57c8622a9",
     "showTitle": false,
     "tableResultSettingsMap": {},
     "title": ""
    }
   },
   "outputs": [
    {
     "output_type": "stream",
     "name": "stdout",
     "output_type": "stream",
     "text": [
      "Tall (userId) | tiempo (s): 4.8\nWide (rating) | tiempo (s): 5.11\n"
     ]
    }
   ],
   "source": [
    "\n",
    "\n",
    "def run_exp(key_col, label):\n",
    "    \"\"\"\n",
    "    key_col : str\n",
    "        Nombre de la columna que será la clave de partición (wide vs tall).\n",
    "    label   : str\n",
    "        Texto descriptivo para la impresión de resultados.\n",
    "    \"\"\"\n",
    "    df = ratingsDf.withColumn(\"partition_key\", col(key_col))  # conserva rating intacto\n",
    "    t0 = time()\n",
    "    (df\n",
    "     .repartition(\"partition_key\")           # reorganiza datos según la clave\n",
    "     .groupBy(\"partition_key\")\n",
    "     .agg(avg(\"rating\"))                   # rating sigue existiendo\n",
    "     .count())\n",
    "    print(label, \"| tiempo (s):\", round(time() - t0, 2))\n",
    "\n",
    "# Experimentos\n",
    "run_exp(\"userId\",  \"Tall (userId)\")   # muchas particiones pequeñas\n",
    "run_exp(\"rating\",  \"Wide (rating)\")   # pocas particiones grandes\n"
   ]
  },
  {
   "cell_type": "code",
   "execution_count": 0,
   "metadata": {
    "application/vnd.databricks.v1+cell": {
     "cellMetadata": {
      "byteLimit": 2048000,
      "rowLimit": 10000
     },
     "inputWidgets": {},
     "nuid": "d2fda4fa-7868-4006-9377-48c4d325c295",
     "showTitle": false,
     "tableResultSettingsMap": {},
     "title": ""
    }
   },
   "outputs": [],
   "source": []
  }
 ],
 "metadata": {
  "application/vnd.databricks.v1+notebook": {
   "computePreferences": null,
   "dashboards": [],
   "environmentMetadata": {
    "base_environment": "",
    "environment_version": "2"
   },
   "inputWidgetPreferences": null,
   "language": "python",
   "notebookMetadata": {
    "mostRecentlyExecutedCommandWithImplicitDF": {
     "commandId": 6622213695038600,
     "dataframes": [
      "_sqldf"
     ]
    },
    "pythonIndentUnit": 4
   },
   "notebookName": "05.2 Ventanas pt 2",
   "widgets": {}
  },
  "language_info": {
   "name": "python"
  }
 },
 "nbformat": 4,
 "nbformat_minor": 0
}