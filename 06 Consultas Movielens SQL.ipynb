{
 "cells": [
  {
   "cell_type": "code",
   "execution_count": 0,
   "metadata": {
    "application/vnd.databricks.v1+cell": {
     "cellMetadata": {
      "byteLimit": 2048000,
      "rowLimit": 10000
     },
     "inputWidgets": {},
     "nuid": "e6df2ac8-6c08-472b-8fe1-22ffe0506970",
     "showTitle": false,
     "tableResultSettingsMap": {},
     "title": ""
    }
   },
   "outputs": [],
   "source": [
    "#import findspark\n",
    "#findspark.init('/spark/spark-3.5.1-bin-hadoop3')\n",
    "from pyspark import *\n",
    "from pyspark.sql import SparkSession\n",
    "from pyspark.sql.types import StructType,StructField, StringType, IntegerType, DateType, TimestampType, LongType\n",
    "from pyspark.sql.types import ArrayType, DoubleType, BooleanType, DecimalType\n",
    "from pyspark.sql.functions import regexp_extract, split, from_unixtime, col, avg, min, max, desc\n",
    "from pyspark.sql.functions import grouping, explode, array_contains\n",
    "\n",
    "\n",
    "\n",
    "#spark = SparkSession.builder.appName(\"movielens\").getOrCreate()"
   ]
  },
  {
   "cell_type": "markdown",
   "metadata": {
    "application/vnd.databricks.v1+cell": {
     "cellMetadata": {},
     "inputWidgets": {},
     "nuid": "b95ea1f2-7fbb-4fae-a542-87db00a3d855",
     "showTitle": false,
     "tableResultSettingsMap": {},
     "title": ""
    }
   },
   "source": [
    "# Consultas sobre Movielens\n",
    "\n",
    "## Schema de Movielens\n",
    "\n",
    "![Schema](movielens_schema.png)\n",
    "\n",
    "## ¿Cuál es la distribución de la clasificación de las películas? \n",
    "\n",
    "Proceso:\n",
    "\n",
    "1. Cargar la tabla ratings\n",
    "1. Cargar la tabla movies\n",
    "1. Unir ambas tablas\n",
    "1. Agrupar por calificación\n",
    "1. Contar las películas\n"
   ]
  },
  {
   "cell_type": "markdown",
   "metadata": {
    "application/vnd.databricks.v1+cell": {
     "cellMetadata": {},
     "inputWidgets": {},
     "nuid": "756058d7-e527-42d4-bbe8-b00d227d9084",
     "showTitle": false,
     "tableResultSettingsMap": {},
     "title": ""
    }
   },
   "source": [
    "### Cargar las tablas"
   ]
  },
  {
   "cell_type": "code",
   "execution_count": 0,
   "metadata": {
    "application/vnd.databricks.v1+cell": {
     "cellMetadata": {
      "byteLimit": 2048000,
      "rowLimit": 10000
     },
     "inputWidgets": {},
     "nuid": "103b1a28-a408-49b4-88a0-8dae2ab6c1cc",
     "showTitle": false,
     "tableResultSettingsMap": {},
     "title": ""
    }
   },
   "outputs": [],
   "source": [
    "# Tabla Ratings\n",
    "ratings_schema  = StructType(fields=[\n",
    "    StructField(\"userId\",IntegerType(),True), \n",
    "    StructField(\"movieId\",IntegerType(),True),\n",
    "    StructField(\"rating\",DecimalType(precision=2,scale=1),True),\n",
    "    StructField(\"timestamp\",LongType(),True)\n",
    "])\n",
    "ratingsDf = spark.read\\\n",
    "    .option(\"header\", True)\\\n",
    "    .option(\"dateFormat\", \"yyyyMMdd\")\\\n",
    "    .schema(ratings_schema)\\\n",
    "    .csv(\"dbfs:/FileStore/tables/ratings.csv\")\\\n",
    "    .withColumn(\\\n",
    "            \"date\",\\\n",
    "            from_unixtime(\"timestamp\", \"yyyyMMdd\"))\\\n",
    "                .drop('timestamp')\n",
    "\n",
    "# Tabla Movies\n",
    "movies_schema  = StructType(fields=[\n",
    "    StructField(\"movieId\",IntegerType(),True), \n",
    "    StructField(\"title\",StringType(),True),\n",
    "    StructField(\"genres\",StringType(),True)\n",
    "])\n",
    "\n",
    "moviesDf = spark.read\\\n",
    "    .option(\"header\", True)\\\n",
    "    .schema(movies_schema)\\\n",
    "    .csv(\"dbfs:/FileStore/tables/movies.csv\")\n",
    "\n",
    "moviesDf = moviesDf.withColumn(\"genresSplit\", split(moviesDf[\"genres\"],\"\\|\"))\\\n",
    "                        .drop('genres').withColumnRenamed(\"genresSplit\",\"genres\")\\\n",
    "                            .withColumn(\\\n",
    "                                \"year\",\\\n",
    "                                regexp_extract(\\\n",
    "                                           moviesDf[\"title\"],\\\n",
    "                                           \"^.+\\(([0-9]+)\\)$\",\\\n",
    "                                           1)\\\n",
    "                                .cast(IntegerType()))\\\n",
    "                            .withColumn(\\\n",
    "                            \"title_temp\",\\\n",
    "                            regexp_extract(\\\n",
    "                                           moviesDf[\"title\"],\\\n",
    "                                           \"^(.+?) \\([0-9]+\\)$\",\\\n",
    "                                           1))\\\n",
    "                            .drop('title')\\\n",
    "                        .withColumnRenamed(\"title_temp\",\"title\")"
   ]
  },
  {
   "cell_type": "markdown",
   "metadata": {
    "application/vnd.databricks.v1+cell": {
     "cellMetadata": {},
     "inputWidgets": {},
     "nuid": "af05a09d-094a-4c63-9085-b291d867193c",
     "showTitle": false,
     "tableResultSettingsMap": {},
     "title": ""
    }
   },
   "source": [
    "### Unir Ambas tablas"
   ]
  },
  {
   "cell_type": "code",
   "execution_count": 0,
   "metadata": {
    "application/vnd.databricks.v1+cell": {
     "cellMetadata": {
      "byteLimit": 2048000,
      "rowLimit": 10000
     },
     "inputWidgets": {},
     "nuid": "34c851d9-a33c-4c8f-98a1-3b423d6a63e5",
     "showTitle": false,
     "tableResultSettingsMap": {},
     "title": ""
    }
   },
   "outputs": [
    {
     "output_type": "stream",
     "name": "stdout",
     "output_type": "stream",
     "text": [
      "+-------+------+------+--------+--------------------+----+----------------+\n|movieId|userId|rating|    date|              genres|year|           title|\n+-------+------+------+--------+--------------------+----+----------------+\n|      1|     1|   4.0|20000730|[Adventure, Anima...|1995|       Toy Story|\n|      3|     1|   4.0|20000730|   [Comedy, Romance]|1995|Grumpier Old Men|\n|      6|     1|   4.0|20000730|[Action, Crime, T...|1995|            Heat|\n+-------+------+------+--------+--------------------+----+----------------+\nonly showing top 3 rows\n\n"
     ]
    }
   ],
   "source": [
    "movie_ratingsDF = ratingsDf.join(moviesDf,on=\"movieId\",how=\"inner\")\n",
    "movie_ratingsDF.show(3)"
   ]
  },
  {
   "cell_type": "markdown",
   "metadata": {
    "application/vnd.databricks.v1+cell": {
     "cellMetadata": {},
     "inputWidgets": {},
     "nuid": "5b2cd25d-8757-499a-8746-0701755046d3",
     "showTitle": false,
     "tableResultSettingsMap": {},
     "title": ""
    }
   },
   "source": [
    "### Mostrar la tabla"
   ]
  },
  {
   "cell_type": "code",
   "execution_count": 0,
   "metadata": {
    "application/vnd.databricks.v1+cell": {
     "cellMetadata": {},
     "inputWidgets": {},
     "nuid": "ff855ec5-88b1-45a5-8b0f-3d2d6095a36b",
     "showTitle": false,
     "tableResultSettingsMap": {},
     "title": ""
    },
    "scrolled": true
   },
   "outputs": [],
   "source": [
    "movie_ratingsDF.show(2)"
   ]
  },
  {
   "cell_type": "markdown",
   "metadata": {
    "application/vnd.databricks.v1+cell": {
     "cellMetadata": {},
     "inputWidgets": {},
     "nuid": "36dfb873-5baa-4e13-b9ab-5d24620701a0",
     "showTitle": false,
     "tableResultSettingsMap": {},
     "title": ""
    }
   },
   "source": [
    "Obtener todas las películas con una calificación superior a 4."
   ]
  },
  {
   "cell_type": "code",
   "execution_count": 0,
   "metadata": {
    "application/vnd.databricks.v1+cell": {
     "cellMetadata": {
      "byteLimit": 2048000,
      "rowLimit": 10000
     },
     "inputWidgets": {},
     "nuid": "8a6613da-efb5-4d51-9470-63a06341c976",
     "showTitle": false,
     "tableResultSettingsMap": {},
     "title": ""
    }
   },
   "outputs": [
    {
     "output_type": "stream",
     "name": "stdout",
     "output_type": "stream",
     "text": [
      "+-------+------+------+--------+--------------------+----+--------------------+\n|movieId|userId|rating|    date|              genres|year|               title|\n+-------+------+------+--------+--------------------+----+--------------------+\n|     47|     1|   5.0|20000730| [Mystery, Thriller]|1995|Seven (a.k.a. Se7en)|\n|     50|     1|   5.0|20000730|[Crime, Mystery, ...|1995| Usual Suspects, The|\n|    101|     1|   5.0|20000730|[Adventure, Comed...|1996|       Bottle Rocket|\n|    151|     1|   5.0|20000730|[Action, Drama, R...|1995|             Rob Roy|\n|    157|     1|   5.0|20000730|       [Comedy, War]|1995|      Canadian Bacon|\n+-------+------+------+--------+--------------------+----+--------------------+\nonly showing top 5 rows\n\n"
     ]
    }
   ],
   "source": [
    "movie_ratingsDF.createOrReplaceTempView(\"movies\")\n",
    "high_rated_movies = spark.sql(\"SELECT * FROM movies WHERE rating > 4\")\n",
    "high_rated_movies.show(5)"
   ]
  },
  {
   "cell_type": "markdown",
   "metadata": {
    "application/vnd.databricks.v1+cell": {
     "cellMetadata": {},
     "inputWidgets": {},
     "nuid": "c4cb45cb-cce4-4fb9-ba99-21ab1f087f56",
     "showTitle": false,
     "tableResultSettingsMap": {},
     "title": ""
    }
   },
   "source": [
    "Calcular la calificación promedio por año."
   ]
  },
  {
   "cell_type": "code",
   "execution_count": 0,
   "metadata": {
    "application/vnd.databricks.v1+cell": {
     "cellMetadata": {
      "byteLimit": 2048000,
      "rowLimit": 10000
     },
     "inputWidgets": {},
     "nuid": "59766ba2-35d6-479e-a0b8-88bb3af2fe8a",
     "showTitle": false,
     "tableResultSettingsMap": {},
     "title": ""
    }
   },
   "outputs": [
    {
     "output_type": "stream",
     "name": "stdout",
     "output_type": "stream",
     "text": [
      "+----+----------+\n|year|avg_rating|\n+----+----------+\n|2018|   3.48352|\n|2017|   3.57809|\n|2016|   3.38726|\n|2015|   3.41039|\n|2014|   3.51214|\n|2013|   3.45712|\n|2012|   3.51155|\n|2011|   3.46175|\n|2010|   3.56910|\n|2009|   3.56897|\n|2008|   3.52885|\n|2007|   3.52180|\n|2006|   3.49845|\n|2005|   3.35989|\n|2004|   3.50723|\n|2003|   3.46232|\n|2002|   3.41429|\n|2001|   3.48224|\n|2000|   3.39890|\n|1999|   3.49923|\n|1998|   3.42759|\n|1997|   3.34724|\n|1996|   3.33533|\n|1995|   3.44359|\n|1994|   3.50094|\n|1993|   3.45215|\n|1992|   3.35494|\n|1991|   3.55226|\n|1990|   3.42731|\n|1989|   3.46306|\n+----+----------+\nonly showing top 30 rows\n\n"
     ]
    }
   ],
   "source": [
    "avg_ratings_by_year = spark.sql(\"SELECT year, AVG(rating) as avg_rating FROM movies GROUP BY year ORDER BY year DESC\")\n",
    "avg_ratings_by_year.show(30)"
   ]
  },
  {
   "cell_type": "markdown",
   "metadata": {
    "application/vnd.databricks.v1+cell": {
     "cellMetadata": {},
     "inputWidgets": {},
     "nuid": "75cadfa8-7ad3-4695-af99-3c75094bc3e6",
     "showTitle": false,
     "tableResultSettingsMap": {},
     "title": ""
    }
   },
   "source": [
    "Convertir la fecha de string a timestamp y extraer el año."
   ]
  },
  {
   "cell_type": "code",
   "execution_count": 0,
   "metadata": {
    "application/vnd.databricks.v1+cell": {
     "cellMetadata": {
      "byteLimit": 2048000,
      "rowLimit": 10000
     },
     "inputWidgets": {},
     "nuid": "242bb227-4481-438d-9898-340e253283a8",
     "showTitle": false,
     "tableResultSettingsMap": {},
     "title": ""
    },
    "scrolled": true
   },
   "outputs": [
    {
     "output_type": "stream",
     "name": "stdout",
     "output_type": "stream",
     "text": [
      "+-------+------+------+----------+--------------------+----+--------------------+----------+-----+\n|movieId|userId|rating|      date|              genres|year|               title|     date2|year2|\n+-------+------+------+----------+--------------------+----+--------------------+----------+-----+\n|      1|     1|   4.0|2000-07-30|[Adventure, Anima...|1995|           Toy Story|2000-07-30| 2000|\n|      3|     1|   4.0|2000-07-30|   [Comedy, Romance]|1995|    Grumpier Old Men|2000-07-30| 2000|\n|      6|     1|   4.0|2000-07-30|[Action, Crime, T...|1995|                Heat|2000-07-30| 2000|\n|     47|     1|   5.0|2000-07-30| [Mystery, Thriller]|1995|Seven (a.k.a. Se7en)|2000-07-30| 2000|\n|     50|     1|   5.0|2000-07-30|[Crime, Mystery, ...|1995| Usual Suspects, The|2000-07-30| 2000|\n|     70|     1|   3.0|2000-07-30|[Action, Comedy, ...|1996| From Dusk Till Dawn|2000-07-30| 2000|\n|    101|     1|   5.0|2000-07-30|[Adventure, Comed...|1996|       Bottle Rocket|2000-07-30| 2000|\n|    110|     1|   4.0|2000-07-30|[Action, Drama, War]|1995|          Braveheart|2000-07-30| 2000|\n|    151|     1|   5.0|2000-07-30|[Action, Drama, R...|1995|             Rob Roy|2000-07-30| 2000|\n|    157|     1|   5.0|2000-07-30|       [Comedy, War]|1995|      Canadian Bacon|2000-07-30| 2000|\n|    163|     1|   5.0|2000-07-30|[Action, Romance,...|1995|           Desperado|2000-07-30| 2000|\n|    216|     1|   5.0|2000-07-30|            [Comedy]|1995|       Billy Madison|2000-07-30| 2000|\n|    223|     1|   3.0|2000-07-30|            [Comedy]|1994|              Clerks|2000-07-30| 2000|\n|    231|     1|   5.0|2000-07-30| [Adventure, Comedy]|1994|Dumb & Dumber (Du...|2000-07-30| 2000|\n|    235|     1|   4.0|2000-07-30|     [Comedy, Drama]|1994|             Ed Wood|2000-07-30| 2000|\n|    260|     1|   5.0|2000-07-30|[Action, Adventur...|1977|Star Wars: Episod...|2000-07-30| 2000|\n|    296|     1|   3.0|2000-07-30|[Comedy, Crime, D...|1994|        Pulp Fiction|2000-07-30| 2000|\n|    316|     1|   3.0|2000-07-30|[Action, Adventur...|1994|            Stargate|2000-07-30| 2000|\n|    333|     1|   5.0|2000-07-30|            [Comedy]|1995|           Tommy Boy|2000-07-30| 2000|\n|    349|     1|   4.0|2000-07-30|[Action, Crime, D...|1994|Clear and Present...|2000-07-30| 2000|\n+-------+------+------+----------+--------------------+----+--------------------+----------+-----+\nonly showing top 20 rows\n\n"
     ]
    }
   ],
   "source": [
    "from pyspark.sql.functions import col, year, to_date\n",
    "\n",
    "movie_ratingsDF = movie_ratingsDF.withColumn(\"date2\", to_date(col(\"date\"), \"yyyyMMdd\"))\n",
    "movie_ratingsDF = movie_ratingsDF.withColumn(\"year2\", year(col(\"date2\")))\n",
    "movie_ratingsDF.show(20)\n"
   ]
  },
  {
   "cell_type": "markdown",
   "metadata": {
    "application/vnd.databricks.v1+cell": {
     "cellMetadata": {},
     "inputWidgets": {},
     "nuid": "ae9ad7a1-c9dc-4ed4-822f-fffb974a1294",
     "showTitle": false,
     "tableResultSettingsMap": {},
     "title": ""
    }
   },
   "source": [
    "Filtrar películas del género 'Comedy' y ordenarlas por calificación descendente."
   ]
  },
  {
   "cell_type": "code",
   "execution_count": 0,
   "metadata": {
    "application/vnd.databricks.v1+cell": {
     "cellMetadata": {
      "byteLimit": 2048000,
      "rowLimit": 10000
     },
     "inputWidgets": {},
     "nuid": "1223326c-8dbf-4002-98cf-8ef82fb955a4",
     "showTitle": false,
     "tableResultSettingsMap": {},
     "title": ""
    }
   },
   "outputs": [
    {
     "output_type": "stream",
     "name": "stdout",
     "output_type": "stream",
     "text": [
      "+-------+------+------+--------+--------------------+----+--------------------+\n|movieId|userId|rating|    date|              genres|year|               title|\n+-------+------+------+--------+--------------------+----+--------------------+\n|   2141|     1|   5.0|20000730|[Adventure, Anima...|1986|   American Tail, An|\n|  60756|     2|   5.0|20151024|            [Comedy]|2008|       Step Brothers|\n|   2387|     1|   5.0|20000730|     [Comedy, Crime]|1998|     Very Bad Things|\n|    157|     1|   5.0|20000730|       [Comedy, War]|1995|      Canadian Bacon|\n|   2395|     1|   5.0|20000730|     [Comedy, Drama]|1998|            Rushmore|\n|    231|     1|   5.0|20000730| [Adventure, Comedy]|1994|Dumb & Dumber (Du...|\n|   2470|     1|   5.0|20000730| [Adventure, Comedy]|1986|    Crocodile Dundee|\n|    608|     1|   5.0|20000730|[Comedy, Crime, D...|1996|               Fargo|\n|   2502|     1|   5.0|20000730|     [Comedy, Crime]|1999|        Office Space|\n|   1073|     1|   5.0|20000730|[Children, Comedy...|1971|Willy Wonka & the...|\n|   2542|     1|   5.0|20000730|[Comedy, Crime, T...|1998|Lock, Stock & Two...|\n|   1136|     1|   5.0|20000730|[Adventure, Comed...|1975|Monty Python and ...|\n|   2580|     1|   5.0|20000730|     [Comedy, Crime]|1999|                  Go|\n|   1220|     1|   5.0|20000730|[Action, Comedy, ...|1980| Blues Brothers, The|\n|   2596|     1|   5.0|20000730|     [Comedy, Drama]|1998|           SLC Punk!|\n|   1270|     1|   5.0|20000730|[Adventure, Comed...|1985|  Back to the Future|\n|   2700|     1|   5.0|20000730|[Animation, Comed...|1999|South Park: Bigge...|\n|   1517|     1|   5.0|20000730|[Action, Adventur...|1997|Austin Powers: In...|\n|   2716|     1|   5.0|20000730|[Action, Comedy, ...|1984|Ghostbusters (a.k...|\n|   2005|     1|   5.0|20000730|[Action, Adventur...|1985|        Goonies, The|\n+-------+------+------+--------+--------------------+----+--------------------+\nonly showing top 20 rows\n\n"
     ]
    }
   ],
   "source": [
    "comedy_movies = spark.sql(\"\"\"\n",
    "  SELECT * \n",
    "  FROM movies \n",
    "  WHERE array_contains(genres, 'Comedy') \n",
    "  ORDER BY rating DESC\n",
    "\"\"\")\n",
    "comedy_movies.show()\n"
   ]
  },
  {
   "cell_type": "markdown",
   "metadata": {
    "application/vnd.databricks.v1+cell": {
     "cellMetadata": {},
     "inputWidgets": {},
     "nuid": "381494a5-7ab8-4174-af32-4e11bbd23db0",
     "showTitle": false,
     "tableResultSettingsMap": {},
     "title": ""
    }
   },
   "source": []
  },
  {
   "cell_type": "code",
   "execution_count": 0,
   "metadata": {
    "application/vnd.databricks.v1+cell": {
     "cellMetadata": {},
     "inputWidgets": {},
     "nuid": "a2b37501-ee2f-4412-9e3a-8ce1915027ed",
     "showTitle": false,
     "tableResultSettingsMap": {},
     "title": ""
    }
   },
   "outputs": [],
   "source": []
  }
 ],
 "metadata": {
  "application/vnd.databricks.v1+notebook": {
   "computePreferences": null,
   "dashboards": [],
   "environmentMetadata": null,
   "inputWidgetPreferences": null,
   "language": "python",
   "notebookMetadata": {
    "pythonIndentUnit": 4
   },
   "notebookName": "06 Consultas Movielens SQL",
   "widgets": {}
  },
  "kernelspec": {
   "display_name": "Python 3 (ipykernel)",
   "language": "python",
   "name": "python3"
  },
  "language_info": {
   "codemirror_mode": {
    "name": "ipython",
    "version": 3
   },
   "file_extension": ".py",
   "mimetype": "text/x-python",
   "name": "python",
   "nbconvert_exporter": "python",
   "pygments_lexer": "ipython3",
   "version": "3.9.17"
  }
 },
 "nbformat": 4,
 "nbformat_minor": 0
}