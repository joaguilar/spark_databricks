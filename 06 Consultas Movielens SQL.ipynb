{
 "cells": [
  {
   "cell_type": "code",
   "execution_count": 0,
   "metadata": {
    "application/vnd.databricks.v1+cell": {
     "cellMetadata": {
      "byteLimit": 2048000,
      "rowLimit": 10000
     },
     "inputWidgets": {},
     "nuid": "e6df2ac8-6c08-472b-8fe1-22ffe0506970",
     "showTitle": false,
     "tableResultSettingsMap": {},
     "title": ""
    }
   },
   "outputs": [],
   "source": [
    "#import findspark\n",
    "#findspark.init('/spark/spark-3.5.1-bin-hadoop3')\n",
    "from pyspark import *\n",
    "from pyspark.sql import SparkSession\n",
    "from pyspark.sql.types import StructType,StructField, StringType, IntegerType, DateType, TimestampType, LongType\n",
    "from pyspark.sql.types import ArrayType, DoubleType, BooleanType, DecimalType\n",
    "from pyspark.sql.functions import regexp_extract, split, from_unixtime, col, avg, min, max, desc\n",
    "from pyspark.sql.functions import grouping, explode, array_contains\n",
    "\n",
    "\n",
    "\n",
    "#spark = SparkSession.builder.appName(\"movielens\").getOrCreate()"
   ]
  },
  {
   "cell_type": "markdown",
   "metadata": {
    "application/vnd.databricks.v1+cell": {
     "cellMetadata": {
      "byteLimit": 2048000,
      "rowLimit": 10000
     },
     "inputWidgets": {},
     "nuid": "b95ea1f2-7fbb-4fae-a542-87db00a3d855",
     "showTitle": false,
     "tableResultSettingsMap": {},
     "title": ""
    }
   },
   "source": [
    "# Consultas sobre Movielens\n",
    "\n",
    "## Schema de Movielens\n",
    "\n",
    "![Schema](movielens_schema.png)\n",
    "\n",
    "## ¿Cuál es la distribución de la clasificación de las películas? \n",
    "\n",
    "Proceso:\n",
    "\n",
    "1. Cargar la tabla ratings\n",
    "1. Cargar la tabla movies\n",
    "1. Unir ambas tablas\n",
    "1. Agrupar por calificación\n",
    "1. Contar las películas\n"
   ]
  },
  {
   "cell_type": "markdown",
   "metadata": {
    "application/vnd.databricks.v1+cell": {
     "cellMetadata": {
      "byteLimit": 2048000,
      "rowLimit": 10000
     },
     "inputWidgets": {},
     "nuid": "756058d7-e527-42d4-bbe8-b00d227d9084",
     "showTitle": false,
     "tableResultSettingsMap": {},
     "title": ""
    }
   },
   "source": [
    "### Cargar las tablas"
   ]
  },
  {
   "cell_type": "code",
   "execution_count": 0,
   "metadata": {
    "application/vnd.databricks.v1+cell": {
     "cellMetadata": {
      "byteLimit": 2048000,
      "rowLimit": 10000
     },
     "inputWidgets": {},
     "nuid": "103b1a28-a408-49b4-88a0-8dae2ab6c1cc",
     "showTitle": false,
     "tableResultSettingsMap": {},
     "title": ""
    }
   },
   "outputs": [],
   "source": [
    "# Tabla Ratings\n",
    "ratings_schema  = StructType(fields=[\n",
    "    StructField(\"userId\",IntegerType(),True), \n",
    "    StructField(\"movieId\",StringType(),True),\n",
    "    StructField(\"rating\",DecimalType(precision=2,scale=1),True),\n",
    "    StructField(\"timestamp\",LongType(),True)\n",
    "])\n",
    "ratingsDf = spark.read\\\n",
    "    .option(\"header\", True)\\\n",
    "    .option(\"dateFormat\", \"yyyyMMdd\")\\\n",
    "    .schema(ratings_schema)\\\n",
    "    .csv(\"/Volumes/big_data_ii_2025/spark_examples/spark_data/ratings_full.csv\")\\\n",
    "    .withColumn(\\\n",
    "            \"date\",\\\n",
    "            from_unixtime(\"timestamp\", \"yyyyMMdd\"))\\\n",
    "                .drop('timestamp')\n",
    "\n",
    "# Tabla Movies\n",
    "movies_schema  = StructType(fields=[\n",
    "    StructField(\"movieId\",StringType(),True), \n",
    "    StructField(\"title\",StringType(),True),\n",
    "    StructField(\"genres\",StringType(),True)\n",
    "])\n",
    "\n",
    "moviesDf = spark.read\\\n",
    "    .option(\"header\", True)\\\n",
    "    .schema(movies_schema)\\\n",
    "    .csv(\"/Volumes/big_data_ii_2025/spark_examples/spark_data/movies.csv\")\n",
    "\n",
    "moviesDf = moviesDf.withColumn(\"genresSplit\", split(moviesDf[\"genres\"],\"\\|\"))\\\n",
    "                        .drop('genres').withColumnRenamed(\"genresSplit\",\"genres\")\\\n",
    "                            .withColumn(\\\n",
    "                                \"year\",\\\n",
    "                                regexp_extract(\\\n",
    "                                           moviesDf[\"title\"],\\\n",
    "                                           \"^.+\\(([0-9]+)\\)$\",\\\n",
    "                                           1)\\\n",
    "                                .try_cast(IntegerType()))\\\n",
    "                            .withColumn(\\\n",
    "                            \"title_temp\",\\\n",
    "                            regexp_extract(\\\n",
    "                                           moviesDf[\"title\"],\\\n",
    "                                           \"^(.+?) \\([0-9]+\\)$\",\\\n",
    "                                           1))\\\n",
    "                            .drop('title')\\\n",
    "                        .withColumnRenamed(\"title_temp\",\"title\")"
   ]
  },
  {
   "cell_type": "code",
   "execution_count": 0,
   "metadata": {
    "application/vnd.databricks.v1+cell": {
     "cellMetadata": {
      "byteLimit": 2048000,
      "rowLimit": 10000
     },
     "inputWidgets": {},
     "nuid": "e4ab5384-0a67-4832-93e5-96c5447f8af0",
     "showTitle": false,
     "tableResultSettingsMap": {},
     "title": ""
    }
   },
   "outputs": [
    {
     "output_type": "execute_result",
     "data": {
      "text/plain": [
       "86537"
      ]
     },
     "execution_count": 17,
     "metadata": {},
     "output_type": "execute_result"
    }
   ],
   "source": [
    "moviesDf.count()"
   ]
  },
  {
   "cell_type": "code",
   "execution_count": 0,
   "metadata": {
    "application/vnd.databricks.v1+cell": {
     "cellMetadata": {
      "byteLimit": 2048000,
      "rowLimit": 10000
     },
     "inputWidgets": {},
     "nuid": "eaba03ba-a514-4751-b98f-a2a444ca6f28",
     "showTitle": false,
     "tableResultSettingsMap": {},
     "title": ""
    }
   },
   "outputs": [
    {
     "output_type": "execute_result",
     "data": {
      "text/plain": [
       "33832162"
      ]
     },
     "execution_count": 18,
     "metadata": {},
     "output_type": "execute_result"
    }
   ],
   "source": [
    "ratingsDf.count()"
   ]
  },
  {
   "cell_type": "markdown",
   "metadata": {
    "application/vnd.databricks.v1+cell": {
     "cellMetadata": {
      "byteLimit": 2048000,
      "rowLimit": 10000
     },
     "inputWidgets": {},
     "nuid": "af05a09d-094a-4c63-9085-b291d867193c",
     "showTitle": false,
     "tableResultSettingsMap": {},
     "title": ""
    }
   },
   "source": [
    "### Unir Ambas tablas"
   ]
  },
  {
   "cell_type": "code",
   "execution_count": 0,
   "metadata": {
    "application/vnd.databricks.v1+cell": {
     "cellMetadata": {
      "byteLimit": 2048000,
      "rowLimit": 10000
     },
     "inputWidgets": {},
     "nuid": "34c851d9-a33c-4c8f-98a1-3b423d6a63e5",
     "showTitle": false,
     "tableResultSettingsMap": {},
     "title": ""
    }
   },
   "outputs": [
    {
     "output_type": "stream",
     "name": "stdout",
     "output_type": "stream",
     "text": [
      "+-------+------+------+--------+--------------------+----+----------+\n|movieId|userId|rating|    date|              genres|year|     title|\n+-------+------+------+--------+--------------------+----+----------+\n|      1|     1|   4.0|20081103|[Adventure, Anima...|1995| Toy Story|\n|    110|     1|   4.0|20081105|[Action, Drama, War]|1995|Braveheart|\n|    158|     1|   4.0|20081103|[Adventure, Child...|1995|    Casper|\n+-------+------+------+--------+--------------------+----+----------+\nonly showing top 3 rows\n"
     ]
    }
   ],
   "source": [
    "movie_ratingsDF = ratingsDf.join(moviesDf,on=\"movieId\",how=\"inner\")\n",
    "movie_ratingsDF.show(3)"
   ]
  },
  {
   "cell_type": "markdown",
   "metadata": {
    "application/vnd.databricks.v1+cell": {
     "cellMetadata": {
      "byteLimit": 2048000,
      "rowLimit": 10000
     },
     "inputWidgets": {},
     "nuid": "5b2cd25d-8757-499a-8746-0701755046d3",
     "showTitle": false,
     "tableResultSettingsMap": {},
     "title": ""
    }
   },
   "source": [
    "### Mostrar la tabla"
   ]
  },
  {
   "cell_type": "code",
   "execution_count": 0,
   "metadata": {
    "application/vnd.databricks.v1+cell": {
     "cellMetadata": {
      "byteLimit": 2048000,
      "rowLimit": 10000
     },
     "inputWidgets": {},
     "nuid": "ff855ec5-88b1-45a5-8b0f-3d2d6095a36b",
     "showTitle": false,
     "tableResultSettingsMap": {},
     "title": ""
    },
    "scrolled": true
   },
   "outputs": [
    {
     "output_type": "stream",
     "name": "stdout",
     "output_type": "stream",
     "text": [
      "+-------+------+------+--------+--------------------+----+----------+\n|movieId|userId|rating|    date|              genres|year|     title|\n+-------+------+------+--------+--------------------+----+----------+\n|      1|     1|   4.0|20081103|[Adventure, Anima...|1995| Toy Story|\n|    110|     1|   4.0|20081105|[Action, Drama, War]|1995|Braveheart|\n+-------+------+------+--------+--------------------+----+----------+\nonly showing top 2 rows\n"
     ]
    }
   ],
   "source": [
    "movie_ratingsDF.show(2)"
   ]
  },
  {
   "cell_type": "markdown",
   "metadata": {
    "application/vnd.databricks.v1+cell": {
     "cellMetadata": {
      "byteLimit": 2048000,
      "rowLimit": 10000
     },
     "inputWidgets": {},
     "nuid": "36dfb873-5baa-4e13-b9ab-5d24620701a0",
     "showTitle": false,
     "tableResultSettingsMap": {},
     "title": ""
    }
   },
   "source": [
    "Obtener todas las películas con una calificación superior a 4."
   ]
  },
  {
   "cell_type": "code",
   "execution_count": 0,
   "metadata": {
    "application/vnd.databricks.v1+cell": {
     "cellMetadata": {
      "byteLimit": 2048000,
      "rowLimit": 10000
     },
     "inputWidgets": {},
     "nuid": "8a6613da-efb5-4d51-9470-63a06341c976",
     "showTitle": false,
     "tableResultSettingsMap": {},
     "title": ""
    }
   },
   "outputs": [
    {
     "output_type": "stream",
     "name": "stdout",
     "output_type": "stream",
     "text": [
      "+-------+------+------+--------+--------------------+----+--------------------+\n|movieId|userId|rating|    date|              genres|year|               title|\n+-------+------+------+--------+--------------------+----+--------------------+\n|    260|     1|   4.5|20081103|[Action, Adventur...|1977|Star Wars: Episod...|\n|    356|     1|   5.0|20081103|[Comedy, Drama, R...|1994|        Forrest Gump|\n|   1036|     1|   5.0|20081103|[Action, Crime, T...|1988|            Die Hard|\n|   1210|     1|   4.5|20081103|[Action, Adventur...|1983|Star Wars: Episod...|\n|   1291|     1|   5.0|20081103| [Action, Adventure]|1989|Indiana Jones and...|\n+-------+------+------+--------+--------------------+----+--------------------+\nonly showing top 5 rows\n"
     ]
    }
   ],
   "source": [
    "movie_ratingsDF.createOrReplaceTempView(\"movies\")\n",
    "high_rated_movies = spark.sql(\"SELECT * FROM movies WHERE rating > 4\")\n",
    "high_rated_movies.show(5)"
   ]
  },
  {
   "cell_type": "markdown",
   "metadata": {
    "application/vnd.databricks.v1+cell": {
     "cellMetadata": {
      "byteLimit": 2048000,
      "rowLimit": 10000
     },
     "inputWidgets": {},
     "nuid": "c4cb45cb-cce4-4fb9-ba99-21ab1f087f56",
     "showTitle": false,
     "tableResultSettingsMap": {},
     "title": ""
    }
   },
   "source": [
    "Calcular la calificación promedio por año."
   ]
  },
  {
   "cell_type": "code",
   "execution_count": 0,
   "metadata": {
    "application/vnd.databricks.v1+cell": {
     "cellMetadata": {
      "byteLimit": 2048000,
      "rowLimit": 10000
     },
     "inputWidgets": {},
     "nuid": "59766ba2-35d6-479e-a0b8-88bb3af2fe8a",
     "showTitle": false,
     "tableResultSettingsMap": {},
     "title": ""
    }
   },
   "outputs": [
    {
     "output_type": "stream",
     "name": "stdout",
     "output_type": "stream",
     "text": [
      "+----+----------+\n|year|avg_rating|\n+----+----------+\n|2023|   3.28833|\n|2022|   3.37017|\n|2021|   3.33446|\n|2020|   3.34064|\n|2019|   3.57170|\n|2018|   3.49244|\n|2017|   3.55593|\n|2016|   3.54984|\n|2015|   3.57558|\n|2014|   3.64666|\n|2013|   3.50208|\n|2012|   3.55204|\n|2011|   3.49184|\n|2010|   3.57566|\n|2009|   3.52738|\n|2008|   3.52775|\n|2007|   3.51211|\n|2006|   3.56065|\n|2005|   3.43242|\n|2004|   3.52082|\n|2003|   3.48517|\n|2002|   3.48609|\n|2001|   3.51340|\n|2000|   3.43224|\n|1999|   3.53721|\n|1998|   3.46645|\n|1997|   3.42968|\n|1996|   3.35992|\n|1995|   3.47224|\n|1994|   3.54942|\n+----+----------+\nonly showing top 30 rows\n"
     ]
    }
   ],
   "source": [
    "avg_ratings_by_year = spark.sql(\"SELECT year, AVG(rating) as avg_rating FROM movies GROUP BY year ORDER BY year DESC\")\n",
    "avg_ratings_by_year.show(30)"
   ]
  },
  {
   "cell_type": "markdown",
   "metadata": {
    "application/vnd.databricks.v1+cell": {
     "cellMetadata": {
      "byteLimit": 2048000,
      "rowLimit": 10000
     },
     "inputWidgets": {},
     "nuid": "75cadfa8-7ad3-4695-af99-3c75094bc3e6",
     "showTitle": false,
     "tableResultSettingsMap": {},
     "title": ""
    }
   },
   "source": [
    "Convertir la fecha de string a timestamp y extraer el año."
   ]
  },
  {
   "cell_type": "code",
   "execution_count": 0,
   "metadata": {
    "application/vnd.databricks.v1+cell": {
     "cellMetadata": {
      "byteLimit": 2048000,
      "rowLimit": 10000
     },
     "inputWidgets": {},
     "nuid": "242bb227-4481-438d-9898-340e253283a8",
     "showTitle": false,
     "tableResultSettingsMap": {},
     "title": ""
    },
    "scrolled": true
   },
   "outputs": [
    {
     "output_type": "stream",
     "name": "stdout",
     "output_type": "stream",
     "text": [
      "+-------+------+------+--------+--------------------+----+--------------------+----------+-----+\n|movieId|userId|rating|    date|              genres|year|               title|     date2|year2|\n+-------+------+------+--------+--------------------+----+--------------------+----------+-----+\n|      1|     1|   4.0|20081103|[Adventure, Anima...|1995|           Toy Story|2008-11-03| 2008|\n|    110|     1|   4.0|20081105|[Action, Drama, War]|1995|          Braveheart|2008-11-05| 2008|\n|    158|     1|   4.0|20081103|[Adventure, Child...|1995|              Casper|2008-11-03| 2008|\n|    260|     1|   4.5|20081103|[Action, Adventur...|1977|Star Wars: Episod...|2008-11-03| 2008|\n|    356|     1|   5.0|20081103|[Comedy, Drama, R...|1994|        Forrest Gump|2008-11-03| 2008|\n|    381|     1|   3.5|20081103|    [Drama, Romance]|1994|When a Man Loves ...|2008-11-03| 2008|\n|    596|     1|   4.0|20081103|[Animation, Child...|1940|           Pinocchio|2008-11-03| 2008|\n|   1036|     1|   5.0|20081103|[Action, Crime, T...|1988|            Die Hard|2008-11-03| 2008|\n|   1049|     1|   3.0|20081103| [Action, Adventure]|1996|Ghost and the Dar...|2008-11-03| 2008|\n|   1066|     1|   4.0|20081103|[Comedy, Musical,...|1937|      Shall We Dance|2008-11-03| 2008|\n|   1196|     1|   3.5|20081103|[Action, Adventur...|1980|Star Wars: Episod...|2008-11-03| 2008|\n|   1200|     1|   3.5|20081103|[Action, Adventur...|1986|              Aliens|2008-11-03| 2008|\n|   1210|     1|   4.5|20081103|[Action, Adventur...|1983|Star Wars: Episod...|2008-11-03| 2008|\n|   1214|     1|   4.0|20081103|    [Horror, Sci-Fi]|1979|               Alien|2008-11-03| 2008|\n|   1291|     1|   5.0|20081103| [Action, Adventure]|1989|Indiana Jones and...|2008-11-03| 2008|\n|   1293|     1|   2.0|20081103|             [Drama]|1982|              Gandhi|2008-11-03| 2008|\n|   1376|     1|   3.0|20081103|[Adventure, Comed...|1986|Star Trek IV: The...|2008-11-03| 2008|\n|   1396|     1|   3.0|20081103|[Action, Comedy, ...|1992|            Sneakers|2008-11-03| 2008|\n|   1537|     1|   4.0|20081103|[Comedy, Drama, R...|1996|Shall We Dance? (...|2008-11-03| 2008|\n|   1909|     1|   3.0|20081103|[Action, Crime, M...|1998|X-Files: Fight th...|2008-11-03| 2008|\n+-------+------+------+--------+--------------------+----+--------------------+----------+-----+\nonly showing top 20 rows\n"
     ]
    }
   ],
   "source": [
    "from pyspark.sql.functions import col, year, to_date\n",
    "\n",
    "movie_ratingsDF = movie_ratingsDF.withColumn(\"date2\", to_date(col(\"date\"), \"yyyyMMdd\"))\n",
    "movie_ratingsDF = movie_ratingsDF.withColumn(\"year2\", year(col(\"date2\")))\n",
    "movie_ratingsDF.show(20)\n"
   ]
  },
  {
   "cell_type": "markdown",
   "metadata": {
    "application/vnd.databricks.v1+cell": {
     "cellMetadata": {
      "byteLimit": 2048000,
      "rowLimit": 10000
     },
     "inputWidgets": {},
     "nuid": "ae9ad7a1-c9dc-4ed4-822f-fffb974a1294",
     "showTitle": false,
     "tableResultSettingsMap": {},
     "title": ""
    }
   },
   "source": [
    "Filtrar películas del género 'Comedy' y ordenarlas por calificación descendente."
   ]
  },
  {
   "cell_type": "code",
   "execution_count": 0,
   "metadata": {
    "application/vnd.databricks.v1+cell": {
     "cellMetadata": {
      "byteLimit": 2048000,
      "rowLimit": 10000
     },
     "inputWidgets": {},
     "nuid": "1223326c-8dbf-4002-98cf-8ef82fb955a4",
     "showTitle": false,
     "tableResultSettingsMap": {},
     "title": ""
    }
   },
   "outputs": [
    {
     "output_type": "stream",
     "name": "stdout",
     "output_type": "stream",
     "text": [
      "+-------+------+------+--------+--------------------+----+--------------------+\n|movieId|userId|rating|    date|              genres|year|               title|\n+-------+------+------+--------+--------------------+----+--------------------+\n| 115617|     3|   5.0|20180905|[Action, Animatio...|2014|          Big Hero 6|\n|   3114|     3|   5.0|20180905|[Adventure, Anima...|1999|         Toy Story 2|\n|      1|     2|   5.0|19960626|[Adventure, Anima...|1995|           Toy Story|\n|    356|     2|   5.0|19960626|[Comedy, Drama, R...|1994|        Forrest Gump|\n|   4886|     1|   5.0|20081103|[Adventure, Anima...|2001|      Monsters, Inc.|\n|    296|     3|   5.0|20180905|[Comedy, Crime, D...|1994|        Pulp Fiction|\n|    357|     2|   5.0|19960626|   [Comedy, Romance]|1994|Four Weddings and...|\n|     21|     2|   5.0|19960626|[Comedy, Crime, T...|1995|          Get Shorty|\n|  49647|     1|   5.0|20081103|[Children, Comedy...|2006|     Charlotte's Web|\n|    141|     2|   5.0|19960626|            [Comedy]|1996|       Birdcage, The|\n|   4886|     3|   5.0|20180905|[Adventure, Anima...|2001|      Monsters, Inc.|\n|   3751|     3|   5.0|20180905|[Animation, Child...|2000|         Chicken Run|\n|    539|     2|   5.0|19960626|[Comedy, Drama, R...|1993|Sleepless in Seattle|\n|    296|     2|   5.0|19960626|[Comedy, Crime, D...|1994|        Pulp Fiction|\n|   8961|     3|   5.0|20180905|[Action, Adventur...|2004|    Incredibles, The|\n|    339|     2|   5.0|19960626|   [Comedy, Romance]|1995|While You Were Sl...|\n| 119145|     3|   5.0|20180905|[Action, Adventur...|2015|Kingsman: The Sec...|\n|    356|     1|   5.0|20081103|[Comedy, Drama, R...|1994|        Forrest Gump|\n|    597|     2|   5.0|19960626|   [Comedy, Romance]|1990|        Pretty Woman|\n|   6377|     3|   5.0|20180905|[Adventure, Anima...|2003|        Finding Nemo|\n+-------+------+------+--------+--------------------+----+--------------------+\nonly showing top 20 rows\n"
     ]
    }
   ],
   "source": [
    "comedy_movies = spark.sql(\"\"\"\n",
    "  SELECT * \n",
    "  FROM movies \n",
    "  WHERE array_contains(genres, 'Comedy') \n",
    "  ORDER BY rating DESC\n",
    "\"\"\")\n",
    "comedy_movies.show()\n"
   ]
  },
  {
   "cell_type": "markdown",
   "metadata": {
    "application/vnd.databricks.v1+cell": {
     "cellMetadata": {
      "byteLimit": 2048000,
      "rowLimit": 10000
     },
     "inputWidgets": {},
     "nuid": "381494a5-7ab8-4174-af32-4e11bbd23db0",
     "showTitle": false,
     "tableResultSettingsMap": {},
     "title": ""
    }
   },
   "source": []
  },
  {
   "cell_type": "code",
   "execution_count": 0,
   "metadata": {
    "application/vnd.databricks.v1+cell": {
     "cellMetadata": {
      "byteLimit": 2048000,
      "rowLimit": 10000
     },
     "inputWidgets": {},
     "nuid": "a2b37501-ee2f-4412-9e3a-8ce1915027ed",
     "showTitle": false,
     "tableResultSettingsMap": {},
     "title": ""
    }
   },
   "outputs": [],
   "source": []
  }
 ],
 "metadata": {
  "application/vnd.databricks.v1+notebook": {
   "computePreferences": null,
   "dashboards": [],
   "environmentMetadata": null,
   "inputWidgetPreferences": null,
   "language": "python",
   "notebookMetadata": {
    "pythonIndentUnit": 4
   },
   "notebookName": "06 Consultas Movielens SQL",
   "widgets": {}
  },
  "kernelspec": {
   "display_name": "Python 3 (ipykernel)",
   "language": "python",
   "name": "python3"
  },
  "language_info": {
   "name": "python"
  }
 },
 "nbformat": 4,
 "nbformat_minor": 0
}