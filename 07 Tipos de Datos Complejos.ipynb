{
 "cells": [
  {
   "cell_type": "markdown",
   "id": "06c55875",
   "metadata": {},
   "source": [
    "# Transformaciones con Tipos de Datos Complejos: Arrays, Structs y Maps\n",
    "\n",
    "En este notebook:\n",
    "- Trabajaremos con columnas tipo array y struct a partir del dataset MovieLens.\n",
    "- Aplicaremos funciones como `explode`, y crearemos structs de varias columnas.\n"
   ]
  },
  {
   "cell_type": "code",
   "execution_count": null,
   "id": "b8ff2eff",
   "metadata": {
    "vscode": {
     "languageId": "plaintext"
    }
   },
   "outputs": [],
   "source": [
    "from pyspark.sql.functions import split, explode, struct, col\n",
    "\n",
    "# Dataset MovieLens: queremos ver para cada usuario, la lista de películas que calificó\n",
    "ratings = spark.read.csv(\"/dbfs/FileStore/movielens/ratings.csv\", header=True, inferSchema=True)\n",
    "movies = spark.read.csv(\"/dbfs/FileStore/movielens/movies.csv\", header=True, inferSchema=True)\n",
    "\n",
    "# Agrupar calificaciones por usuario (array de movieIds)\n",
    "user_movies = ratings.groupBy(\"userId\").agg(collect_list(\"movieId\").alias(\"peliculas_calificadas\"))\n",
    "user_movies.show(5, truncate=False)\n",
    "\n",
    "# Explode: expandir para tener una fila por usuario/película\n",
    "user_movies_exploded = user_movies.withColumn(\"pelicula_id\", explode(col(\"peliculas_calificadas\")))\n",
    "user_movies_exploded.show(5)\n",
    "\n",
    "# Struct: juntar nombre y género de la película\n",
    "movies_struct = movies.withColumn(\"info\", struct(\"title\", \"genres\"))\n",
    "movies_struct.select(\"movieId\", \"info\").show(5, truncate=False)\n",
    "\n",
    "# BONUS: Crear columna tipo map (clave=movieId, valor=rating) para cada usuario\n",
    "from pyspark.sql.functions import create_map, lit\n",
    "# Ejemplo sencillo: para cada usuario, tomar sus primeras 3 calificaciones y armar el map\n",
    "sample = ratings.filter(col(\"userId\") == 1).limit(3)\n",
    "sample_map = sample.withColumn(\"movie_rating_map\", create_map(col(\"movieId\"), col(\"rating\")))\n",
    "sample_map.show()\n"
   ]
  }
 ],
 "metadata": {
  "language_info": {
   "name": "python"
  }
 },
 "nbformat": 4,
 "nbformat_minor": 5
}
