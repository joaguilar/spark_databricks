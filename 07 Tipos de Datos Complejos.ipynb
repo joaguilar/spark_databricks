{
 "cells": [
  {
   "cell_type": "code",
   "execution_count": 0,
   "metadata": {
    "application/vnd.databricks.v1+cell": {
     "cellMetadata": {
      "byteLimit": 2048000,
      "rowLimit": 10000
     },
     "inputWidgets": {},
     "nuid": "3b276de4-63c6-4748-a932-523f5f4a2785",
     "showTitle": false,
     "tableResultSettingsMap": {},
     "title": ""
    }
   },
   "outputs": [],
   "source": [
    "from pyspark import *\n",
    "from pyspark.sql import SparkSession, Window\n",
    "from pyspark.sql.types import StructType,StructField, StringType, IntegerType, DateType, TimestampType, LongType\n",
    "from pyspark.sql.types import ArrayType, DoubleType, BooleanType, DecimalType\n",
    "from pyspark.sql.functions import regexp_extract, split, from_unixtime, col, avg, min, max, desc\n",
    "from pyspark.sql.functions import grouping, explode, array_contains, struct, collect_list, row_number\n"
   ]
  },
  {
   "cell_type": "markdown",
   "metadata": {
    "application/vnd.databricks.v1+cell": {
     "cellMetadata": {},
     "inputWidgets": {},
     "nuid": "b4964f37-a384-482c-826e-225bf36dbfad",
     "showTitle": false,
     "tableResultSettingsMap": {},
     "title": ""
    }
   },
   "source": [
    "# Transformaciones con Tipos de Datos Complejos: Arrays, Structs y Maps\n",
    "\n",
    "En este notebook:\n",
    "- Trabajaremos con columnas tipo array y struct a partir del dataset MovieLens.\n",
    "- Aplicaremos funciones como `explode`, y crearemos structs de varias columnas.\n"
   ]
  },
  {
   "cell_type": "code",
   "execution_count": 0,
   "metadata": {
    "application/vnd.databricks.v1+cell": {
     "cellMetadata": {
      "byteLimit": 2048000,
      "rowLimit": 10000
     },
     "inputWidgets": {},
     "nuid": "2f5b7391-b94f-412e-a61d-e786c3dac5f9",
     "showTitle": false,
     "tableResultSettingsMap": {},
     "title": ""
    },
    "vscode": {
     "languageId": "plaintext"
    }
   },
   "outputs": [],
   "source": [
    "# Tabla Ratings\n",
    "ratings_schema  = StructType(fields=[\n",
    "    StructField(\"userId\",IntegerType(),True), \n",
    "    StructField(\"movieId\",IntegerType(),True),\n",
    "    StructField(\"rating\",DecimalType(precision=2,scale=1),True),\n",
    "    StructField(\"timestamp\",LongType(),True)\n",
    "])\n",
    "ratingsDf = spark.read\\\n",
    "    .option(\"header\", True)\\\n",
    "    .option(\"dateFormat\", \"yyyyMMdd\")\\\n",
    "    .schema(ratings_schema)\\\n",
    "    .csv(\"dbfs:/FileStore/tables/ratings.csv\")\\\n",
    "    .withColumn(\\\n",
    "            \"date\",\\\n",
    "            from_unixtime(\"timestamp\", \"yyyyMMdd\"))\\\n",
    "                .drop('timestamp')\n",
    "\n",
    "# Tabla Movies\n",
    "movies_schema  = StructType(fields=[\n",
    "    StructField(\"movieId\",IntegerType(),True), \n",
    "    StructField(\"title\",StringType(),True),\n",
    "    StructField(\"genres\",StringType(),True)\n",
    "])\n",
    "\n",
    "moviesDf = spark.read\\\n",
    "    .option(\"header\", True)\\\n",
    "    .schema(movies_schema)\\\n",
    "    .csv(\"dbfs:/FileStore/tables/movies.csv\")\n",
    "\n",
    "moviesDf = moviesDf.withColumn(\"genresSplit\", split(moviesDf[\"genres\"],\"\\|\"))\\\n",
    "                        .drop('genres').withColumnRenamed(\"genresSplit\",\"genres\")\\\n",
    "                            .withColumn(\\\n",
    "                                \"year\",\\\n",
    "                                regexp_extract(\\\n",
    "                                           moviesDf[\"title\"],\\\n",
    "                                           \"^.+\\(([0-9]+)\\)$\",\\\n",
    "                                           1)\\\n",
    "                                .cast(IntegerType()))\\\n",
    "                            .withColumn(\\\n",
    "                            \"title_temp\",\\\n",
    "                            regexp_extract(\\\n",
    "                                           moviesDf[\"title\"],\\\n",
    "                                           \"^(.+?) \\([0-9]+\\)$\",\\\n",
    "                                           1))\\\n",
    "                            .drop('title')\\\n",
    "                        .withColumnRenamed(\"title_temp\",\"title\")\n",
    "\n",
    "\n"
   ]
  },
  {
   "cell_type": "code",
   "execution_count": 0,
   "metadata": {
    "application/vnd.databricks.v1+cell": {
     "cellMetadata": {
      "byteLimit": 2048000,
      "rowLimit": 10000
     },
     "inputWidgets": {},
     "nuid": "d25cf791-9ff4-4a77-b993-0c163fc7aaad",
     "showTitle": false,
     "tableResultSettingsMap": {},
     "title": ""
    }
   },
   "outputs": [
    {
     "output_type": "stream",
     "name": "stdout",
     "output_type": "stream",
     "text": [
      "+------+--------------------------------------------------------------------------------------------------------------------------------------------------------------------------------------------------------------------------------------------------------------------------------------------------------------------------------------------------------------------------------------------------------------------------------------------------------------------------------------------------------------------------------------------------------------------------------------------------------------------------------------------------------------------------------------------------------------------------------------------------------------------------------------------------------------------------------------------------------------------------------------------------------------------------------------------------------------------------------------------------------------------------------------------------------------------------------------------------------------------------------------------------------------------------------------------------------------------------------------------------------------------------------------------------------------------------------------------------------------------------------------+\n|userId|peliculas_calificadas                                                                                                                                                                                                                                                                                                                                                                                                                                                                                                                                                                                                                                                                                                                                                                                                                                                                                                                                                                                                                                                                                                                                                                                                                                                                                                                                                                 |\n+------+--------------------------------------------------------------------------------------------------------------------------------------------------------------------------------------------------------------------------------------------------------------------------------------------------------------------------------------------------------------------------------------------------------------------------------------------------------------------------------------------------------------------------------------------------------------------------------------------------------------------------------------------------------------------------------------------------------------------------------------------------------------------------------------------------------------------------------------------------------------------------------------------------------------------------------------------------------------------------------------------------------------------------------------------------------------------------------------------------------------------------------------------------------------------------------------------------------------------------------------------------------------------------------------------------------------------------------------------------------------------------------------+\n|1     |[1, 3, 6, 47, 50, 70, 101, 110, 151, 157, 163, 216, 223, 231, 235, 260, 296, 316, 333, 349, 356, 362, 367, 423, 441, 457, 480, 500, 527, 543, 552, 553, 590, 592, 593, 596, 608, 648, 661, 673, 733, 736, 780, 804, 919, 923, 940, 943, 954, 1009, 1023, 1024, 1025, 1029, 1030, 1031, 1032, 1042, 1049, 1060, 1073, 1080, 1089, 1090, 1092, 1097, 1127, 1136, 1196, 1197, 1198, 1206, 1208, 1210, 1213, 1214, 1219, 1220, 1222, 1224, 1226, 1240, 1256, 1258, 1265, 1270, 1275, 1278, 1282, 1291, 1298, 1348, 1377, 1396, 1408, 1445, 1473, 1500, 1517, 1552, 1573, 1580, 1587, 1617, 1620, 1625, 1644, 1676, 1732, 1777, 1793, 1804, 1805, 1920, 1927, 1954, 1967, 2000, 2005, 2012, 2018, 2028, 2033, 2046, 2048, 2054, 2058, 2078, 2090, 2093, 2094, 2096, 2099, 2105, 2115, 2116, 2137, 2139, 2141, 2143, 2161, 2174, 2193, 2253, 2268, 2273, 2291, 2329, 2338, 2353, 2366, 2387, 2389, 2395, 2406, 2414, 2427, 2450, 2459, 2470, 2478, 2492, 2502, 2528, 2529, 2542, 2571, 2580, 2596, 2616, 2617, 2628, 2640, 2641, 2644, 2648, 2654, 2657, 2692, 2700, 2716, 2761, 2797, 2826, 2858, 2872, 2899, 2916, 2944, 2947, 2948, 2949, 2959, 2985, 2987, 2991, 2993, 2997, 3033, 3034, 3052, 3053, 3062, 3147, 3168, 3176, 3243, 3247, 3253, 3273, 3386, 3439, 3440, 3441, 3448, 3450, 3479, 3489, 3527, 3578, 3617, 3639, 3671, 3702, 3703, 3729, 3740, 3744, 3793, 3809, 4006, 5060]|\n|2     |[318, 333, 1704, 3578, 6874, 8798, 46970, 48516, 58559, 60756, 68157, 71535, 74458, 77455, 79132, 80489, 80906, 86345, 89774, 91529, 91658, 99114, 106782, 109487, 112552, 114060, 115713, 122882, 131724]                                                                                                                                                                                                                                                                                                                                                                                                                                                                                                                                                                                                                                                                                                                                                                                                                                                                                                                                                                                                                                                                                                                                                                            |\n|3     |[31, 527, 647, 688, 720, 849, 914, 1093, 1124, 1263, 1272, 1275, 1302, 1371, 1587, 2018, 2080, 2090, 2105, 2288, 2424, 2851, 3024, 3210, 3703, 3949, 4518, 5048, 5181, 5746, 5764, 5919, 6238, 6835, 7899, 7991, 26409, 70946, 72378]                                                                                                                                                                                                                                                                                                                                                                                                                                                                                                                                                                                                                                                                                                                                                                                                                                                                                                                                                                                                                                                                                                                                                 |\n|4     |[21, 32, 45, 47, 52, 58, 106, 125, 126, 162, 171, 176, 190, 215, 222, 232, 235, 247, 260, 265, 296, 319, 342, 345, 348, 351, 357, 368, 417, 441, 450, 457, 475, 492, 509, 538, 539, 553, 588, 593, 595, 599, 608, 648, 708, 759, 800, 892, 898, 899, 902, 904, 908, 910, 912, 914, 919, 920, 930, 937, 1025, 1046, 1057, 1060, 1073, 1077, 1079, 1080, 1084, 1086, 1094, 1103, 1136, 1179, 1183, 1188, 1196, 1197, 1198, 1199, 1203, 1211, 1213, 1219, 1225, 1250, 1259, 1265, 1266, 1279, 1282, 1283, 1288, 1291, 1304, 1391, 1449, 1466, 1500, 1517, 1580, 1597, 1617, 1641, 1704, 1719, 1732, 1733, 1734, 1834, 1860, 1883, 1885, 1892, 1895, 1907, 1914, 1916, 1923, 1947, 1966, 1967, 1968, 2019, 2076, 2078, 2109, 2145, 2150, 2174, 2186, 2203, 2204, 2282, 2324, 2336, 2351, 2359, 2390, 2395, 2406, 2467, 2571, 2583, 2599, 2628, 2683, 2692, 2712, 2762, 2763, 2770, 2791, 2843, 2858, 2874, 2921, 2926, 2959, 2973, 2997, 3033, 3044, 3060, 3079, 3083, 3160, 3175, 3176, 3204, 3255, 3317, 3358, 3365, 3386, 3408, 3481, 3489, 3508, 3538, 3591, 3788, 3809, 3851, 3897, 3911, 3967, 3996, 4002, 4014, 4020, 4021, 4027, 4029, 4033, 4034, 4074, 4121, 4144, 4166, 4226, 4239, 4246, 4252, 4260, 4273, 4308, 4347, 4381, 4641, 4741, 4765, 4881, 4896, 4902, 4967]                                                                                                        |\n|5     |[1, 21, 34, 36, 39, 50, 58, 110, 150, 153, 232, 247, 253, 261, 265, 266, 290, 296, 300, 316, 318, 344, 349, 357, 364, 367, 380, 410, 457, 474, 475, 515, 527, 531, 534, 588, 589, 590, 592, 594, 595, 596, 597, 608]                                                                                                                                                                                                                                                                                                                                                                                                                                                                                                                                                                                                                                                                                                                                                                                                                                                                                                                                                                                                                                                                                                                                                                  |\n+------+--------------------------------------------------------------------------------------------------------------------------------------------------------------------------------------------------------------------------------------------------------------------------------------------------------------------------------------------------------------------------------------------------------------------------------------------------------------------------------------------------------------------------------------------------------------------------------------------------------------------------------------------------------------------------------------------------------------------------------------------------------------------------------------------------------------------------------------------------------------------------------------------------------------------------------------------------------------------------------------------------------------------------------------------------------------------------------------------------------------------------------------------------------------------------------------------------------------------------------------------------------------------------------------------------------------------------------------------------------------------------------------+\nonly showing top 5 rows\n\n"
     ]
    }
   ],
   "source": [
    "# Agrupar calificaciones por usuario (array de movieIds)\n",
    "user_movies = ratingsDf.groupBy(\"userId\").agg(collect_list(\"movieId\").alias(\"peliculas_calificadas\"))\n",
    "user_movies.show(5, truncate=False)\n",
    "\n"
   ]
  },
  {
   "cell_type": "code",
   "execution_count": 0,
   "metadata": {
    "application/vnd.databricks.v1+cell": {
     "cellMetadata": {
      "byteLimit": 2048000,
      "rowLimit": 10000
     },
     "inputWidgets": {},
     "nuid": "6781c6d1-0e8a-4203-ad88-c9b624f1cac1",
     "showTitle": false,
     "tableResultSettingsMap": {},
     "title": ""
    }
   },
   "outputs": [
    {
     "output_type": "stream",
     "name": "stdout",
     "output_type": "stream",
     "text": [
      "+------+---------------------+-----------+\n|userId|peliculas_calificadas|pelicula_id|\n+------+---------------------+-----------+\n|     1| [1, 3, 6, 47, 50,...|          1|\n|     1| [1, 3, 6, 47, 50,...|          3|\n|     1| [1, 3, 6, 47, 50,...|          6|\n|     1| [1, 3, 6, 47, 50,...|         47|\n|     1| [1, 3, 6, 47, 50,...|         50|\n+------+---------------------+-----------+\nonly showing top 5 rows\n\n"
     ]
    }
   ],
   "source": [
    "# Explode: expandir para tener una fila por usuario/película\n",
    "user_movies_exploded = user_movies.withColumn(\"pelicula_id\", explode(col(\"peliculas_calificadas\")))\n",
    "user_movies_exploded.show(5)\n",
    "\n"
   ]
  },
  {
   "cell_type": "code",
   "execution_count": 0,
   "metadata": {
    "application/vnd.databricks.v1+cell": {
     "cellMetadata": {
      "byteLimit": 2048000,
      "rowLimit": 10000
     },
     "inputWidgets": {},
     "nuid": "376f1596-b5df-4859-94ed-5994ba7edb63",
     "showTitle": false,
     "tableResultSettingsMap": {},
     "title": ""
    }
   },
   "outputs": [
    {
     "output_type": "stream",
     "name": "stdout",
     "output_type": "stream",
     "text": [
      "+-------+--------------------------------------------------------------+\n|movieId|info                                                          |\n+-------+--------------------------------------------------------------+\n|1      |{Toy Story, [Adventure, Animation, Children, Comedy, Fantasy]}|\n|2      |{Jumanji, [Adventure, Children, Fantasy]}                     |\n|3      |{Grumpier Old Men, [Comedy, Romance]}                         |\n|4      |{Waiting to Exhale, [Comedy, Drama, Romance]}                 |\n|5      |{Father of the Bride Part II, [Comedy]}                       |\n+-------+--------------------------------------------------------------+\nonly showing top 5 rows\n\n"
     ]
    }
   ],
   "source": [
    "# Struct: juntar nombre y género de la película\n",
    "movies_struct = moviesDf.withColumn(\"info\", struct(\"title\", \"genres\"))\n",
    "movies_struct.select(\"movieId\", \"info\").show(5, truncate=False)\n",
    "\n"
   ]
  },
  {
   "cell_type": "code",
   "execution_count": 0,
   "metadata": {
    "application/vnd.databricks.v1+cell": {
     "cellMetadata": {
      "byteLimit": 2048000,
      "rowLimit": 10000
     },
     "inputWidgets": {},
     "nuid": "d93d1984-9b34-488b-b3c4-d03a07d5384c",
     "showTitle": false,
     "tableResultSettingsMap": {},
     "title": ""
    }
   },
   "outputs": [
    {
     "output_type": "stream",
     "name": "stdout",
     "output_type": "stream",
     "text": [
      "+------+-------+------+--------+----------------+\n|userId|movieId|rating|    date|movie_rating_map|\n+------+-------+------+--------+----------------+\n|     1|      1|   4.0|20000730|      {1 -> 4.0}|\n|     1|      3|   4.0|20000730|      {3 -> 4.0}|\n|     1|      6|   4.0|20000730|      {6 -> 4.0}|\n+------+-------+------+--------+----------------+\n\n"
     ]
    }
   ],
   "source": [
    "# BONUS: Crear columna tipo map (clave=movieId, valor=rating) para cada usuario\n",
    "from pyspark.sql.functions import create_map, lit\n",
    "# Ejemplo sencillo: para cada usuario, tomar sus primeras 3 calificaciones y armar el map\n",
    "sample = ratingsDf.filter(col(\"userId\") == 1).limit(3)\n",
    "sample_map = sample.withColumn(\"movie_rating_map\", create_map(col(\"movieId\"), col(\"rating\")))\n",
    "sample_map.show()"
   ]
  },
  {
   "cell_type": "code",
   "execution_count": 0,
   "metadata": {
    "application/vnd.databricks.v1+cell": {
     "cellMetadata": {
      "byteLimit": 2048000,
      "rowLimit": 10000
     },
     "inputWidgets": {},
     "nuid": "f7ff9b9b-8642-4fdd-b4db-a50eab0add80",
     "showTitle": false,
     "tableResultSettingsMap": {},
     "title": ""
    }
   },
   "outputs": [
    {
     "output_type": "stream",
     "name": "stdout",
     "output_type": "stream",
     "text": [
      "+------+--------------------------------------+\n|userId|mapa_ratings                          |\n+------+--------------------------------------+\n|1     |{1 -> 4.0, 3 -> 4.0, 6 -> 4.0}        |\n|2     |{318 -> 3.0, 333 -> 4.0, 1704 -> 4.5} |\n|3     |{31 -> 0.5, 527 -> 0.5, 647 -> 0.5}   |\n|4     |{162 -> 5.0, 171 -> 3.0, 190 -> 2.0}  |\n|5     |{1 -> 4.0, 21 -> 4.0, 34 -> 4.0}      |\n|6     |{2 -> 4.0, 3 -> 5.0, 4 -> 3.0}        |\n|7     |{1 -> 4.5, 50 -> 4.5, 58 -> 3.0}      |\n|8     |{2 -> 4.0, 10 -> 2.0, 11 -> 4.0}      |\n|9     |{41 -> 3.0, 187 -> 3.0, 223 -> 4.0}   |\n|10    |{296 -> 1.0, 356 -> 3.5, 588 -> 4.0}  |\n|11    |{356 -> 5.0, 1101 -> 5.0, 1840 -> 4.0}|\n|12    |{39 -> 4.0, 168 -> 5.0, 222 -> 5.0}   |\n|13    |{305 -> 1.0, 597 -> 3.0, 1173 -> 3.0} |\n|14    |{4 -> 3.0, 7 -> 3.0, 19 -> 1.0}       |\n|15    |{44 -> 1.0, 158 -> 1.0, 172 -> 1.0}   |\n|16    |{47 -> 3.5, 50 -> 4.0, 111 -> 4.5}    |\n|17    |{1 -> 4.5, 44 -> 3.5, 50 -> 4.5}      |\n|18    |{47 -> 4.5, 50 -> 5.0, 110 -> 4.5}    |\n|19    |{1 -> 4.0, 2 -> 3.0, 3 -> 3.0}        |\n|20    |{2 -> 3.0, 8 -> 1.0, 13 -> 4.0}       |\n+------+--------------------------------------+\nonly showing top 20 rows\n\n"
     ]
    }
   ],
   "source": [
    "# Tomemos los 3 primeros ratings de cada usuario para simplicidad\n",
    "w = Window.partitionBy(\"userId\").orderBy(\"date\")\n",
    "ratings_sample = ratingsDf.withColumn(\"rn\", row_number().over(w)).filter(col(\"rn\") <= 3)\n",
    "\n",
    "# Para cada usuario, agrupamos las (movieId, rating) en una lista de pares\n",
    "user_pairs = ratings_sample.groupBy(\"userId\").agg(collect_list(struct(\"movieId\", \"rating\")).alias(\"peliculas_ratings\"))\n",
    "\n",
    "# Convertimos la lista de structs a una columna Map\n",
    "from pyspark.sql.functions import map_from_entries\n",
    "\n",
    "user_map = user_pairs.withColumn(\"mapa_ratings\", map_from_entries(col(\"peliculas_ratings\")))\n",
    "\n",
    "# Mostramos el resultado: ahora para cada usuario hay un Map movieId->rating\n",
    "user_map.select(\"userId\", \"mapa_ratings\").show(truncate=False)\n",
    "\n"
   ]
  },
  {
   "cell_type": "code",
   "execution_count": 0,
   "metadata": {
    "application/vnd.databricks.v1+cell": {
     "cellMetadata": {
      "byteLimit": 2048000,
      "rowLimit": 10000
     },
     "inputWidgets": {},
     "nuid": "28cae116-ab4e-462d-956f-d7636ba169ec",
     "showTitle": false,
     "tableResultSettingsMap": {},
     "title": ""
    }
   },
   "outputs": [
    {
     "output_type": "stream",
     "name": "stdout",
     "output_type": "stream",
     "text": [
      "+------+--------------------+-----------------+\n|userId|        mapa_ratings|rating_pelicula_1|\n+------+--------------------+-----------------+\n|     1|{1 -> 4.0, 3 -> 4...|              4.0|\n|     2|{318 -> 3.0, 333 ...|             null|\n|     3|{31 -> 0.5, 527 -...|             null|\n|     4|{162 -> 5.0, 171 ...|             null|\n|     5|{1 -> 4.0, 21 -> ...|              4.0|\n|     6|{2 -> 4.0, 3 -> 5...|             null|\n|     7|{1 -> 4.5, 50 -> ...|              4.5|\n|     8|{2 -> 4.0, 10 -> ...|             null|\n|     9|{41 -> 3.0, 187 -...|             null|\n|    10|{296 -> 1.0, 356 ...|             null|\n|    11|{356 -> 5.0, 1101...|             null|\n|    12|{39 -> 4.0, 168 -...|             null|\n|    13|{305 -> 1.0, 597 ...|             null|\n|    14|{4 -> 3.0, 7 -> 3...|             null|\n|    15|{44 -> 1.0, 158 -...|             null|\n|    16|{47 -> 3.5, 50 ->...|             null|\n|    17|{1 -> 4.5, 44 -> ...|              4.5|\n|    18|{47 -> 4.5, 50 ->...|             null|\n|    19|{1 -> 4.0, 2 -> 3...|              4.0|\n|    20|{2 -> 3.0, 8 -> 1...|             null|\n+------+--------------------+-----------------+\nonly showing top 20 rows\n\n"
     ]
    }
   ],
   "source": [
    "# --- USO DEL MAP ---\n",
    "user_map_con_valor = user_map.withColumn(\"rating_pelicula_1\", col(\"mapa_ratings\").getItem(lit(1)))\n",
    "user_map_con_valor.select(\"userId\", \"mapa_ratings\", \"rating_pelicula_1\").show()\n",
    "\n"
   ]
  },
  {
   "cell_type": "code",
   "execution_count": 0,
   "metadata": {
    "application/vnd.databricks.v1+cell": {
     "cellMetadata": {
      "byteLimit": 2048000,
      "rowLimit": 10000
     },
     "inputWidgets": {},
     "nuid": "2daab5c4-db85-46f2-b9da-5a63aac85eb9",
     "showTitle": false,
     "tableResultSettingsMap": {},
     "title": ""
    }
   },
   "outputs": [
    {
     "output_type": "stream",
     "name": "stdout",
     "output_type": "stream",
     "text": [
      "+------+-----------------+\n|userId|rating_pelicula_1|\n+------+-----------------+\n|     1|              4.0|\n|     5|              4.0|\n|     7|              4.5|\n|    17|              4.5|\n|    19|              4.0|\n|    31|              5.0|\n|    40|              5.0|\n|    43|              5.0|\n|    46|              5.0|\n|    57|              5.0|\n|    63|              5.0|\n|    64|              4.0|\n|    71|              5.0|\n|    73|              4.5|\n|    78|              4.0|\n|    91|              4.0|\n|    96|              5.0|\n|    98|              4.5|\n|   103|              4.0|\n|   107|              4.0|\n+------+-----------------+\nonly showing top 20 rows\n\n"
     ]
    }
   ],
   "source": [
    "# Puedes filtrar por los usuarios que hayan calificado la película 1 con rating mayor o igual a 4\n",
    "user_map_con_valor.filter(col(\"rating_pelicula_1\") >= 4).select(\"userId\", \"rating_pelicula_1\").show()"
   ]
  }
 ],
 "metadata": {
  "application/vnd.databricks.v1+notebook": {
   "computePreferences": null,
   "dashboards": [],
   "environmentMetadata": null,
   "inputWidgetPreferences": null,
   "language": "python",
   "notebookMetadata": {
    "pythonIndentUnit": 4
   },
   "notebookName": "07 Tipos de Datos Complejos",
   "widgets": {}
  },
  "language_info": {
   "name": "python"
  }
 },
 "nbformat": 4,
 "nbformat_minor": 0
}