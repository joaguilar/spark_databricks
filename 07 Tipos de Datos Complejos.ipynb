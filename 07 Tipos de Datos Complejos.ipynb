{
 "cells": [
  {
   "cell_type": "code",
   "execution_count": 0,
   "metadata": {
    "application/vnd.databricks.v1+cell": {
     "cellMetadata": {
      "byteLimit": 2048000,
      "rowLimit": 10000
     },
     "inputWidgets": {},
     "nuid": "3b276de4-63c6-4748-a932-523f5f4a2785",
     "showTitle": false,
     "tableResultSettingsMap": {},
     "title": ""
    }
   },
   "outputs": [],
   "source": [
    "from pyspark import *\n",
    "from pyspark.sql import SparkSession, Window\n",
    "from pyspark.sql.types import StructType,StructField, StringType, IntegerType, DateType, TimestampType, LongType\n",
    "from pyspark.sql.types import ArrayType, DoubleType, BooleanType, DecimalType\n",
    "from pyspark.sql.functions import regexp_extract, split, from_unixtime, col, avg, min, max, desc\n",
    "from pyspark.sql.functions import grouping, explode, array_contains, struct, collect_list, row_number\n"
   ]
  },
  {
   "cell_type": "markdown",
   "metadata": {
    "application/vnd.databricks.v1+cell": {
     "cellMetadata": {
      "byteLimit": 2048000,
      "rowLimit": 10000
     },
     "inputWidgets": {},
     "nuid": "b4964f37-a384-482c-826e-225bf36dbfad",
     "showTitle": false,
     "tableResultSettingsMap": {},
     "title": ""
    }
   },
   "source": [
    "# Transformaciones con Tipos de Datos Complejos: Arrays, Structs y Maps\n",
    "\n",
    "En este notebook:\n",
    "- Trabajaremos con columnas tipo array y struct a partir del dataset MovieLens.\n",
    "- Aplicaremos funciones como `explode`, y crearemos structs de varias columnas.\n"
   ]
  },
  {
   "cell_type": "code",
   "execution_count": 0,
   "metadata": {
    "application/vnd.databricks.v1+cell": {
     "cellMetadata": {
      "byteLimit": 2048000,
      "rowLimit": 10000
     },
     "inputWidgets": {},
     "nuid": "2f5b7391-b94f-412e-a61d-e786c3dac5f9",
     "showTitle": false,
     "tableResultSettingsMap": {},
     "title": ""
    },
    "vscode": {
     "languageId": "plaintext"
    }
   },
   "outputs": [],
   "source": [
    "# Tabla Ratings\n",
    "ratings_schema  = StructType(fields=[\n",
    "    StructField(\"userId\",IntegerType(),True), \n",
    "    StructField(\"movieId\",IntegerType(),True),\n",
    "    StructField(\"rating\",DecimalType(precision=2,scale=1),True),\n",
    "    StructField(\"timestamp\",LongType(),True)\n",
    "])\n",
    "ratingsDf = spark.read\\\n",
    "    .option(\"header\", True)\\\n",
    "    .option(\"dateFormat\", \"yyyyMMdd\")\\\n",
    "    .schema(ratings_schema)\\\n",
    "    .csv(\"/Volumes/big_data_ii_2025/spark_examples/spark_data/ratings_full.csv\")\\\n",
    "    .withColumn(\\\n",
    "            \"date\",\\\n",
    "            from_unixtime(\"timestamp\", \"yyyyMMdd\"))\\\n",
    "                .drop('timestamp')\n",
    "\n",
    "# Tabla Movies\n",
    "movies_schema  = StructType(fields=[\n",
    "    StructField(\"movieId\",IntegerType(),True), \n",
    "    StructField(\"title\",StringType(),True),\n",
    "    StructField(\"genres\",StringType(),True)\n",
    "])\n",
    "\n",
    "moviesDf = spark.read\\\n",
    "    .option(\"header\", True)\\\n",
    "    .schema(movies_schema)\\\n",
    "    .csv(\"/Volumes/big_data_ii_2025/spark_examples/spark_data/movies.csv\")\n",
    "\n",
    "moviesDf = moviesDf.withColumn(\"genresSplit\", split(moviesDf[\"genres\"],\"\\|\"))\\\n",
    "                        .drop('genres').withColumnRenamed(\"genresSplit\",\"genres\")\\\n",
    "                            .withColumn(\\\n",
    "                                \"year\",\\\n",
    "                                regexp_extract(\\\n",
    "                                           moviesDf[\"title\"],\\\n",
    "                                           \"^.+\\(([0-9]+)\\)$\",\\\n",
    "                                           1)\\\n",
    "                                .try_cast(IntegerType()))\\\n",
    "                            .withColumn(\\\n",
    "                            \"title_temp\",\\\n",
    "                            regexp_extract(\\\n",
    "                                           moviesDf[\"title\"],\\\n",
    "                                           \"^(.+?) \\([0-9]+\\)$\",\\\n",
    "                                           1))\\\n",
    "                            .drop('title')\\\n",
    "                        .withColumnRenamed(\"title_temp\",\"title\")\n",
    "\n",
    "\n"
   ]
  },
  {
   "cell_type": "code",
   "execution_count": 0,
   "metadata": {
    "application/vnd.databricks.v1+cell": {
     "cellMetadata": {
      "byteLimit": 2048000,
      "rowLimit": 10000
     },
     "inputWidgets": {},
     "nuid": "d25cf791-9ff4-4a77-b993-0c163fc7aaad",
     "showTitle": false,
     "tableResultSettingsMap": {},
     "title": ""
    }
   },
   "outputs": [
    {
     "output_type": "stream",
     "name": "stdout",
     "output_type": "stream",
     "text": [
      "+------+-------------------------------------------------------------------------------------------------------------------------------------------------------------------------------------------------------------------------------------------------------------------------------------------------------------------------------------------------------------------------------------------------------------------------------------------------------------------------------------------------------------------------------------------------------------------------------------------------------------------------------------------------------------------------------------------------------------------------------------------------------------------------------------------------------------------------------------------------------------------------------------------------------------------------------------------------------------------------------------------------------------------------------------------------------------------------------------------------------------------------------------------------------------------------------------------------------------------------------------------------------------------------------------------------------------------------------------------------------------------------------------------------------------------------------------------------------------------------------------------------------------------------------------------------------------------------------------------------------------------------------------------------------------------------------------------------------------------------------------------------------------------------------------------------------+\n|userId|peliculas_calificadas                                                                                                                                                                                                                                                                                                                                                                                                                                                                                                                                                                                                                                                                                                                                                                                                                                                                                                                                                                                                                                                                                                                                                                                                                                                                                                                                                                                                                                                                                                                                                                                                                                                                                                                                                                                  |\n+------+-------------------------------------------------------------------------------------------------------------------------------------------------------------------------------------------------------------------------------------------------------------------------------------------------------------------------------------------------------------------------------------------------------------------------------------------------------------------------------------------------------------------------------------------------------------------------------------------------------------------------------------------------------------------------------------------------------------------------------------------------------------------------------------------------------------------------------------------------------------------------------------------------------------------------------------------------------------------------------------------------------------------------------------------------------------------------------------------------------------------------------------------------------------------------------------------------------------------------------------------------------------------------------------------------------------------------------------------------------------------------------------------------------------------------------------------------------------------------------------------------------------------------------------------------------------------------------------------------------------------------------------------------------------------------------------------------------------------------------------------------------------------------------------------------------+\n|1021  |[215, 1704, 79132]                                                                                                                                                                                                                                                                                                                                                                                                                                                                                                                                                                                                                                                                                                                                                                                                                                                                                                                                                                                                                                                                                                                                                                                                                                                                                                                                                                                                                                                                                                                                                                                                                                                                                                                                                                                     |\n|2737  |[1, 2, 6, 16, 19, 32, 44, 47, 50, 104, 110, 111, 150, 153, 163, 165, 173, 223, 231, 246, 252, 260, 288, 293, 296, 300, 318, 337, 344, 356, 367, 368, 370, 377, 380, 420, 431, 435, 442, 466, 471, 480, 520, 527, 529, 541, 543, 586, 589, 590, 592, 593, 608, 733, 750, 762, 778, 780, 784, 786, 802, 858, 919, 1028, 1036, 1073, 1080, 1089, 1090, 1092, 1101, 1120, 1193, 1194, 1196, 1197, 1198, 1199, 1201, 1206, 1208, 1210, 1213, 1214, 1221, 1222, 1225, 1228, 1240, 1242, 1258, 1263, 1265, 1266, 1270, 1272, 1275, 1276, 1288, 1291, 1298, 1302, 1358, 1370, 1377, 1387, 1391, 1394, 1485, 1517, 1527, 1552, 1580, 1663, 1673, 1682, 1732, 1777, 1884, 1917, 1918, 1954, 1968, 1994, 1997, 2000, 2001, 2002, 2003, 2005, 2011, 2012, 2022, 2023, 2028, 2115, 2161, 2167, 2174, 2194, 2268, 2291, 2302, 2329, 2395, 2502, 2542, 2571, 2628, 2640, 2683, 2700, 2701, 2710, 2716, 2746, 2797, 2804, 2858, 2916, 2918, 2951, 2959, 2985, 2987, 2997, 3000, 3033, 3081, 3107, 3147, 3160, 3174, 3253, 3275, 3424, 3448, 3508, 3527, 3578, 3671, 3681, 3752, 3753, 3793, 3897, 3949, 3977, 3993, 3994, 3996, 4011, 4022, 4027, 4034, 4085, 4148, 4226, 4262, 4321, 4489, 4571, 4816, 4878, 4973, 4975, 4979, 4993, 4995, 5110, 5292, 5378, 5459, 5481, 5502, 5618, 5630, 5952, 6016, 6365, 6537, 6539, 6711, 6874, 6934, 7153, 7361, 7438, 7458, 7482, 8042, 8376, 8528, 8917, 26471, 26741, 27879, 30707, 30793, 30810, 32587, 33463, 33493, 33794, 34162, 35836, 42163, 44191, 44199, 45499, 45722, 46530, 46578, 48394, 48516, 48774, 48780, 51187, 51662, 52973, 53125, 53972, 53996, 54272, 54503, 54997, 55765, 55820, 56367, 56782, 58559, 59315, 59615, 60291, 60684, 61323, 62049, 63082, 64614, 64839, 64957, 68157, 68319, 69122, 70286, 71535, 72378, 73017, 74789, 77561, 78469, 78499]|\n|2936  |[356, 464, 480, 648, 762, 1097, 1129, 1214, 1249, 1466, 1544, 1976, 2791, 2792, 2858, 2948, 3078, 3286, 3452, 3510, 3984, 4001, 4007]                                                                                                                                                                                                                                                                                                                                                                                                                                                                                                                                                                                                                                                                                                                                                                                                                                                                                                                                                                                                                                                                                                                                                                                                                                                                                                                                                                                                                                                                                                                                                                                                                                                                  |\n|3139  |[356, 593, 1186, 1580, 2490, 3064, 3512, 3999, 4022, 4023]                                                                                                                                                                                                                                                                                                                                                                                                                                                                                                                                                                                                                                                                                                                                                                                                                                                                                                                                                                                                                                                                                                                                                                                                                                                                                                                                                                                                                                                                                                                                                                                                                                                                                                                                             |\n|3683  |[1, 32, 47, 150, 296, 306, 307, 308, 318, 356, 364, 367, 480, 527, 588, 590, 593, 608, 736, 750, 858, 899, 902, 912, 922, 926, 953, 1084, 1086, 1097, 1172, 1185, 1203, 1213, 1219, 1221, 1246, 1270, 1287, 1580, 1682, 1721, 1894, 1923, 1961, 1962, 2160, 2194, 2291, 2716, 2719, 2908, 2959, 3081, 3083, 3252, 3462, 3549, 3793, 3910, 3949, 4226, 4308, 4720, 4886, 4896, 4963, 4973, 4993, 4995, 5218, 5349, 5669, 5816, 5952, 5991, 5992, 6016, 6333, 6377, 6539, 6619, 6807, 6890, 7254, 7361, 7371, 7438, 7459, 8360, 8368, 8464, 8529, 8638, 8970, 8981, 26422, 31410, 31427, 32587, 33794, 34437, 34523, 39869, 40815, 40870, 44022, 44555, 44613, 48516, 48560, 50912, 52975, 53123, 54001, 55069, 55442, 56339, 56367, 58559, 63082, 63853, 66097, 68536, 68690, 69644, 69844, 71108, 72011]                                                                                                                                                                                                                                                                                                                                                                                                                                                                                                                                                                                                                                                                                                                                                                                                                                                                                                                                                                                               |\n+------+-------------------------------------------------------------------------------------------------------------------------------------------------------------------------------------------------------------------------------------------------------------------------------------------------------------------------------------------------------------------------------------------------------------------------------------------------------------------------------------------------------------------------------------------------------------------------------------------------------------------------------------------------------------------------------------------------------------------------------------------------------------------------------------------------------------------------------------------------------------------------------------------------------------------------------------------------------------------------------------------------------------------------------------------------------------------------------------------------------------------------------------------------------------------------------------------------------------------------------------------------------------------------------------------------------------------------------------------------------------------------------------------------------------------------------------------------------------------------------------------------------------------------------------------------------------------------------------------------------------------------------------------------------------------------------------------------------------------------------------------------------------------------------------------------------+\nonly showing top 5 rows\n"
     ]
    }
   ],
   "source": [
    "# Agrupar calificaciones por usuario (array de movieIds)\n",
    "user_movies = ratingsDf.groupBy(\"userId\").agg(collect_list(\"movieId\").alias(\"peliculas_calificadas\"))\n",
    "user_movies.show(5, truncate=False)\n",
    "\n"
   ]
  },
  {
   "cell_type": "code",
   "execution_count": 0,
   "metadata": {
    "application/vnd.databricks.v1+cell": {
     "cellMetadata": {
      "byteLimit": 2048000,
      "rowLimit": 10000
     },
     "inputWidgets": {},
     "nuid": "6781c6d1-0e8a-4203-ad88-c9b624f1cac1",
     "showTitle": false,
     "tableResultSettingsMap": {},
     "title": ""
    }
   },
   "outputs": [
    {
     "output_type": "stream",
     "name": "stdout",
     "output_type": "stream",
     "text": [
      "+------+---------------------+-----------+\n|userId|peliculas_calificadas|pelicula_id|\n+------+---------------------+-----------+\n|  1021|   [215, 1704, 79132]|        215|\n|  1021|   [215, 1704, 79132]|       1704|\n|  1021|   [215, 1704, 79132]|      79132|\n|  2737| [1, 2, 6, 16, 19,...|          1|\n|  2737| [1, 2, 6, 16, 19,...|          2|\n+------+---------------------+-----------+\nonly showing top 5 rows\n"
     ]
    }
   ],
   "source": [
    "# Explode: expandir para tener una fila por usuario/película\n",
    "user_movies_exploded = user_movies.withColumn(\"pelicula_id\", explode(col(\"peliculas_calificadas\")))\n",
    "user_movies_exploded.show(5)\n",
    "\n"
   ]
  },
  {
   "cell_type": "code",
   "execution_count": 0,
   "metadata": {
    "application/vnd.databricks.v1+cell": {
     "cellMetadata": {
      "byteLimit": 2048000,
      "rowLimit": 10000
     },
     "inputWidgets": {},
     "nuid": "376f1596-b5df-4859-94ed-5994ba7edb63",
     "showTitle": false,
     "tableResultSettingsMap": {},
     "title": ""
    }
   },
   "outputs": [
    {
     "output_type": "stream",
     "name": "stdout",
     "output_type": "stream",
     "text": [
      "+-------+--------------------------------------------------------------+\n|movieId|info                                                          |\n+-------+--------------------------------------------------------------+\n|1      |{Toy Story, [Adventure, Animation, Children, Comedy, Fantasy]}|\n|2      |{Jumanji, [Adventure, Children, Fantasy]}                     |\n|3      |{Grumpier Old Men, [Comedy, Romance]}                         |\n|4      |{Waiting to Exhale, [Comedy, Drama, Romance]}                 |\n|5      |{Father of the Bride Part II, [Comedy]}                       |\n+-------+--------------------------------------------------------------+\nonly showing top 5 rows\n"
     ]
    }
   ],
   "source": [
    "# Struct: juntar nombre y género de la película\n",
    "movies_struct = moviesDf.withColumn(\"info\", struct(\"title\", \"genres\"))\n",
    "movies_struct.select(\"movieId\", \"info\").show(5, truncate=False)\n",
    "\n"
   ]
  },
  {
   "cell_type": "code",
   "execution_count": 0,
   "metadata": {
    "application/vnd.databricks.v1+cell": {
     "cellMetadata": {
      "byteLimit": 2048000,
      "rowLimit": 10000
     },
     "inputWidgets": {},
     "nuid": "d93d1984-9b34-488b-b3c4-d03a07d5384c",
     "showTitle": false,
     "tableResultSettingsMap": {},
     "title": ""
    }
   },
   "outputs": [
    {
     "output_type": "stream",
     "name": "stdout",
     "output_type": "stream",
     "text": [
      "+------+-------+------+--------+----------------+\n|userId|movieId|rating|    date|movie_rating_map|\n+------+-------+------+--------+----------------+\n|     1|      1|   4.0|20081103|      {1 -> 4.0}|\n|     1|    110|   4.0|20081105|    {110 -> 4.0}|\n|     1|    158|   4.0|20081103|    {158 -> 4.0}|\n+------+-------+------+--------+----------------+\n\n"
     ]
    }
   ],
   "source": [
    "# Crear columna tipo map (clave=movieId, valor=rating) para cada usuario\n",
    "from pyspark.sql.functions import create_map, lit\n",
    "# Ejemplo sencillo: para cada usuario, tomar sus primeras 3 calificaciones y armar el map\n",
    "sample = ratingsDf.filter(col(\"userId\") == 1).limit(3)\n",
    "sample_map = sample.withColumn(\"movie_rating_map\", create_map(col(\"movieId\"), col(\"rating\")))\n",
    "sample_map.show()"
   ]
  },
  {
   "cell_type": "code",
   "execution_count": 0,
   "metadata": {
    "application/vnd.databricks.v1+cell": {
     "cellMetadata": {
      "byteLimit": 2048000,
      "rowLimit": 10000
     },
     "inputWidgets": {},
     "nuid": "f7ff9b9b-8642-4fdd-b4db-a50eab0add80",
     "showTitle": false,
     "tableResultSettingsMap": {},
     "title": ""
    }
   },
   "outputs": [
    {
     "output_type": "stream",
     "name": "stdout",
     "output_type": "stream",
     "text": [
      "+------+---------------------------------------+\n|userId|mapa_ratings                           |\n+------+---------------------------------------+\n|15    |{16 -> 4.5, 50 -> 4.0, 223 -> 3.5}     |\n|20    |{256 -> 3.5, 2717 -> 3.0, 88744 -> 3.5}|\n|24    |{1 -> 4.5, 9 -> 2.5, 11 -> 4.0}        |\n|29    |{1198 -> 4.5, 4025 -> 5.0, 4027 -> 3.0}|\n|38    |{356 -> 5.0, 1721 -> 4.0, 5444 -> 2.0} |\n|39    |{2 -> 1.5, 29 -> 4.5, 45 -> 4.0}       |\n|52    |{239 -> 4.5, 1261 -> 5.0, 2291 -> 4.5} |\n|56    |{5 -> 2.0, 31 -> 1.5, 112 -> 3.5}      |\n|87    |{1 -> 0.5, 10 -> 1.0, 34 -> 0.5}       |\n|88    |{1 -> 5.0, 3 -> 3.0, 5 -> 4.0}         |\n|94    |{52 -> 3.5, 147 -> 3.0, 163 -> 3.0}    |\n|99    |{50 -> 4.0, 58 -> 4.0, 260 -> 4.0}     |\n|102   |{39 -> 4.0, 318 -> 4.0, 356 -> 4.5}    |\n|108   |{12 -> 4.5, 267 -> 1.5, 318 -> 5.0}    |\n|109   |{1 -> 5.0, 260 -> 5.0, 356 -> 5.0}     |\n|118   |{39 -> 3.0, 60 -> 4.0, 146 -> 5.0}     |\n|120   |{169 -> 0.5, 277 -> 2.5, 374 -> 2.5}   |\n|121   |{2571 -> 3.5, 2959 -> 4.0, 5618 -> 5.0}|\n|130   |{1 -> 5.0, 364 -> 4.5, 588 -> 4.5}     |\n|131   |{32 -> 5.0, 50 -> 4.5, 110 -> 4.0}     |\n+------+---------------------------------------+\nonly showing top 20 rows\n"
     ]
    }
   ],
   "source": [
    "# Tomemos los 3 primeros ratings de cada usuario para simplicidad\n",
    "w = Window.partitionBy(\"userId\").orderBy(\"date\")\n",
    "ratings_sample = ratingsDf.withColumn(\"rn\", row_number().over(w)).filter(col(\"rn\") <= 3)\n",
    "\n",
    "# Para cada usuario, agrupamos las (movieId, rating) en una lista de pares\n",
    "user_pairs = ratings_sample.groupBy(\"userId\").agg(collect_list(struct(\"movieId\", \"rating\")).alias(\"peliculas_ratings\"))\n",
    "\n",
    "# Convertimos la lista de structs a una columna Map\n",
    "from pyspark.sql.functions import map_from_entries\n",
    "\n",
    "user_map = user_pairs.withColumn(\"mapa_ratings\", map_from_entries(col(\"peliculas_ratings\")))\n",
    "\n",
    "# Mostramos el resultado: ahora para cada usuario hay un Map movieId->rating\n",
    "user_map.select(\"userId\", \"mapa_ratings\").show(truncate=False)\n",
    "\n"
   ]
  },
  {
   "cell_type": "code",
   "execution_count": 0,
   "metadata": {
    "application/vnd.databricks.v1+cell": {
     "cellMetadata": {
      "byteLimit": 2048000,
      "rowLimit": 10000
     },
     "inputWidgets": {},
     "nuid": "28cae116-ab4e-462d-956f-d7636ba169ec",
     "showTitle": false,
     "tableResultSettingsMap": {},
     "title": ""
    }
   },
   "outputs": [
    {
     "output_type": "stream",
     "name": "stderr",
     "output_type": "stream",
     "text": [
      "/databricks/python/lib/python3.11/site-packages/pyspark/sql/connect/column.py:413: FutureWarning: A column as 'key' in getItem is deprecated as of Spark 3.0, and will not be supported in the future release. Use `column[key]` or `column.key` syntax instead.\n  warnings.warn(\n"
     ]
    },
    {
     "output_type": "stream",
     "name": "stdout",
     "output_type": "stream",
     "text": [
      "+------+--------------------+-----------------+\n|userId|        mapa_ratings|rating_pelicula_1|\n+------+--------------------+-----------------+\n|    15|{16 -> 4.5, 50 ->...|             NULL|\n|    20|{256 -> 3.5, 2717...|             NULL|\n|    24|{1 -> 4.5, 9 -> 2...|              4.5|\n|    29|{1198 -> 4.5, 402...|             NULL|\n|    38|{356 -> 5.0, 1721...|             NULL|\n|    39|{2 -> 1.5, 29 -> ...|             NULL|\n|    52|{239 -> 4.5, 1261...|             NULL|\n|    56|{5 -> 2.0, 31 -> ...|             NULL|\n|    87|{1 -> 0.5, 10 -> ...|              0.5|\n|    88|{1 -> 5.0, 3 -> 3...|              5.0|\n|    94|{52 -> 3.5, 147 -...|             NULL|\n|    99|{50 -> 4.0, 58 ->...|             NULL|\n|   102|{39 -> 4.0, 318 -...|             NULL|\n|   108|{12 -> 4.5, 267 -...|             NULL|\n|   109|{1 -> 5.0, 260 ->...|              5.0|\n|   118|{39 -> 3.0, 60 ->...|             NULL|\n|   120|{169 -> 0.5, 277 ...|             NULL|\n|   121|{2571 -> 3.5, 295...|             NULL|\n|   130|{1 -> 5.0, 364 ->...|              5.0|\n|   131|{32 -> 5.0, 50 ->...|             NULL|\n+------+--------------------+-----------------+\nonly showing top 20 rows\n"
     ]
    }
   ],
   "source": [
    "# --- USO DEL MAP ---\n",
    "user_map_con_valor = user_map.withColumn(\"rating_pelicula_1\", col(\"mapa_ratings\").getItem(lit(1)))\n",
    "user_map_con_valor.select(\"userId\", \"mapa_ratings\", \"rating_pelicula_1\").show()\n",
    "\n"
   ]
  },
  {
   "cell_type": "code",
   "execution_count": 0,
   "metadata": {
    "application/vnd.databricks.v1+cell": {
     "cellMetadata": {
      "byteLimit": 2048000,
      "rowLimit": 10000
     },
     "inputWidgets": {},
     "nuid": "2daab5c4-db85-46f2-b9da-5a63aac85eb9",
     "showTitle": false,
     "tableResultSettingsMap": {},
     "title": ""
    }
   },
   "outputs": [
    {
     "output_type": "stream",
     "name": "stdout",
     "output_type": "stream",
     "text": [
      "+------+-----------------+\n|userId|rating_pelicula_1|\n+------+-----------------+\n|    24|              4.5|\n|    88|              5.0|\n|   109|              5.0|\n|   130|              5.0|\n|   229|              4.0|\n|   439|              4.0|\n|   446|              4.0|\n|   465|              5.0|\n|   537|              4.0|\n|   581|              4.5|\n|   641|              5.0|\n|   663|              4.0|\n|   670|              5.0|\n|   692|              5.0|\n|   716|              4.5|\n|  1007|              4.5|\n|  1015|              4.0|\n|  1059|              4.0|\n|  1110|              4.0|\n|  1187|              4.5|\n+------+-----------------+\nonly showing top 20 rows\n"
     ]
    }
   ],
   "source": [
    "# Puedes filtrar por los usuarios que hayan calificado la película 1 con rating mayor o igual a 4\n",
    "user_map_con_valor.filter(col(\"rating_pelicula_1\") >= 4).select(\"userId\", \"rating_pelicula_1\").show()"
   ]
  }
 ],
 "metadata": {
  "application/vnd.databricks.v1+notebook": {
   "computePreferences": null,
   "dashboards": [],
   "environmentMetadata": null,
   "inputWidgetPreferences": null,
   "language": "python",
   "notebookMetadata": {
    "pythonIndentUnit": 4
   },
   "notebookName": "07 Tipos de Datos Complejos",
   "widgets": {}
  },
  "language_info": {
   "name": "python"
  }
 },
 "nbformat": 4,
 "nbformat_minor": 0
}