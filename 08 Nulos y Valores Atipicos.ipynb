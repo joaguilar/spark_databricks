{
 "cells": [
  {
   "cell_type": "markdown",
   "id": "b4b8143e",
   "metadata": {},
   "source": [
    "# Ejemplo de ETL: Limpieza de Nulos y Outliers\n",
    "\n",
    "Aquí realizaremos un flujo ETL típico:\n",
    "1. Carga de datos del Padrón Electoral.\n",
    "2. Detección y limpieza de valores nulos.\n",
    "3. Detección y filtrado de outliers (ejemplo: edades fuera de rango lógico).\n",
    "4. Transformación de columnas y guardado.\n"
   ]
  },
  {
   "cell_type": "code",
   "execution_count": null,
   "id": "b7954340",
   "metadata": {
    "vscode": {
     "languageId": "plaintext"
    }
   },
   "outputs": [],
   "source": [
    "from pyspark.sql.functions import col, when\n",
    "\n",
    "# Cargar padrón electoral\n",
    "df = spark.read.csv(\"/dbfs/FileStore/padron/PADRON_COMPLETO.csv\", header=True, inferSchema=True)\n",
    "\n",
    "# 1. Inspección inicial\n",
    "df.printSchema()\n",
    "df.select([col for col in df.columns]).show(5)\n",
    "\n",
    "# 2. Detección de nulos\n",
    "for c in df.columns:\n",
    "    print(c, \"->\", df.filter(col(c).isNull()).count(), \"nulos\")\n",
    "\n",
    "# 3. Limpieza: Eliminar filas con cédula o nombre nulo\n",
    "df_clean = df.dropna(subset=[\"CEDULA\", \"NOMBRE\"])\n",
    "\n",
    "# 4. Supongamos que tenemos una columna EDAD y filtramos outliers\n",
    "# (Si no hay, simular)\n",
    "from pyspark.sql.functions import rand\n",
    "df_clean = df_clean.withColumn(\"EDAD\", (rand()*90+10).cast(\"int\"))  # Simular edad\n",
    "\n",
    "# Filtrar edades <18 o >100\n",
    "df_clean = df_clean.filter((col(\"EDAD\") >= 18) & (col(\"EDAD\") <= 100))\n",
    "\n",
    "# 5. Transformación: agregar columna \"mayor_de_edad\"\n",
    "df_clean = df_clean.withColumn(\"mayor_de_edad\", when(col(\"EDAD\") >= 18, True).otherwise(False))\n",
    "\n",
    "df_clean.select(\"CEDULA\", \"NOMBRE\", \"EDAD\", \"mayor_de_edad\").show(5)\n",
    "\n",
    "# Guardar resultado\n",
    "df_clean.write.mode(\"overwrite\").csv(\"/dbfs/FileStore/padron/limpio\", header=True)\n"
   ]
  }
 ],
 "metadata": {
  "language_info": {
   "name": "python"
  }
 },
 "nbformat": 4,
 "nbformat_minor": 5
}
