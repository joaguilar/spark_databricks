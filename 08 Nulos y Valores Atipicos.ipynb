{
 "cells": [
  {
   "cell_type": "markdown",
   "metadata": {
    "application/vnd.databricks.v1+cell": {
     "cellMetadata": {
      "byteLimit": 2048000,
      "rowLimit": 10000
     },
     "inputWidgets": {},
     "nuid": "6ce4c10d-467d-400d-995f-66c5ea44b7ae",
     "showTitle": false,
     "tableResultSettingsMap": {},
     "title": ""
    }
   },
   "source": [
    "# Ejemplo de ETL: Limpieza de Nulos y Outliers\n",
    "\n",
    "Aquí realizaremos un flujo ETL típico:\n",
    "1. Carga de datos del Padrón Electoral.\n",
    "2. Detección y limpieza de valores nulos.\n",
    "3. Detección y filtrado de outliers (ejemplo: edades fuera de rango lógico).\n",
    "4. Transformación de columnas y guardado.\n"
   ]
  },
  {
   "cell_type": "code",
   "execution_count": 0,
   "metadata": {
    "application/vnd.databricks.v1+cell": {
     "cellMetadata": {
      "byteLimit": 2048000,
      "rowLimit": 10000
     },
     "inputWidgets": {},
     "nuid": "b9eb948c-80da-42ec-8870-83a0359e36ee",
     "showTitle": false,
     "tableResultSettingsMap": {},
     "title": ""
    },
    "vscode": {
     "languageId": "plaintext"
    }
   },
   "outputs": [],
   "source": [
    "from pyspark.sql.functions import col, when\n",
    "\n",
    "from pyspark.sql.types import StructType,StructField, StringType, IntegerType, DateType\n",
    "from pyspark.sql.types import ArrayType, DoubleType, BooleanType\n",
    "\n",
    "padron_schema  = StructType(fields=[\n",
    "    StructField(\"CEDULA\",IntegerType(),True), \n",
    "    StructField(\"CODELEC\",IntegerType(),True),\n",
    "    StructField(\"RELLENO\",StringType(),True),\n",
    "    StructField(\"FECHACADUC\",DateType(),True),\n",
    "    StructField(\"JUNTA\",IntegerType(),True),\n",
    "    StructField(\"NOMBRE\",StringType(),True),\n",
    "    StructField(\"1_APELLIDO\",StringType(),True),\n",
    "    StructField(\"2_APELLIDO\",StringType(),True),\n",
    "])\n",
    "\n",
    "df = spark.read\\\n",
    "    .option(\"header\", True)\\\n",
    "    .option(\"dateFormat\", \"yyyyMMdd\")\\\n",
    "    .schema(padron_schema)\\\n",
    "    .csv(\"/Volumes/big_data_ii_2025/spark_examples/spark_data/PADRON_COMPLETO.csv\")\n",
    "\n"
   ]
  },
  {
   "cell_type": "code",
   "execution_count": 0,
   "metadata": {
    "application/vnd.databricks.v1+cell": {
     "cellMetadata": {
      "byteLimit": 2048000,
      "rowLimit": 10000
     },
     "inputWidgets": {},
     "nuid": "07fb0bf1-8004-4efc-ae3b-ecce1a781e76",
     "showTitle": false,
     "tableResultSettingsMap": {},
     "title": ""
    }
   },
   "outputs": [],
   "source": [
    "# 1. Inspección inicial\n",
    "df.printSchema()\n",
    "\n"
   ]
  },
  {
   "cell_type": "code",
   "execution_count": 0,
   "metadata": {
    "application/vnd.databricks.v1+cell": {
     "cellMetadata": {
      "byteLimit": 2048000,
      "rowLimit": 10000
     },
     "inputWidgets": {},
     "nuid": "c7525199-c0b4-4ac1-901a-08aeb651c608",
     "showTitle": false,
     "tableResultSettingsMap": {},
     "title": ""
    }
   },
   "outputs": [],
   "source": [
    "df.select([col for col in df.columns]).show(5)\n",
    "\n"
   ]
  },
  {
   "cell_type": "code",
   "execution_count": 0,
   "metadata": {
    "application/vnd.databricks.v1+cell": {
     "cellMetadata": {
      "byteLimit": 2048000,
      "rowLimit": 10000
     },
     "inputWidgets": {},
     "nuid": "f9565847-5b60-441c-aedc-906ee8e909f1",
     "showTitle": false,
     "tableResultSettingsMap": {},
     "title": ""
    }
   },
   "outputs": [],
   "source": [
    "# 2. Detección de nulos\n",
    "for c in df.columns:\n",
    "    print(c, \"->\", df.filter(col(c).isNull()).count(), \"nulos\")\n",
    "\n"
   ]
  },
  {
   "cell_type": "code",
   "execution_count": 0,
   "metadata": {
    "application/vnd.databricks.v1+cell": {
     "cellMetadata": {
      "byteLimit": 2048000,
      "rowLimit": 10000
     },
     "inputWidgets": {},
     "nuid": "e33d745c-6283-483b-8455-b5c3ba660700",
     "showTitle": false,
     "tableResultSettingsMap": {},
     "title": ""
    }
   },
   "outputs": [],
   "source": [
    "# 3. Limpieza: Eliminar filas con cédula o nombre nulo\n",
    "df_clean = df.dropna(subset=[\"CEDULA\", \"NOMBRE\"])\n",
    "\n"
   ]
  },
  {
   "cell_type": "code",
   "execution_count": 0,
   "metadata": {
    "application/vnd.databricks.v1+cell": {
     "cellMetadata": {
      "byteLimit": 2048000,
      "rowLimit": 10000
     },
     "inputWidgets": {},
     "nuid": "b49df44c-b7c7-41ff-923c-39b0c3b5a304",
     "showTitle": false,
     "tableResultSettingsMap": {},
     "title": ""
    }
   },
   "outputs": [],
   "source": [
    "# 4. Supongamos que tenemos una columna EDAD y filtramos outliers\n",
    "# (Si no hay, simular)\n",
    "from pyspark.sql.functions import rand\n",
    "df_clean = df_clean.withColumn(\"EDAD\", (rand()*90+10).cast(\"int\"))  # Simular edad\n",
    "\n"
   ]
  },
  {
   "cell_type": "code",
   "execution_count": 0,
   "metadata": {
    "application/vnd.databricks.v1+cell": {
     "cellMetadata": {
      "byteLimit": 2048000,
      "rowLimit": 10000
     },
     "inputWidgets": {},
     "nuid": "c209fd9c-00e1-4e6b-a0d8-39f7e47cba78",
     "showTitle": false,
     "tableResultSettingsMap": {},
     "title": ""
    }
   },
   "outputs": [],
   "source": [
    "# Filtrar edades <18 o >100\n",
    "df_clean = df_clean.filter((col(\"EDAD\") >= 18) & (col(\"EDAD\") <= 100))\n",
    "\n"
   ]
  },
  {
   "cell_type": "code",
   "execution_count": 0,
   "metadata": {
    "application/vnd.databricks.v1+cell": {
     "cellMetadata": {
      "byteLimit": 2048000,
      "rowLimit": 10000
     },
     "inputWidgets": {},
     "nuid": "fed4859c-7379-4aee-86ab-af611419beb1",
     "showTitle": false,
     "tableResultSettingsMap": {},
     "title": ""
    }
   },
   "outputs": [],
   "source": [
    "# 5. Transformación: agregar columna \"mayor_de_edad\"\n",
    "df_clean = df_clean.withColumn(\"mayor_de_edad\", when(col(\"EDAD\") >= 18, True).otherwise(False))\n",
    "\n",
    "df_clean.select(\"CEDULA\", \"NOMBRE\", \"EDAD\", \"mayor_de_edad\").show(5)\n",
    "\n",
    "# Guardar resultado\n",
    "df_clean.write.mode(\"overwrite\").csv(\"/Volumes/big_data_ii_2025/spark_examples/spark_data//padron_limpio.csv\", header=True)"
   ]
  }
 ],
 "metadata": {
  "application/vnd.databricks.v1+notebook": {
   "computePreferences": null,
   "dashboards": [],
   "environmentMetadata": null,
   "inputWidgetPreferences": null,
   "language": "python",
   "notebookMetadata": {
    "pythonIndentUnit": 4
   },
   "notebookName": "08 Nulos y Valores Atipicos",
   "widgets": {}
  },
  "language_info": {
   "name": "python"
  }
 },
 "nbformat": 4,
 "nbformat_minor": 0
}
