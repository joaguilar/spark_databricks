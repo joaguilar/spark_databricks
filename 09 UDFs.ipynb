{
 "cells": [
  {
   "cell_type": "markdown",
   "id": "657668bc",
   "metadata": {},
   "source": [
    "# Uso de UDFs: Funciones Personalizadas en Spark\n",
    "\n",
    "Las UDF permiten aplicar funciones de Python a tus DataFrames. Úsalas solo cuando las funciones nativas no sean suficientes.\n",
    "Aquí, analizamos los títulos de películas del dataset MovieLens.\n"
   ]
  },
  {
   "cell_type": "code",
   "execution_count": null,
   "id": "fbcab1c7",
   "metadata": {
    "vscode": {
     "languageId": "plaintext"
    }
   },
   "outputs": [],
   "source": [
    "from pyspark.sql.functions import udf\n",
    "from pyspark.sql.types import IntegerType\n",
    "\n",
    "# Cargar datos de películas\n",
    "movies = spark.read.csv(\"/dbfs/FileStore/movielens/movies.csv\", header=True, inferSchema=True)\n",
    "\n",
    "# Definir UDF: contar número de palabras en el título de cada película\n",
    "def contar_palabras(titulo):\n",
    "    return len(titulo.split(\" \")) if titulo else 0\n",
    "\n",
    "contar_palabras_udf = udf(contar_palabras, IntegerType())\n",
    "\n",
    "# Aplicar UDF\n",
    "movies = movies.withColumn(\"num_palabras_titulo\", contar_palabras_udf(col(\"title\")))\n",
    "movies.select(\"title\", \"num_palabras_titulo\").show(10, truncate=False)\n",
    "\n",
    "# Comparar con una función Spark nativa (split)\n",
    "from pyspark.sql.functions import size, split\n",
    "movies = movies.withColumn(\"num_palabras_nativo\", size(split(col(\"title\"), \" \")))\n",
    "movies.select(\"title\", \"num_palabras_titulo\", \"num_palabras_nativo\").show(10, truncate=False)\n",
    "\n",
    "# Nota: siempre que sea posible, prefiere las funciones Spark nativas por rendimiento.\n"
   ]
  }
 ],
 "metadata": {
  "language_info": {
   "name": "python"
  }
 },
 "nbformat": 4,
 "nbformat_minor": 5
}
