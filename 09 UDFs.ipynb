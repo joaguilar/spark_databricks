{
 "cells": [
  {
   "cell_type": "code",
   "execution_count": 0,
   "metadata": {
    "application/vnd.databricks.v1+cell": {
     "cellMetadata": {
      "byteLimit": 2048000,
      "rowLimit": 10000
     },
     "inputWidgets": {},
     "nuid": "01229d03-355f-432a-9429-31476677044a",
     "showTitle": false,
     "tableResultSettingsMap": {},
     "title": ""
    }
   },
   "outputs": [],
   "source": [
    "from pyspark import *\n",
    "from pyspark.sql import SparkSession\n",
    "from pyspark.sql.types import StructType,StructField, StringType, IntegerType, DateType, TimestampType, LongType\n",
    "from pyspark.sql.types import ArrayType, DoubleType, BooleanType, DecimalType\n",
    "from pyspark.sql.functions import regexp_extract, split, from_unixtime, col, avg, min, max, desc\n",
    "from pyspark.sql.functions import grouping, explode, array_contains, udf\n",
    "\n",
    "from time import time\n"
   ]
  },
  {
   "cell_type": "markdown",
   "metadata": {
    "application/vnd.databricks.v1+cell": {
     "cellMetadata": {
      "byteLimit": 2048000,
      "rowLimit": 10000
     },
     "inputWidgets": {},
     "nuid": "783c4fad-2675-4529-b19e-1752d5316a31",
     "showTitle": false,
     "tableResultSettingsMap": {},
     "title": ""
    }
   },
   "source": [
    "# Uso de UDFs: Funciones Personalizadas en Spark\n",
    "\n",
    "Las UDF permiten aplicar funciones de Python a tus DataFrames. Úsalas solo cuando las funciones nativas no sean suficientes.\n",
    "Aquí, analizamos los títulos de películas del dataset MovieLens.\n"
   ]
  },
  {
   "cell_type": "code",
   "execution_count": 0,
   "metadata": {
    "application/vnd.databricks.v1+cell": {
     "cellMetadata": {
      "byteLimit": 2048000,
      "rowLimit": 10000
     },
     "inputWidgets": {},
     "nuid": "9e2c1484-020e-4caf-a7ad-eeaf0ad6bc06",
     "showTitle": false,
     "tableResultSettingsMap": {},
     "title": ""
    }
   },
   "outputs": [],
   "source": [
    "# Tabla Movies\n",
    "movies_schema  = StructType(fields=[\n",
    "    StructField(\"movieId\",IntegerType(),True), \n",
    "    StructField(\"title\",StringType(),True),\n",
    "    StructField(\"genres\",StringType(),True)\n",
    "])\n",
    "\n",
    "moviesDf = spark.read\\\n",
    "    .option(\"header\", True)\\\n",
    "    .schema(movies_schema)\\\n",
    "    .csv(\"/Volumes/big_data_ii_2025/spark_examples/spark_data/movies.csv\")\n",
    "\n",
    "moviesDf = moviesDf.withColumn(\"genresSplit\", split(moviesDf[\"genres\"],\"\\|\"))\\\n",
    "                        .drop('genres').withColumnRenamed(\"genresSplit\",\"genres\")\\\n",
    "                            .withColumn(\\\n",
    "                                \"year\",\\\n",
    "                                regexp_extract(\\\n",
    "                                           moviesDf[\"title\"],\\\n",
    "                                           \"^.+\\(([0-9]+)\\)$\",\\\n",
    "                                           1)\\\n",
    "                                .try_cast(IntegerType()))\\\n",
    "                            .withColumn(\\\n",
    "                            \"title_temp\",\\\n",
    "                            regexp_extract(\\\n",
    "                                           moviesDf[\"title\"],\\\n",
    "                                           \"^(.+?) \\([0-9]+\\)$\",\\\n",
    "                                           1))\\\n",
    "                            .drop('title')\\\n",
    "                        .withColumnRenamed(\"title_temp\",\"title\")"
   ]
  },
  {
   "cell_type": "code",
   "execution_count": 0,
   "metadata": {
    "application/vnd.databricks.v1+cell": {
     "cellMetadata": {
      "byteLimit": 2048000,
      "rowLimit": 10000
     },
     "inputWidgets": {},
     "nuid": "931efc85-a73d-41b6-9c07-b5dccb0c5107",
     "showTitle": false,
     "tableResultSettingsMap": {},
     "title": ""
    },
    "vscode": {
     "languageId": "plaintext"
    }
   },
   "outputs": [],
   "source": [
    "# Definir UDF: contar número de palabras en el título de cada película\n",
    "def contar_palabras(titulo):\n",
    "    return len(titulo.split(\" \")) if titulo else 0\n",
    "\n",
    "contar_palabras_udf = udf(contar_palabras, IntegerType())\n",
    "\n",
    "\n"
   ]
  },
  {
   "cell_type": "code",
   "execution_count": 0,
   "metadata": {
    "application/vnd.databricks.v1+cell": {
     "cellMetadata": {
      "byteLimit": 2048000,
      "rowLimit": 10000
     },
     "inputWidgets": {},
     "nuid": "b8aadb1c-aa64-4ecc-9495-0aaee3a9b06f",
     "showTitle": false,
     "tableResultSettingsMap": {},
     "title": ""
    }
   },
   "outputs": [
    {
     "output_type": "stream",
     "name": "stdout",
     "output_type": "stream",
     "text": [
      "CPU times: user 3 μs, sys: 1 μs, total: 4 μs\nWall time: 5.48 μs\n+---------------------------+-------------------+\n|title                      |num_palabras_titulo|\n+---------------------------+-------------------+\n|Toy Story                  |2                  |\n|Jumanji                    |1                  |\n|Grumpier Old Men           |3                  |\n|Waiting to Exhale          |3                  |\n|Father of the Bride Part II|6                  |\n|Heat                       |1                  |\n|Sabrina                    |1                  |\n|Tom and Huck               |3                  |\n|Sudden Death               |2                  |\n|GoldenEye                  |1                  |\n+---------------------------+-------------------+\nonly showing top 10 rows\nTiempo: 2.65s\n"
     ]
    }
   ],
   "source": [
    "%time\n",
    "# Aplicar UDF\n",
    "t0 = time()\n",
    "moviesDf = moviesDf.withColumn(\"num_palabras_titulo\", contar_palabras_udf(col(\"title\")))\n",
    "moviesDf.select(\"title\", \"num_palabras_titulo\").show(10, truncate=False)\n",
    "print(f\"Tiempo: {round(time() - t0, 2)}s\")\n"
   ]
  },
  {
   "cell_type": "code",
   "execution_count": 0,
   "metadata": {
    "application/vnd.databricks.v1+cell": {
     "cellMetadata": {
      "byteLimit": 2048000,
      "rowLimit": 10000
     },
     "inputWidgets": {},
     "nuid": "3ef46dee-5bcb-4f04-b6cc-9259bfac2f98",
     "showTitle": false,
     "tableResultSettingsMap": {},
     "title": ""
    }
   },
   "outputs": [
    {
     "output_type": "stream",
     "name": "stdout",
     "output_type": "stream",
     "text": [
      "CPU times: user 4 μs, sys: 0 ns, total: 4 μs\nWall time: 6.44 μs\n+---------------------------+-------------------+-------------------+\n|title                      |num_palabras_titulo|num_palabras_nativo|\n+---------------------------+-------------------+-------------------+\n|Toy Story                  |2                  |2                  |\n|Jumanji                    |1                  |1                  |\n|Grumpier Old Men           |3                  |3                  |\n|Waiting to Exhale          |3                  |3                  |\n|Father of the Bride Part II|6                  |6                  |\n|Heat                       |1                  |1                  |\n|Sabrina                    |1                  |1                  |\n|Tom and Huck               |3                  |3                  |\n|Sudden Death               |2                  |2                  |\n|GoldenEye                  |1                  |1                  |\n+---------------------------+-------------------+-------------------+\nonly showing top 10 rows\nTiempo: 278.41s\n"
     ]
    }
   ],
   "source": [
    "%time\n",
    "\n",
    "# Comparar con una función Spark nativa (split)\n",
    "from pyspark.sql.functions import size, split\n",
    "moviesDf = moviesDf.withColumn(\"num_palabras_nativo\", size(split(col(\"title\"), \" \")))\n",
    "moviesDf.select(\"title\", \"num_palabras_titulo\", \"num_palabras_nativo\").show(10, truncate=False)\n",
    "print(f\"Tiempo: {round(time() - t0, 2)}s\")\n",
    "# Nota: siempre que sea posible, prefiere las funciones Spark nativas por rendimiento."
   ]
  }
 ],
 "metadata": {
  "application/vnd.databricks.v1+notebook": {
   "computePreferences": null,
   "dashboards": [],
   "environmentMetadata": null,
   "inputWidgetPreferences": null,
   "language": "python",
   "notebookMetadata": {
    "pythonIndentUnit": 4
   },
   "notebookName": "09 UDFs",
   "widgets": {}
  },
  "language_info": {
   "name": "python"
  }
 },
 "nbformat": 4,
 "nbformat_minor": 0
}