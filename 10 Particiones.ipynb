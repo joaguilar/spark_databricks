{
 "cells": [
  {
   "cell_type": "markdown",
   "id": "e307683d",
   "metadata": {},
   "source": [
    "# Manejo y Optimización de Particiones en Spark\n",
    "\n",
    "En este notebook aprenderás a:\n",
    "- Visualizar y modificar el número de particiones de un DataFrame.\n",
    "- Usar las funciones `repartition` y `coalesce`.\n",
    "- Guardar datos con particionado por columna y medir el impacto en el rendimiento.\n",
    "Trabajaremos con el dataset MovieLens.\n"
   ]
  },
  {
   "cell_type": "code",
   "execution_count": null,
   "id": "ec2ed072",
   "metadata": {
    "vscode": {
     "languageId": "plaintext"
    }
   },
   "outputs": [],
   "source": [
    "# Cargar datos MovieLens (ratings.csv) suponiendo que está en /dbfs/FileStore/movielens/ratings.csv\n",
    "df = spark.read.csv(\"/dbfs/FileStore/movielens/ratings.csv\", header=True, inferSchema=True)\n",
    "df.printSchema()\n",
    "df.count()\n",
    "\n",
    "# Ver número de particiones\n",
    "print(\"Particiones iniciales:\", df.rdd.getNumPartitions())\n",
    "\n",
    "# Cambiar el número de particiones a 8\n",
    "df_repart = df.repartition(8)\n",
    "print(\"Después de repartition(8):\", df_repart.rdd.getNumPartitions())\n",
    "\n",
    "# Reducir a 2 particiones con coalesce\n",
    "df_coalesce = df_repart.coalesce(2)\n",
    "print(\"Después de coalesce(2):\", df_coalesce.rdd.getNumPartitions())\n",
    "\n",
    "# Guardar datos particionando por 'userId'\n",
    "output_path = \"/dbfs/FileStore/movielens/ratings_by_user\"\n",
    "df.write.mode(\"overwrite\").partitionBy(\"userId\").parquet(output_path)\n",
    "\n",
    "# Explorar estructura de carpetas (solo funciona en Databricks)\n",
    "display(dbutils.fs.ls(\"/FileStore/movielens/ratings_by_user\"))\n",
    "\n",
    "# BONUS: Medición de tiempo de escritura con diferentes particiones\n",
    "import time\n",
    "start = time.time()\n",
    "df_repart.write.mode(\"overwrite\").parquet(\"/dbfs/FileStore/movielens/test_repart\")\n",
    "print(\"Tiempo con repartition(8):\", time.time() - start, \"segundos\")\n"
   ]
  }
 ],
 "metadata": {
  "language_info": {
   "name": "python"
  }
 },
 "nbformat": 4,
 "nbformat_minor": 5
}
