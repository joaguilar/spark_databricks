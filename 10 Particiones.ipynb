{
 "cells": [
  {
   "cell_type": "code",
   "execution_count": 0,
   "metadata": {
    "application/vnd.databricks.v1+cell": {
     "cellMetadata": {
      "byteLimit": 2048000,
      "rowLimit": 10000
     },
     "inputWidgets": {},
     "nuid": "0514b603-1c3b-46b7-a94e-29718bb57e2f",
     "showTitle": false,
     "tableResultSettingsMap": {},
     "title": ""
    }
   },
   "outputs": [],
   "source": [
    "from pyspark import *\n",
    "from pyspark.sql import SparkSession, Window\n",
    "from pyspark.sql.types import StructType,StructField, StringType, IntegerType, DateType, TimestampType, LongType\n",
    "from pyspark.sql.types import ArrayType, DoubleType, BooleanType, DecimalType\n",
    "from pyspark.sql.functions import regexp_extract, split, from_unixtime, col, avg, min, max, desc\n",
    "from pyspark.sql.functions import grouping, explode, array_contains, struct, collect_list, row_number"
   ]
  },
  {
   "cell_type": "code",
   "execution_count": 0,
   "metadata": {
    "application/vnd.databricks.v1+cell": {
     "cellMetadata": {
      "byteLimit": 2048000,
      "rowLimit": 10000
     },
     "inputWidgets": {},
     "nuid": "1b9ac482-0cf3-4d67-b654-3be167c477f8",
     "showTitle": false,
     "tableResultSettingsMap": {},
     "title": ""
    }
   },
   "outputs": [
    {
     "output_type": "display_data",
     "data": {
      "text/html": [
       "<style scoped>\n",
       "  .table-result-container {\n",
       "    max-height: 300px;\n",
       "    overflow: auto;\n",
       "  }\n",
       "  table, th, td {\n",
       "    border: 1px solid black;\n",
       "    border-collapse: collapse;\n",
       "  }\n",
       "  th, td {\n",
       "    padding: 5px;\n",
       "  }\n",
       "  th {\n",
       "    text-align: left;\n",
       "  }\n",
       "</style><div class='table-result-container'><table class='table-result'><thead style='background-color: white'><tr><th>path</th><th>name</th><th>size</th><th>modificationTime</th></tr></thead><tbody><tr><td>dbfs:/FileStore/tables/PADRON_COMPLETO-1.csv</td><td>PADRON_COMPLETO-1.csv</td><td>437542254</td><td>1749404416000</td></tr><tr><td>dbfs:/FileStore/tables/PADRON_COMPLETO.csv</td><td>PADRON_COMPLETO.csv</td><td>437542254</td><td>1748737791000</td></tr><tr><td>dbfs:/FileStore/tables/SJ.csv</td><td>SJ.csv</td><td>140579880</td><td>1748917446000</td></tr><tr><td>dbfs:/FileStore/tables/distelec.csv</td><td>distelec.csv</td><td>175692</td><td>1749404350000</td></tr><tr><td>dbfs:/FileStore/tables/ejemplo.txt</td><td>ejemplo.txt</td><td>189</td><td>1748748188000</td></tr><tr><td>dbfs:/FileStore/tables/links.csv</td><td>links.csv</td><td>197979</td><td>1749404504000</td></tr><tr><td>dbfs:/FileStore/tables/movies.csv</td><td>movies.csv</td><td>494431</td><td>1749404505000</td></tr><tr><td>dbfs:/FileStore/tables/padron_limpio.csv/</td><td>padron_limpio.csv/</td><td>0</td><td>0</td></tr><tr><td>dbfs:/FileStore/tables/por_ciclo_2016_2018.csv</td><td>por_ciclo_2016_2018.csv</td><td>904931</td><td>1749404351000</td></tr><tr><td>dbfs:/FileStore/tables/ratings.csv</td><td>ratings.csv</td><td>2483723</td><td>1749404506000</td></tr><tr><td>dbfs:/FileStore/tables/ratings_full.csv</td><td>ratings_full.csv</td><td>933898879</td><td>1749407730000</td></tr><tr><td>dbfs:/FileStore/tables/ratings_noheader.csv</td><td>ratings_noheader.csv</td><td>2483690</td><td>1749404505000</td></tr><tr><td>dbfs:/FileStore/tables/ratings_random.csv</td><td>ratings_random.csv</td><td>438</td><td>1749404505000</td></tr><tr><td>dbfs:/FileStore/tables/ratings_random_noheader.csv</td><td>ratings_random_noheader.csv</td><td>252</td><td>1749404505000</td></tr><tr><td>dbfs:/FileStore/tables/tags.csv</td><td>tags.csv</td><td>118660</td><td>1749404506000</td></tr></tbody></table></div>"
      ]
     },
     "metadata": {
      "application/vnd.databricks.v1+output": {
       "addedWidgets": {},
       "aggData": [],
       "aggError": "",
       "aggOverflow": false,
       "aggSchema": [],
       "aggSeriesLimitReached": false,
       "aggType": "",
       "arguments": {},
       "columnCustomDisplayInfos": {},
       "data": [
        [
         "dbfs:/FileStore/tables/PADRON_COMPLETO-1.csv",
         "PADRON_COMPLETO-1.csv",
         437542254,
         1749404416000
        ],
        [
         "dbfs:/FileStore/tables/PADRON_COMPLETO.csv",
         "PADRON_COMPLETO.csv",
         437542254,
         1748737791000
        ],
        [
         "dbfs:/FileStore/tables/SJ.csv",
         "SJ.csv",
         140579880,
         1748917446000
        ],
        [
         "dbfs:/FileStore/tables/distelec.csv",
         "distelec.csv",
         175692,
         1749404350000
        ],
        [
         "dbfs:/FileStore/tables/ejemplo.txt",
         "ejemplo.txt",
         189,
         1748748188000
        ],
        [
         "dbfs:/FileStore/tables/links.csv",
         "links.csv",
         197979,
         1749404504000
        ],
        [
         "dbfs:/FileStore/tables/movies.csv",
         "movies.csv",
         494431,
         1749404505000
        ],
        [
         "dbfs:/FileStore/tables/padron_limpio.csv/",
         "padron_limpio.csv/",
         0,
         0
        ],
        [
         "dbfs:/FileStore/tables/por_ciclo_2016_2018.csv",
         "por_ciclo_2016_2018.csv",
         904931,
         1749404351000
        ],
        [
         "dbfs:/FileStore/tables/ratings.csv",
         "ratings.csv",
         2483723,
         1749404506000
        ],
        [
         "dbfs:/FileStore/tables/ratings_full.csv",
         "ratings_full.csv",
         933898879,
         1749407730000
        ],
        [
         "dbfs:/FileStore/tables/ratings_noheader.csv",
         "ratings_noheader.csv",
         2483690,
         1749404505000
        ],
        [
         "dbfs:/FileStore/tables/ratings_random.csv",
         "ratings_random.csv",
         438,
         1749404505000
        ],
        [
         "dbfs:/FileStore/tables/ratings_random_noheader.csv",
         "ratings_random_noheader.csv",
         252,
         1749404505000
        ],
        [
         "dbfs:/FileStore/tables/tags.csv",
         "tags.csv",
         118660,
         1749404506000
        ]
       ],
       "datasetInfos": [],
       "dbfsResultPath": null,
       "isJsonSchema": true,
       "metadata": {
        "isDbfsCommandResult": false
       },
       "overflow": false,
       "plotOptions": {
        "customPlotOptions": {},
        "displayType": "table",
        "pivotAggregation": null,
        "pivotColumns": null,
        "xColumns": null,
        "yColumns": null
       },
       "removedWidgets": [],
       "schema": [
        {
         "metadata": "{}",
         "name": "path",
         "type": "\"string\""
        },
        {
         "metadata": "{}",
         "name": "name",
         "type": "\"string\""
        },
        {
         "metadata": "{}",
         "name": "size",
         "type": "\"long\""
        },
        {
         "metadata": "{}",
         "name": "modificationTime",
         "type": "\"long\""
        }
       ],
       "type": "table"
      }
     },
     "output_type": "display_data"
    }
   ],
   "source": [
    "%fs ls dbfs:/FileStore/tables"
   ]
  },
  {
   "cell_type": "markdown",
   "metadata": {
    "application/vnd.databricks.v1+cell": {
     "cellMetadata": {},
     "inputWidgets": {},
     "nuid": "f54704a2-6255-4a53-8e7b-6a34e0c200d6",
     "showTitle": false,
     "tableResultSettingsMap": {},
     "title": ""
    }
   },
   "source": [
    "# Manejo y Optimización de Particiones en Spark\n",
    "\n",
    "En este notebook aprenderás a:\n",
    "- Visualizar y modificar el número de particiones de un DataFrame.\n",
    "- Usar las funciones `repartition` y `coalesce`.\n",
    "- Guardar datos con particionado por columna y medir el impacto en el rendimiento.\n",
    "Trabajaremos con el dataset MovieLens.\n"
   ]
  },
  {
   "cell_type": "code",
   "execution_count": 0,
   "metadata": {
    "application/vnd.databricks.v1+cell": {
     "cellMetadata": {
      "byteLimit": 2048000,
      "rowLimit": 10000
     },
     "inputWidgets": {},
     "nuid": "d116c3e8-f24a-44ce-a81a-6d8beaee14e2",
     "showTitle": false,
     "tableResultSettingsMap": {},
     "title": ""
    },
    "vscode": {
     "languageId": "plaintext"
    }
   },
   "outputs": [],
   "source": [
    "# Cargar datos MovieLens (ratings.csv) suponiendo que está en /dbfs/FileStore/movielens/ratings.csv\n",
    "# Tabla Ratings\n",
    "ratings_schema  = StructType(fields=[\n",
    "    StructField(\"userId\",IntegerType(),True), \n",
    "    StructField(\"movieId\",IntegerType(),True),\n",
    "    StructField(\"rating\",DecimalType(precision=2,scale=1),True),\n",
    "    StructField(\"timestamp\",LongType(),True)\n",
    "])\n",
    "ratingsDf = spark.read\\\n",
    "    .option(\"header\", True)\\\n",
    "    .option(\"dateFormat\", \"yyyyMMdd\")\\\n",
    "    .schema(ratings_schema)\\\n",
    "    .csv(\"dbfs:/FileStore/tables/ratings_full.csv\")\\\n",
    "    .withColumn(\\\n",
    "            \"date\",\\\n",
    "            from_unixtime(\"timestamp\", \"yyyyMMdd\"))\\\n",
    "                .drop('timestamp')\n",
    "\n"
   ]
  },
  {
   "cell_type": "code",
   "execution_count": 0,
   "metadata": {
    "application/vnd.databricks.v1+cell": {
     "cellMetadata": {
      "byteLimit": 2048000,
      "rowLimit": 10000
     },
     "inputWidgets": {},
     "nuid": "79827207-d504-4460-aa5e-fe6207df5b1e",
     "showTitle": false,
     "tableResultSettingsMap": {},
     "title": ""
    }
   },
   "outputs": [
    {
     "output_type": "stream",
     "name": "stdout",
     "output_type": "stream",
     "text": [
      "root\n |-- userId: integer (nullable = true)\n |-- movieId: integer (nullable = true)\n |-- rating: decimal(2,1) (nullable = true)\n |-- date: string (nullable = true)\n\n"
     ]
    }
   ],
   "source": [
    "ratingsDf.printSchema()\n"
   ]
  },
  {
   "cell_type": "code",
   "execution_count": 0,
   "metadata": {
    "application/vnd.databricks.v1+cell": {
     "cellMetadata": {
      "byteLimit": 2048000,
      "rowLimit": 10000
     },
     "inputWidgets": {},
     "nuid": "e4397f78-d70c-4ed8-883c-d8779e86128b",
     "showTitle": false,
     "tableResultSettingsMap": {},
     "title": ""
    }
   },
   "outputs": [
    {
     "output_type": "stream",
     "name": "stdout",
     "output_type": "stream",
     "text": [
      "Out[7]: 33832162"
     ]
    }
   ],
   "source": [
    "ratingsDf.count()\n",
    "\n"
   ]
  },
  {
   "cell_type": "code",
   "execution_count": 0,
   "metadata": {
    "application/vnd.databricks.v1+cell": {
     "cellMetadata": {
      "byteLimit": 2048000,
      "rowLimit": 10000
     },
     "inputWidgets": {},
     "nuid": "5c603d5b-fb4e-4587-8f81-1e136c3a698e",
     "showTitle": false,
     "tableResultSettingsMap": {},
     "title": ""
    }
   },
   "outputs": [
    {
     "output_type": "stream",
     "name": "stdout",
     "output_type": "stream",
     "text": [
      "Particiones iniciales: 8\n"
     ]
    }
   ],
   "source": [
    "# Ver número de particiones\n",
    "print(\"Particiones iniciales:\", ratingsDf.rdd.getNumPartitions())\n",
    "\n"
   ]
  },
  {
   "cell_type": "code",
   "execution_count": 0,
   "metadata": {
    "application/vnd.databricks.v1+cell": {
     "cellMetadata": {
      "byteLimit": 2048000,
      "rowLimit": 10000
     },
     "inputWidgets": {},
     "nuid": "5931bea1-f3b5-4eb1-9b89-f2d72cf0ddd0",
     "showTitle": false,
     "tableResultSettingsMap": {},
     "title": ""
    }
   },
   "outputs": [
    {
     "output_type": "stream",
     "name": "stdout",
     "output_type": "stream",
     "text": [
      "Después de repartition(16): 16\n"
     ]
    }
   ],
   "source": [
    "%time\n",
    "# Cambiar el número de particiones a 16\n",
    "df_repart = ratingsDf.repartition(16)\n",
    "print(\"Después de repartition(16):\", df_repart.rdd.getNumPartitions())\n",
    "\n"
   ]
  },
  {
   "cell_type": "code",
   "execution_count": 0,
   "metadata": {
    "application/vnd.databricks.v1+cell": {
     "cellMetadata": {
      "byteLimit": 2048000,
      "rowLimit": 10000
     },
     "inputWidgets": {},
     "nuid": "11ca0dd3-0974-4e9d-8247-035c1e869e44",
     "showTitle": false,
     "tableResultSettingsMap": {},
     "title": ""
    }
   },
   "outputs": [
    {
     "output_type": "stream",
     "name": "stdout",
     "output_type": "stream",
     "text": [
      "Después de coalesce(2): 2\n"
     ]
    }
   ],
   "source": [
    "%time\n",
    "# Reducir a 2 particiones con coalesce\n",
    "df_coalesce = df_repart.coalesce(2)\n",
    "print(\"Después de coalesce(2):\", df_coalesce.rdd.getNumPartitions())\n",
    "\n"
   ]
  },
  {
   "cell_type": "code",
   "execution_count": 0,
   "metadata": {
    "application/vnd.databricks.v1+cell": {
     "cellMetadata": {
      "byteLimit": 2048000,
      "rowLimit": 10000
     },
     "inputWidgets": {},
     "nuid": "664e1067-1f96-4723-8f9c-35263928e6c8",
     "showTitle": false,
     "tableResultSettingsMap": {},
     "title": ""
    }
   },
   "outputs": [
    {
     "output_type": "stream",
     "name": "stdout",
     "output_type": "stream",
     "text": [
      "total 88\n4 drwxrwxrwt 1 root root 4096 Jun  8 20:18 .\n4 drwxr-xr-x 1 root root 4096 Jun  8 17:32 ..\n4 drwxrwxrwt 2 root root 4096 Jun  8 17:32 .ICE-unix\n4 drwxrwxrwt 2 root root 4096 Jun  8 17:32 .Test-unix\n4 drwxrwxrwt 2 root root 4096 Jun  8 17:32 .X11-unix\n4 drwxrwxrwt 2 root root 4096 Jun  8 17:32 .XIM-unix\n4 drwxrwxrwt 2 root root 4096 Jun  8 17:32 .font-unix\n4 drwxr-xr-x 3 root root 4096 Jun  8 17:34 Rserv\n4 drwx------ 2 root root 4096 Jun  8 17:38 RtmpnkHKVk\n4 -rw-r--r-- 1 root root   22 Jun  8 17:32 chauffeur-daemon-params\n4 -rw-r--r-- 1 root root    4 Jun  8 17:32 chauffeur-daemon.pid\n4 -rw-r--r-- 1 root root  156 Jun  8 17:32 chauffeur-env.sh\n4 -rw-r--r-- 1 root root 1042 Jun  8 17:32 custom-spark.conf\n4 -rw-r--r-- 1 root root   19 Jun  8 17:33 driver-daemon-params\n4 -rw-r--r-- 1 root root    4 Jun  8 17:33 driver-daemon.pid\n4 -rw-r--r-- 1 root root 3321 Jun  8 17:33 driver-env.sh\n4 drwxr-xr-x 2 root root 4096 Jun  8 17:33 hsperfdata_root\n4 drwxr-xr-x 2 root root 4096 Jun  8 20:18 rating_by_rating\n4 drwx------ 3 root root 4096 Jun  8 17:32 systemd-private-4205c57d7e0444028ec5ebcc6844de92-apache2.service-nQs2Ve\n4 drwx------ 3 root root 4096 Jun  8 17:32 systemd-private-4205c57d7e0444028ec5ebcc6844de92-ntp.service-0UM60e\n4 drwx------ 3 root root 4096 Jun  8 17:32 systemd-private-4205c57d7e0444028ec5ebcc6844de92-systemd-logind.service-bsxO1h\n4 drwx------ 3 root root 4096 Jun  8 17:32 systemd-private-4205c57d7e0444028ec5ebcc6844de92-systemd-resolved.service-mc7ogh\n0 -rw------- 1 root root    0 Jun  8 17:32 tmp.St8VaIDDBv\n"
     ]
    }
   ],
   "source": [
    "%%sh\n",
    "ls -las /tmp \n",
    "mkdir /tmp/rating_by_rating"
   ]
  },
  {
   "cell_type": "code",
   "execution_count": 0,
   "metadata": {
    "application/vnd.databricks.v1+cell": {
     "cellMetadata": {
      "byteLimit": 2048000,
      "rowLimit": 10000
     },
     "inputWidgets": {},
     "nuid": "5541cc00-8afe-4db9-a0e1-f50809334a17",
     "showTitle": false,
     "tableResultSettingsMap": {},
     "title": ""
    }
   },
   "outputs": [
    {
     "output_type": "stream",
     "name": "stdout",
     "output_type": "stream",
     "text": [
      "CPU times: user 4 µs, sys: 0 ns, total: 4 µs\nWall time: 6.91 µs\nTiempo: 104.14708518981934 segundos\n"
     ]
    }
   ],
   "source": [
    "%time\n",
    "# Guardar datos particionando por 'rating'\n",
    "import time\n",
    "start = time.time()\n",
    "output_path = \"/tmp/rating_by_rating\"\n",
    "ratingsDf.write.mode(\"overwrite\").partitionBy(\"rating\").parquet(output_path)\n",
    "print(\"Tiempo:\", time.time() - start, \"segundos\")\n"
   ]
  },
  {
   "cell_type": "code",
   "execution_count": 0,
   "metadata": {
    "application/vnd.databricks.v1+cell": {
     "cellMetadata": {
      "byteLimit": 2048000,
      "rowLimit": 10000
     },
     "inputWidgets": {},
     "nuid": "716b8cc9-08e5-4b17-9aab-5a12e832cfd4",
     "showTitle": false,
     "tableResultSettingsMap": {},
     "title": ""
    }
   },
   "outputs": [
    {
     "output_type": "stream",
     "name": "stdout",
     "output_type": "stream",
     "text": [
      "total 8\n4 drwxr-xr-x 2 root root 4096 Jun  8 20:18 .\n4 drwxrwxrwt 1 root root 4096 Jun  8 20:18 ..\n"
     ]
    }
   ],
   "source": [
    "%%sh\n",
    "ls -las /tmp/rating_by_rating/"
   ]
  },
  {
   "cell_type": "code",
   "execution_count": 0,
   "metadata": {
    "application/vnd.databricks.v1+cell": {
     "cellMetadata": {
      "byteLimit": 2048000,
      "rowLimit": 10000
     },
     "inputWidgets": {},
     "nuid": "ff01e306-715f-4ade-980e-8a506150eb49",
     "showTitle": false,
     "tableResultSettingsMap": {},
     "title": ""
    }
   },
   "outputs": [
    {
     "output_type": "stream",
     "name": "stdout",
     "output_type": "stream",
     "text": [
      "Particiones originales: 8\n"
     ]
    }
   ],
   "source": [
    "print(\"Particiones originales:\", ratingsDf.rdd.getNumPartitions())\n",
    "\n"
   ]
  },
  {
   "cell_type": "code",
   "execution_count": 0,
   "metadata": {
    "application/vnd.databricks.v1+cell": {
     "cellMetadata": {
      "byteLimit": 2048000,
      "rowLimit": 10000
     },
     "inputWidgets": {},
     "nuid": "e5dd4b5a-f3c9-44d2-b28e-c4a5d18b237b",
     "showTitle": false,
     "tableResultSettingsMap": {},
     "title": ""
    }
   },
   "outputs": [],
   "source": [
    "def medir_tiempo_particiones(df, num_particiones):\n",
    "    df_mod = df.repartition(num_particiones)\n",
    "    print(f\"\\nUsando {num_particiones} particiones:\")\n",
    "    start = time.time()\n",
    "    # Operación costosa: groupBy + count\n",
    "    resultado = df_mod.groupBy(\"movieId\").count().collect()\n",
    "    print(\"Tiempo:\", round(time.time() - start, 3), \"segundos\")\n",
    "\n"
   ]
  },
  {
   "cell_type": "code",
   "execution_count": 0,
   "metadata": {
    "application/vnd.databricks.v1+cell": {
     "cellMetadata": {
      "byteLimit": 2048000,
      "rowLimit": 10000
     },
     "inputWidgets": {},
     "nuid": "5b085823-9aa3-4a3a-803a-25201121ff61",
     "showTitle": false,
     "tableResultSettingsMap": {},
     "title": ""
    }
   },
   "outputs": [
    {
     "output_type": "stream",
     "name": "stdout",
     "output_type": "stream",
     "text": [
      "\nUsando 2 particiones:\nTiempo: 63.93 segundos\n\nUsando 4 particiones:\nTiempo: 63.58 segundos\n\nUsando 8 particiones:\nTiempo: 64.058 segundos\n\nUsando 16 particiones:\nTiempo: 65.2 segundos\n\nUsando 32 particiones:\nTiempo: 66.018 segundos\n"
     ]
    }
   ],
   "source": [
    "for n in [2, 4, 8, 16, 32]:\n",
    "    medir_tiempo_particiones(ratingsDf, n)"
   ]
  },
  {
   "cell_type": "code",
   "execution_count": 0,
   "metadata": {
    "application/vnd.databricks.v1+cell": {
     "cellMetadata": {},
     "inputWidgets": {},
     "nuid": "993327fd-43aa-440a-8cec-5b5b2792049d",
     "showTitle": false,
     "tableResultSettingsMap": {},
     "title": ""
    }
   },
   "outputs": [],
   "source": []
  }
 ],
 "metadata": {
  "application/vnd.databricks.v1+notebook": {
   "computePreferences": null,
   "dashboards": [],
   "environmentMetadata": null,
   "inputWidgetPreferences": null,
   "language": "python",
   "notebookMetadata": {
    "mostRecentlyExecutedCommandWithImplicitDF": {
     "commandId": 3921227680974219,
     "dataframes": [
      "_sqldf"
     ]
    },
    "pythonIndentUnit": 4
   },
   "notebookName": "10 Particiones",
   "widgets": {}
  },
  "language_info": {
   "name": "python"
  }
 },
 "nbformat": 4,
 "nbformat_minor": 0
}