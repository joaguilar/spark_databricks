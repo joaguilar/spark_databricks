{
 "cells": [
  {
   "cell_type": "markdown",
   "id": "0495c7d9",
   "metadata": {},
   "source": [
    "# Optimización con Persistencia: cache() y persist()\n",
    "\n",
    "En este notebook aprenderás a:\n",
    "- Acelerar consultas repetidas usando cache() y persist()\n",
    "- Medir diferencias de tiempo con y sin persistencia\n"
   ]
  },
  {
   "cell_type": "code",
   "execution_count": null,
   "id": "07f42271",
   "metadata": {
    "vscode": {
     "languageId": "plaintext"
    }
   },
   "outputs": [],
   "source": [
    "import time\n",
    "# Cargar ratings (dataset grande)\n",
    "df = spark.read.csv(\"/dbfs/FileStore/movielens/ratings.csv\", header=True, inferSchema=True)\n",
    "\n",
    "# Primera consulta: calcular promedio de calificación por película\n",
    "start = time.time()\n",
    "df.groupBy(\"movieId\").avg(\"rating\").count()\n",
    "print(\"Sin cache:\", time.time() - start, \"segundos\")\n",
    "\n",
    "# Aplicar cache\n",
    "df.cache()\n",
    "df.count()  # Acción para cachear\n",
    "\n",
    "# Segunda consulta: promedio de calificación por usuario (debe ser más rápido)\n",
    "start = time.time()\n",
    "df.groupBy(\"userId\").avg(\"rating\").count()\n",
    "print(\"Con cache:\", time.time() - start, \"segundos\")\n",
    "\n",
    "# Limpiar caché\n",
    "df.unpersist()\n"
   ]
  }
 ],
 "metadata": {
  "language_info": {
   "name": "python"
  }
 },
 "nbformat": 4,
 "nbformat_minor": 5
}
