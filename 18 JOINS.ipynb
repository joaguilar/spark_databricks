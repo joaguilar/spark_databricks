{
 "cells": [
  {
   "cell_type": "code",
   "execution_count": 0,
   "metadata": {
    "application/vnd.databricks.v1+cell": {
     "cellMetadata": {
      "byteLimit": 2048000,
      "rowLimit": 10000
     },
     "inputWidgets": {},
     "nuid": "8bae450b-2086-4171-9e3f-98bd89a76bbf",
     "showTitle": false,
     "tableResultSettingsMap": {},
     "title": ""
    }
   },
   "outputs": [],
   "source": [
    "%run \"./15 Intro to Delta Tables\""
   ]
  },
  {
   "cell_type": "markdown",
   "metadata": {
    "application/vnd.databricks.v1+cell": {
     "cellMetadata": {},
     "inputWidgets": {},
     "nuid": "d9f41acf-f43f-4ec1-8e88-925cdeed25b2",
     "showTitle": false,
     "tableResultSettingsMap": {},
     "title": ""
    }
   },
   "source": [
    "Uso de JOINS"
   ]
  },
  {
   "cell_type": "code",
   "execution_count": 0,
   "metadata": {
    "application/vnd.databricks.v1+cell": {
     "cellMetadata": {
      "byteLimit": 2048000,
      "rowLimit": 10000
     },
     "inputWidgets": {},
     "nuid": "3db4d25d-7ee4-4a7b-bee6-80b2ae4b26d3",
     "showTitle": false,
     "tableResultSettingsMap": {},
     "title": ""
    }
   },
   "outputs": [],
   "source": [
    "-- Creamos una tabla para mostrar los joins\n",
    "\n",
    "CREATE OR REPLACE TABLE addresses_demo (\n",
    "  id    INT,\n",
    "  city  STRING,\n",
    "  state STRING\n",
    ")\n",
    "USING DELTA;\n",
    "\n",
    "INSERT INTO addresses_demo\n",
    "VALUES\n",
    "  (1, 'San José',    'San José'),\n",
    "  (2, 'Alajuela',    'Alajuela'),\n",
    "  (3, 'Heredia',     'Heredia'),\n",
    "  (11, 'San José',    'San José'),\n",
    "  (12, 'Alajuela',    'Alajuela'),\n",
    "  (13, 'Heredia',     'Heredia'),\n",
    "  (21, 'San José',    'San José'),\n",
    "  (22, 'Alajuela',    'Alajuela'),\n",
    "  (23, 'Heredia',     'Heredia'),\n",
    "  (31, 'San José',    'San José'),\n",
    "  (32, 'Alajuela',    'Alajuela'),\n",
    "  (33, 'Heredia',     'Heredia'),\n",
    "  (41, 'San José',    'San José'),\n",
    "  (42, 'Alajuela',    'Alajuela'),\n",
    "  (43, 'Heredia',     'Heredia'),\n",
    "  (51, 'San José',    'San José'),\n",
    "  (52, 'Alajuela',    'Alajuela'),\n",
    "  (53, 'Heredia',     'Heredia'),\n",
    "  (61, 'San José',    'San José'),\n",
    "  (62, 'Alajuela',    'Alajuela'),\n",
    "  (63, 'Heredia',     'Heredia'),\n",
    "  (71, 'San José',    'San José'),\n",
    "  (72, 'Alajuela',    'Alajuela'),\n",
    "  (73, 'Heredia',     'Heredia'),\n",
    "  (81, 'San José',    'San José'),\n",
    "  (82, 'Alajuela',    'Alajuela'),\n",
    "  (83, 'Heredia',     'Heredia'),\n",
    "  (91, 'San José',    'San José'),\n",
    "  (92, 'Alajuela',    'Alajuela'),\n",
    "  (93, 'Heredia',     'Heredia'),\n",
    "  (106, 'Cartago',     'Cartago'),   -- id 106 no existe \n",
    "  (116, 'Cartago',     'Cartago'),   -- id 116 no existe \n",
    "  (126, 'Cartago',     'Cartago');   -- id 126 no existe "
   ]
  },
  {
   "cell_type": "code",
   "execution_count": 0,
   "metadata": {
    "application/vnd.databricks.v1+cell": {
     "cellMetadata": {
      "byteLimit": 2048000,
      "rowLimit": 10000
     },
     "inputWidgets": {},
     "nuid": "6ab69617-4786-4d4f-bc5d-5aba5816d11d",
     "showTitle": false,
     "tableResultSettingsMap": {},
     "title": ""
    }
   },
   "outputs": [],
   "source": [
    "DESCRIBE EXTENDED addresses_demo"
   ]
  },
  {
   "cell_type": "markdown",
   "metadata": {
    "application/vnd.databricks.v1+cell": {
     "cellMetadata": {},
     "inputWidgets": {},
     "nuid": "8b77d947-7f72-4dd6-a3bb-2b99f2d8a7eb",
     "showTitle": false,
     "tableResultSettingsMap": {},
     "title": ""
    }
   },
   "source": [
    "# INNER JOIN"
   ]
  },
  {
   "cell_type": "code",
   "execution_count": 0,
   "metadata": {
    "application/vnd.databricks.v1+cell": {
     "cellMetadata": {
      "byteLimit": 2048000,
      "rowLimit": 10000
     },
     "inputWidgets": {},
     "nuid": "67fe2498-6d16-41bc-92d9-1b0cb40d5c9f",
     "showTitle": false,
     "tableResultSettingsMap": {},
     "title": ""
    }
   },
   "outputs": [],
   "source": [
    "SELECT\n",
    "  p.id,\n",
    "  p.name,\n",
    "  p.age,\n",
    "  a.city,\n",
    "  a.state\n",
    "FROM people_delta p\n",
    "INNER JOIN addresses_demo a\n",
    "  ON p.id = a.id;"
   ]
  },
  {
   "cell_type": "markdown",
   "metadata": {
    "application/vnd.databricks.v1+cell": {
     "cellMetadata": {},
     "inputWidgets": {},
     "nuid": "830cfa56-2d9c-4223-9a80-9c2442555db8",
     "showTitle": false,
     "tableResultSettingsMap": {},
     "title": ""
    }
   },
   "source": [
    "# FULL OUTER JOIN\n",
    "\n",
    "NOTA: La función COALESCE devuelve el primer valor no nulo de la lista de expresiones que recibe"
   ]
  },
  {
   "cell_type": "code",
   "execution_count": 0,
   "metadata": {
    "application/vnd.databricks.v1+cell": {
     "cellMetadata": {
      "byteLimit": 2048000,
      "rowLimit": 10000
     },
     "inputWidgets": {},
     "nuid": "57ddd619-5b30-4328-b020-ddd846b62c77",
     "showTitle": false,
     "tableResultSettingsMap": {},
     "title": ""
    }
   },
   "outputs": [],
   "source": [
    "SELECT\n",
    "  COALESCE(p.id, a.id) AS id,\n",
    "  p.name,\n",
    "  p.age,\n",
    "  a.city,\n",
    "  a.state\n",
    "FROM people_delta p\n",
    "FULL OUTER JOIN addresses_demo a\n",
    "  ON p.id = a.id\n",
    "ORDER BY id;"
   ]
  },
  {
   "cell_type": "markdown",
   "metadata": {
    "application/vnd.databricks.v1+cell": {
     "cellMetadata": {},
     "inputWidgets": {},
     "nuid": "206a241b-f89a-4746-a089-b6ed4f6692bd",
     "showTitle": false,
     "tableResultSettingsMap": {},
     "title": ""
    }
   },
   "source": [
    "# UNION\n",
    "UNION (quita duplicados)\n"
   ]
  },
  {
   "cell_type": "code",
   "execution_count": 0,
   "metadata": {
    "application/vnd.databricks.v1+cell": {
     "cellMetadata": {
      "byteLimit": 2048000,
      "rowLimit": 10000
     },
     "inputWidgets": {},
     "nuid": "569be15c-12bc-4858-8e08-2bb137e5fe48",
     "showTitle": false,
     "tableResultSettingsMap": {},
     "title": ""
    }
   },
   "outputs": [],
   "source": [
    "-- Subset A: menores de 35\n",
    "CREATE OR REPLACE TEMP VIEW under_35 AS\n",
    "SELECT id, name, age FROM people_delta\n",
    "WHERE age < 35;\n",
    "\n",
    "-- Subset B: mayores de 60\n",
    "CREATE OR REPLACE TEMP VIEW over_60 AS\n",
    "SELECT id, name, age FROM people_delta\n",
    "WHERE age > 60;\n",
    "\n",
    "-- Union de los dos conjuntos (sin duplicados)\n",
    "SELECT * FROM under_35\n",
    "UNION\n",
    "SELECT * FROM over_60;"
   ]
  },
  {
   "cell_type": "markdown",
   "metadata": {
    "application/vnd.databricks.v1+cell": {
     "cellMetadata": {},
     "inputWidgets": {},
     "nuid": "c5f7f8ac-e3cd-445a-99c6-6ba62efd2e03",
     "showTitle": false,
     "tableResultSettingsMap": {},
     "title": ""
    }
   },
   "source": [
    "# INTERSECT\n",
    "\n",
    "Sólo filas comunes entre dos conjuntos"
   ]
  },
  {
   "cell_type": "code",
   "execution_count": 0,
   "metadata": {
    "application/vnd.databricks.v1+cell": {
     "cellMetadata": {
      "byteLimit": 2048000,
      "rowLimit": 10000
     },
     "inputWidgets": {},
     "nuid": "77e6ed7e-c063-4991-a06b-d1bf0f6c0e7b",
     "showTitle": false,
     "tableResultSettingsMap": {},
     "title": ""
    }
   },
   "outputs": [],
   "source": [
    "SELECT * FROM under_35\n",
    "INTERSECT\n",
    "SELECT * FROM over_60;"
   ]
  },
  {
   "cell_type": "code",
   "execution_count": 0,
   "metadata": {
    "application/vnd.databricks.v1+cell": {
     "cellMetadata": {
      "byteLimit": 2048000,
      "rowLimit": 10000
     },
     "inputWidgets": {},
     "nuid": "9317f644-f2d0-44eb-b73e-8eb72aaebade",
     "showTitle": false,
     "tableResultSettingsMap": {},
     "title": ""
    }
   },
   "outputs": [],
   "source": [
    "SELECT * FROM under_35\n",
    "INTERSECT\n",
    "SELECT * FROM people_delta;"
   ]
  },
  {
   "cell_type": "markdown",
   "metadata": {
    "application/vnd.databricks.v1+cell": {
     "cellMetadata": {},
     "inputWidgets": {},
     "nuid": "bab2da1f-b2f5-44ac-8975-52111e1cbb73",
     "showTitle": false,
     "tableResultSettingsMap": {},
     "title": ""
    }
   },
   "source": [
    "# EXCEPT\n",
    "Filas en A que no están en B"
   ]
  },
  {
   "cell_type": "code",
   "execution_count": 0,
   "metadata": {
    "application/vnd.databricks.v1+cell": {
     "cellMetadata": {
      "byteLimit": 2048000,
      "rowLimit": 10000
     },
     "inputWidgets": {},
     "nuid": "f863e411-ef7d-4c85-ae60-89262d72d5ac",
     "showTitle": false,
     "tableResultSettingsMap": {},
     "title": ""
    }
   },
   "outputs": [],
   "source": [
    "SELECT * FROM over_60\n",
    "EXCEPT\n",
    "SELECT * FROM (\n",
    "  SELECT id, name, age FROM people_delta WHERE age > 65\n",
    ");"
   ]
  },
  {
   "cell_type": "markdown",
   "metadata": {
    "application/vnd.databricks.v1+cell": {
     "cellMetadata": {},
     "inputWidgets": {},
     "nuid": "8d7b142b-e229-4796-897e-b0596d11081d",
     "showTitle": false,
     "tableResultSettingsMap": {},
     "title": ""
    }
   },
   "source": [
    "# PIVOT\n",
    "Cambiar perspectiva: contar personas por grupo de edad en cada ciudad\n"
   ]
  },
  {
   "cell_type": "code",
   "execution_count": 0,
   "metadata": {
    "application/vnd.databricks.v1+cell": {
     "cellMetadata": {
      "byteLimit": 2048000,
      "rowLimit": 10000
     },
     "inputWidgets": {},
     "nuid": "58614ef1-c4d9-4809-a449-74db68a77249",
     "showTitle": false,
     "tableResultSettingsMap": {},
     "title": ""
    }
   },
   "outputs": [],
   "source": [
    "CREATE OR REPLACE TEMP VIEW person_addr AS\n",
    "SELECT\n",
    "  p.id,\n",
    "  p.name,\n",
    "  p.age,\n",
    "  a.city,\n",
    "  CASE\n",
    "    WHEN p.age < 35 THEN 'Adulto Joven'\n",
    "    WHEN p.age < 65 THEN 'Adulto'\n",
    "    ELSE 'Adulto Mayor'\n",
    "  END AS age_group\n",
    "FROM people_delta p\n",
    "LEFT JOIN addresses_demo a\n",
    "  ON p.id = a.id;"
   ]
  },
  {
   "cell_type": "code",
   "execution_count": 0,
   "metadata": {
    "application/vnd.databricks.v1+cell": {
     "cellMetadata": {
      "byteLimit": 2048000,
      "rowLimit": 10000
     },
     "inputWidgets": {},
     "nuid": "46dd4ea3-4caa-49fb-97a0-a70ce45f9b74",
     "showTitle": false,
     "tableResultSettingsMap": {},
     "title": ""
    }
   },
   "outputs": [],
   "source": [
    "SELECT * FROM person_addr\n",
    "ORDER BY city"
   ]
  },
  {
   "cell_type": "markdown",
   "metadata": {
    "application/vnd.databricks.v1+cell": {
     "cellMetadata": {},
     "inputWidgets": {},
     "nuid": "92863617-3a96-486f-8c1a-295d4bf45025",
     "showTitle": false,
     "tableResultSettingsMap": {},
     "title": ""
    }
   },
   "source": [
    "Pivot: contar por age_group en cada city"
   ]
  },
  {
   "cell_type": "code",
   "execution_count": 0,
   "metadata": {
    "application/vnd.databricks.v1+cell": {
     "cellMetadata": {
      "byteLimit": 2048000,
      "rowLimit": 10000
     },
     "inputWidgets": {},
     "nuid": "db54bb7e-36fc-4b96-8cbe-88d0052ebe09",
     "showTitle": false,
     "tableResultSettingsMap": {},
     "title": ""
    }
   },
   "outputs": [],
   "source": [
    "SELECT * FROM (\n",
    "  SELECT city, age_group FROM person_addr\n",
    ")\n",
    "PIVOT (\n",
    "  COUNT(*) FOR age_group IN ('Adulto Joven','Adulto' ,  'Adulto Mayor')\n",
    ")\n",
    "ORDER BY city;"
   ]
  }
 ],
 "metadata": {
  "application/vnd.databricks.v1+notebook": {
   "computePreferences": null,
   "dashboards": [],
   "environmentMetadata": {
    "base_environment": "",
    "environment_version": "2"
   },
   "inputWidgetPreferences": null,
   "language": "sql",
   "notebookMetadata": {
    "pythonIndentUnit": 4
   },
   "notebookName": "18 JOINS",
   "widgets": {}
  },
  "language_info": {
   "name": "sql"
  }
 },
 "nbformat": 4,
 "nbformat_minor": 0
}
