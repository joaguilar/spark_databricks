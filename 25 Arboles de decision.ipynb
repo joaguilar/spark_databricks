{
 "cells": [
  {
   "cell_type": "code",
   "execution_count": 0,
   "metadata": {
    "application/vnd.databricks.v1+cell": {
     "cellMetadata": {
      "byteLimit": 2048000,
      "rowLimit": 10000
     },
     "inputWidgets": {},
     "nuid": "e2b2229c-9337-4a9d-99d1-6264c8bb4504",
     "showTitle": false,
     "tableResultSettingsMap": {},
     "title": ""
    },
    "scrolled": true
   },
   "outputs": [],
   "source": [
    "# import findspark\n",
    "# findspark.init('/spark-3.5.1-bin-hadoop3')\n",
    "from pyspark import *\n",
    "from pyspark.sql import SparkSession, Row\n",
    "from pyspark.sql.types import StructType,StructField, StringType, IntegerType, DateType, TimestampType, LongType\n",
    "from pyspark.sql.types import ArrayType, DoubleType, BooleanType, DecimalType\n",
    "from pyspark.sql.functions import regexp_extract, split, from_unixtime, col, avg, min, max, desc\n",
    "from pyspark.sql.functions import grouping, explode, array_contains\n",
    "from pyspark.sql.functions import mean, stddev, skewness, kurtosis\n",
    "import matplotlib.pyplot as plt\n",
    "import pandas as pd\n",
    "import random\n",
    "\n",
    "\n",
    "# spark = SparkSession.builder.appName(\"analytics\").getOrCreate()"
   ]
  },
  {
   "cell_type": "markdown",
   "metadata": {
    "application/vnd.databricks.v1+cell": {
     "cellMetadata": {},
     "inputWidgets": {},
     "nuid": "a13ad6ef-b268-41a5-92d8-7816f7df2466",
     "showTitle": false,
     "tableResultSettingsMap": {},
     "title": ""
    }
   },
   "source": [
    "# Arboles de Decisión\n",
    "\n",
    "## Entrenamiento\n",
    "\n",
    "### Generación de Datos\n",
    "\n",
    "Primero generamos un conjunto de datos aleatorios que usaria Spark para entrenar el arbol de decisión\n",
    "\n",
    "Características del conjunto de datos:\n",
    "\n",
    "* Edad (entero): La edad del cliente.\n",
    "* Saldo (entero): El saldo de la cuenta del cliente en el banco.\n",
    "* Empleo (categórico): Tipo de empleo (ej. \"admin\", \"técnico\", \"servicios\").\n",
    "* Educación (categórico): Nivel educativo (ej. \"primaria\", \"secundaria\", \"universitaria\").\n",
    "* Suscripción (binario): Si el cliente se suscribió a un depósito a plazo (1) o no (0)."
   ]
  },
  {
   "cell_type": "code",
   "execution_count": 0,
   "metadata": {
    "application/vnd.databricks.v1+cell": {
     "cellMetadata": {
      "byteLimit": 2048000,
      "rowLimit": 10000
     },
     "inputWidgets": {},
     "nuid": "626712f8-cddf-4f94-bfa4-7504574a37de",
     "showTitle": false,
     "tableResultSettingsMap": {},
     "title": ""
    }
   },
   "outputs": [],
   "source": [
    "# Generar datos\n",
    "empleos = [\"admin\", \"tecnico\", \"servicios\", \"gerente\"]\n",
    "educacion = [\"primaria\", \"secundaria\", \"universitaria\"]\n",
    "\n",
    "data = [\n",
    "    Row(edad=random.randint(18, 65),\n",
    "        saldo=random.randint(-500, 5000),\n",
    "        empleo=random.choice(empleos),\n",
    "        educacion=random.choice(educacion),\n",
    "        suscripcion=random.choice([0, 1]))\n",
    "    for _ in range(300)\n",
    "]\n",
    "\n",
    "df = spark.createDataFrame(data)\n",
    "\n",
    "# Guardar los datos en CSV\n",
    "df.write.csv(\"/Volumes/big_data_ii_2025/spark_examples/spark_data/datos_banco.csv\", header=True, mode=\"overwrite\")"
   ]
  },
  {
   "cell_type": "code",
   "execution_count": 0,
   "metadata": {
    "application/vnd.databricks.v1+cell": {
     "cellMetadata": {
      "byteLimit": 2048000,
      "rowLimit": 10000
     },
     "inputWidgets": {},
     "nuid": "dff8c851-da1f-460a-b57e-aede3c11714f",
     "showTitle": false,
     "tableResultSettingsMap": {},
     "title": ""
    }
   },
   "outputs": [],
   "source": [
    "df.printSchema()"
   ]
  },
  {
   "cell_type": "code",
   "execution_count": 0,
   "metadata": {
    "application/vnd.databricks.v1+cell": {
     "cellMetadata": {
      "byteLimit": 2048000,
      "rowLimit": 10000
     },
     "inputWidgets": {},
     "nuid": "fe15c71d-178e-458c-a2a6-1f86c70120bd",
     "showTitle": false,
     "tableResultSettingsMap": {},
     "title": ""
    }
   },
   "outputs": [],
   "source": [
    "df.display(5)"
   ]
  },
  {
   "cell_type": "markdown",
   "metadata": {
    "application/vnd.databricks.v1+cell": {
     "cellMetadata": {},
     "inputWidgets": {},
     "nuid": "6cb0fe87-e36e-46b8-b963-32d1d3fa7468",
     "showTitle": false,
     "tableResultSettingsMap": {},
     "title": ""
    }
   },
   "source": [
    "## Preparar los datos\n",
    "\n",
    " Utilizamos StringIndexer para convertir las categorías en índices numéricos basados en la frecuencia de cada categoría, asignando los índices más bajos a las categorías más frecuentes.\n",
    "\n",
    "Posteriormente, OneHotEncoder transforma estos índices numéricos en vectores binarios para evitar que el modelo interprete las variables categóricas como si tuvieran un orden o jerarquía. Cada categoría se representa con un vector donde sólo un elemento es '1' y el resto son '0', "
   ]
  },
  {
   "cell_type": "code",
   "execution_count": 0,
   "metadata": {
    "application/vnd.databricks.v1+cell": {
     "cellMetadata": {
      "byteLimit": 2048000,
      "rowLimit": 10000
     },
     "inputWidgets": {},
     "nuid": "64c8eda1-5a83-4760-a79c-eea57a5ae65b",
     "showTitle": false,
     "tableResultSettingsMap": {},
     "title": ""
    }
   },
   "outputs": [],
   "source": [
    "from pyspark.ml.feature import StringIndexer, OneHotEncoder, VectorAssembler\n",
    "\n",
    "# Indexar las columnas categóricas\n",
    "# indexer = StringIndexer(inputCols=[\"empleo\", \"educacion\"], outputCols=[\"empleo_idx\", \"educacion_idx\"])\n",
    "# indexer_empleo = StringIndexer().setInputCol(\"empleo\").setOutputCol(\"empleo_idx\")\n",
    "# indexer_educacion = StringIndexer().setInputCol(\"educacion\").setOutputCol(\"educacion_idx\")\n",
    "indexer_empleo = StringIndexer(inputCol=\"empleo\", outputCol=\"empleo_idx\")\n",
    "indexer_educacion = StringIndexer(inputCol=\"educacion\", outputCol=\"educacion_idx\")\n",
    "# df_indexed = indexer.fit(df).transform(df)\n",
    "df_indexed = indexer_empleo.fit(df).transform(df)\n",
    "df_indexed = indexer_educacion.fit(df_indexed).transform(df_indexed)\n",
    "\n",
    "# Aplicar OneHotEncoder a las columnas indexadas\n",
    "encoder = OneHotEncoder(inputCols=[\"empleo_idx\", \"educacion_idx\"], outputCols=[\"empleo_enc\", \"educacion_enc\"])\n",
    "df_encoded = encoder.fit(df_indexed).transform(df_indexed)\n",
    "\n",
    "# Assembler para combinar todas las características en una sola columna de vectores\n",
    "assembler = VectorAssembler(\n",
    "    inputCols=[\"edad\", \"saldo\", \"empleo_enc\", \"educacion_enc\"],\n",
    "    outputCol=\"features\"\n",
    ")\n",
    "df_final = assembler.transform(df_encoded)\n",
    "\n",
    "# Seleccionar las columnas necesarias para el modelo\n",
    "df_model = df_final.select(\"features\", \"suscripcion\")\n",
    "\n",
    "# df_model.show(5)\n",
    "display(df_model.limit(5))"
   ]
  },
  {
   "cell_type": "code",
   "execution_count": 0,
   "metadata": {
    "application/vnd.databricks.v1+cell": {
     "cellMetadata": {},
     "inputWidgets": {},
     "nuid": "718080a4-86c5-4a53-82b5-ababaa5489e6",
     "showTitle": false,
     "tableResultSettingsMap": {},
     "title": ""
    }
   },
   "outputs": [],
   "source": [
    "df_final.show(5)"
   ]
  },
  {
   "cell_type": "markdown",
   "metadata": {
    "application/vnd.databricks.v1+cell": {
     "cellMetadata": {},
     "inputWidgets": {},
     "nuid": "d6de734c-3a1e-4c87-a5e1-5fc1f23eb4b4",
     "showTitle": false,
     "tableResultSettingsMap": {},
     "title": ""
    }
   },
   "source": [
    "### Entrenar el modelo de árbol de decisión\n",
    "\n",
    "\n"
   ]
  },
  {
   "cell_type": "code",
   "execution_count": 0,
   "metadata": {
    "application/vnd.databricks.v1+cell": {
     "cellMetadata": {},
     "inputWidgets": {},
     "nuid": "2f6b74b2-6ce6-4700-b447-11f474e4a15e",
     "showTitle": false,
     "tableResultSettingsMap": {},
     "title": ""
    }
   },
   "outputs": [],
   "source": [
    "from pyspark.ml.classification import DecisionTreeClassifier\n",
    "\n",
    "# Crear y entrenar el modelo de árbol de decisión\n",
    "dt = DecisionTreeClassifier(labelCol=\"suscripcion\", featuresCol=\"features\")\n",
    "model = dt.fit(df_model)\n",
    "\n",
    "# Mostrar el árbol de decisión\n",
    "print(\"Árbol de decisión modelado:\")\n",
    "print(model.toDebugString)\n"
   ]
  },
  {
   "cell_type": "markdown",
   "metadata": {
    "application/vnd.databricks.v1+cell": {
     "cellMetadata": {},
     "inputWidgets": {},
     "nuid": "255eae4f-29cf-42bf-8d6e-7fad09827bab",
     "showTitle": false,
     "tableResultSettingsMap": {},
     "title": ""
    }
   },
   "source": [
    "## Clasificación\n",
    "\n",
    "### Crear un ejemplo"
   ]
  },
  {
   "cell_type": "code",
   "execution_count": 0,
   "metadata": {
    "application/vnd.databricks.v1+cell": {
     "cellMetadata": {},
     "inputWidgets": {},
     "nuid": "0c4ba188-b60c-43de-a2a7-33a0b5862324",
     "showTitle": false,
     "tableResultSettingsMap": {},
     "title": ""
    }
   },
   "outputs": [],
   "source": [
    "# Crear un DataFrame con un ejemplo\n",
    "ejemplo = spark.createDataFrame([\n",
    "    (30, 1500, \"admin\", \"universitaria\"),(30, 1500, \"servicios\", \"secundaria\")\n",
    "], [\"edad\", \"saldo\", \"empleo\", \"educacion\"])\n",
    "\n",
    "# Mostrar el nuevo ejemplo\n",
    "ejemplo.show()\n"
   ]
  },
  {
   "cell_type": "markdown",
   "metadata": {
    "application/vnd.databricks.v1+cell": {
     "cellMetadata": {},
     "inputWidgets": {},
     "nuid": "23e8dd4e-e18e-426f-8f3b-a48b6292d8ea",
     "showTitle": false,
     "tableResultSettingsMap": {},
     "title": ""
    }
   },
   "source": [
    "### Preprocesar el ejemplo"
   ]
  },
  {
   "cell_type": "code",
   "execution_count": 0,
   "metadata": {
    "application/vnd.databricks.v1+cell": {
     "cellMetadata": {},
     "inputWidgets": {},
     "nuid": "07d6b4b0-70ff-4256-872b-dd15beba50d7",
     "showTitle": false,
     "tableResultSettingsMap": {},
     "title": ""
    }
   },
   "outputs": [],
   "source": [
    "# Aplicar StringIndexer\n",
    "ejemplo_indexed = indexer.fit(ejemplo).transform(ejemplo)\n",
    "\n",
    "# Aplicar OneHotEncoder\n",
    "ejemplo_encoded = encoder.fit(ejemplo_indexed).transform(ejemplo_indexed)\n",
    "\n",
    "# Aplicar VectorAssembler\n",
    "ejemplo_final = assembler.transform(ejemplo_encoded)\n",
    "\n",
    "# Seleccionar la columna 'features'\n",
    "ejemplo_final = ejemplo_final.select(\"features\")\n",
    "ejemplo_final.show()\n"
   ]
  },
  {
   "cell_type": "markdown",
   "metadata": {
    "application/vnd.databricks.v1+cell": {
     "cellMetadata": {},
     "inputWidgets": {},
     "nuid": "563c2357-f551-4eba-99c4-0452265be371",
     "showTitle": false,
     "tableResultSettingsMap": {},
     "title": ""
    }
   },
   "source": [
    "### Clasificar el ejemplo"
   ]
  },
  {
   "cell_type": "code",
   "execution_count": 0,
   "metadata": {
    "application/vnd.databricks.v1+cell": {
     "cellMetadata": {},
     "inputWidgets": {},
     "nuid": "5f61ce33-d199-4aaf-a65c-a5f39e1b87f8",
     "showTitle": false,
     "tableResultSettingsMap": {},
     "title": ""
    }
   },
   "outputs": [],
   "source": [
    "# Hacer predicciones\n",
    "predicciones = model.transform(ejemplo_final)\n",
    "\n",
    "# Mostrar las predicciones\n",
    "predicciones.select(\"prediction\").show()\n"
   ]
  }
 ],
 "metadata": {
  "application/vnd.databricks.v1+notebook": {
   "computePreferences": null,
   "dashboards": [],
   "environmentMetadata": null,
   "inputWidgetPreferences": null,
   "language": "python",
   "notebookMetadata": {
    "pythonIndentUnit": 4
   },
   "notebookName": "25 Arboles de decision",
   "widgets": {}
  },
  "kernelspec": {
   "display_name": "Python 3 (ipykernel)",
   "language": "python",
   "name": "python3"
  },
  "language_info": {
   "name": "python"
  }
 },
 "nbformat": 4,
 "nbformat_minor": 0
}
