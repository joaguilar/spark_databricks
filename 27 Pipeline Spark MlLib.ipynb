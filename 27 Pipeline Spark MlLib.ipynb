{
 "cells": [
  {
   "cell_type": "code",
   "execution_count": 0,
   "metadata": {
    "application/vnd.databricks.v1+cell": {
     "cellMetadata": {
      "byteLimit": 2048000,
      "rowLimit": 10000
     },
     "inputWidgets": {},
     "nuid": "def46446-b874-4141-b66f-a7253923037c",
     "showTitle": false,
     "tableResultSettingsMap": {},
     "title": ""
    },
    "scrolled": true
   },
   "outputs": [],
   "source": [
    "# import findspark\n",
    "# findspark.init('/spark-3.5.1-bin-hadoop3')\n",
    "from pyspark import *\n",
    "from pyspark.sql import SparkSession, Row\n",
    "from pyspark.sql.types import StructType,StructField, StringType, IntegerType, DateType, TimestampType, LongType\n",
    "from pyspark.sql.types import ArrayType, DoubleType, BooleanType, DecimalType\n",
    "from pyspark.sql.functions import regexp_extract, split, from_unixtime, col, avg, min, max, desc, isnan, when, count\n",
    "from pyspark.sql.functions import grouping, explode, array_contains\n",
    "from pyspark.sql.functions import mean, stddev, skewness, kurtosis\n",
    "from pyspark.ml import Pipeline\n",
    "from pyspark.ml.feature import VectorAssembler, StringIndexer, OneHotEncoder, Normalizer, Imputer\n",
    "from pyspark.ml.regression import RandomForestRegressor\n",
    "from pyspark.ml.evaluation import RegressionEvaluator\n",
    "import matplotlib.pyplot as plt\n",
    "import pandas as pd\n",
    "import random\n",
    "\n",
    "\n",
    "# spark = SparkSession.builder.appName(\"analytics\").getOrCreate()"
   ]
  },
  {
   "cell_type": "markdown",
   "metadata": {
    "application/vnd.databricks.v1+cell": {
     "cellMetadata": {},
     "inputWidgets": {},
     "nuid": "8e6c784b-a61e-4d24-9e6e-5a64c3c5e4e6",
     "showTitle": false,
     "tableResultSettingsMap": {},
     "title": ""
    }
   },
   "source": [
    "# Pipelines de Spark MlLib\n",
    "\n",
    "![Pipeline Spark MlLib](pipeline.png)\n",
    "\n",
    "\n",
    "## Ingestión de Datos:\n",
    "\n",
    "Los datos se cargan en un DataFrame."
   ]
  },
  {
   "cell_type": "code",
   "execution_count": 0,
   "metadata": {
    "application/vnd.databricks.v1+cell": {
     "cellMetadata": {},
     "inputWidgets": {},
     "nuid": "0ac3b415-7732-45e8-ae52-2ec07cf91f1a",
     "showTitle": false,
     "tableResultSettingsMap": {},
     "title": ""
    }
   },
   "outputs": [],
   "source": [
    "# Cargar el conjunto de datos\n",
    "data_path = \"data/sf-airbnb-clean.parquet\"\n",
    "df = spark.read.parquet(data_path, header=True, inferSchema=True)"
   ]
  },
  {
   "cell_type": "markdown",
   "metadata": {
    "application/vnd.databricks.v1+cell": {
     "cellMetadata": {},
     "inputWidgets": {},
     "nuid": "3e504339-c21e-4e0a-b475-efaf30088ac5",
     "showTitle": false,
     "tableResultSettingsMap": {},
     "title": ""
    }
   },
   "source": [
    "## Exploración de Datos:\n",
    "\n",
    "* df.describe(): Proporciona un resumen estadístico de los datos.\n",
    "* df.show(): Muestra las primeras filas del DataFrame para inspección visual.\n"
   ]
  },
  {
   "cell_type": "code",
   "execution_count": 0,
   "metadata": {
    "application/vnd.databricks.v1+cell": {
     "cellMetadata": {},
     "inputWidgets": {},
     "nuid": "364f71f9-8891-421e-9ae6-ceb9e24167bb",
     "showTitle": false,
     "tableResultSettingsMap": {},
     "title": ""
    }
   },
   "outputs": [],
   "source": [
    "# Exploración de datos\n",
    "#Utilizamos dos columnas de lo contrario es ilegible\n",
    "df.select(\"bedrooms\",\"review_scores_rating\").describe().show()"
   ]
  },
  {
   "cell_type": "code",
   "execution_count": 0,
   "metadata": {
    "application/vnd.databricks.v1+cell": {
     "cellMetadata": {},
     "inputWidgets": {},
     "nuid": "a3245289-01fd-4709-a8eb-d739e99374d7",
     "showTitle": false,
     "tableResultSettingsMap": {},
     "title": ""
    }
   },
   "outputs": [],
   "source": [
    "# Exploración de datos\n",
    "df.select(\n",
    "    [count(when(isnan(c), c)).alias(c) for c in df.columns]\n",
    ").show()"
   ]
  },
  {
   "cell_type": "code",
   "execution_count": 0,
   "metadata": {
    "application/vnd.databricks.v1+cell": {
     "cellMetadata": {},
     "inputWidgets": {},
     "nuid": "9e580eaa-a082-4b54-a2a7-a21e8fd83021",
     "showTitle": false,
     "tableResultSettingsMap": {},
     "title": ""
    }
   },
   "outputs": [],
   "source": [
    "# Exploración de datos\n",
    "df.show(5)"
   ]
  },
  {
   "cell_type": "markdown",
   "metadata": {
    "application/vnd.databricks.v1+cell": {
     "cellMetadata": {},
     "inputWidgets": {},
     "nuid": "25697368-814f-491a-8756-f71d9218b0c3",
     "showTitle": false,
     "tableResultSettingsMap": {},
     "title": ""
    }
   },
   "source": [
    "## Limpieza de Datos\n",
    "\n",
    "* df.dropna(): Elimina filas con valores nulos para asegurar la integridad de los datos.\n",
    "* df.fillna(): Rellena valores nulos con un valor específico, como la mediana o media de la columna.\n",
    "\n",
    "## Imputación de Valores Faltantes\n",
    "\n",
    "* [Imputer](https://spark.apache.org/docs/3.1.2/api/python/reference/api/pyspark.ml.feature.Imputer.html): Sustituye valores faltantes en las columnas seleccionadas con la mediana o media de la columna."
   ]
  },
  {
   "cell_type": "code",
   "execution_count": 0,
   "metadata": {
    "application/vnd.databricks.v1+cell": {
     "cellMetadata": {},
     "inputWidgets": {},
     "nuid": "e6e45675-715d-47a6-849d-12a819188c26",
     "showTitle": false,
     "tableResultSettingsMap": {},
     "title": ""
    }
   },
   "outputs": [],
   "source": [
    "# Limpieza de datos\n",
    "df = df.dropna(how=\"any\")\n",
    "\n",
    "# Imputación de valores faltantes\n",
    "imputer = Imputer(inputCols=[\"bedrooms\", \"bathrooms\", \"beds\", \"review_scores_rating\", \n",
    "                             \"review_scores_accuracy\", \"review_scores_cleanliness\", \n",
    "                             \"review_scores_checkin\", \"review_scores_communication\", \n",
    "                             \"review_scores_location\", \"review_scores_value\"],\n",
    "                  outputCols=[\"bedrooms_imputed\", \"bathrooms_imputed\", \"beds_imputed\", \n",
    "                              \"review_scores_rating_imputed\", \"review_scores_accuracy_imputed\", \n",
    "                              \"review_scores_cleanliness_imputed\", \"review_scores_checkin_imputed\", \n",
    "                              \"review_scores_communication_imputed\", \"review_scores_location_imputed\", \n",
    "                              \"review_scores_value_imputed\"]).setStrategy(\"median\")\n",
    "df = imputer.fit(df).transform(df)\n",
    "\n",
    "\n",
    "df.show(5)"
   ]
  },
  {
   "cell_type": "markdown",
   "metadata": {
    "application/vnd.databricks.v1+cell": {
     "cellMetadata": {},
     "inputWidgets": {},
     "nuid": "6abd5d31-ab02-4a15-a4ee-6c571b3e6c0e",
     "showTitle": false,
     "tableResultSettingsMap": {},
     "title": ""
    }
   },
   "source": [
    "## StringIndexer\n",
    "\n",
    "Convierte cadenas de caracteres en índices numéricos, facilitando la manipulación de datos categóricos."
   ]
  },
  {
   "cell_type": "code",
   "execution_count": 0,
   "metadata": {
    "application/vnd.databricks.v1+cell": {
     "cellMetadata": {},
     "inputWidgets": {},
     "nuid": "9f1c8ce6-9baf-4731-a1fc-ffcbf0e01137",
     "showTitle": false,
     "tableResultSettingsMap": {},
     "title": ""
    }
   },
   "outputs": [],
   "source": [
    "# Transformaciones categóricas\n",
    "indexer_host_is_superhost = StringIndexer(inputCol=\"host_is_superhost\", outputCol=\"host_is_superhost_indexed\")\n",
    "indexer_cancellation_policy = StringIndexer(inputCol=\"cancellation_policy\", outputCol=\"cancellation_policy_indexed\")\n",
    "indexer_instant_bookable = StringIndexer(inputCol=\"instant_bookable\", outputCol=\"instant_bookable_indexed\")\n",
    "indexer_neighbourhood_cleansed = StringIndexer(inputCol=\"neighbourhood_cleansed\", outputCol=\"neighbourhood_cleansed_indexed\")\n",
    "indexer_property_type = StringIndexer(inputCol=\"property_type\", outputCol=\"property_type_indexed\")\n",
    "indexer_room_type = StringIndexer(inputCol=\"room_type\", outputCol=\"room_type_indexed\")\n",
    "indexer_bed_type = StringIndexer(inputCol=\"bed_type\", outputCol=\"bed_type_indexed\")\n"
   ]
  },
  {
   "cell_type": "markdown",
   "metadata": {
    "application/vnd.databricks.v1+cell": {
     "cellMetadata": {},
     "inputWidgets": {},
     "nuid": "a6539c67-dd4f-41fd-92c7-1b1bb6d5cfcf",
     "showTitle": false,
     "tableResultSettingsMap": {},
     "title": ""
    }
   },
   "source": [
    "## OneHotEncoder\n",
    "\n",
    "Convierte variables categóricas en una representación numérica, lo que es crucial para el procesamiento de modelos de ML."
   ]
  },
  {
   "cell_type": "code",
   "execution_count": 0,
   "metadata": {
    "application/vnd.databricks.v1+cell": {
     "cellMetadata": {},
     "inputWidgets": {},
     "nuid": "1d81723d-f328-426c-b0cf-b9cffc4454f0",
     "showTitle": false,
     "tableResultSettingsMap": {},
     "title": ""
    }
   },
   "outputs": [],
   "source": [
    "encoder_host_is_superhost = OneHotEncoder(inputCol=\"host_is_superhost_indexed\", outputCol=\"host_is_superhost_encoded\")\n",
    "encoder_cancellation_policy = OneHotEncoder(inputCol=\"cancellation_policy_indexed\", outputCol=\"cancellation_policy_encoded\")\n",
    "encoder_instant_bookable = OneHotEncoder(inputCol=\"instant_bookable_indexed\", outputCol=\"instant_bookable_encoded\")\n",
    "encoder_neighbourhood_cleansed = OneHotEncoder(inputCol=\"neighbourhood_cleansed_indexed\", outputCol=\"neighbourhood_cleansed_encoded\")\n",
    "encoder_property_type = OneHotEncoder(inputCol=\"property_type_indexed\", outputCol=\"property_type_encoded\")\n",
    "encoder_room_type = OneHotEncoder(inputCol=\"room_type_indexed\", outputCol=\"room_type_encoded\")\n",
    "encoder_bed_type = OneHotEncoder(inputCol=\"bed_type_indexed\", outputCol=\"bed_type_encoded\")"
   ]
  },
  {
   "cell_type": "markdown",
   "metadata": {
    "application/vnd.databricks.v1+cell": {
     "cellMetadata": {},
     "inputWidgets": {},
     "nuid": "84c91bd4-270f-4b8f-a57c-488c643709af",
     "showTitle": false,
     "tableResultSettingsMap": {},
     "title": ""
    }
   },
   "source": [
    "## VectorAssembler\n",
    "\n",
    "Combina varias columnas de características en un solo vector de características, esencial para el entrenamiento del modelo."
   ]
  },
  {
   "cell_type": "code",
   "execution_count": 0,
   "metadata": {
    "application/vnd.databricks.v1+cell": {
     "cellMetadata": {},
     "inputWidgets": {},
     "nuid": "7fb45b6f-1d25-4c5b-aef8-9a15c7f8f190",
     "showTitle": false,
     "tableResultSettingsMap": {},
     "title": ""
    }
   },
   "outputs": [],
   "source": [
    "# VectorAssembler para combinar todas las características\n",
    "assembler = VectorAssembler(inputCols=[\"bedrooms_imputed\", \"bathrooms_imputed\", \"beds_imputed\", \n",
    "                                       \"review_scores_rating_imputed\", \"review_scores_accuracy_imputed\", \n",
    "                                       \"review_scores_cleanliness_imputed\", \"review_scores_checkin_imputed\", \n",
    "                                       \"review_scores_communication_imputed\", \"review_scores_location_imputed\", \n",
    "                                       \"review_scores_value_imputed\", \"host_total_listings_count\", \n",
    "                                       \"latitude\", \"longitude\", \"accommodates\", \"minimum_nights\", \n",
    "                                       \"number_of_reviews\", \"host_is_superhost_encoded\", \n",
    "                                       \"cancellation_policy_encoded\", \"instant_bookable_encoded\", \n",
    "                                       \"neighbourhood_cleansed_encoded\", \"property_type_encoded\", \n",
    "                                       \"room_type_encoded\", \"bed_type_encoded\"],\n",
    "                            outputCol=\"features\")"
   ]
  },
  {
   "cell_type": "markdown",
   "metadata": {
    "application/vnd.databricks.v1+cell": {
     "cellMetadata": {},
     "inputWidgets": {},
     "nuid": "c80e84fa-a58f-43a2-b39f-b3907b06f399",
     "showTitle": false,
     "tableResultSettingsMap": {},
     "title": ""
    }
   },
   "source": [
    "## Normalizer\n",
    "\n",
    "Normaliza los datos, ajustando los valores de las características a una escala común sin distorsionar las diferencias en los rangos de valores."
   ]
  },
  {
   "cell_type": "code",
   "execution_count": 0,
   "metadata": {
    "application/vnd.databricks.v1+cell": {
     "cellMetadata": {},
     "inputWidgets": {},
     "nuid": "9ffb3e67-461f-4099-ae32-8343d0912bc8",
     "showTitle": false,
     "tableResultSettingsMap": {},
     "title": ""
    }
   },
   "outputs": [],
   "source": [
    "normalizer = Normalizer(inputCol=\"features\", outputCol=\"normFeatures\")\n"
   ]
  },
  {
   "cell_type": "markdown",
   "metadata": {
    "application/vnd.databricks.v1+cell": {
     "cellMetadata": {},
     "inputWidgets": {},
     "nuid": "ff539ca7-8f4a-4c1b-903b-517b1ef91f5d",
     "showTitle": false,
     "tableResultSettingsMap": {},
     "title": ""
    }
   },
   "source": [
    "## RandomForestRegressor\n",
    "\n",
    "Entrena el modelo utilizando el algoritmo de Random Forest, ideal para tareas de regresión debido a su capacidad para manejar grandes conjuntos de datos y su robustez frente a datos ruidosos."
   ]
  },
  {
   "cell_type": "code",
   "execution_count": 0,
   "metadata": {
    "application/vnd.databricks.v1+cell": {
     "cellMetadata": {},
     "inputWidgets": {},
     "nuid": "df426180-1a79-4ec3-9eb6-58d744c95143",
     "showTitle": false,
     "tableResultSettingsMap": {},
     "title": ""
    }
   },
   "outputs": [],
   "source": [
    "rf = RandomForestRegressor(featuresCol=\"normFeatures\", labelCol=\"price\")"
   ]
  },
  {
   "cell_type": "markdown",
   "metadata": {
    "application/vnd.databricks.v1+cell": {
     "cellMetadata": {},
     "inputWidgets": {},
     "nuid": "561d8fc3-4e96-42cf-aa6c-d5c5859c4fc0",
     "showTitle": false,
     "tableResultSettingsMap": {},
     "title": ""
    }
   },
   "source": [
    "## Creación del Pipeline\n",
    "\n",
    "Crea un pipeline que incluye todos los pasos anteriores\n"
   ]
  },
  {
   "cell_type": "code",
   "execution_count": 0,
   "metadata": {
    "application/vnd.databricks.v1+cell": {
     "cellMetadata": {},
     "inputWidgets": {},
     "nuid": "9aa0a98c-3d06-42e3-a664-ca8061a38f6c",
     "showTitle": false,
     "tableResultSettingsMap": {},
     "title": ""
    }
   },
   "outputs": [],
   "source": [
    "# Crear el pipeline\n",
    "pipeline = Pipeline(stages=[imputer, indexer_host_is_superhost, indexer_cancellation_policy, \n",
    "                            indexer_instant_bookable, indexer_neighbourhood_cleansed, indexer_property_type, \n",
    "                            indexer_room_type, indexer_bed_type, encoder_host_is_superhost, encoder_cancellation_policy, \n",
    "                            encoder_instant_bookable, encoder_neighbourhood_cleansed, encoder_property_type, \n",
    "                            encoder_room_type, encoder_bed_type, assembler, normalizer, rf])\n"
   ]
  },
  {
   "cell_type": "markdown",
   "metadata": {
    "application/vnd.databricks.v1+cell": {
     "cellMetadata": {},
     "inputWidgets": {},
     "nuid": "5dc99a02-1a12-46bf-a107-69795ee466c0",
     "showTitle": false,
     "tableResultSettingsMap": {},
     "title": ""
    }
   },
   "source": [
    "## Entrenamiento del modelo\n",
    "\n",
    "* Divide los datos en conjuntos de entrenamiento y prueba.\n",
    "* Entrena el modelo con los datos de entrenamiento"
   ]
  },
  {
   "cell_type": "code",
   "execution_count": 0,
   "metadata": {
    "application/vnd.databricks.v1+cell": {
     "cellMetadata": {},
     "inputWidgets": {},
     "nuid": "cd3a9dd0-e347-42a4-a43a-384e2a95b70f",
     "showTitle": false,
     "tableResultSettingsMap": {},
     "title": ""
    }
   },
   "outputs": [],
   "source": [
    "# Dividir los datos en conjuntos de entrenamiento y prueba\n",
    "train_data, test_data = df.randomSplit([0.8, 0.2])\n",
    "\n",
    "# Ajustar el modelo\n",
    "model = pipeline.fit(train_data)"
   ]
  },
  {
   "cell_type": "markdown",
   "metadata": {
    "application/vnd.databricks.v1+cell": {
     "cellMetadata": {},
     "inputWidgets": {},
     "nuid": "621179fd-4bd5-453e-956c-ff4f63bdf44e",
     "showTitle": false,
     "tableResultSettingsMap": {},
     "title": ""
    }
   },
   "source": [
    "## Evaluación del modelo\n",
    "\n",
    "* Realiza predicciones en el conjunto de prueba.\n",
    "* Evalúa el modelo utilizando la métrica de RMSE."
   ]
  },
  {
   "cell_type": "code",
   "execution_count": 0,
   "metadata": {
    "application/vnd.databricks.v1+cell": {
     "cellMetadata": {},
     "inputWidgets": {},
     "nuid": "bd9ca879-09e1-474d-9010-b16b0fe0aabe",
     "showTitle": false,
     "tableResultSettingsMap": {},
     "title": ""
    }
   },
   "outputs": [],
   "source": [
    "# Hacer predicciones\n",
    "predictions = model.transform(test_data)\n",
    "\n",
    "# Evaluar el modelo\n",
    "evaluator = RegressionEvaluator(labelCol=\"price\", predictionCol=\"prediction\", metricName=\"rmse\")\n",
    "rmse = evaluator.evaluate(predictions)\n",
    "print(f\"Root Mean Squared Error (RMSE) en el conjunto de prueba: {rmse}\")\n"
   ]
  },
  {
   "cell_type": "markdown",
   "metadata": {
    "application/vnd.databricks.v1+cell": {
     "cellMetadata": {},
     "inputWidgets": {},
     "nuid": "618b9b1d-436b-4c25-8863-50d573c4211a",
     "showTitle": false,
     "tableResultSettingsMap": {},
     "title": ""
    }
   },
   "source": [
    "## Guardar y cargar el modelo"
   ]
  },
  {
   "cell_type": "code",
   "execution_count": 0,
   "metadata": {
    "application/vnd.databricks.v1+cell": {
     "cellMetadata": {},
     "inputWidgets": {},
     "nuid": "95bd4388-5a50-49d0-bb65-f732d36a184c",
     "showTitle": false,
     "tableResultSettingsMap": {},
     "title": ""
    }
   },
   "outputs": [],
   "source": [
    "# Guardar el modelo\n",
    "pipelinePath = \"data/lr-pipeline-model\"\n",
    "pipelineModel.write().overwrite().save(pipelinePath)\n",
    "\n",
    "\n",
    "# Cargar el modelo\n",
    "from pyspark.ml import PipelineModel \n",
    "savedPipelineModel = PipelineModel.load(pipelinePath)"
   ]
  }
 ],
 "metadata": {
  "application/vnd.databricks.v1+notebook": {
   "computePreferences": null,
   "dashboards": [],
   "environmentMetadata": null,
   "inputWidgetPreferences": null,
   "language": "python",
   "notebookMetadata": {
    "pythonIndentUnit": 4
   },
   "notebookName": "27 Pipeline Spark MlLib",
   "widgets": {}
  },
  "kernelspec": {
   "display_name": "Python 3 (ipykernel)",
   "language": "python",
   "name": "python3"
  },
  "language_info": {
   "name": "python"
  }
 },
 "nbformat": 4,
 "nbformat_minor": 0
}
