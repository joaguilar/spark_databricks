{
 "cells": [
  {
   "cell_type": "code",
   "execution_count": 0,
   "metadata": {
    "application/vnd.databricks.v1+cell": {
     "cellMetadata": {},
     "inputWidgets": {},
     "nuid": "46bee64f-1394-4559-a5f4-1ee6b3517b74",
     "showTitle": false,
     "tableResultSettingsMap": {},
     "title": ""
    },
    "scrolled": true
   },
   "outputs": [],
   "source": [
    "import findspark\n",
    "findspark.init('/spark-3.5.1-bin-hadoop3')\n",
    "from pyspark import *\n",
    "from pyspark.sql import SparkSession\n",
    "from pyspark.ml.feature import VectorAssembler, StandardScaler\n",
    "from pyspark.ml.clustering import KMeans\n",
    "import pandas as pd\n",
    "\n",
    "\n",
    "spark = SparkSession.builder.appName(\"analytics\").getOrCreate()"
   ]
  },
  {
   "cell_type": "markdown",
   "metadata": {
    "application/vnd.databricks.v1+cell": {
     "cellMetadata": {},
     "inputWidgets": {},
     "nuid": "6815c243-99c0-431b-91de-27faf380572c",
     "showTitle": false,
     "tableResultSettingsMap": {},
     "title": ""
    }
   },
   "source": [
    "# K-Means Clustering\n",
    "\n",
    "\n",
    "## Ingestión de Datos:\n",
    "\n",
    "Los datos se cargan en un DataFrame."
   ]
  },
  {
   "cell_type": "code",
   "execution_count": 0,
   "metadata": {
    "application/vnd.databricks.v1+cell": {
     "cellMetadata": {},
     "inputWidgets": {},
     "nuid": "bee9ad28-6130-4e53-bc44-8ce1d0f1a3ef",
     "showTitle": false,
     "tableResultSettingsMap": {},
     "title": ""
    }
   },
   "outputs": [],
   "source": [
    "# Cargamos el dataset\n",
    "data_path = \"data/heart_failure_clinical_records_dataset.csv\"\n",
    "data = spark.read.csv(data_path, header=True, inferSchema=True)"
   ]
  },
  {
   "cell_type": "markdown",
   "metadata": {
    "application/vnd.databricks.v1+cell": {
     "cellMetadata": {},
     "inputWidgets": {},
     "nuid": "87905c43-f4e5-41fe-a307-bc556373468e",
     "showTitle": false,
     "tableResultSettingsMap": {},
     "title": ""
    }
   },
   "source": [
    "## Exploración de Datos:\n",
    "\n",
    "* df.describe(): Proporciona un resumen estadístico de los datos.\n",
    "* df.show(): Muestra las primeras filas del DataFrame para inspección visual.\n"
   ]
  },
  {
   "cell_type": "code",
   "execution_count": 0,
   "metadata": {
    "application/vnd.databricks.v1+cell": {
     "cellMetadata": {},
     "inputWidgets": {},
     "nuid": "049ee74d-57a6-48cf-a130-36412684ce5b",
     "showTitle": false,
     "tableResultSettingsMap": {},
     "title": ""
    }
   },
   "outputs": [],
   "source": [
    "# Mostramos las primeras filas del dataset\n",
    "data.show(5)"
   ]
  },
  {
   "cell_type": "markdown",
   "metadata": {
    "application/vnd.databricks.v1+cell": {
     "cellMetadata": {},
     "inputWidgets": {},
     "nuid": "77a61bfc-17ab-4190-9310-489f5c8515a4",
     "showTitle": false,
     "tableResultSettingsMap": {},
     "title": ""
    }
   },
   "source": [
    "## Selección de datos\n"
   ]
  },
  {
   "cell_type": "code",
   "execution_count": 0,
   "metadata": {
    "application/vnd.databricks.v1+cell": {
     "cellMetadata": {},
     "inputWidgets": {},
     "nuid": "ff6b8385-3aa1-475a-aaf0-236dec426d42",
     "showTitle": false,
     "tableResultSettingsMap": {},
     "title": ""
    }
   },
   "outputs": [],
   "source": [
    "# Seleccionamos las características que vamos a utilizar para el clustering\n",
    "features = ['age', \n",
    "            'creatinine_phosphokinase', \n",
    "            'ejection_fraction', \n",
    "            'platelets', \n",
    "            'serum_creatinine', \n",
    "            'serum_sodium', \n",
    "            'time']\n"
   ]
  },
  {
   "cell_type": "markdown",
   "metadata": {
    "application/vnd.databricks.v1+cell": {
     "cellMetadata": {},
     "inputWidgets": {},
     "nuid": "87f90e19-8207-485a-9bf3-732602898639",
     "showTitle": false,
     "tableResultSettingsMap": {},
     "title": ""
    }
   },
   "source": [
    "## VectorAssembler\n",
    "\n",
    "Combina varias columnas de características en un solo vector de características, esencial para el entrenamiento del modelo."
   ]
  },
  {
   "cell_type": "code",
   "execution_count": 0,
   "metadata": {
    "application/vnd.databricks.v1+cell": {
     "cellMetadata": {},
     "inputWidgets": {},
     "nuid": "7e70735d-e564-47e4-9fae-04e4b7039e00",
     "showTitle": false,
     "tableResultSettingsMap": {},
     "title": ""
    }
   },
   "outputs": [],
   "source": [
    "# Vectorizamos las características seleccionadas\n",
    "vector_assembler = VectorAssembler(inputCols=features, outputCol=\"unscaled_features\")\n",
    "data_unscaled = vector_assembler.transform(data)"
   ]
  },
  {
   "cell_type": "markdown",
   "metadata": {
    "application/vnd.databricks.v1+cell": {
     "cellMetadata": {},
     "inputWidgets": {},
     "nuid": "94905df0-d0b9-4c7c-9c58-d96ff728ec04",
     "showTitle": false,
     "tableResultSettingsMap": {},
     "title": ""
    }
   },
   "source": [
    "## Scaler\n",
    "\n",
    "Utiliza `StandardScaler` para escalar las características y se entrena el modelo de escalado\n",
    "\n",
    "### Por qué es Necesario el Escalado de Características\n",
    "\n",
    "* Uniformidad de Escalas: Muchos algoritmos de aprendizaje automático funcionan mejor cuando las características están en la misma escala. Por ejemplo, en el caso del clustering K-Means, la distancia euclidiana se utiliza para asignar puntos a clusters. Si las características tienen escalas muy diferentes (por ejemplo, una característica está en el rango de 0 a 1 y otra en el rango de 0 a 1000), las características con rangos mayores dominarán la distancia euclidiana, y el modelo no funcionará correctamente.\n",
    "\n",
    "* Convergencia Más Rápida: Algunos algoritmos, como el gradiente descendente, convergen más rápidamente cuando las características están escaladas. Esto se debe a que la función de pérdida tiene una forma más regular, lo que facilita la optimización.\n",
    "\n",
    "* Mejora del Rendimiento: En algunos casos, el rendimiento del modelo puede mejorar significativamente cuando las características están escaladas. Esto es especialmente cierto para algoritmos que son sensibles a las magnitudes de las características.\n",
    "\n"
   ]
  },
  {
   "cell_type": "code",
   "execution_count": 0,
   "metadata": {
    "application/vnd.databricks.v1+cell": {
     "cellMetadata": {},
     "inputWidgets": {},
     "nuid": "7b33903d-b0c5-4a76-8adc-1e2c106a90eb",
     "showTitle": false,
     "tableResultSettingsMap": {},
     "title": ""
    }
   },
   "outputs": [],
   "source": [
    "# Escalamos las características\n",
    "scaler = StandardScaler(inputCol=\"unscaled_features\", outputCol=\"features\")\n",
    "scaler_model = scaler.fit(data_unscaled)\n",
    "data_scaled = scaler_model.transform(data_unscaled)"
   ]
  },
  {
   "cell_type": "markdown",
   "metadata": {
    "application/vnd.databricks.v1+cell": {
     "cellMetadata": {},
     "inputWidgets": {},
     "nuid": "2ea8a636-1a92-4a28-be21-8335679cee02",
     "showTitle": false,
     "tableResultSettingsMap": {},
     "title": ""
    }
   },
   "source": [
    "## Modelo K-Means\n",
    "\n",
    "Entrena el modelo utilizando el algoritmo de Random Forest, ideal para tareas de regresión debido a su capacidad para manejar grandes conjuntos de datos y su robustez frente a datos ruidosos."
   ]
  },
  {
   "cell_type": "code",
   "execution_count": 0,
   "metadata": {
    "application/vnd.databricks.v1+cell": {
     "cellMetadata": {},
     "inputWidgets": {},
     "nuid": "24cca61d-a496-4471-87df-538931255d66",
     "showTitle": false,
     "tableResultSettingsMap": {},
     "title": ""
    }
   },
   "outputs": [],
   "source": [
    "# Definimos el modelo KMeans\n",
    "kmeans = KMeans(featuresCol=\"features\", k=3, seed=1)\n",
    "\n",
    "# Entrenamos el modelo\n",
    "kmeans_model = kmeans.fit(data_scaled)"
   ]
  },
  {
   "cell_type": "markdown",
   "metadata": {
    "application/vnd.databricks.v1+cell": {
     "cellMetadata": {},
     "inputWidgets": {},
     "nuid": "aafe1100-f49a-492a-83e7-12dd45ec9140",
     "showTitle": false,
     "tableResultSettingsMap": {},
     "title": ""
    }
   },
   "source": [
    "## Clustering"
   ]
  },
  {
   "cell_type": "code",
   "execution_count": 0,
   "metadata": {
    "application/vnd.databricks.v1+cell": {
     "cellMetadata": {},
     "inputWidgets": {},
     "nuid": "00daa108-b9dc-457b-944f-fcdc7ff288c9",
     "showTitle": false,
     "tableResultSettingsMap": {},
     "title": ""
    }
   },
   "outputs": [],
   "source": [
    "# Realizamos el clustering\n",
    "predictions = kmeans_model.transform(data_scaled)"
   ]
  },
  {
   "cell_type": "markdown",
   "metadata": {
    "application/vnd.databricks.v1+cell": {
     "cellMetadata": {},
     "inputWidgets": {},
     "nuid": "3bba9f99-f3f3-4304-a0ac-29fcc7e2d1a1",
     "showTitle": false,
     "tableResultSettingsMap": {},
     "title": ""
    }
   },
   "source": [
    "## Revisión de resultados del modelo"
   ]
  },
  {
   "cell_type": "code",
   "execution_count": 0,
   "metadata": {
    "application/vnd.databricks.v1+cell": {
     "cellMetadata": {},
     "inputWidgets": {},
     "nuid": "83bce561-54be-4e44-aab8-92699ac1d313",
     "showTitle": false,
     "tableResultSettingsMap": {},
     "title": ""
    }
   },
   "outputs": [],
   "source": [
    "# Mostramos los resultados\n",
    "predictions.select('age', \n",
    "                   'creatinine_phosphokinase', \n",
    "                   'ejection_fraction', \n",
    "                   'platelets', \n",
    "                   'serum_creatinine', \n",
    "                   'serum_sodium', \n",
    "                   'time', \n",
    "                   'prediction').show()\n",
    "\n",
    "# imprimimos los centroides de los clusters\n",
    "centers = kmeans_model.clusterCenters()\n",
    "print(\"Cluster Centers: \")\n",
    "for center in centers:\n",
    "    print(center)"
   ]
  },
  {
   "cell_type": "code",
   "execution_count": 0,
   "metadata": {
    "application/vnd.databricks.v1+cell": {
     "cellMetadata": {},
     "inputWidgets": {},
     "nuid": "bb61b74f-04c0-440d-b217-c6666a8c84d9",
     "showTitle": false,
     "tableResultSettingsMap": {},
     "title": ""
    }
   },
   "outputs": [],
   "source": []
  }
 ],
 "metadata": {
  "application/vnd.databricks.v1+notebook": {
   "computePreferences": null,
   "dashboards": [],
   "environmentMetadata": null,
   "inputWidgetPreferences": null,
   "language": "python",
   "notebookMetadata": {},
   "notebookName": "29 kmeans",
   "widgets": {}
  },
  "kernelspec": {
   "display_name": "Python 3 (ipykernel)",
   "language": "python",
   "name": "python3"
  },
  "language_info": {
   "name": "python"
  }
 },
 "nbformat": 4,
 "nbformat_minor": 0
}
