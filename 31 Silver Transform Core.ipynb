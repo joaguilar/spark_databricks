{
 "cells": [
  {
   "cell_type": "markdown",
   "metadata": {
    "application/vnd.databricks.v1+cell": {
     "cellMetadata": {},
     "inputWidgets": {},
     "nuid": "f49a6a78-1c4e-4d11-b7ab-c9dde352259e",
     "showTitle": false,
     "tableResultSettingsMap": {},
     "title": ""
    }
   },
   "source": [
    "# Demo Lakehouse\n",
    "\n",
    "El presente demo muestra a nivel conceptual como funciona una arquitectura Bronze-Silver-Gold.\n",
    "\n",
    "En el demo, las capas están divididas de la siguiente forma:\n",
    "\n",
    "* **Bronze**  : ingesta cruda, en este caso es de archivos CSV - normalmente vienen de un sistema externo\n",
    "* **Silver**  : transformaciones de datos\n",
    "* **Gold**    : clasificación + agregaciones pensando en las vistas que utilizarían los usuarios finales.\n",
    "\n",
    "Dataset a utilizar: *winequality-red.csv*"
   ]
  },
  {
   "cell_type": "code",
   "execution_count": 0,
   "metadata": {
    "application/vnd.databricks.v1+cell": {
     "cellMetadata": {
      "byteLimit": 2048000,
      "rowLimit": 10000
     },
     "inputWidgets": {},
     "nuid": "29782995-ace1-454c-b5c4-d8c6e2983267",
     "showTitle": false,
     "tableResultSettingsMap": {},
     "title": ""
    }
   },
   "outputs": [],
   "source": [
    "# El dataset de Wine Quality está disponible en Databricks dentro de los datasets de ejemplo\n",
    "file = dbutils.fs.ls(\"/databricks-datasets/wine-quality/winequality-red.csv\")"
   ]
  },
  {
   "cell_type": "markdown",
   "metadata": {
    "application/vnd.databricks.v1+cell": {
     "cellMetadata": {},
     "inputWidgets": {},
     "nuid": "33ce896a-62fe-4727-800f-c632aab9dfae",
     "showTitle": false,
     "tableResultSettingsMap": {},
     "title": ""
    }
   },
   "source": [
    "# Capa Silver\n",
    "\n",
    "Limpieza de datos, normalización, y transformaciones\n",
    "\n",
    "Transformaciones:\n",
    "* Columna constante wine_type = 'red'\n",
    "* total_acidity = fixed_acidity + volatile_acidity\n",
    "* Limpieza de nulos"
   ]
  },
  {
   "cell_type": "code",
   "execution_count": 0,
   "metadata": {
    "application/vnd.databricks.v1+cell": {
     "cellMetadata": {
      "byteLimit": 2048000,
      "rowLimit": 10000
     },
     "inputWidgets": {},
     "nuid": "0b427095-869a-4df9-a776-d52ff7bb9157",
     "showTitle": false,
     "tableResultSettingsMap": {},
     "title": ""
    }
   },
   "outputs": [],
   "source": [
    "# Abrimos la tabla creada en el notebook anterior \"Bronze\"\n",
    "df_silver = spark.table(\"big_data_ii_2025.spark_examples.wine_bronze\")\n",
    "df_silver.printSchema()"
   ]
  },
  {
   "cell_type": "markdown",
   "metadata": {
    "application/vnd.databricks.v1+cell": {
     "cellMetadata": {},
     "inputWidgets": {},
     "nuid": "3f4d12b8-fc62-49a6-a19c-0e52a9118a5e",
     "showTitle": false,
     "tableResultSettingsMap": {},
     "title": ""
    }
   },
   "source": [
    "Transformaciones:\n",
    "\n",
    "* Agregar una columna `wine_type` a cada fila. Con un valor constante de `red`\n",
    "\n",
    "* Agregar una columna `total_acidity` que consista en la suma de las columnas `fixed_acidity` + `volatile_acidity`\n",
    "\n",
    "* Limpieza de nulos en la columna `quality`"
   ]
  },
  {
   "cell_type": "code",
   "execution_count": 0,
   "metadata": {
    "application/vnd.databricks.v1+cell": {
     "cellMetadata": {
      "byteLimit": 2048000,
      "rowLimit": 10000
     },
     "inputWidgets": {},
     "nuid": "d08ccad0-3715-46c3-81a9-4f9cb0f8fb11",
     "showTitle": false,
     "tableResultSettingsMap": {},
     "title": ""
    }
   },
   "outputs": [],
   "source": [
    "from pyspark.sql.functions import col, lit\n",
    "df_silver = (df_silver\n",
    "    .withColumn(\"wine_type\", lit(\"red\"))\n",
    "    .withColumn(\"total_acidity\",\n",
    "                col(\"fixed_acidity\") + col(\"volatile_acidity\"))\n",
    "    .filter(col(\"quality\").isNotNull()))\n",
    "df_silver.display()"
   ]
  },
  {
   "cell_type": "markdown",
   "metadata": {
    "application/vnd.databricks.v1+cell": {
     "cellMetadata": {},
     "inputWidgets": {},
     "nuid": "95cff987-8e89-4693-bb73-7a14a832cd98",
     "showTitle": false,
     "tableResultSettingsMap": {},
     "title": ""
    }
   },
   "source": [
    "Y lo salvamos como una tabla en el catalogo"
   ]
  },
  {
   "cell_type": "code",
   "execution_count": 0,
   "metadata": {
    "application/vnd.databricks.v1+cell": {
     "cellMetadata": {
      "byteLimit": 2048000,
      "rowLimit": 10000
     },
     "inputWidgets": {},
     "nuid": "9504971e-8a39-48dd-9aff-fd45594dde6e",
     "showTitle": false,
     "tableResultSettingsMap": {},
     "title": ""
    }
   },
   "outputs": [],
   "source": [
    "(df_silver\n",
    " .write\n",
    " .format(\"delta\")\n",
    " .mode(\"overwrite\")\n",
    " .saveAsTable(f\"big_data_ii_2025.spark_examples.wine_silver\"))"
   ]
  }
 ],
 "metadata": {
  "application/vnd.databricks.v1+notebook": {
   "computePreferences": null,
   "dashboards": [],
   "environmentMetadata": {
    "base_environment": "",
    "environment_version": "2"
   },
   "inputWidgetPreferences": null,
   "language": "python",
   "notebookMetadata": {
    "pythonIndentUnit": 4
   },
   "notebookName": "31 Silver Transform Core",
   "widgets": {}
  },
  "language_info": {
   "name": "python"
  }
 },
 "nbformat": 4,
 "nbformat_minor": 0
}
