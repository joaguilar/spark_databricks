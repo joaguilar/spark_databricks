{
 "cells": [
  {
   "cell_type": "markdown",
   "metadata": {
    "application/vnd.databricks.v1+cell": {
     "cellMetadata": {},
     "inputWidgets": {},
     "nuid": "f49a6a78-1c4e-4d11-b7ab-c9dde352259e",
     "showTitle": false,
     "tableResultSettingsMap": {},
     "title": ""
    }
   },
   "source": [
    "# Demo Lakehouse\n",
    "\n",
    "El presente demo muestra a nivel conceptual como funciona una arquitectura Bronze-Silver-Gold.\n",
    "\n",
    "En el demo, las capas están divididas de la siguiente forma:\n",
    "\n",
    "* **Bronze**  : ingesta cruda, en este caso es de archivos CSV - normalmente vienen de un sistema externo\n",
    "* **Silver**  : transformaciones de datos\n",
    "* **Gold**    : clasificación + agregaciones pensando en las vistas que utilizarían los usuarios finales.\n",
    "\n",
    "Dataset a utilizar: *winequality-red.csv*"
   ]
  },
  {
   "cell_type": "markdown",
   "metadata": {
    "application/vnd.databricks.v1+cell": {
     "cellMetadata": {},
     "inputWidgets": {},
     "nuid": "33ce896a-62fe-4727-800f-c632aab9dfae",
     "showTitle": false,
     "tableResultSettingsMap": {},
     "title": ""
    }
   },
   "source": [
    "# Capa Gold\n",
    "\n",
    "En este punto tenemos los datos limpios, con las transformaciones necesarias. Ahora hacemos optimizaciones para poder ejecutar consultas específicas para cumplir con las necesidades de los usuarios\n",
    "\n",
    "Transformaciones:\n",
    "* acidity_level derivado de total_acidity\n",
    "* Agregado por wine_type y acidity_level\n",
    "\n",
    "Vamos a utilizar la syntaxis de SQL de CTAS para esto."
   ]
  },
  {
   "cell_type": "code",
   "execution_count": 0,
   "metadata": {
    "application/vnd.databricks.v1+cell": {
     "cellMetadata": {
      "byteLimit": 2048000,
      "implicitDf": true,
      "rowLimit": 10000
     },
     "inputWidgets": {},
     "nuid": "0b427095-869a-4df9-a776-d52ff7bb9157",
     "showTitle": false,
     "tableResultSettingsMap": {},
     "title": ""
    }
   },
   "outputs": [],
   "source": [
    "%sql\n",
    "USE CATALOG big_data_ii_2025;\n",
    "USE SCHEMA spark_examples;\n",
    "\n",
    "CREATE OR REPLACE TABLE wine_gold\n",
    "USING DELTA AS\n",
    "WITH classified AS (\n",
    "  SELECT\n",
    "      *,\n",
    "      CASE\n",
    "        WHEN total_acidity <  8  THEN 'Low'\n",
    "        WHEN total_acidity < 12 THEN 'Medium'\n",
    "        ELSE 'High'\n",
    "      END AS acidity_level\n",
    "  FROM   wine_silver\n",
    ")\n",
    "SELECT\n",
    "    wine_type,\n",
    "    acidity_level,\n",
    "    ROUND(AVG(alcohol),2)   AS avg_alcohol,\n",
    "    COUNT(*)                AS cnt_samples,\n",
    "    ROUND(AVG(quality),2)   AS avg_quality\n",
    "FROM   classified\n",
    "GROUP  BY wine_type, acidity_level\n",
    "ORDER  BY wine_type, acidity_level;\n"
   ]
  },
  {
   "cell_type": "markdown",
   "metadata": {
    "application/vnd.databricks.v1+cell": {
     "cellMetadata": {},
     "inputWidgets": {},
     "nuid": "3f4d12b8-fc62-49a6-a19c-0e52a9118a5e",
     "showTitle": false,
     "tableResultSettingsMap": {},
     "title": ""
    }
   },
   "source": [
    "Ahora podemos revisar el resultado, la tabla final sobre la cual se harían las consultas"
   ]
  },
  {
   "cell_type": "code",
   "execution_count": 0,
   "metadata": {
    "application/vnd.databricks.v1+cell": {
     "cellMetadata": {
      "byteLimit": 2048000,
      "rowLimit": 10000
     },
     "inputWidgets": {},
     "nuid": "d08ccad0-3715-46c3-81a9-4f9cb0f8fb11",
     "showTitle": false,
     "tableResultSettingsMap": {},
     "title": ""
    }
   },
   "outputs": [],
   "source": [
    "from pyspark.sql.functions import col, lit\n",
    "df_gold = spark.table(\"big_data_ii_2025.spark_examples.wine_gold\")\n",
    "df_gold.printSchema()"
   ]
  },
  {
   "cell_type": "markdown",
   "metadata": {
    "application/vnd.databricks.v1+cell": {
     "cellMetadata": {},
     "inputWidgets": {},
     "nuid": "4cda51f0-9b63-411b-89c1-b98b5d90ed4d",
     "showTitle": false,
     "tableResultSettingsMap": {},
     "title": ""
    }
   },
   "source": [
    "Y revisar los datos que contiene:"
   ]
  },
  {
   "cell_type": "code",
   "execution_count": 0,
   "metadata": {
    "application/vnd.databricks.v1+cell": {
     "cellMetadata": {
      "byteLimit": 2048000,
      "rowLimit": 10000
     },
     "inputWidgets": {},
     "nuid": "252bfcab-f7f0-4dde-91aa-901f85bb07a6",
     "showTitle": false,
     "tableResultSettingsMap": {},
     "title": ""
    }
   },
   "outputs": [],
   "source": [
    "df_gold.display()"
   ]
  },
  {
   "cell_type": "markdown",
   "metadata": {
    "application/vnd.databricks.v1+cell": {
     "cellMetadata": {},
     "inputWidgets": {},
     "nuid": "95cff987-8e89-4693-bb73-7a14a832cd98",
     "showTitle": false,
     "tableResultSettingsMap": {},
     "title": ""
    }
   },
   "source": [
    "Y podemos ver como esto se podria utilizar para contestar preguntas de usuarios finales que no les interesa los detalles del negocio\n",
    "\n",
    "¿Qué nivel de acidez muestra la mayor calidad promedio en los vinos tintos?"
   ]
  },
  {
   "cell_type": "code",
   "execution_count": 0,
   "metadata": {
    "application/vnd.databricks.v1+cell": {
     "cellMetadata": {
      "byteLimit": 2048000,
      "implicitDf": true,
      "rowLimit": 10000
     },
     "inputWidgets": {},
     "nuid": "c36f83e3-6d8a-4a27-a911-ce7a3bf80db1",
     "showTitle": false,
     "tableResultSettingsMap": {},
     "title": ""
    }
   },
   "outputs": [],
   "source": [
    "%sql\n",
    "USE CATALOG big_data_ii_2025;\n",
    "USE SCHEMA spark_examples;\n",
    "\n",
    "SELECT\n",
    "    acidity_level,\n",
    "    ROUND(avg_quality, 2)     AS avg_quality\n",
    "FROM   wine_gold   \n",
    "WHERE  wine_type = 'red'\n",
    "ORDER  BY avg_quality DESC; "
   ]
  },
  {
   "cell_type": "markdown",
   "metadata": {
    "application/vnd.databricks.v1+cell": {
     "cellMetadata": {},
     "inputWidgets": {},
     "nuid": "ad153c27-bd2d-41be-b7cf-1f3d7017fd23",
     "showTitle": false,
     "tableResultSettingsMap": {},
     "title": ""
    }
   },
   "source": [
    "¿Qué porcentaje del total de muestras corresponde a vinos de acidez “High”?"
   ]
  },
  {
   "cell_type": "code",
   "execution_count": 0,
   "metadata": {
    "application/vnd.databricks.v1+cell": {
     "cellMetadata": {
      "byteLimit": 2048000,
      "implicitDf": true,
      "rowLimit": 10000
     },
     "inputWidgets": {},
     "nuid": "9504971e-8a39-48dd-9aff-fd45594dde6e",
     "showTitle": false,
     "tableResultSettingsMap": {},
     "title": ""
    }
   },
   "outputs": [],
   "source": [
    "from pyspark.sql.functions import col, lit, sum, when\n",
    "agg_df = (\n",
    "    df_gold\n",
    "    .agg(\n",
    "        sum(\"cnt_samples\").alias(\"total_wines\"),\n",
    "        sum(\n",
    "            when(col(\"acidity_level\") == \"High\", col(\"cnt_samples\"))\n",
    "             .otherwise(0)\n",
    "        ).alias(\"high_wines\")\n",
    "    )\n",
    ")\n",
    "\n",
    "result_df = agg_df.select(\n",
    "    (col(\"high_wines\") / col(\"total_wines\") * 100).alias(\"pct_high_wines\")\n",
    ")\n",
    "result_df.display()"
   ]
  }
 ],
 "metadata": {
  "application/vnd.databricks.v1+notebook": {
   "computePreferences": null,
   "dashboards": [],
   "environmentMetadata": {
    "base_environment": "",
    "environment_version": "2"
   },
   "inputWidgetPreferences": null,
   "language": "python",
   "notebookMetadata": {
    "mostRecentlyExecutedCommandWithImplicitDF": {
     "commandId": -1,
     "dataframes": [
      "_sqldf"
     ]
    },
    "pythonIndentUnit": 4
   },
   "notebookName": "32 Gold Data Mart Conformed",
   "widgets": {}
  },
  "language_info": {
   "name": "python"
  }
 },
 "nbformat": 4,
 "nbformat_minor": 0
}
