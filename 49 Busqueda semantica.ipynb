{
 "cells": [
  {
   "cell_type": "code",
   "execution_count": 0,
   "metadata": {
    "application/vnd.databricks.v1+cell": {
     "cellMetadata": {
      "byteLimit": 2048000,
      "rowLimit": 10000
     },
     "inputWidgets": {},
     "nuid": "23c7fe2f-9680-455c-95c5-154295d20067",
     "showTitle": false,
     "tableResultSettingsMap": {},
     "title": ""
    }
   },
   "outputs": [],
   "source": [
    "%pip install sentence-transformers\n",
    "%pip install databricks-vectorsearch mlflow openai\n",
    "dbutils.library.restartPython()"
   ]
  },
  {
   "cell_type": "code",
   "execution_count": 0,
   "metadata": {
    "application/vnd.databricks.v1+cell": {
     "cellMetadata": {
      "byteLimit": 2048000,
      "rowLimit": 10000
     },
     "inputWidgets": {},
     "nuid": "84cd8e2f-e117-4e52-af3f-cce50427deb4",
     "showTitle": false,
     "tableResultSettingsMap": {},
     "title": ""
    }
   },
   "outputs": [],
   "source": [
    "documentos = [\n",
    "    \"La capital de Francia es París.\",\n",
    "    \"París es conocida como la Ciudad de la Luz.\",\n",
    "    \"Londres es la capital del Reino Unido.\",\n",
    "    \"El fútbol es el deporte más popular en el Reino Unido.\",\n",
    "    \"Lionel Messi ganó su séptimo Balón de Oro.\",\n",
    "    \"El aprendizaje automático es una rama de la inteligencia artificial.\",\n",
    "    \"La inteligencia artificial está revolucionando muchas industrias.\",\n",
    "    \"La nueva película de ciencia ficción fue un éxito de taquilla.\",\n",
    "    \"Los gatos son mascotas populares en todo el mundo.\",\n",
    "    \"Python es un lenguaje de programación muy utilizado en ciencia de datos.\"\n",
    "]\n",
    "from pyspark.sql.functions import monotonically_increasing_id\n",
    "\n",
    "df_docs = spark.createDataFrame([(d,) for d in documentos], [\"text\"]).withColumn(\"id\", monotonically_increasing_id())\n",
    "display(df_docs)\n"
   ]
  },
  {
   "cell_type": "code",
   "execution_count": 0,
   "metadata": {
    "application/vnd.databricks.v1+cell": {
     "cellMetadata": {
      "byteLimit": 2048000,
      "rowLimit": 10000
     },
     "inputWidgets": {},
     "nuid": "805e8a51-5e4c-41c3-bea2-5375630c7b2d",
     "showTitle": false,
     "tableResultSettingsMap": {
      "0": {
       "dataGridStateBlob": "{\"version\":1,\"tableState\":{\"columnPinning\":{\"left\":[\"#row_number#\"],\"right\":[]},\"columnSizing\":{},\"columnVisibility\":{}},\"settings\":{\"columns\":{}},\"syncTimestamp\":1753665271366}",
       "filterBlob": null,
       "queryPlanFiltersBlob": null,
       "tableResultIndex": 0
      }
     },
     "title": ""
    }
   },
   "outputs": [],
   "source": [
    "from openai import OpenAI\n",
    "import os\n",
    "from pyspark.sql.functions import col, udf\n",
    "from pyspark.sql.types import ArrayType, FloatType\n",
    "\n",
    "# How to get your Databricks token: https://docs.databricks.com/en/dev-tools/auth/pat.html\n",
    "# DATABRICKS_TOKEN = os.environ.get('DATABRICKS_TOKEN')\n",
    "# Alternatively in a Databricks notebook you can use this:\n",
    "DATABRICKS_TOKEN = dbutils.notebook.entry_point.getDbutils().notebook().getContext().apiToken().get()\n",
    "\n",
    "def get_embedding(text):\n",
    "    client = OpenAI(\n",
    "        api_key=DATABRICKS_TOKEN,\n",
    "        base_url=\"https://dbc-504c50c9-8143.cloud.databricks.com/serving-endpoints\"\n",
    "    )\n",
    "    response = client.embeddings.create(input=text, model=\"databricks-gte-large-en\")\n",
    "    return response.data[0].embedding\n",
    "\n",
    "get_embeddings_udf = udf(get_embedding, ArrayType(FloatType()))\n",
    "\n",
    "df_docs_embeddings = df_docs.withColumn(\"embedding\", get_embeddings_udf(col(\"text\")))\n",
    "display(df_docs_embeddings)"
   ]
  },
  {
   "cell_type": "code",
   "execution_count": 0,
   "metadata": {
    "application/vnd.databricks.v1+cell": {
     "cellMetadata": {
      "byteLimit": 2048000,
      "implicitDf": true,
      "rowLimit": 10000
     },
     "inputWidgets": {},
     "nuid": "d261cc79-b14e-407c-94bd-0b5a054cc3e4",
     "showTitle": false,
     "tableResultSettingsMap": {},
     "title": ""
    }
   },
   "outputs": [],
   "source": [
    "%sql\n",
    "USE CATALOG `big_data_ii_2025`;\n",
    "USE SCHEMA `spark_examples`;\n",
    "DROP TABLE IF EXISTS test_text_embeddings;\n",
    "CREATE TABLE test_text_embeddings (\n",
    "    id INT,\n",
    "    text STRING,\n",
    "    embedding ARRAY<FLOAT>\n",
    ") USING DELTA;"
   ]
  },
  {
   "cell_type": "code",
   "execution_count": 0,
   "metadata": {
    "application/vnd.databricks.v1+cell": {
     "cellMetadata": {
      "byteLimit": 2048000,
      "implicitDf": true,
      "rowLimit": 10000
     },
     "inputWidgets": {},
     "nuid": "e5b4dce8-38bf-4121-a4b4-b926fda61e51",
     "showTitle": false,
     "tableResultSettingsMap": {},
     "title": ""
    }
   },
   "outputs": [],
   "source": [
    "%sql\n",
    "ALTER TABLE big_data_ii_2025.spark_examples.test_text_embeddings\n",
    "SET TBLPROPERTIES (delta.enableChangeDataFeed = true);"
   ]
  },
  {
   "cell_type": "code",
   "execution_count": 0,
   "metadata": {
    "application/vnd.databricks.v1+cell": {
     "cellMetadata": {
      "byteLimit": 2048000,
      "rowLimit": 10000
     },
     "inputWidgets": {},
     "nuid": "706b5aee-b669-4c50-b7a4-51c4446e4fb8",
     "showTitle": false,
     "tableResultSettingsMap": {},
     "title": ""
    }
   },
   "outputs": [],
   "source": [
    "from databricks.vector_search.client import VectorSearchClient\n",
    "\n",
    "vsc = VectorSearchClient()\n",
    "\n",
    "vsc.create_delta_sync_index(\n",
    "    endpoint_name=\"test_endpoint\",\n",
    "    source_table_name=\"big_data_ii_2025.spark_examples.test_text_embeddings\",\n",
    "    index_name=\"big_data_ii_2025.spark_examples.test_vector_search_index\",\n",
    "    pipeline_type=\"TRIGGERED\",\n",
    "    primary_key=\"id\",\n",
    "    embedding_dimension=1024,\n",
    "    embedding_vector_column=\"embedding\"\n",
    ")"
   ]
  },
  {
   "cell_type": "code",
   "execution_count": 0,
   "metadata": {
    "application/vnd.databricks.v1+cell": {
     "cellMetadata": {
      "byteLimit": 2048000,
      "rowLimit": 10000
     },
     "inputWidgets": {},
     "nuid": "3935159a-dc0d-49aa-95e9-dd481d7145ab",
     "showTitle": false,
     "tableResultSettingsMap": {},
     "title": ""
    }
   },
   "outputs": [],
   "source": [
    "existing_table_schema = spark.table(\"big_data_ii_2025.spark_examples.test_text_embeddings\").schema\n",
    "\n",
    "# Cast the DataFrame to the existing table schema\n",
    "df_docs_embeddings_casted = df_docs_embeddings.select(\n",
    "    [df_docs_embeddings[col.name].cast(col.dataType).alias(col.name) for col in existing_table_schema]\n",
    ")\n",
    "\n",
    "# Write the DataFrame to the Delta table\n",
    "df_docs_embeddings_casted.write.format(\"delta\").mode(\"append\").saveAsTable(\"big_data_ii_2025.spark_examples.test_text_embeddings\")"
   ]
  },
  {
   "cell_type": "code",
   "execution_count": 0,
   "metadata": {
    "application/vnd.databricks.v1+cell": {
     "cellMetadata": {
      "byteLimit": 2048000,
      "rowLimit": 10000
     },
     "inputWidgets": {},
     "nuid": "143a8155-ab97-45d6-8157-08591c3963ef",
     "showTitle": false,
     "tableResultSettingsMap": {},
     "title": ""
    }
   },
   "outputs": [],
   "source": [
    "vsc = VectorSearchClient()\n",
    "\n",
    "# Trigger indexing for the vector search index\n",
    "# vsc.start_indexing(\n",
    "#     index_name=\"big_data_ii_2025.spark_examples.test_vector_search_index\"\n",
    "# )\n",
    "\n",
    "index = vsc.get_index(\n",
    "    index_name=\"big_data_ii_2025.spark_examples.test_vector_search_index\"\n",
    ")\n",
    "index.sync()\n"
   ]
  },
  {
   "cell_type": "code",
   "execution_count": 0,
   "metadata": {
    "application/vnd.databricks.v1+cell": {
     "cellMetadata": {
      "byteLimit": 2048000,
      "rowLimit": 10000
     },
     "inputWidgets": {},
     "nuid": "1a527572-8234-4f50-8ab4-c4fc7b9176dc",
     "showTitle": false,
     "tableResultSettingsMap": {},
     "title": ""
    }
   },
   "outputs": [],
   "source": [
    "print(index.scan(num_results=10))\n",
    "\n",
    "index.describe()\n",
    "# Get the number of documents in the index\n",
    "# num_documents = index.get_document_count()\n",
    "\n",
    "# print(f\"Number of documents in the index: {num_documents}\")"
   ]
  },
  {
   "cell_type": "code",
   "execution_count": 0,
   "metadata": {
    "application/vnd.databricks.v1+cell": {
     "cellMetadata": {
      "byteLimit": 2048000,
      "rowLimit": 10000
     },
     "inputWidgets": {},
     "nuid": "c494d431-059a-4be9-8ce4-335eb167f8c8",
     "showTitle": false,
     "tableResultSettingsMap": {},
     "title": ""
    }
   },
   "outputs": [],
   "source": [
    "consulta = \"¿Cuál es la capital de Inglaterra?\"\n",
    "\n",
    "query_vector = get_embedding(consulta)\n",
    "# print(query_vector)\n",
    "# Query the index for similar vectors\n",
    "# results = vsc.query_vector_search_index(\n",
    "#     name=\"big_data_ii_2025.spark_examples.test_vector_search_index\",\n",
    "#     query_vector=query_vector,\n",
    "#     num_results=2\n",
    "# )\n",
    "\n",
    "# print(results)\n",
    "\n",
    "index = vsc.get_index(\n",
    "    index_name=\"big_data_ii_2025.spark_examples.test_vector_search_index\"\n",
    ")\n",
    "results = index.similarity_search(\n",
    "    query_vector=query_vector,\n",
    "    num_results=2,\n",
    "    columns=[\"id\", \"text\"]\n",
    ")\n",
    "\n",
    "print(results)"
   ]
  }
 ],
 "metadata": {
  "application/vnd.databricks.v1+notebook": {
   "computePreferences": {
    "hardware": {
     "accelerator": null,
     "gpuPoolId": null,
     "memory": null
    }
   },
   "dashboards": [],
   "environmentMetadata": {
    "base_environment": "",
    "environment_version": "2"
   },
   "inputWidgetPreferences": null,
   "language": "python",
   "notebookMetadata": {
    "mostRecentlyExecutedCommandWithImplicitDF": {
     "commandId": 5992883893629082,
     "dataframes": [
      "_sqldf"
     ]
    },
    "pythonIndentUnit": 4
   },
   "notebookName": "49 Busqueda semantica",
   "widgets": {}
  },
  "language_info": {
   "name": "python"
  }
 },
 "nbformat": 4,
 "nbformat_minor": 0
}
